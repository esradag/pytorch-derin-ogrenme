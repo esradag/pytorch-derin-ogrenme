{
  "nbformat": 4,
  "nbformat_minor": 0,
  "metadata": {
    "colab": {
      "provenance": [],
      "authorship_tag": "ABX9TyOxAXZYNlpg/AtUxlifHT3+",
      "include_colab_link": true
    },
    "kernelspec": {
      "name": "python3",
      "display_name": "Python 3"
    },
    "language_info": {
      "name": "python"
    }
  },
  "cells": [
    {
      "cell_type": "markdown",
      "metadata": {
        "id": "view-in-github",
        "colab_type": "text"
      },
      "source": [
        "<a href=\"https://colab.research.google.com/github/esradag/pytorch-derin-ogrenme/blob/main/00_PytorchTemelleri.ipynb\" target=\"_parent\"><img src=\"https://colab.research.google.com/assets/colab-badge.svg\" alt=\"Open In Colab\"/></a>"
      ]
    },
    {
      "cell_type": "markdown",
      "source": [
        "# 00. PyTorch Temelleri\n",
        "\n",
        "## PyTorch Nedir?\n",
        "\n",
        "[PyTorch](https://pytorch.org/), açık kaynaklı bir makine öğrenimi ve derin öğrenme framework'üdür.\n",
        "\n",
        "## PyTorch Ne İçin Kullanılır?\n",
        "\n",
        "PyTorch, verileri işlemek ve Python kodu kullanarak makine öğrenimi algoritmaları yazmak için kullanılır.\n",
        "\n",
        "## Kimler PyTorch Kullanıyor?\n",
        "\n",
        "Dünyanın en büyük teknoloji şirketlerinden [Meta (Facebook)](https://ai.facebook.com/blog/pytorch-builds-the-future-of-ai-and-machine-learning-at-facebook/), Tesla ve Microsoft gibi firmalar ile [OpenAI](https://openai.com/blog/openai-pytorch/) gibi yapay zeka araştırma şirketleri, araştırmalarını desteklemek ve makine öğrenimini ürünlerine entegre etmek için PyTorch kullanıyor.\n",
        "\n",
        "![endüstri ve araştırmada kullanılan pytorch](https://raw.githubusercontent.com/mrdbourke/pytorch-deep-learning/main/images/00-pytorch-being-used-across-research-and-industry.png)\n",
        "\n",
        "Örneğin, Tesla'nın yapay zeka başkanı Andrej Karpathy, Tesla'nın otonom sürüş bilgisayarlı görü modellerini nasıl PyTorch ile geliştirdiklerini [PyTorch DevCon 2019](https://youtu.be/oBklltKXtDE) ve [Tesla AI Day 2021](https://youtu.be/j0z4FweCy4M?t=2904) etkinliklerinde anlatmıştır.\n",
        "\n",
        "PyTorch, ayrıca tarım gibi farklı sektörlerde de [traktörlerde bilgisayarlı görü](https://medium.com/pytorch/ai-for-ag-production-machine-learning-for-agriculture-e8cfdb9849a1) uygulamalarını desteklemek için kullanılıyor.\n",
        "\n",
        "## Neden PyTorch Kullanmalıyız?\n",
        "\n",
        "Makine öğrenimi araştırmacıları PyTorch kullanmayı seviyor. Şubat 2022 itibarıyla PyTorch, makine öğrenimi araştırma makalelerini ve kodlarını takip eden [Papers With Code](https://paperswithcode.com/trends) sitesinde en çok kullanılan derin öğrenme framework'ü olmuştur.\n",
        "\n",
        "PyTorch ayrıca GPU hızlandırma (kodunuzu daha hızlı çalıştırma) gibi birçok işlemi arka planda yönetir.\n",
        "\n",
        "Bu sayede veri işleme ve algoritma yazmaya odaklanabilir ve PyTorch kodunuzun hızlı çalışmasını sağlar.\n",
        "\n",
        "Tesla ve Meta (Facebook) gibi şirketler yüzlerce uygulamayı desteklemek, binlerce aracı sürmek ve milyarlarca insana içerik sunmak için PyTorch kullanıyorsa, geliştirme açısından oldukça güçlü bir araç olduğu açıktır.\n",
        "\n",
        "## Bu Modülde Neler Öğreneceğiz?\n",
        "\n",
        "Bu kurs farklı bölümlere (notebook'lara) ayrılmıştır.\n",
        "\n",
        "Her notebook PyTorch içindeki önemli fikirleri ve kavramları kapsar.\n",
        "\n",
        "Sonraki notebook'lar önceki bilgilerin üzerine inşa edilir (numaralandırma 00'dan başlar, 01, 02 şeklinde devam eder).\n",
        "\n",
        "Bu notebook, makine öğrenimi ve derin öğrenmenin temel yapı taşı olan tensörleri ele alır.\n",
        "\n",
        "Özellikle şu konuları kapsayacağız:\n",
        "\n",
        "| **Konu** | **İçerik** |\n",
        "| ----- | ----- |\n",
        "| **Tensörlere Giriş** | Tensörler, makine öğrenimi ve derin öğrenmenin temel yapı taşlarıdır. |\n",
        "| **Tensör Oluşturma** | Tensörler, görüntüler, kelimeler, sayı tabloları gibi birçok veri türünü temsil edebilir. |\n",
        "| **Tensörlerden Bilgi Alma** | Bir tensöre bilgi koyabiliyorsanız, o bilgiyi çıkarmak da isteyeceksiniz. |\n",
        "| **Tensörleri Manipüle Etme** | Makine öğrenimi algoritmaları (örneğin sinir ağları), tensörleri toplama, çarpma ve birleştirme gibi farklı şekillerde manipüle etmeyi içerir. |\n",
        "| **Tensör Şekilleriyle Çalışma** | Makine öğreniminde en sık karşılaşılan sorunlardan biri, yanlış şekilli tensörleri birbiriyle karıştırmaktır. |\n",
        "| **Tensörlerde İndeksleme** | Python listesi veya NumPy dizisi üzerinde indeksleme yaptıysanız, tensörlerde de benzer bir mantık vardır fakat çok daha fazla boyuta sahip olabilirler. |\n",
        "| **PyTorch Tensörleri ve NumPy Karışımı** | PyTorch tensörlerle ([`torch.Tensor`](https://pytorch.org/docs/stable/tensors.html)), NumPy ise dizilerle ([`np.ndarray`](https://numpy.org/doc/stable/reference/generated/numpy.ndarray.html)) çalışır. Bazen bunları birleştirmek isteyebilirsiniz. |\n",
        "| **Tekrarlanabilirlik (Reproducibility)** | Makine öğrenimi oldukça deneysel bir alandır ve çalışması için çok fazla *rastgelelik* kullanır, bazen bu *rastgeleliğin* o kadar rastgele olmamasını isteyebilirsiniz. |\n",
        "| **GPU Üzerinde Tensör Çalıştırma** | GPU'lar (Grafik İşlem Birimleri) kodunuzu hızlandırır, PyTorch ise kodunuzu GPU'da çalıştırmayı kolaylaştırır. |\n",
        "\n",
        "## Nereden Yardım Alabilirsiniz?\n",
        "\n",
        "Bu kursun tüm materyallerine [GitHub üzerinden ulaşabilirsiniz](https://github.com/mrdbourke/pytorch-deep-learning).\n",
        "\n",
        "Bir sorunla karşılaşırsanız, [Tartışmalar sayfasında](https://github.com/mrdbourke/pytorch-deep-learning/discussions) soru sorabilirsiniz.\n",
        "\n",
        "Ayrıca [PyTorch geliştirici forumları](https://discuss.pytorch.org/) da PyTorch hakkında her şey için çok yardımcı bir kaynaktır.\n"
      ],
      "metadata": {
        "id": "KP3SgER0ZsAM"
      }
    },
    {
      "cell_type": "markdown",
      "source": [
        "#PyTorch'u İçe Aktarma\n",
        "> **Not:** Bu kodu çalıştırmadan önce, [PyTorch kurulum adımlarını ] (https://pytorch.org/get-started/locally/)  tamamlamış olmanız gerekir.\n",
        "> Ancak, **Google Colab kullanıyorsanız **herhangi bir ek kurulum yapmanıza gerek yoktur çünkü PyTorch ve diğer gerekli kütüphaneler Colab'de önceden yüklüdür.\n",
        "\n",
        "PyTorch'u içe aktararak ve kullanılan sürümü kontrol ederek başlayalım:"
      ],
      "metadata": {
        "id": "-UfpAaulbMGo"
      }
    },
    {
      "cell_type": "code",
      "source": [
        "import torch\n",
        "torch.__version__"
      ],
      "metadata": {
        "colab": {
          "base_uri": "https://localhost:8080/",
          "height": 35
        },
        "id": "RX5glGB6Z148",
        "outputId": "bfce1057-b1ef-4c53-ff8a-aa6556dd2f20"
      },
      "execution_count": 1,
      "outputs": [
        {
          "output_type": "execute_result",
          "data": {
            "text/plain": [
              "'2.5.1+cu121'"
            ],
            "application/vnd.google.colaboratory.intrinsic+json": {
              "type": "string"
            }
          },
          "metadata": {},
          "execution_count": 1
        }
      ]
    },
    {
      "cell_type": "markdown",
      "source": [
        "## Tensörlere Giriş\n",
        "\n",
        "Artık PyTorch'u içe aktardığımıza göre, tensörleri öğrenme zamanı.\n",
        "\n",
        "Tensörler, makine öğreniminin temel yapı taşıdır.\n",
        "\n",
        "Görevleri, verileri sayısal bir şekilde temsil etmektir.\n",
        "\n",
        "Örneğin, bir resmi `[3, 224, 224]` şeklinde bir tensörle temsil edebilirsiniz. Bu, `[renk_kanalları, yükseklik, genişlik]` anlamına gelir. Yani bu görüntüde `3` renk kanalı (kırmızı, yeşil, mavi), `224` piksel yükseklik ve `224` piksel genişlik vardır.\n",
        "\n",
        "![girdi görüntüsünden tensör temsilini gösteren örnek, görüntü 3 renk kanalına ve yükseklik ve genişliği temsil eden sayılara ayrılıyor](https://raw.githubusercontent.com/mrdbourke/pytorch-deep-learning/main/images/00-tensor-shape-example-of-image.png)\n",
        "\n",
        "Tensör dilinde (tensörleri tanımlamak için kullanılan dil), bu tensör üç boyuta sahiptir: biri `renk_kanalları`, biri `yükseklik` ve biri de `genişlik` için.\n",
        "\n",
        "Ama kendimizi fazla ileriye taşıyoruz.\n",
        "\n",
        "Haydi, tensörleri kodlayarak daha yakından öğrenelim.\n"
      ],
      "metadata": {
        "id": "oSTWM2_gcHT7"
      }
    },
    {
      "cell_type": "markdown",
      "source": [
        "### Tensör Oluşturma\n",
        "\n",
        "PyTorch, tensörleri çok sever. Öyle ki, [`torch.Tensor`](https://pytorch.org/docs/stable/tensors.html) sınıfına özel bir dökümantasyon sayfası bile var.\n",
        "\n",
        "İlk ödeviniz, [10 dakika boyunca `torch.Tensor` dökümantasyonunu okumak](https://pytorch.org/docs/stable/tensors.html). Ama bunu daha sonra da yapabilirsiniz.\n",
        "\n",
        "Haydi kod yazalım.\n",
        "\n",
        "İlk oluşturacağımız şey bir **skaler** olacak.\n",
        "\n",
        "Skaler, tek bir sayıdır ve tensör dilinde sıfır boyutlu (0D) bir tensördür.\n",
        "\n",
        "> **Not:** Bu kursta sıkça karşılaşacağınız bir yaklaşım olacak. Spesifik kodlar yazmaya odaklanacağız. Ancak zaman zaman PyTorch dökümantasyonunu okuyup anlamanızı gerektiren alıştırmalar vereceğim. Çünkü bu kursu bitirdiğinizde daha fazlasını öğrenmek isteyeceğinizden eminim. Ve dökümantasyon, sık sık başvuracağınız bir kaynak olacak.\n"
      ],
      "metadata": {
        "id": "SIafJg7kdU2o"
      }
    },
    {
      "cell_type": "code",
      "source": [
        "# Scalar\n",
        "scalar = torch.tensor(7)\n",
        "scalar"
      ],
      "metadata": {
        "colab": {
          "base_uri": "https://localhost:8080/"
        },
        "id": "i9fg_z8zdbH0",
        "outputId": "735d3ee3-d348-44f9-b6d5-609da9ed74fd"
      },
      "execution_count": 2,
      "outputs": [
        {
          "output_type": "execute_result",
          "data": {
            "text/plain": [
              "tensor(7)"
            ]
          },
          "metadata": {},
          "execution_count": 2
        }
      ]
    },
    {
      "cell_type": "markdown",
      "source": [
        "### Tensörlerin Boyutlarını Kontrol Etme\n",
        "\n",
        "Yukarıda ekrana **`tensor(7)`** çıktısını gördünüz mü?  \n",
        "\n",
        "Bu, **scalar** tek bir sayı olmasına rağmen, PyTorch'ta **`torch.Tensor`** türünde olduğunu gösterir.\n",
        "\n",
        "Bir tensörün boyutunu kontrol etmek için **`.ndim`** özelliğini kullanabiliriz.\n"
      ],
      "metadata": {
        "id": "eK1R_HX2cssS"
      }
    },
    {
      "cell_type": "code",
      "source": [
        "scalar.ndim"
      ],
      "metadata": {
        "colab": {
          "base_uri": "https://localhost:8080/"
        },
        "id": "CXmtxgftdw1G",
        "outputId": "c52e69c8-7254-44f5-a3be-fa35ec862354"
      },
      "execution_count": 3,
      "outputs": [
        {
          "output_type": "execute_result",
          "data": {
            "text/plain": [
              "0"
            ]
          },
          "metadata": {},
          "execution_count": 3
        }
      ]
    },
    {
      "cell_type": "markdown",
      "source": [
        "Peki, tensörden bir sayıyı nasıl alabiliriz?\n",
        "\n",
        "Yani, `torch.Tensor` türünden bir Python tam sayısına nasıl dönüştürebiliriz?\n",
        "\n",
        "Bunu yapmak için `item()` metodunu kullanabiliriz.\n"
      ],
      "metadata": {
        "id": "MGLpr8Auw9Eo"
      }
    },
    {
      "cell_type": "code",
      "source": [
        "# Bir tensör içindeki Python sayısını al (sadece tek elemanlı tensörlerde çalışır)\n",
        "scalar.item()\n"
      ],
      "metadata": {
        "colab": {
          "base_uri": "https://localhost:8080/"
        },
        "id": "lCLVS6m4xCxu",
        "outputId": "fe2dfee4-b5dd-4fee-8747-7a000e9a0010"
      },
      "execution_count": 4,
      "outputs": [
        {
          "output_type": "execute_result",
          "data": {
            "text/plain": [
              "7"
            ]
          },
          "metadata": {},
          "execution_count": 4
        }
      ]
    },
    {
      "cell_type": "markdown",
      "source": [
        "Tamam, şimdi bir **vektör** görelim.\n",
        "\n",
        "Bir vektör, tek boyutlu bir tensördür ancak birçok sayı içerebilir.\n",
        "\n",
        "Örneğin, evinizdeki `[yatak odası, banyo]` bilgisini `[3, 2]` vektörüyle tanımlayabilirsiniz. Veya `[yatak odası, banyo, otopark]` bilgisini `[3, 2, 2]` vektörüyle ifade edebilirsiniz.\n",
        "\n",
        "Buradaki önemli nokta, bir vektörün (ve tensörlerin) neyi temsil edebileceği konusunda esnek olmasıdır.\n"
      ],
      "metadata": {
        "id": "skTafv9Id6CL"
      }
    },
    {
      "cell_type": "code",
      "source": [
        "# Vector\n",
        "vector = torch.tensor([7, 7])\n",
        "vector"
      ],
      "metadata": {
        "colab": {
          "base_uri": "https://localhost:8080/"
        },
        "id": "l4xwrhkfd5kK",
        "outputId": "6f38633a-36a8-40aa-89ff-5d318bcfeda6"
      },
      "execution_count": 5,
      "outputs": [
        {
          "output_type": "execute_result",
          "data": {
            "text/plain": [
              "tensor([7, 7])"
            ]
          },
          "metadata": {},
          "execution_count": 5
        }
      ]
    },
    {
      "cell_type": "markdown",
      "source": [
        "Harika, `vector` artık iki adet 7 içeriyor, en sevdiğim sayı.\n",
        "\n",
        "Peki, sence bu vektör kaç boyutlu olacak?\n"
      ],
      "metadata": {
        "id": "iENHs35RebmC"
      }
    },
    {
      "cell_type": "code",
      "source": [
        "# Vektörün boyut sayısını kontrol et\n",
        "vector.ndim\n"
      ],
      "metadata": {
        "colab": {
          "base_uri": "https://localhost:8080/"
        },
        "id": "La-K6U9cxwXU",
        "outputId": "1793bd32-a2a1-4a63-fbfc-f6751cbbacf0"
      },
      "execution_count": 6,
      "outputs": [
        {
          "output_type": "execute_result",
          "data": {
            "text/plain": [
              "1"
            ]
          },
          "metadata": {},
          "execution_count": 6
        }
      ]
    },
    {
      "cell_type": "markdown",
      "source": [
        "Hmm, bu garip, `vector` iki sayı içeriyor ama sadece tek bir boyuta sahip.\n",
        "\n",
        "Sana küçük bir ipucu vereyim.\n",
        "\n",
        "PyTorch'ta bir tensörün kaç boyutu olduğunu, dışındaki köşeli parantezlerin (`[`) sayısına bakarak anlayabilirsin ve sadece bir tarafı sayman yeterlidir.\n",
        "\n",
        "`vector` kaç köşeli paranteze sahip?\n",
        "\n",
        "Tensörler için bir diğer önemli kavram ise `shape` (şekil) özelliğidir. Shape, tensör içindeki elemanların nasıl düzenlendiğini gösterir.\n",
        "\n",
        "Şimdi `vector`'ün şeklini kontrol edelim.\n"
      ],
      "metadata": {
        "id": "jR_KpkzLx2r4"
      }
    },
    {
      "cell_type": "code",
      "source": [
        "# Vektörün şeklini kontrol etme\n",
        "vector.shape"
      ],
      "metadata": {
        "colab": {
          "base_uri": "https://localhost:8080/"
        },
        "id": "3ZWDUJzVee4g",
        "outputId": "ce2ff6fa-17f8-476d-805d-94f4be99443b"
      },
      "execution_count": 7,
      "outputs": [
        {
          "output_type": "execute_result",
          "data": {
            "text/plain": [
              "torch.Size([2])"
            ]
          },
          "metadata": {},
          "execution_count": 7
        }
      ]
    },
    {
      "cell_type": "markdown",
      "source": [
        "Yukarıdaki çıktı `torch.Size([2])` döndürür, bu da vektörümüzün `[2]` şeklinde olduğunu gösterir. Bunun nedeni, köşeli parantezler içine iki eleman yerleştirmiş olmamızdır (`[7, 7]`).\n",
        "\n",
        "Şimdi bir **matris** görelim.\n"
      ],
      "metadata": {
        "id": "UIcWmbrSx98g"
      }
    },
    {
      "cell_type": "code",
      "source": [
        "\n",
        "# Matris (2D tensör) oluşturma\n",
        "MATRIX = torch.tensor([[7, 8],\n",
        "                       [9, 10]])\n",
        "\n",
        "MATRIX"
      ],
      "metadata": {
        "colab": {
          "base_uri": "https://localhost:8080/"
        },
        "id": "RmeTD2sKezbh",
        "outputId": "1571bf7f-a7ac-48b8-b38a-e57622f2af2b"
      },
      "execution_count": 8,
      "outputs": [
        {
          "output_type": "execute_result",
          "data": {
            "text/plain": [
              "tensor([[ 7,  8],\n",
              "        [ 9, 10]])"
            ]
          },
          "metadata": {},
          "execution_count": 8
        }
      ]
    },
    {
      "cell_type": "markdown",
      "source": [
        "Vay canına! Daha fazla sayı! Matrisler, vektörler kadar esnektir ancak fazladan bir boyuta sahiptirler.\n"
      ],
      "metadata": {
        "id": "8rUgmvPwyTsP"
      }
    },
    {
      "cell_type": "code",
      "source": [
        "# Matrisin boyut sayısını kontrol etme\n",
        "MATRIX.ndim"
      ],
      "metadata": {
        "colab": {
          "base_uri": "https://localhost:8080/"
        },
        "id": "kN9hA29yhvUZ",
        "outputId": "ca90ea26-0555-4ec7-c2a7-16bae5254afc"
      },
      "execution_count": 9,
      "outputs": [
        {
          "output_type": "execute_result",
          "data": {
            "text/plain": [
              "2"
            ]
          },
          "metadata": {},
          "execution_count": 9
        }
      ]
    },
    {
      "cell_type": "markdown",
      "source": [
        "`MATRIX` iki boyuta sahip (Bir tarafındaki dış köşeli parantezleri saydın mı?).\n",
        "\n",
        "Sence `shape` (şekil) değeri ne olacak?\n"
      ],
      "metadata": {
        "id": "bPm_ag-xyl2v"
      }
    },
    {
      "cell_type": "code",
      "source": [
        "# Matrisin şeklini kontrol etme\n",
        "MATRIX.shape"
      ],
      "metadata": {
        "colab": {
          "base_uri": "https://localhost:8080/"
        },
        "id": "6nXh8mgwh70U",
        "outputId": "6676b4c5-f2d4-4e71-cfd1-e502b769d908"
      },
      "execution_count": 10,
      "outputs": [
        {
          "output_type": "execute_result",
          "data": {
            "text/plain": [
              "torch.Size([2, 2])"
            ]
          },
          "metadata": {},
          "execution_count": 10
        }
      ]
    },
    {
      "cell_type": "markdown",
      "source": [
        "Çıktı olarak `torch.Size([2, 2])` alıyoruz çünkü `MATRIX` iki eleman derinliğinde ve iki eleman genişliğinde.\n",
        "\n",
        "Şimdi bir **tensör** oluşturalım!\n"
      ],
      "metadata": {
        "id": "mqk4Y9tdzBdl"
      }
    },
    {
      "cell_type": "code",
      "source": [
        "# 3 boyutlu bir tensör oluşturma\n",
        "TENSOR = torch.tensor([[[1, 2, 3],\n",
        "                        [3, 6, 9],\n",
        "                        [2, 4, 5]]])\n",
        "\n",
        "# Tensörü yazdırma\n",
        "print(TENSOR)"
      ],
      "metadata": {
        "colab": {
          "base_uri": "https://localhost:8080/"
        },
        "id": "MADADlgfiVIh",
        "outputId": "7af2bf91-29ac-41fa-daa9-abd97b842250"
      },
      "execution_count": 11,
      "outputs": [
        {
          "output_type": "stream",
          "name": "stdout",
          "text": [
            "tensor([[[1, 2, 3],\n",
            "         [3, 6, 9],\n",
            "         [2, 4, 5]]])\n"
          ]
        }
      ]
    },
    {
      "cell_type": "markdown",
      "source": [
        "Vay canına! Ne kadar güzel bir tensör.\n",
        "\n",
        "Tensörlerin neredeyse her şeyi temsil edebileceğini vurgulamak istiyorum.\n",
        "\n",
        "Az önce oluşturduğumuz tensör, bir biftek ve badem ezmesi mağazasının satış rakamlarını temsil edebilir (en sevdiğim iki yiyecekten biri).\n",
        "\n",
        "![Google Sheets'te haftanın günleri, biftek satışları ve badem ezmesi satışlarını gösteren basit bir tensör](https://raw.githubusercontent.com/mrdbourke/pytorch-deep-learning/main/images/00_simple_tensor.png)\n",
        "\n",
        "Sence bu tensör kaç boyutludur? (ipucu: köşeli parantez sayma yöntemini kullan)\n"
      ],
      "metadata": {
        "id": "GN6nU9nBiio5"
      }
    },
    {
      "cell_type": "code",
      "source": [
        "# TENSOR değişkeninin boyut sayısını kontrol etme\n",
        "TENSOR.ndim"
      ],
      "metadata": {
        "colab": {
          "base_uri": "https://localhost:8080/"
        },
        "id": "DiJqLXQFijoL",
        "outputId": "ae4da2e7-bcaa-42f2-ee65-22b9e159901f"
      },
      "execution_count": 12,
      "outputs": [
        {
          "output_type": "execute_result",
          "data": {
            "text/plain": [
              "3"
            ]
          },
          "metadata": {},
          "execution_count": 12
        }
      ]
    },
    {
      "cell_type": "markdown",
      "source": [
        "Peki ya tensörün şekli (shape) nasıl?"
      ],
      "metadata": {
        "id": "BxUjWQDazPQK"
      }
    },
    {
      "cell_type": "code",
      "source": [
        "# TENSOR değişkeninin şeklini (boyutlarının düzenini) kontrol etme\n",
        "TENSOR.shape"
      ],
      "metadata": {
        "colab": {
          "base_uri": "https://localhost:8080/"
        },
        "id": "WjkmKhCbhl-s",
        "outputId": "c2226375-7ee1-4f0c-9064-714f248446c2"
      },
      "execution_count": 13,
      "outputs": [
        {
          "output_type": "execute_result",
          "data": {
            "text/plain": [
              "torch.Size([1, 3, 3])"
            ]
          },
          "metadata": {},
          "execution_count": 13
        }
      ]
    },
    {
      "cell_type": "markdown",
      "source": [
        "Tamam, çıktı olarak `torch.Size([1, 3, 3])` alıyoruz.\n",
        "\n",
        "Boyutlar dıştan içe doğru sıralanır.\n",
        "\n",
        "Bu, 3x3'lük 1 adet boyut olduğu anlamına gelir.\n",
        "\n",
        "![Farklı tensör boyutlarına örnek](https://raw.githubusercontent.com/mrdbourke/pytorch-deep-learning/main/images/00-pytorch-different-tensor-dimensions.png)\n",
        "\n",
        "> **Not:** `scalar` ve `vector` için küçük harf, `MATRIX` ve `TENSOR` için büyük harf kullandığımı fark etmiş olabilirsiniz. Bu bilinçli bir tercih. Pratikte, skalerler ve vektörler genellikle küçük harflerle (`y`, `a`) gösterilir. Matrisler ve tensörler ise büyük harflerle (`X`, `W`) gösterilir.\n",
        ">\n",
        "> Ayrıca matris ve tensör terimlerinin bazen birbirinin yerine kullanıldığını da görebilirsiniz. Bu oldukça yaygındır. PyTorch'ta çoğunlukla `torch.Tensor` ile çalıştığınız için tensör terimi kullanılır, ancak içeriğin şekli ve boyutları ne olduğunu belirler.\n",
        "\n",
        "### Özetleyelim\n",
        "\n",
        "| **Adı**   | **Nedir?**                                    | **Boyut Sayısı**              | **Genellikle Kullanımı (Örnek)** |\n",
        "|-----------|-----------------------------------------------|------------------------------|----------------------------------|\n",
        "| **scalar** | Tek bir sayı                                  | 0                            | Küçük harf (`a`)                 |\n",
        "| **vector** | Yönü olan bir sayı (örneğin rüzgar hızı) veya birden fazla sayı | 1                            | Küçük harf (`y`)                 |\n",
        "| **matrix** | 2 boyutlu sayı dizisi                        | 2                            | Büyük harf (`Q`)                 |\n",
        "| **tensor** | n-boyutlu sayı dizisi                        | Herhangi bir boyut (0: skaler, 1: vektör) | Büyük harf (`X`)                 |\n",
        "\n",
        "![Skaler, vektör, matris ve tensör örnekleri](https://raw.githubusercontent.com/mrdbourke/pytorch-deep-learning/main/images/00-scalar-vector-matrix-tensor.png)\n"
      ],
      "metadata": {
        "id": "5UBaoJHsjCDB"
      }
    },
    {
      "cell_type": "markdown",
      "source": [
        "### 🎲 Rastgele Tensörler (Random Tensors)\n",
        "\n",
        "Daha önce tensörlerin verileri temsil ettiğini öğrendik.  \n",
        "Makine öğrenimi modelleri (özellikle **sinir ağları**) bu tensörleri işleyerek içindeki kalıpları ve ilişkileri keşfeder.\n",
        "\n",
        "Ancak, PyTorch ile makine öğrenimi modeli geliştirirken, tensörleri elle oluşturmak (şu ana kadar yaptığımız gibi) oldukça nadir bir durumdur.\n",
        "\n",
        "---\n",
        "\n",
        "### 🔄 **Makine Öğreniminde Rastgele Tensörlerin Önemi**\n",
        "\n",
        "Makine öğrenimi modelleri genellikle başlangıçta rastgele sayılarla doldurulmuş büyük tensörlerle başlar.  \n",
        "Model, bu rastgele sayıları veriyi işlerken günceller ve daha iyi tahminler yapmayı öğrenir.\n",
        "\n",
        "Bu süreci şu şekilde özetleyebiliriz:\n",
        "\n",
        "`Rastgele sayılarla başla → Veriye bak → Sayıları güncelle → Veriye tekrar bak → Sayıları güncelle...`\n",
        "\n",
        "📌 **Veri bilimcisi** olarak, modelin:  \n",
        "- **Başlangıç değerlerini (initialization)** nasıl belirleyeceğini,  \n",
        "- **Veriyi (representation)** nasıl işleyeceğini ve  \n",
        "- **Sayıları (optimization)** nasıl güncelleyeceğini kontrol edebilirsiniz.\n",
        "\n",
        "Bu adımları ilerleyen bölümlerde uygulamalı olarak inceleyeceğiz.  \n",
        "Şimdilik, rastgele sayı içeren tensörleri nasıl oluşturacağımıza bakalım.\n",
        "\n",
        "---\n",
        "\n",
        "### 📝 **Rastgele Tensör Oluşturma**\n",
        "\n",
        "Rastgele sayı içeren tensörleri oluşturmak için [`torch.rand()`](https://pytorch.org/docs/stable/generated/torch.rand.html) fonksiyonunu kullanabiliriz.  \n",
        "Bu fonksiyon, **0 ile 1** arasında rastgele sayı üreten bir tensör oluşturur.\n",
        "\n"
      ],
      "metadata": {
        "id": "IPXQkS5PjYTX"
      }
    },
    {
      "cell_type": "code",
      "source": [
        "# (3, 4) boyutunda rastgele sayı içeren bir tensör oluşturma\n",
        "random_tensor = torch.rand(size=(3, 4))\n",
        "\n",
        "# Tensörü ve veri tipini yazdırma\n",
        "random_tensor, random_tensor.dtype"
      ],
      "metadata": {
        "id": "QnGv0yrIi0uY",
        "colab": {
          "base_uri": "https://localhost:8080/"
        },
        "outputId": "5813cf62-bc50-4a7e-aa78-ec20258cb8a5"
      },
      "execution_count": 14,
      "outputs": [
        {
          "output_type": "execute_result",
          "data": {
            "text/plain": [
              "(tensor([[0.5246, 0.4837, 0.5311, 0.3527],\n",
              "         [0.5622, 0.5908, 0.8572, 0.4340],\n",
              "         [0.4462, 0.6054, 0.7701, 0.0760]]),\n",
              " torch.float32)"
            ]
          },
          "metadata": {},
          "execution_count": 14
        }
      ]
    },
    {
      "cell_type": "markdown",
      "source": [
        "`torch.rand()` fonksiyonunun esnekliği, `size` parametresini istediğimiz gibi ayarlayabilmemizdir.\n",
        "\n",
        "Örneğin, yaygın bir görüntü boyutu olan `[224, 224, 3]` şeklinde ( `[yükseklik, genişlik, renk_kanalları]` ) rastgele bir tensör oluşturmak istersek:\n"
      ],
      "metadata": {
        "id": "oUQQfwHXzxVd"
      }
    },
    {
      "cell_type": "code",
      "source": [
        "# (224, 224, 3) boyutunda rastgele sayı içeren bir tensör oluşturma\n",
        "random_image_size_tensor = torch.rand(size=(224, 224, 3))\n",
        "\n",
        "# Tensörün şeklini (shape) ve boyut sayısını (ndim) kontrol etme\n",
        "random_image_size_tensor.shape, random_image_size_tensor.ndim\n"
      ],
      "metadata": {
        "colab": {
          "base_uri": "https://localhost:8080/"
        },
        "id": "fDLLZ_lQjydO",
        "outputId": "68b3afab-ccc7-4cdf-dc36-1f8819f1763a"
      },
      "execution_count": 15,
      "outputs": [
        {
          "output_type": "execute_result",
          "data": {
            "text/plain": [
              "(torch.Size([224, 224, 3]), 3)"
            ]
          },
          "metadata": {},
          "execution_count": 15
        }
      ]
    },
    {
      "cell_type": "markdown",
      "source": [
        "### Sıfırlar ve Birler(Zeros and ones)\n",
        "\n",
        "Bazen tensörleri sadece sıfır veya birlerle doldurmak isteyebilirsin.\n",
        "\n",
        "Bu durum genellikle maskeleme işlemlerinde kullanılır (bir tensördeki bazı değerleri sıfırlarla maskeleyerek modelin o değerleri öğrenmemesini sağlamak gibi).\n",
        "\n",
        "Şimdi, [`torch.zeros()`](https://pytorch.org/docs/stable/generated/torch.zeros.html) kullanarak sıfırlarla dolu bir tensör oluşturalım.\n",
        "\n",
        "Yine, burada `size` parametresi önem kazanıyor.\n"
      ],
      "metadata": {
        "id": "RCiwWXtRjwZ4"
      }
    },
    {
      "cell_type": "code",
      "source": [
        "# (3, 4) boyutunda sıfırlardan oluşan bir tensör oluşturma\n",
        "zeros = torch.zeros(size=(3, 4))\n",
        "\n",
        "# Tensörü ve veri tipini yazdırma\n",
        "zeros, zeros.dtype"
      ],
      "metadata": {
        "colab": {
          "base_uri": "https://localhost:8080/"
        },
        "id": "SFL-sPjhjppl",
        "outputId": "a6531da7-70fc-44f5-9bf5-9755a0706d09"
      },
      "execution_count": 16,
      "outputs": [
        {
          "output_type": "execute_result",
          "data": {
            "text/plain": [
              "(tensor([[0., 0., 0., 0.],\n",
              "         [0., 0., 0., 0.],\n",
              "         [0., 0., 0., 0.]]),\n",
              " torch.float32)"
            ]
          },
          "metadata": {},
          "execution_count": 16
        }
      ]
    },
    {
      "cell_type": "markdown",
      "source": [
        "Aynı şekilde, tüm elemanları bir olan bir tensör oluşturmak için [`torch.ones()`](https://pytorch.org/docs/stable/generated/torch.ones.html) fonksiyonunu kullanabiliriz.\n"
      ],
      "metadata": {
        "id": "v_AaxC8WkUEm"
      }
    },
    {
      "cell_type": "code",
      "source": [
        "# (3, 4) boyutunda birlerden oluşan bir tensör oluşturma\n",
        "ones = torch.ones(size=(3, 4))\n",
        "\n",
        "# Tensörü ve veri tipini yazdırma\n",
        "ones, ones.dtype"
      ],
      "metadata": {
        "id": "lTdN5pTckYFs",
        "colab": {
          "base_uri": "https://localhost:8080/"
        },
        "outputId": "cb5df86e-0e75-4279-b523-4d739a5ea9fa"
      },
      "execution_count": 17,
      "outputs": [
        {
          "output_type": "execute_result",
          "data": {
            "text/plain": [
              "(tensor([[1., 1., 1., 1.],\n",
              "         [1., 1., 1., 1.],\n",
              "         [1., 1., 1., 1.]]),\n",
              " torch.float32)"
            ]
          },
          "metadata": {},
          "execution_count": 17
        }
      ]
    },
    {
      "cell_type": "markdown",
      "source": [
        "### Aralık ve Benzer Tensörler Oluşturma\n",
        "\n",
        "Bazen 1'den 10'a veya 0'dan 100'e kadar bir sayı aralığı oluşturmak isteyebilirsin.\n",
        "\n",
        "Bunu yapmak için `torch.arange(start, end, step)` fonksiyonunu kullanabilirsin.\n",
        "\n",
        "Burada:\n",
        "* `start` = aralığın başlangıç değeri (örn. 0)  \n",
        "* `end` = aralığın bitiş değeri (örn. 10)  \n",
        "* `step` = her değerin arasındaki adım sayısı (örn. 1)  \n",
        "\n",
        "> **Not:** Python'da bir aralık oluşturmak için `range()` fonksiyonunu kullanabilirsin. Ancak PyTorch'ta `torch.range()` artık kullanılmıyor ve gelecekte hata verebilir.\n"
      ],
      "metadata": {
        "id": "MLRepZ440ag0"
      }
    },
    {
      "cell_type": "code",
      "source": [
        "# ⚠️ Dikkat: torch.range() kullanımdan kaldırılmıştır (deprecated)\n",
        "zero_to_ten_deprecated = torch.range(0, 10)  # Bu kullanım gelecekte hata verebilir!\n",
        "\n",
        "# ✅ Doğru kullanım: torch.arange() ile 0'dan 10'a kadar bir tensör oluşturma\n",
        "zero_to_ten = torch.arange(start=0, end=10, step=1)\n",
        "\n",
        "# Tensörü yazdırma\n",
        "zero_to_ten"
      ],
      "metadata": {
        "colab": {
          "base_uri": "https://localhost:8080/"
        },
        "id": "AjNX3QXlkf7Z",
        "outputId": "2adffefc-80d1-4320-dae4-2e1479143b5f"
      },
      "execution_count": 18,
      "outputs": [
        {
          "output_type": "stream",
          "name": "stderr",
          "text": [
            "<ipython-input-18-4ec072aa6a03>:2: UserWarning: torch.range is deprecated and will be removed in a future release because its behavior is inconsistent with Python's range builtin. Instead, use torch.arange, which produces values in [start, end).\n",
            "  zero_to_ten_deprecated = torch.range(0, 10)  # Bu kullanım gelecekte hata verebilir!\n"
          ]
        },
        {
          "output_type": "execute_result",
          "data": {
            "text/plain": [
              "tensor([0, 1, 2, 3, 4, 5, 6, 7, 8, 9])"
            ]
          },
          "metadata": {},
          "execution_count": 18
        }
      ]
    },
    {
      "cell_type": "markdown",
      "source": [
        "Bazen başka bir tensörle aynı şekle sahip bir tensör oluşturmak isteyebilirsiniz.\n",
        "\n",
        "Örneğin, önceki bir tensörle aynı şekle sahip, sadece sıfırlardan oluşan bir tensör.\n",
        "\n",
        "Bunu yapmak için [`torch.zeros_like(input)`](https://pytorch.org/docs/stable/generated/torch.zeros_like.html) veya [`torch.ones_like(input)`](https://pytorch.org/docs/1.9.1/generated/torch.ones_like.html) fonksiyonlarını kullanabilirsiniz. Bu fonksiyonlar sırasıyla `input` tensörünün aynı şekline sahip, sıfırlarla veya birlerle dolu bir tensör döndürür.\n"
      ],
      "metadata": {
        "id": "aAe8jjsPlEOR"
      }
    },
    {
      "cell_type": "code",
      "source": [
        "# Mevcut bir tensörle aynı boyutta sıfırlardan oluşan bir tensör oluşturma\n",
        "ten_zeros = torch.zeros_like(input=zero_to_ten)  # zero_to_ten ile aynı boyutta\n",
        "\n",
        "# Oluşturulan tensörü yazdırma\n",
        "ten_zeros"
      ],
      "metadata": {
        "colab": {
          "base_uri": "https://localhost:8080/"
        },
        "id": "Bc9jS0O2lE-_",
        "outputId": "e3a6c8ef-60c5-409c-8344-5cb1ef23a73e"
      },
      "execution_count": 19,
      "outputs": [
        {
          "output_type": "execute_result",
          "data": {
            "text/plain": [
              "tensor([0, 0, 0, 0, 0, 0, 0, 0, 0, 0])"
            ]
          },
          "metadata": {},
          "execution_count": 19
        }
      ]
    },
    {
      "cell_type": "markdown",
      "source": [
        "### Tensör Veri Türleri\n",
        "\n",
        "PyTorch'ta kullanılabilir birçok farklı [tensör veri türü](https://pytorch.org/docs/stable/tensors.html#data-types) vardır.\n",
        "\n",
        "Bazıları CPU için özel olup, bazıları ise GPU için daha uygundur.\n",
        "\n",
        "Hangi veri türünün kullanılacağını öğrenmek zaman alabilir.\n",
        "\n",
        "Genellikle `torch.cuda` gördüğünüzde, tensörün GPU için kullanıldığını anlayabilirsiniz (çünkü Nvidia GPU'ları CUDA adı verilen bir hesaplama araç setini kullanır).\n",
        "\n",
        "En yaygın tür (ve genellikle varsayılan) `torch.float32` veya `torch.float`'tır.\n",
        "\n",
        "Bu, \"32-bit kayan nokta\" olarak adlandırılır.\n",
        "\n",
        "Ancak, 16-bit kayan nokta (`torch.float16` veya `torch.half`) ve 64-bit kayan nokta (`torch.float64` veya `torch.double`) da vardır.\n",
        "\n",
        "Ve işler daha da karışsın diye, ayrıca 8-bit, 16-bit, 32-bit ve 64-bit tam sayılar da vardır.\n",
        "\n",
        "Dahası var!\n",
        "\n",
        "> **Not:** Bir tam sayı düz bir yuvarlak sayıdır, örneğin `7` iken bir kayan nokta sayısı ondalıklı bir değere sahiptir, örneğin `7.0`.\n",
        "\n",
        "Bunların hepsinin nedeni **hesaplama hassasiyeti** ile ilgilidir.\n",
        "\n",
        "Hassasiyet, bir sayıyı tanımlamak için kullanılan detay miktarıdır.\n",
        "\n",
        "Hassasiyet değeri ne kadar yüksekse (8, 16, 32), sayıyı ifade etmek için kullanılan veri miktarı ve detay da o kadar artar.\n",
        "\n",
        "Bu, derin öğrenme ve sayısal hesaplama için önemlidir çünkü çok sayıda işlem yapıyorsunuz ve üzerinde hesaplama yapacağınız daha fazla detay olduğunda, kullanmanız gereken hesaplama gücü de artar.\n",
        "\n",
        "Yani, düşük hassasiyetli veri türleri genellikle daha hızlı hesaplanabilir ancak doğruluk gibi değerlendirme ölçütlerinde performans kaybına yol açabilir (daha hızlı hesaplanabilir ama daha az doğru).\n",
        "\n",
        "> **Kaynaklar:**  \n",
        "  * Tüm mevcut tensör veri türlerinin bir listesini görmek için [PyTorch belgesine göz atın](https://pytorch.org/docs/stable/tensors.html#data-types).\n",
        "  * Hesaplamada hassasiyetin ne olduğunu öğrenmek için [Wikipedia sayfasını okuyun](https://en.wikipedia.org/wiki/Precision_(computer_science)).\n",
        "\n",
        "Şimdi belirli veri türlerine sahip tensörler nasıl oluşturulacağını görelim. Bunu `dtype` parametresini kullanarak yapabiliriz.\n"
      ],
      "metadata": {
        "id": "urBksgNaljOv"
      }
    },
    {
      "cell_type": "code",
      "source": [
        "#Belirli Veri Tipleriyle Tensör Oluşturma\n",
        "\n",
        "\n",
        "\n",
        "\n",
        "# 32-bit float tensör (varsayılan)\n",
        "float32_tensor = torch.tensor([1.0, 2.0, 3.0], dtype=torch.float32)\n",
        "\n",
        "# 16-bit float tensör\n",
        "float16_tensor = torch.tensor([1.0, 2.0, 3.0], dtype=torch.float16)\n",
        "\n",
        "# 64-bit float tensör\n",
        "float64_tensor = torch.tensor([1.0, 2.0, 3.0], dtype=torch.float64)\n",
        "\n",
        "# 32-bit integer tensör\n",
        "int32_tensor = torch.tensor([1, 2, 3], dtype=torch.int32)\n",
        "\n",
        "# Tensörleri yazdırma\n",
        "print(\"32-bit Float Tensor:\", float32_tensor)\n",
        "print(\"16-bit Float Tensor:\", float16_tensor)\n",
        "print(\"64-bit Float Tensor:\", float64_tensor)\n",
        "print(\"32-bit Integer Tensor:\", int32_tensor)"
      ],
      "metadata": {
        "colab": {
          "base_uri": "https://localhost:8080/"
        },
        "id": "NNilqe53liTg",
        "outputId": "db3f4e52-ea98-4b4a-b93f-df470a00a255"
      },
      "execution_count": 20,
      "outputs": [
        {
          "output_type": "stream",
          "name": "stdout",
          "text": [
            "32-bit Float Tensor: tensor([1., 2., 3.])\n",
            "16-bit Float Tensor: tensor([1., 2., 3.], dtype=torch.float16)\n",
            "64-bit Float Tensor: tensor([1., 2., 3.], dtype=torch.float64)\n",
            "32-bit Integer Tensor: tensor([1, 2, 3], dtype=torch.int32)\n"
          ]
        }
      ]
    },
    {
      "cell_type": "markdown",
      "source": [
        "Şekil sorunlarının (tensör şekilleri uyumsuz olduğunda) dışında, PyTorch'ta karşılaşacağınız diğer yaygın iki sorun veri türü ve cihaz sorunlarıdır.\n",
        "\n",
        "Örneğin, bir tensör `torch.float32` iken, diğeri `torch.float16` olabilir (PyTorch, genellikle tensörlerin aynı formatta olmasını tercih eder).\n",
        "\n",
        "Ya da bir tensörünüz CPU'da, diğer tensörünüz ise GPU'da olabilir (PyTorch, tensörler arasındaki hesaplamaların aynı cihazda yapılmasını tercih eder).\n",
        "\n",
        "Cihaz konuşmasını daha sonra daha ayrıntılı olarak göreceğiz.\n",
        "\n",
        "Şimdi, `dtype=torch.float16` olan bir tensör oluşturalım.\n"
      ],
      "metadata": {
        "id": "5LAvuf450yJH"
      }
    },
    {
      "cell_type": "code",
      "source": [
        "import torch\n",
        "\n",
        "# Varsayılan olarak float32 tipinde bir tensör oluşturma\n",
        "float_32_tensor = torch.tensor([3.0, 6.0, 9.0],\n",
        "                               dtype=None,         # Belirtilmezse varsayılan olarak torch.float32 olur\n",
        "                               device=None,        # Belirtilmezse CPU kullanılır\n",
        "                               requires_grad=False)  # False olduğu için gradyan hesaplanmaz\n",
        "\n",
        "# Tensörün şekli, veri tipi ve cihaz bilgisi\n",
        "float_32_tensor.shape, float_32_tensor.dtype, float_32_tensor.device\n"
      ],
      "metadata": {
        "colab": {
          "base_uri": "https://localhost:8080/"
        },
        "id": "dJ117geslupG",
        "outputId": "f5112499-f92a-49a3-fcc7-3c536eae35ce"
      },
      "execution_count": 21,
      "outputs": [
        {
          "output_type": "execute_result",
          "data": {
            "text/plain": [
              "(torch.Size([3]), torch.float32, device(type='cpu'))"
            ]
          },
          "metadata": {},
          "execution_count": 21
        }
      ]
    },
    {
      "cell_type": "markdown",
      "source": [
        "## Tensörlerden Bilgi Alma\n",
        "\n",
        "Bir kez tensörler oluşturduğunuzda (ya da başkası veya bir PyTorch modülü sizin için oluşturduğunda), onlardan bazı bilgiler almak isteyebilirsiniz.\n",
        "\n",
        "Bunları daha önce gördük ama tensörler hakkında öğrenmek isteyeceğiniz üç yaygın özellik şunlardır:\n",
        "* `shape` - Tensörün şekli nedir? (bazı işlemler belirli şekil kurallarına ihtiyaç duyar)\n",
        "* `dtype` - Tensör içinde yer alan elemanların veri türü nedir?\n",
        "* `device` - Tensör hangi cihazda depolanıyor? (genellikle GPU veya CPU)\n",
        "\n",
        "Şimdi rastgele bir tensör oluşturalım ve bununla ilgili detayları öğrenelim.\n"
      ],
      "metadata": {
        "id": "X1Izbba5mEM6"
      }
    },
    {
      "cell_type": "code",
      "source": [
        "# 16-bit kayan noktalı (float16) tensör oluşturma\n",
        "float_16_tensor = torch.tensor([3.0, 6.0, 9.0],\n",
        "                               dtype=torch.float16)  # torch.half da kullanılabilir\n",
        "\n",
        "# Tensörün veri tipini kontrol etme\n",
        "float_16_tensor.dtype"
      ],
      "metadata": {
        "colab": {
          "base_uri": "https://localhost:8080/"
        },
        "id": "0S8-IvdbmEBX",
        "outputId": "6b4a6aff-7b64-4974-d3b2-d11659e622c6"
      },
      "execution_count": 22,
      "outputs": [
        {
          "output_type": "execute_result",
          "data": {
            "text/plain": [
              "torch.float16"
            ]
          },
          "metadata": {},
          "execution_count": 22
        }
      ]
    },
    {
      "cell_type": "markdown",
      "source": [
        "## ℹ️ Tensörlerden Bilgi Alma\n",
        "\n",
        "Tensörler oluşturduktan sonra (ister kendiniz, ister bir PyTorch modülü tarafından oluşturulmuş olsun), onlarla ilgili bazı bilgilere ihtiyaç duyabilirsiniz.\n",
        "\n",
        "Daha önce de gördüğümüz gibi, tensörlerle ilgili en yaygın kullanılan üç özellik şunlardır:\n",
        "\n",
        "- **`shape`** → Tensörün şekli nedir?  \n",
        "  (*Bazı işlemler belirli şekil kurallarını gerektirir.*)  \n",
        "- **`dtype`** → Tensördeki elemanlar hangi veri türünde saklanıyor?  \n",
        "- **`device`** → Tensör hangi cihazda saklanıyor? (**CPU** veya **GPU**)\n",
        "\n",
        "---"
      ],
      "metadata": {
        "id": "bbyrWAvamR_W"
      }
    },
    {
      "cell_type": "code",
      "source": [
        "# 🔢 3x4 boyutunda rastgele bir tensör oluşturma\n",
        "some_tensor = torch.rand(3, 4)\n",
        "\n",
        "# ℹ️ Tensörün detaylarını yazdırma\n",
        "print(\"Tensör:\\n\", some_tensor)\n",
        "print(f\"Tensörün Şekli (Shape): {some_tensor.shape}\")\n",
        "print(f\"Tensörün Veri Tipi (Datatype): {some_tensor.dtype}\")\n",
        "print(f\"Tensörün Cihazı (Device): {some_tensor.device}\")  # Varsayılan olarak CPU'da tutulur\n"
      ],
      "metadata": {
        "colab": {
          "base_uri": "https://localhost:8080/"
        },
        "id": "ZW0lYl99mSrm",
        "outputId": "26b508ea-ae88-43a0-9c3b-78bea0467f59"
      },
      "execution_count": 23,
      "outputs": [
        {
          "output_type": "stream",
          "name": "stdout",
          "text": [
            "Tensör:\n",
            " tensor([[0.8086, 0.3897, 0.0087, 0.4006],\n",
            "        [0.3816, 0.2700, 0.0922, 0.0510],\n",
            "        [0.5456, 0.2015, 0.1747, 0.8109]])\n",
            "Tensörün Şekli (Shape): torch.Size([3, 4])\n",
            "Tensörün Veri Tipi (Datatype): torch.float32\n",
            "Tensörün Cihazı (Device): cpu\n"
          ]
        }
      ]
    },
    {
      "cell_type": "markdown",
      "source": [
        "> **Not:** PyTorch'ta sorunlarla karşılaştığınızda, genellikle yukarıdaki üç özellikten biriyle ilgili bir problemle karşılaşırsınız. Bu yüzden hata mesajları göründüğünde, kendinize küçük bir şarkı söyleyin: \"what, what, where\":\n",
        "  * \"*Tensörlerimin şekli ne? Veri türü ne ve nerede depolanıyor? Hangi şekil, hangi veri türü, nerede nerede nerede*\"\n"
      ],
      "metadata": {
        "id": "zTfOogXHmptT"
      }
    },
    {
      "cell_type": "markdown",
      "source": [
        "## Tensörleri Manipüle Etme (Tensör Operations)\n",
        "\n",
        "Derin öğrenmede, veriler (görüntüler, metinler, videolar, sesler, protein yapıları vb.) tensörler olarak temsil edilir.\n",
        "\n",
        "Bir model, bu tensörleri inceleyerek ve tensörler üzerinde bir dizi işlem yaparak (1.000.000'larca işlem olabilir) giriş verilerindeki desenlerin bir temsilini oluşturur.\n",
        "\n",
        "Bu işlemler genellikle şu temel işlemler arasında harika bir dans gibidir:\n",
        "* Toplama\n",
        "* Çıkarma\n",
        "* Çarpma (eleman bazında)\n",
        "* Bölme\n",
        "* Matris çarpımı\n",
        "\n",
        "Ve hepsi bu kadar. Tabii ki burada ve orada birkaç ekstra işlem olabilir ama bunlar sinir ağlarının temel yapı taşlarıdır.\n",
        "\n",
        "Bu yapı taşlarını doğru şekilde üst üste koyarak, en sofistike sinir ağlarını oluşturabilirsiniz (tıpkı lego gibi!).\n"
      ],
      "metadata": {
        "id": "GmgthCbYnkYO"
      }
    },
    {
      "cell_type": "markdown",
      "source": [
        "### Temel İşlemler\n",
        "\n",
        "Başlangıç olarak, birkaç temel işlemle başlayalım: toplama (`+`), çıkarma (`-`), çarpma (`*`).\n",
        "\n",
        "Bu işlemler, düşündüğünüz gibi çalışır.\n"
      ],
      "metadata": {
        "id": "YOjjRU3unvPJ"
      }
    },
    {
      "cell_type": "code",
      "source": [
        "# 🔢 Tensör oluşturma\n",
        "tensor = torch.tensor([1, 2, 3])\n",
        "\n",
        "# ➕ Tensöre 10 ekleme (eleman bazlı)\n",
        "tensor + 10"
      ],
      "metadata": {
        "colab": {
          "base_uri": "https://localhost:8080/"
        },
        "id": "zY5hHpqEnz4T",
        "outputId": "ea6a0eb2-7056-4b3d-8178-91b1df359d09"
      },
      "execution_count": 24,
      "outputs": [
        {
          "output_type": "execute_result",
          "data": {
            "text/plain": [
              "tensor([11, 12, 13])"
            ]
          },
          "metadata": {},
          "execution_count": 24
        }
      ]
    },
    {
      "cell_type": "code",
      "source": [
        "# ✖️ Tensörü 10 ile çarpma (eleman bazlı)\n",
        "tensor * 10"
      ],
      "metadata": {
        "colab": {
          "base_uri": "https://localhost:8080/"
        },
        "id": "F-1Kgg4rnv7S",
        "outputId": "b90e367a-aaaa-41b6-b061-02a6aec3a550"
      },
      "execution_count": 25,
      "outputs": [
        {
          "output_type": "execute_result",
          "data": {
            "text/plain": [
              "tensor([10, 20, 30])"
            ]
          },
          "metadata": {},
          "execution_count": 25
        }
      ]
    },
    {
      "cell_type": "markdown",
      "source": [
        "Yukarıdaki tensör değerlerinin `tensor([110, 120, 130])` şeklinde olmadığını fark ettiniz mi? Bunun nedeni, tensördeki değerlerin yalnızca yeniden atanmadıkça değişmemesidir.\n"
      ],
      "metadata": {
        "id": "bViynErXoj7W"
      }
    },
    {
      "cell_type": "code",
      "source": [
        "# Tensörler yeniden atanmadıkça değişmez\n",
        "tensor"
      ],
      "metadata": {
        "colab": {
          "base_uri": "https://localhost:8080/"
        },
        "id": "aner-aWwnnKV",
        "outputId": "be92b2a7-3c4c-460d-a60e-5885a6ee0659"
      },
      "execution_count": 26,
      "outputs": [
        {
          "output_type": "execute_result",
          "data": {
            "text/plain": [
              "tensor([1, 2, 3])"
            ]
          },
          "metadata": {},
          "execution_count": 26
        }
      ]
    },
    {
      "cell_type": "markdown",
      "source": [
        "Şimdi bir sayıyı çıkaralım ve bu sefer `tensor` değişkenini yeniden atayalım.\n"
      ],
      "metadata": {
        "id": "kNs1MShwo48c"
      }
    },
    {
      "cell_type": "code",
      "source": [
        "# Çıkarma işlemi ve yeniden atama\n",
        "tensor = tensor - 10\n",
        "\n",
        "# Güncellenmiş tensörü yazdırma\n",
        "print(tensor)"
      ],
      "metadata": {
        "colab": {
          "base_uri": "https://localhost:8080/"
        },
        "id": "JWFcoNPno6KK",
        "outputId": "8ab395d4-c53f-4a44-e079-001a03d9a943"
      },
      "execution_count": 27,
      "outputs": [
        {
          "output_type": "stream",
          "name": "stdout",
          "text": [
            "tensor([-9, -8, -7])\n"
          ]
        }
      ]
    },
    {
      "cell_type": "code",
      "source": [
        "#Toplama işlemi ve yeniden atama\n",
        "tensor = tensor + 10\n",
        "\n",
        "# Güncellenmiş tensörü yazdırma\n",
        "print(tensor)"
      ],
      "metadata": {
        "colab": {
          "base_uri": "https://localhost:8080/"
        },
        "id": "BuIVGv9_mE7u",
        "outputId": "113c83a1-abc6-4991-df92-7089f34be277"
      },
      "execution_count": 28,
      "outputs": [
        {
          "output_type": "stream",
          "name": "stdout",
          "text": [
            "tensor([1, 2, 3])\n"
          ]
        }
      ]
    },
    {
      "cell_type": "markdown",
      "source": [
        "PyTorch ayrıca temel işlemleri gerçekleştirmek için [`torch.mul()`](https://pytorch.org/docs/stable/generated/torch.mul.html#torch.mul) (çarpma kısaltması) ve [`torch.add()`](https://pytorch.org/docs/stable/generated/torch.add.html) gibi birçok yerleşik fonksiyona sahiptir.\n"
      ],
      "metadata": {
        "id": "KvuSDE7TprLl"
      }
    },
    {
      "cell_type": "code",
      "source": [
        "# PyTorch fonksiyonlarını da kullanabilirsiniz\n",
        "torch.multiply(tensor, 10)\n"
      ],
      "metadata": {
        "colab": {
          "base_uri": "https://localhost:8080/"
        },
        "id": "dD1q0G25pq00",
        "outputId": "0c3165ca-8122-402c-dacf-c73025ec420f"
      },
      "execution_count": 29,
      "outputs": [
        {
          "output_type": "execute_result",
          "data": {
            "text/plain": [
              "tensor([10, 20, 30])"
            ]
          },
          "metadata": {},
          "execution_count": 29
        }
      ]
    },
    {
      "cell_type": "code",
      "source": [
        "# Orijinal tensör hâlâ değişmedi\n",
        "tensor"
      ],
      "metadata": {
        "colab": {
          "base_uri": "https://localhost:8080/"
        },
        "id": "tOtVT5j4p-7p",
        "outputId": "0bb6f749-009e-48e1-c58f-9f86b776da2f"
      },
      "execution_count": 30,
      "outputs": [
        {
          "output_type": "execute_result",
          "data": {
            "text/plain": [
              "tensor([1, 2, 3])"
            ]
          },
          "metadata": {},
          "execution_count": 30
        }
      ]
    },
    {
      "cell_type": "markdown",
      "source": [
        "Ancak, daha yaygın olarak `torch.mul()` yerine `*` gibi operator sembollerini kullanmak tercih edilir.\n"
      ],
      "metadata": {
        "id": "YHVL2nAJqQE0"
      }
    },
    {
      "cell_type": "code",
      "source": [
        "# 🔢 Eleman Bazlı Çarpma (Her eleman aynı indeksdeki elemanla çarpılır: 0->0, 1->1, 2->2)\n",
        "print(tensor, \"*\", tensor)\n",
        "print(\"Sonuç:\", tensor * tensor)\n"
      ],
      "metadata": {
        "colab": {
          "base_uri": "https://localhost:8080/"
        },
        "id": "LchV9GuxqQ18",
        "outputId": "c3f87112-2aeb-4ca0-fa9d-055345645959"
      },
      "execution_count": 31,
      "outputs": [
        {
          "output_type": "stream",
          "name": "stdout",
          "text": [
            "tensor([1, 2, 3]) * tensor([1, 2, 3])\n",
            "Sonuç: tensor([1, 4, 9])\n"
          ]
        }
      ]
    },
    {
      "cell_type": "markdown",
      "source": [
        "### Matris Çarpımı (İhtiyacınız Olan Her Şey)\n",
        "\n",
        "Makine öğrenimi ve derin öğrenme algoritmalarında (sinir ağları gibi) en yaygın işlemlerden biri [matris çarpımı](https://www.mathsisfun.com/algebra/matrix-multiplying.html)'dır.\n",
        "\n",
        "PyTorch, matris çarpımı işlevselliğini [`torch.matmul()`](https://pytorch.org/docs/stable/generated/torch.matmul.html) metodunda sağlar.\n",
        "\n",
        "Matris çarpımıyla ilgili hatırlamanız gereken iki ana kural şunlardır:\n",
        "\n",
        "1. **İç boyutlar** uyumlu olmalıdır:\n",
        "  * `(3, 2) @ (3, 2)` çalışmaz\n",
        "  * `(2, 3) @ (3, 2)` çalışır\n",
        "  * `(3, 2) @ (2, 3)` çalışır\n",
        "2. Sonuç matrisi **dış boyutlar**a sahip olur:\n",
        " * `(2, 3) @ (3, 2)` -> `(2, 2)`\n",
        " * `(3, 2) @ (2, 3)` -> `(3, 3)`\n",
        "\n",
        "> **Not:** Python'da \"`@`\" sembolü matris çarpımını temsil eder.\n",
        "\n",
        "> **Kaynak:** `torch.matmul()` ile matris çarpımının tüm kurallarını [PyTorch belgesinde](https://pytorch.org/docs/stable/generated/torch.matmul.html) görebilirsiniz.\n",
        "\n",
        "Şimdi bir tensör oluşturalım ve üzerinde eleman bazında çarpma ve matris çarpımı işlemleri yapalım.\n"
      ],
      "metadata": {
        "id": "EPFpO80bqiDl"
      }
    },
    {
      "cell_type": "code",
      "source": [
        "import torch\n",
        "tensor = torch.tensor([1, 2, 3])\n",
        "tensor.shape"
      ],
      "metadata": {
        "colab": {
          "base_uri": "https://localhost:8080/"
        },
        "id": "qtl3wk1jqjfr",
        "outputId": "f607c5eb-577f-48d2-ca2b-838874643cc0"
      },
      "execution_count": 32,
      "outputs": [
        {
          "output_type": "execute_result",
          "data": {
            "text/plain": [
              "torch.Size([3])"
            ]
          },
          "metadata": {},
          "execution_count": 32
        }
      ]
    },
    {
      "cell_type": "markdown",
      "source": [
        "Eleman bazında çarpma ile matris çarpımı arasındaki fark, değerlerin eklenmesidir.\n",
        "\n",
        "`tensor` değişkenimiz için `[1, 2, 3]` değerleriyle:\n",
        "\n",
        "| İşlem | Hesaplama | Kod |\n",
        "| ----- | ----- | ----- |\n",
        "| **Eleman bazında çarpma** | `[1*1, 2*2, 3*3]` = `[1, 4, 9]` | `tensor * tensor` |\n",
        "| **Matris çarpımı** | `[1*1 + 2*2 + 3*3]` = `[14]` | `tensor.matmul(tensor)` |\n"
      ],
      "metadata": {
        "id": "IkVJdXydqwUc"
      }
    },
    {
      "cell_type": "code",
      "source": [
        "# ➗ Eleman Bazlı Çarpma (Element-wise Multiplication)\n",
        "tensor * tensor"
      ],
      "metadata": {
        "colab": {
          "base_uri": "https://localhost:8080/"
        },
        "id": "GW85IddGqxS1",
        "outputId": "95b9244c-20d5-4e23-cb79-5ea74b329e8c"
      },
      "execution_count": 33,
      "outputs": [
        {
          "output_type": "execute_result",
          "data": {
            "text/plain": [
              "tensor([1, 4, 9])"
            ]
          },
          "metadata": {},
          "execution_count": 33
        }
      ]
    },
    {
      "cell_type": "code",
      "source": [
        "#matris çarpımı (matrix multiplication)\n",
        "torch.matmul(tensor, tensor)"
      ],
      "metadata": {
        "colab": {
          "base_uri": "https://localhost:8080/"
        },
        "id": "32l6g82qq7I8",
        "outputId": "0e37d3dc-7d59-4865-cf87-41583bad579f"
      },
      "execution_count": 34,
      "outputs": [
        {
          "output_type": "execute_result",
          "data": {
            "text/plain": [
              "tensor(14)"
            ]
          },
          "metadata": {},
          "execution_count": 34
        }
      ]
    },
    {
      "cell_type": "code",
      "source": [
        "# Matris çarpımı için \"@\" sembolü de kullanılabilir, ancak önerilmez.\n",
        "tensor @ tensor\n"
      ],
      "metadata": {
        "colab": {
          "base_uri": "https://localhost:8080/"
        },
        "id": "7_3rWam8rGvj",
        "outputId": "34fba771-a78d-4764-dd48-984d5e7ab0d6"
      },
      "execution_count": 35,
      "outputs": [
        {
          "output_type": "execute_result",
          "data": {
            "text/plain": [
              "tensor(14)"
            ]
          },
          "metadata": {},
          "execution_count": 35
        }
      ]
    },
    {
      "cell_type": "markdown",
      "source": [
        "Matris çarpımını elle yapabilirsiniz, ancak bu önerilmez.\n",
        "\n",
        "Yerleşik `torch.matmul()` metodu daha hızlıdır.\n"
      ],
      "metadata": {
        "id": "EADDMNLXrK6H"
      }
    },
    {
      "cell_type": "code",
      "source": [
        "%%time\n",
        "# 🟰 Elle Matris Çarpımı (Manuel Hesaplama)\n",
        "# ❗ For döngüleriyle işlem yapmaktan kaçının, çünkü hesaplama maliyeti yüksektir!\n",
        "\n",
        "value = 0\n",
        "for i in range(len(tensor)):\n",
        "    value += tensor[i] * tensor[i]\n",
        "\n",
        "# Sonucu yazdırma\n",
        "value"
      ],
      "metadata": {
        "colab": {
          "base_uri": "https://localhost:8080/"
        },
        "id": "4udTBTTLrLxk",
        "outputId": "9ae28312-02f6-4fc0-95de-f62ab5d7e3b1"
      },
      "execution_count": 36,
      "outputs": [
        {
          "output_type": "stream",
          "name": "stdout",
          "text": [
            "CPU times: user 2.99 ms, sys: 9 µs, total: 3 ms\n",
            "Wall time: 6.92 ms\n"
          ]
        },
        {
          "output_type": "execute_result",
          "data": {
            "text/plain": [
              "tensor(14)"
            ]
          },
          "metadata": {},
          "execution_count": 36
        }
      ]
    },
    {
      "cell_type": "code",
      "source": [
        "%%time\n",
        "# 🟰 Matris Çarpımı - PyTorch Yerleşik Fonksiyonu ile\n",
        "torch.matmul(tensor, tensor)"
      ],
      "metadata": {
        "colab": {
          "base_uri": "https://localhost:8080/"
        },
        "id": "Vt0gZJWwrZZR",
        "outputId": "fc4518dd-125d-4df9-938d-9bf66de73b44"
      },
      "execution_count": 37,
      "outputs": [
        {
          "output_type": "stream",
          "name": "stdout",
          "text": [
            "CPU times: user 70 µs, sys: 20 µs, total: 90 µs\n",
            "Wall time: 94.2 µs\n"
          ]
        },
        {
          "output_type": "execute_result",
          "data": {
            "text/plain": [
              "tensor(14)"
            ]
          },
          "metadata": {},
          "execution_count": 37
        }
      ]
    },
    {
      "cell_type": "markdown",
      "source": [
        "## Derin Öğrenmedeki En Yaygın Hatalardan Biri (Şekil Hataları)\n",
        "\n",
        "Çünkü derin öğrenmenin çoğu, matrisler üzerinde çarpma ve işlemler yapmaktan ibarettir ve matrislerin, hangi şekil ve boyutların birleştirilebileceği konusunda sıkı kuralları vardır, derin öğrenmede karşılaşabileceğiniz en yaygın hatalardan biri şekil uyumsuzluklarıdır.\n"
      ],
      "metadata": {
        "id": "m-miMQuorZIx"
      }
    },
    {
      "cell_type": "code",
      "source": [
        "# 🔢 İki tensör oluşturuluyor\n",
        "tensor_A = torch.tensor([[1, 2],\n",
        "                         [3, 4],\n",
        "                         [5, 6]], dtype=torch.float32)\n",
        "\n",
        "tensor_B = torch.tensor([[7, 10],\n",
        "                         [8, 11],\n",
        "                         [9, 12]], dtype=torch.float32)\n",
        "\n",
        "# 🟰 Matris çarpımı (Bu işlem hata verecek!)\n",
        "torch.matmul(tensor_A, tensor_B)"
      ],
      "metadata": {
        "colab": {
          "base_uri": "https://localhost:8080/",
          "height": 176
        },
        "id": "4TpXvTlCr5OC",
        "outputId": "2c7d2287-1eda-4d0f-beb7-1ce8d7fe1116"
      },
      "execution_count": 38,
      "outputs": [
        {
          "output_type": "error",
          "ename": "RuntimeError",
          "evalue": "mat1 and mat2 shapes cannot be multiplied (3x2 and 3x2)",
          "traceback": [
            "\u001b[0;31m---------------------------------------------------------------------------\u001b[0m",
            "\u001b[0;31mRuntimeError\u001b[0m                              Traceback (most recent call last)",
            "\u001b[0;32m<ipython-input-38-6839c54cdfcb>\u001b[0m in \u001b[0;36m<cell line: 0>\u001b[0;34m()\u001b[0m\n\u001b[1;32m      9\u001b[0m \u001b[0;34m\u001b[0m\u001b[0m\n\u001b[1;32m     10\u001b[0m \u001b[0;31m# 🟰 Matris çarpımı (Bu işlem hata verecek!)\u001b[0m\u001b[0;34m\u001b[0m\u001b[0;34m\u001b[0m\u001b[0m\n\u001b[0;32m---> 11\u001b[0;31m \u001b[0mtorch\u001b[0m\u001b[0;34m.\u001b[0m\u001b[0mmatmul\u001b[0m\u001b[0;34m(\u001b[0m\u001b[0mtensor_A\u001b[0m\u001b[0;34m,\u001b[0m \u001b[0mtensor_B\u001b[0m\u001b[0;34m)\u001b[0m\u001b[0;34m\u001b[0m\u001b[0;34m\u001b[0m\u001b[0m\n\u001b[0m",
            "\u001b[0;31mRuntimeError\u001b[0m: mat1 and mat2 shapes cannot be multiplied (3x2 and 3x2)"
          ]
        }
      ]
    },
    {
      "cell_type": "markdown",
      "source": [
        "`tensor_A` ve `tensor_B` arasındaki matris çarpımını iç boyutlarını eşleştirerek çalıştırabiliriz.\n",
        "\n",
        "Bunu yapmanın yollarından biri, **transpoz** işlemidir (verilen bir tensörün boyutlarını değiştirmek).\n",
        "\n",
        "PyTorch'ta transpoz işlemini şu şekilde gerçekleştirebilirsiniz:\n",
        "* `torch.transpose(input, dim0, dim1)` - burada `input` transpoze edilecek tensördür ve `dim0` ve `dim1` değiştirilmesi gereken boyutlardır.\n",
        "* `tensor.T` - burada `tensor` transpoze edilecek tensördür.\n",
        "\n",
        "Şimdi ikincisini deneyelim.\n"
      ],
      "metadata": {
        "id": "iMJImG1n2lyo"
      }
    },
    {
      "cell_type": "code",
      "source": [
        "# tensor_A ve tensor_B'yi görüntüle\n",
        "print(tensor_A)\n",
        "print(tensor_B)\n"
      ],
      "metadata": {
        "colab": {
          "base_uri": "https://localhost:8080/"
        },
        "id": "WoTIHTeQsXMp",
        "outputId": "4d8b76b8-c495-41bf-d754-f0f753e1f006"
      },
      "execution_count": 39,
      "outputs": [
        {
          "output_type": "stream",
          "name": "stdout",
          "text": [
            "tensor([[1., 2.],\n",
            "        [3., 4.],\n",
            "        [5., 6.]])\n",
            "tensor([[ 7., 10.],\n",
            "        [ 8., 11.],\n",
            "        [ 9., 12.]])\n"
          ]
        }
      ]
    },
    {
      "cell_type": "code",
      "source": [
        "# tensor_A ve tensor_B.T'yi görüntüle\n",
        "print(tensor_A)\n",
        "print(tensor_B.T)\n"
      ],
      "metadata": {
        "colab": {
          "base_uri": "https://localhost:8080/"
        },
        "id": "a3tbwyIKsb8T",
        "outputId": "39fb1d90-620f-43ce-9f3d-dca03a2f0703"
      },
      "execution_count": 40,
      "outputs": [
        {
          "output_type": "stream",
          "name": "stdout",
          "text": [
            "tensor([[1., 2.],\n",
            "        [3., 4.],\n",
            "        [5., 6.]])\n",
            "tensor([[ 7.,  8.,  9.],\n",
            "        [10., 11., 12.]])\n"
          ]
        }
      ]
    },
    {
      "cell_type": "code",
      "source": [
        "# tensor_B transpozu alındığında işlem çalışır\n",
        "print(f\"Original shapes: tensor_A = {tensor_A.shape}, tensor_B = {tensor_B.shape}\\n\")\n",
        "print(f\"New shapes: tensor_A = {tensor_A.shape} (same as above), tensor_B.T = {tensor_B.T.shape}\\n\")\n",
        "print(f\"Multiplying: {tensor_A.shape} * {tensor_B.T.shape} <- inner dimensions match\\n\")\n",
        "print(\"Output:\\n\")\n",
        "\n",
        "# Matris çarpımını yap\n",
        "output = torch.matmul(tensor_A, tensor_B.T)\n",
        "print(output)\n",
        "print(f\"\\nOutput shape: {output.shape}\")\n"
      ],
      "metadata": {
        "colab": {
          "base_uri": "https://localhost:8080/"
        },
        "id": "upDoZfRrsirc",
        "outputId": "25c9db22-60a7-4e14-f57b-ff9762b8a8f0"
      },
      "execution_count": 41,
      "outputs": [
        {
          "output_type": "stream",
          "name": "stdout",
          "text": [
            "Original shapes: tensor_A = torch.Size([3, 2]), tensor_B = torch.Size([3, 2])\n",
            "\n",
            "New shapes: tensor_A = torch.Size([3, 2]) (same as above), tensor_B.T = torch.Size([2, 3])\n",
            "\n",
            "Multiplying: torch.Size([3, 2]) * torch.Size([2, 3]) <- inner dimensions match\n",
            "\n",
            "Output:\n",
            "\n",
            "tensor([[ 27.,  30.,  33.],\n",
            "        [ 61.,  68.,  75.],\n",
            "        [ 95., 106., 117.]])\n",
            "\n",
            "Output shape: torch.Size([3, 3])\n"
          ]
        }
      ]
    },
    {
      "cell_type": "markdown",
      "source": [
        "Ayrıca `torch.mm()` fonksiyonunu da kullanabilirsiniz, bu fonksiyon `torch.matmul()`'ın kısaltmasıdır.\n"
      ],
      "metadata": {
        "id": "5TGWnw0IsqM2"
      }
    },
    {
      "cell_type": "code",
      "source": [
        "# torch.mm, matmul için bir kısaltmadır\n",
        "torch.mm(tensor_A, tensor_B.T)\n"
      ],
      "metadata": {
        "colab": {
          "base_uri": "https://localhost:8080/"
        },
        "id": "57DvtpxNsrlw",
        "outputId": "4269bf58-4d2e-4421-cc58-ff7cde548543"
      },
      "execution_count": 42,
      "outputs": [
        {
          "output_type": "execute_result",
          "data": {
            "text/plain": [
              "tensor([[ 27.,  30.,  33.],\n",
              "        [ 61.,  68.,  75.],\n",
              "        [ 95., 106., 117.]])"
            ]
          },
          "metadata": {},
          "execution_count": 42
        }
      ]
    },
    {
      "cell_type": "markdown",
      "source": [
        "Transpoz işlemi yapılmadan, matris çarpımı kuralları yerine getirilmediği için yukarıdaki gibi bir hata alırız.\n",
        "\n",
        "Peki ya bir görsel?\n",
        "\n",
        "![Matris çarpımının görsel demosu](https://github.com/mrdbourke/pytorch-deep-learning/raw/main/images/00-matrix-multiply-crop.gif)\n",
        "\n",
        "Kendi matris çarpımı görsellerinizi şu adreste oluşturabilirsiniz: [http://matrixmultiplication.xyz/](http://matrixmultiplication.xyz/).\n",
        "\n",
        "> **Not:** Bu tür bir matris çarpımı, iki matrisin [**nokta çarpımı**](https://www.mathsisfun.com/algebra/vectors-dot-product.html) olarak da adlandırılır.\n"
      ],
      "metadata": {
        "id": "VfaQf7fSsbrn"
      }
    },
    {
      "cell_type": "markdown",
      "source": [
        "Sinir ağları, matris çarpımları ve nokta çarpımları ile doludur.\n",
        "\n",
        "[`torch.nn.Linear()`](https://pytorch.org/docs/1.9.1/generated/torch.nn.Linear.html) modülü (bunu daha sonra pratikte göreceğiz), aynı zamanda bir ileri besleme katmanı veya tam bağlı katman olarak bilinir, bir giriş `x` ile bir ağırlık matrisi `A` arasında matris çarpımı uygular.\n",
        "\n",
        "$$\n",
        "y = x\\cdot{A^T} + b\n",
        "$$\n",
        "\n",
        "Burada:\n",
        "* `x` katmanın girişi (derin öğrenme, `torch.nn.Linear()` gibi katmanların birbirinin üzerine yığıldığı bir yapıdır).\n",
        "* `A` katman tarafından oluşturulan ağırlık matrisidir, başlangıçta rastgele sayılarla başlar ve bir sinir ağı, verilerdeki desenleri daha iyi temsil edecek şekilde bunları ayarladıkça değiştirilir (buradaki \"`T`\", çünkü ağırlık matrisi transpoze edilir).\n",
        "  * **Not:** Ağırlık matrisini göstermek için genellikle `W` veya `X` gibi başka harfler de kullanılır.\n",
        "* `b` ağırlıkları ve girişleri biraz kaydırmak için kullanılan bias terimidir.\n",
        "* `y` çıktıdır (girişin bir manipülasyonu, bununla verilerdeki desenleri keşfetmeye çalışılır).\n",
        "\n",
        "Bu, bir doğrusal fonksiyondur (lisede veya başka bir yerde $y = mx+b$ gibi bir şey görmüş olabilirsiniz), ve bir doğru çizmeyi sağlar!\n",
        "\n",
        "Şimdi doğrusal bir katman ile oynayalım.\n",
        "\n",
        "Aşağıdaki `in_features` ve `out_features` değerlerini değiştirin ve ne olduğunu görün.\n",
        "\n",
        "Şekillerle ilgili bir şey fark ettiniz mi?\n"
      ],
      "metadata": {
        "id": "zCPC4Kf1tCGL"
      }
    },
    {
      "cell_type": "code",
      "source": [
        "# 🔢 Rasgele ağırlıklar matrisinin tekrarlanabilir olmasını sağlamak için manuel tohum belirleme\n",
        "torch.manual_seed(42)\n",
        "\n",
        "# 🟰 Doğrusal katmanı oluşturma\n",
        "linear = torch.nn.Linear(in_features=2,  # in_features = girişin iç boyutuyla uyumlu\n",
        "                         out_features=6)  # out_features = dış boyutunu tanımlar\n",
        "\n",
        "# 🧑‍💻 Giriş tensörünü tanımlama\n",
        "x = tensor_A\n",
        "\n",
        "# 🔄 Çıkışı hesaplama\n",
        "output = linear(x)\n",
        "\n",
        "# Sonuçları yazdırma\n",
        "print(f\"Giriş şekli: {x.shape}\\n\")\n",
        "print(f\"Çıktı:\\n{output}\\n\\nÇıktı şekli: {output.shape}\")"
      ],
      "metadata": {
        "colab": {
          "base_uri": "https://localhost:8080/"
        },
        "id": "7Q3ZnTQRs_rm",
        "outputId": "bfdf88cb-020b-4d90-f4fc-90d1ac615687"
      },
      "execution_count": 43,
      "outputs": [
        {
          "output_type": "stream",
          "name": "stdout",
          "text": [
            "Giriş şekli: torch.Size([3, 2])\n",
            "\n",
            "Çıktı:\n",
            "tensor([[2.2368, 1.2292, 0.4714, 0.3864, 0.1309, 0.9838],\n",
            "        [4.4919, 2.1970, 0.4469, 0.5285, 0.3401, 2.4777],\n",
            "        [6.7469, 3.1648, 0.4224, 0.6705, 0.5493, 3.9716]],\n",
            "       grad_fn=<AddmmBackward0>)\n",
            "\n",
            "Çıktı şekli: torch.Size([3, 6])\n"
          ]
        }
      ]
    },
    {
      "cell_type": "markdown",
      "source": [
        "> **Soru:** Yukarıda `in_features` değerini 2'den 3'e değiştirirseniz ne olur? Bir hata alır mısınız? Girişi (`x`) hataya uyacak şekilde nasıl değiştirebilirsiniz? İpucu: Yukarıda `tensor_B` ile ne yapmamız gerektiğini hatırlayın.\n"
      ],
      "metadata": {
        "id": "-eSn9Pj9ti3x"
      }
    },
    {
      "cell_type": "markdown",
      "source": [
        "Eğer daha önce yapmadıysanız, matris çarpımı başlangıçta kafa karıştırıcı bir konu olabilir.\n",
        "\n",
        "Ama birkaç kez üzerinde oynayıp, hatta bazı sinir ağlarını açıp inceledikten sonra, her yerde olduğunu fark edeceksiniz.\n",
        "\n",
        "Unutmayın, matris çarpımı tek ihtiyacınız olan şey.\n",
        "\n",
        "![Matris çarpımı tek ihtiyacınız olan şey](https://raw.githubusercontent.com/mrdbourke/pytorch-deep-learning/main/images/00_matrix_multiplication_is_all_you_need.jpeg)\n",
        "\n",
        "*Sinir ağı katmanlarına girmeye başladığınızda ve kendi katmanlarınızı inşa ettiğinizde, matris çarpımlarını her yerde bulacaksınız. **Kaynak:** https://marksaroufim.substack.com/p/working-class-deep-learner*\n"
      ],
      "metadata": {
        "id": "c3SB56yPtkfx"
      }
    },
    {
      "cell_type": "markdown",
      "source": [
        "### Min, max, mean, sum gibi işlemlerle toplama (aggregation)\n",
        "\n",
        "Şimdi tensörleri nasıl manipüle edebileceğimizi gördük, şimdi de bunları **toplayarak** (daha fazla değerden daha az değere) nasıl işlem yapabileceğimizi görelim.\n",
        "\n",
        "Önce bir tensör oluşturacağız ve ardından bu tensörün **max**, **min**, **mean** ve **sum** gibi değerlerini bulacağız.\n",
        "\n"
      ],
      "metadata": {
        "id": "zb7i2MHxtwt4"
      }
    },
    {
      "cell_type": "code",
      "source": [
        "# 🔢 Bir tensör oluşturma\n",
        "x = torch.arange(0, 100, 10)\n",
        "print(x)"
      ],
      "metadata": {
        "colab": {
          "base_uri": "https://localhost:8080/"
        },
        "id": "lSE8auantx2q",
        "outputId": "f73100c6-9d05-4740-ee7e-6693d2c334db"
      },
      "execution_count": 44,
      "outputs": [
        {
          "output_type": "stream",
          "name": "stdout",
          "text": [
            "tensor([ 0, 10, 20, 30, 40, 50, 60, 70, 80, 90])\n"
          ]
        }
      ]
    },
    {
      "cell_type": "markdown",
      "source": [
        "Now let's perform some aggregation."
      ],
      "metadata": {
        "id": "P4zW97oSt8ct"
      }
    },
    {
      "cell_type": "code",
      "source": [
        "# Minimum değeri yazdırma\n",
        "print(f\"Minimum: {x.min()}\")\n",
        "\n",
        "# Maksimum değeri yazdırma\n",
        "print(f\"Maximum: {x.max()}\")\n",
        "\n",
        "# Ortalamayı yazdırma (Hata alır çünkü integer tensörde mean kullanılamaz)\n",
        "# print(f\"Mean: {x.mean()}\") # Bu hata verir\n",
        "\n",
        "# Ortalamayı doğru şekilde yazdırma (float32 veri tipi ile)\n",
        "print(f\"Mean: {x.type(torch.float32).mean()}\") # float32 veri tipi ile çalışır\n",
        "\n",
        "# Toplam değeri yazdırma\n",
        "print(f\"Sum: {x.sum()}\")"
      ],
      "metadata": {
        "colab": {
          "base_uri": "https://localhost:8080/"
        },
        "id": "i3EmMTbst9C1",
        "outputId": "b8e4803f-9866-4d28-eb2a-122647d26ca2"
      },
      "execution_count": 45,
      "outputs": [
        {
          "output_type": "stream",
          "name": "stdout",
          "text": [
            "Minimum: 0\n",
            "Maximum: 90\n",
            "Mean: 45.0\n",
            "Sum: 450\n"
          ]
        }
      ]
    },
    {
      "cell_type": "markdown",
      "source": [
        "> **Not:**  \n",
        "> Bazı yöntemlerin, örneğin **`torch.mean()`**, tensörlerin **`torch.float32`** (en yaygın) veya başka bir özel veri tipinde olmasını gerektirdiğini görebilirsiniz, aksi takdirde işlem başarısız olur.\n",
        "\n",
        "Aşağıda yapmış olduğumuz işlemi **`torch`** yöntemleriyle de gerçekleştirebilirsiniz.\n"
      ],
      "metadata": {
        "id": "TzqcSufIujOw"
      }
    },
    {
      "cell_type": "code",
      "source": [
        "torch.max(x), torch.min(x), torch.mean(x.type(torch.float32)), torch.sum(x)"
      ],
      "metadata": {
        "colab": {
          "base_uri": "https://localhost:8080/"
        },
        "id": "ZBdB3deKuj4K",
        "outputId": "e49354c9-5918-40d3-d29e-017165ebda1e"
      },
      "execution_count": 46,
      "outputs": [
        {
          "output_type": "execute_result",
          "data": {
            "text/plain": [
              "(tensor(90), tensor(0), tensor(45.), tensor(450))"
            ]
          },
          "metadata": {},
          "execution_count": 46
        }
      ]
    },
    {
      "cell_type": "markdown",
      "source": [
        "### **Pozisyonel Min/Max**\n",
        "\n",
        "Bir tensörde maksimum veya minimum değerin bulunduğu **indeksi** bulmak için sırasıyla **`torch.argmax()`** ve **`torch.argmin()`** fonksiyonlarını kullanabilirsiniz.\n",
        "\n",
        "Bu, **en yüksek (veya en düşük) değerin** pozisyonunu bilmek istediğinizde faydalıdır, ancak **değerin kendisini** değil. (Bunu, [softmax aktivasyon fonksiyonunu](https://pytorch.org/docs/stable/generated/torch.nn.Softmax.html) kullandığımız ilerleyen bölümlerde göreceğiz).\n"
      ],
      "metadata": {
        "id": "hUYhsUrCuvn3"
      }
    },
    {
      "cell_type": "code",
      "source": [
        "# 🔢 Tensör oluşturma\n",
        "tensor = torch.arange(10, 100, 10)\n",
        "print(f\"Tensör: {tensor}\")\n",
        "\n",
        "# Maksimum ve minimum değerlerin indekslerini döndürme\n",
        "print(f\"Max değerin bulunduğu indeks: {tensor.argmax()}\")\n",
        "print(f\"Min değerin bulunduğu indeks: {tensor.argmin()}\")\n"
      ],
      "metadata": {
        "colab": {
          "base_uri": "https://localhost:8080/"
        },
        "id": "aEcJ39qlu0V3",
        "outputId": "2ea86a5a-2e9c-46a0-ceee-9f13c75083bb"
      },
      "execution_count": 47,
      "outputs": [
        {
          "output_type": "stream",
          "name": "stdout",
          "text": [
            "Tensör: tensor([10, 20, 30, 40, 50, 60, 70, 80, 90])\n",
            "Max değerin bulunduğu indeks: 8\n",
            "Min değerin bulunduğu indeks: 0\n"
          ]
        }
      ]
    },
    {
      "cell_type": "markdown",
      "source": [
        "### Tensör Veri Türünü Değiştirme\n",
        "\n",
        "Daha önce belirtildiği gibi, derin öğrenme işlemleriyle ilgili yaygın bir sorun, tensörlerin farklı veri türlerinde olmasıdır.\n",
        "\n",
        "Bir tensör `torch.float64` türünde, diğer tensör ise `torch.float32` türünde olduğunda bazı hatalarla karşılaşabilirsiniz.\n",
        "\n",
        "Ama bunun bir çözümü var.\n",
        "\n",
        "Tensörlerin veri türlerini, [`torch.Tensor.type(dtype=None)`](https://pytorch.org/docs/stable/generated/torch.Tensor.type.html) fonksiyonu ile değiştirebilirsiniz. Burada `dtype` parametresi, kullanmak istediğiniz veri türüdür.\n",
        "\n",
        "İlk olarak bir tensör oluşturacağız ve veri türünü kontrol edeceğiz (varsayılan `torch.float32`'dir).\n"
      ],
      "metadata": {
        "id": "kuxaVo3yvC5x"
      }
    },
    {
      "cell_type": "code",
      "source": [
        "# 🔢 Tensör oluşturma ve veri tipini kontrol etme\n",
        "tensor = torch.arange(10., 100., 10.)\n",
        "print(tensor.dtype)\n"
      ],
      "metadata": {
        "colab": {
          "base_uri": "https://localhost:8080/"
        },
        "id": "Ii-GL0u4vChl",
        "outputId": "a7b2b7c0-68f5-4cc7-b03c-beedcb3938b7"
      },
      "execution_count": 48,
      "outputs": [
        {
          "output_type": "stream",
          "name": "stdout",
          "text": [
            "torch.float32\n"
          ]
        }
      ]
    },
    {
      "cell_type": "markdown",
      "source": [
        "Şimdi, daha önce oluşturduğumuz gibi başka bir tensör oluşturacağız ama bu sefer veri türünü `torch.float16` olarak değiştireceğiz.\n"
      ],
      "metadata": {
        "id": "gvH5fe_vvOPM"
      }
    },
    {
      "cell_type": "code",
      "source": [
        "# 🔢 float16 veri tipiyle bir tensör oluşturma\n",
        "tensor_float16 = tensor.type(torch.float16)\n",
        "print(tensor_float16)\n"
      ],
      "metadata": {
        "colab": {
          "base_uri": "https://localhost:8080/"
        },
        "id": "nTTsfJB4vOv1",
        "outputId": "3b244d81-4c02-4347-bb3c-8f994a45263c"
      },
      "execution_count": 49,
      "outputs": [
        {
          "output_type": "stream",
          "name": "stdout",
          "text": [
            "tensor([10., 20., 30., 40., 50., 60., 70., 80., 90.], dtype=torch.float16)\n"
          ]
        }
      ]
    },
    {
      "cell_type": "markdown",
      "source": [
        "Ve benzer şekilde, bir **`torch.int8`** tensörü oluşturmak için aynı işlemi yapabiliriz.\n"
      ],
      "metadata": {
        "id": "A2xPbEG0vY5j"
      }
    },
    {
      "cell_type": "code",
      "source": [
        "# 🔢 int8 veri tipiyle bir tensör oluşturma\n",
        "tensor_int8 = tensor.type(torch.int8)\n",
        "print(tensor_int8)\n"
      ],
      "metadata": {
        "id": "FhdgZJJwvZvi",
        "colab": {
          "base_uri": "https://localhost:8080/"
        },
        "outputId": "1ec9ab15-7def-4def-c103-723553cb8883"
      },
      "execution_count": 50,
      "outputs": [
        {
          "output_type": "stream",
          "name": "stdout",
          "text": [
            "tensor([10, 20, 30, 40, 50, 60, 70, 80, 90], dtype=torch.int8)\n"
          ]
        }
      ]
    },
    {
      "cell_type": "markdown",
      "source": [
        "> **Not:** Farklı veri türleri başlangıçta kafa karıştırıcı olabilir. Ama şöyle düşünün, sayının değeri ne kadar küçükse (örneğin 32, 16, 8), bilgisayar o değeri o kadar az hassasiyetle depolar. Ve daha az depolama ile bu genellikle daha hızlı hesaplamalar ve daha küçük bir modelle sonuçlanır. Mobil tabanlı sinir ağları genellikle 8-bit tam sayılarla çalışır, daha küçük ve daha hızlı çalıştırılırlar ancak float32 karşılıklarına göre daha az doğrudur. Bununla ilgili daha fazla bilgi için [hesaplama hassasiyeti](https://en.wikipedia.org/wiki/Precision_(computer_science)) hakkında okuyabilirsiniz.\n",
        "\n",
        "> **Egzersiz:** Şu ana kadar bir dizi tensör metodunu inceledik, ancak [`torch.Tensor` belgesinde](https://pytorch.org/docs/stable/tensors.html) daha bir sürü metod bulunuyor. 10 dakika boyunca belgenin içinde gezinip ilgini çekenleri incelemeni tavsiye ederim. Onlara tıklayarak ve kodla kendin yazıp ne olduğunu görmek oldukça öğretici olacaktır.\n"
      ],
      "metadata": {
        "id": "PhcIxnQZvimz"
      }
    },
    {
      "cell_type": "markdown",
      "source": [
        "### Yeniden Şekillendirme, Yığınlama, Sıkıştırma ve Unsıkıştırma\n",
        "\n",
        "Çoğu zaman, tensörlerin içinde değerleri değiştirmeden yalnızca boyutlarını değiştirmek istersiniz.\n",
        "\n",
        "Bunu yapmak için bazı popüler yöntemler şunlardır:\n",
        "\n",
        "| Yöntem | Kısa açıklama |\n",
        "| ----- | ----- |\n",
        "| [`torch.reshape(input, shape)`](https://pytorch.org/docs/stable/generated/torch.reshape.html#torch.reshape) | `input`'ı uyumluysa `shape`'a yeniden şekillendirir, `torch.Tensor.reshape()` da kullanılabilir. |\n",
        "| [`Tensor.view(shape)`](https://pytorch.org/docs/stable/generated/torch.Tensor.view.html) | Orijinal tensörün yeni bir `shape`'te görünümünü döndürür ancak orijinal tensörle aynı veriyi paylaşır. |\n",
        "| [`torch.stack(tensors, dim=0)`](https://pytorch.org/docs/1.9.1/generated/torch.stack.html) | Bir dizi `tensors`'ı yeni bir boyut (`dim`) boyunca birleştirir, tüm `tensors` aynı boyutta olmalıdır. |\n",
        "| [`torch.squeeze(input)`](https://pytorch.org/docs/stable/generated/torch.squeeze.html) | `input`'ı sıkıştırarak değeri `1` olan tüm boyutları kaldırır. |\n",
        "| [`torch.unsqueeze(input, dim)`](https://pytorch.org/docs/1.9.1/generated/torch.unsqueeze.html) | `input`'ı, `dim` boyutunda değeri `1` olan bir boyut ekleyerek döndürür. |\n",
        "| [`torch.permute(input, dims)`](https://pytorch.org/docs/stable/generated/torch.permute.html) | Orijinal `input`'ın bir *görünümünü* döndürür, boyutları `dims`'e göre düzenlenmiştir. |\n",
        "\n",
        "Peki neden bunları yapalım?\n",
        "\n",
        "Çünkü derin öğrenme modelleri (sinir ağları) her yönüyle tensörleri manipüle etmekle ilgilidir. Ve matris çarpımı kuralları nedeniyle, eğer şekil uyumsuzlukları varsa, hatalarla karşılaşırsınız. Bu yöntemler, tensörlerinizin doğru elemanlarının, diğer tensörlerle doğru elemanlarla karışmasını sağlamanıza yardımcı olur.\n",
        "\n",
        "Şimdi bunları deneyelim.\n",
        "\n",
        "İlk olarak bir tensör oluşturalım.\n"
      ],
      "metadata": {
        "id": "T6K8WWVmvwBU"
      }
    },
    {
      "cell_type": "code",
      "source": [
        "# Tensör Oluşturma\n",
        "import torch\n",
        "x = torch.arange(1., 8.)\n",
        "x, x.shape\n"
      ],
      "metadata": {
        "colab": {
          "base_uri": "https://localhost:8080/"
        },
        "id": "ZBhQT02gvjpf",
        "outputId": "afe33d36-3b3c-4965-a04e-9f502978e932"
      },
      "execution_count": 51,
      "outputs": [
        {
          "output_type": "execute_result",
          "data": {
            "text/plain": [
              "(tensor([1., 2., 3., 4., 5., 6., 7.]), torch.Size([7]))"
            ]
          },
          "metadata": {},
          "execution_count": 51
        }
      ]
    },
    {
      "cell_type": "markdown",
      "source": [
        "Şimdi **`torch.reshape()`** ile ekstra bir boyut ekleyelim.\n"
      ],
      "metadata": {
        "id": "BNyV67IOwAaD"
      }
    },
    {
      "cell_type": "code",
      "source": [
        "# Ekstra bir boyut ekleme\n",
        "x_reshaped = x.reshape(1, 7)\n",
        "x_reshaped, x_reshaped.shape\n"
      ],
      "metadata": {
        "colab": {
          "base_uri": "https://localhost:8080/"
        },
        "id": "tbBhfHfYwBZ_",
        "outputId": "f624000f-3210-4623-feea-4dd65bea3939"
      },
      "execution_count": 52,
      "outputs": [
        {
          "output_type": "execute_result",
          "data": {
            "text/plain": [
              "(tensor([[1., 2., 3., 4., 5., 6., 7.]]), torch.Size([1, 7]))"
            ]
          },
          "metadata": {},
          "execution_count": 52
        }
      ]
    },
    {
      "cell_type": "markdown",
      "source": [
        "Ayrıca görünümü **`torch.view()`** ile değiştirebiliriz.\n"
      ],
      "metadata": {
        "id": "ocWzkKMpwSsQ"
      }
    },
    {
      "cell_type": "code",
      "source": [
        "# Görünümü değiştir (aynı veriyi korur ancak görünümü değiştirir)\n",
        "# Daha fazla bilgi: https://stackoverflow.com/a/54507446/7900723\n",
        "z = x.view(1, 7)\n",
        "z, z.shape\n"
      ],
      "metadata": {
        "colab": {
          "base_uri": "https://localhost:8080/"
        },
        "id": "m6PUtz_bwTnv",
        "outputId": "559a0e90-998c-42ed-f9bc-fd3f1ad07de1"
      },
      "execution_count": 53,
      "outputs": [
        {
          "output_type": "execute_result",
          "data": {
            "text/plain": [
              "(tensor([[1., 2., 3., 4., 5., 6., 7.]]), torch.Size([1, 7]))"
            ]
          },
          "metadata": {},
          "execution_count": 53
        }
      ]
    },
    {
      "cell_type": "markdown",
      "source": [
        "Ancak unutmayın, **`torch.view()`** ile bir tensörün görünümünü değiştirmek, aslında **aynı** tensörün yeni bir görünümünü oluşturur.\n",
        "\n",
        "Yani görünümü değiştirmek, orijinal tensörü de değiştirir.\n"
      ],
      "metadata": {
        "id": "w2SiGS8rwYlU"
      }
    },
    {
      "cell_type": "code",
      "source": [
        "# z'yi değiştirmek x'i de değiştirir\n",
        "z[:, 0] = 5\n",
        "z, x\n"
      ],
      "metadata": {
        "colab": {
          "base_uri": "https://localhost:8080/"
        },
        "id": "vO3W1BmowdrG",
        "outputId": "e91659c1-2411-4129-f9ea-c8394f9100e5"
      },
      "execution_count": 54,
      "outputs": [
        {
          "output_type": "execute_result",
          "data": {
            "text/plain": [
              "(tensor([[5., 2., 3., 4., 5., 6., 7.]]), tensor([5., 2., 3., 4., 5., 6., 7.]))"
            ]
          },
          "metadata": {},
          "execution_count": 54
        }
      ]
    },
    {
      "cell_type": "markdown",
      "source": [
        "Eğer yeni tensörümüzü kendisinin üzerine beş kez yığmak istersek, bunu **`torch.stack()`** ile yapabiliriz.\n"
      ],
      "metadata": {
        "id": "Hz8iFuB7wtQn"
      }
    },
    {
      "cell_type": "code",
      "source": [
        "# Tensörleri üst üste yığma\n",
        "x_stacked = torch.stack([x, x, x, x], dim=0) # dim'i dim=1 olarak değiştirip ne olduğunu görün\n",
        "x_stacked\n"
      ],
      "metadata": {
        "colab": {
          "base_uri": "https://localhost:8080/"
        },
        "id": "k1MQI6Wvwt6E",
        "outputId": "e36d15e5-664b-4b82-99d6-0976102b7b1f"
      },
      "execution_count": 55,
      "outputs": [
        {
          "output_type": "execute_result",
          "data": {
            "text/plain": [
              "tensor([[5., 2., 3., 4., 5., 6., 7.],\n",
              "        [5., 2., 3., 4., 5., 6., 7.],\n",
              "        [5., 2., 3., 4., 5., 6., 7.],\n",
              "        [5., 2., 3., 4., 5., 6., 7.]])"
            ]
          },
          "metadata": {},
          "execution_count": 55
        }
      ]
    },
    {
      "cell_type": "markdown",
      "source": [
        "Ya bir tensörden tüm tek boyutları (single dimensions) kaldırmak istersek?\n",
        "\n",
        "Bunu yapmak için **`torch.squeeze()`** kullanabilirsiniz (ben bunu, tensörü sadece 1'den büyük boyutlara sahip olacak şekilde **sıkıştırmak** olarak hatırlıyorum).\n"
      ],
      "metadata": {
        "id": "-d41TZh1w9w1"
      }
    },
    {
      "cell_type": "code",
      "source": [
        "print(f\"Önceki tensör: {x_reshaped}\")\n",
        "print(f\"Önceki şekil: {x_reshaped.shape}\")\n",
        "\n",
        "# x_reshaped'ten ekstra boyutu kaldırma\n",
        "x_squeezed = x_reshaped.squeeze()\n",
        "print(f\"\\nYeni tensör: {x_squeezed}\")\n",
        "print(f\"Yeni şekil: {x_squeezed.shape}\")\n"
      ],
      "metadata": {
        "colab": {
          "base_uri": "https://localhost:8080/"
        },
        "id": "OfKb1E75w-Xk",
        "outputId": "ab91ccbb-05fc-42fc-872a-f8c092041484"
      },
      "execution_count": 56,
      "outputs": [
        {
          "output_type": "stream",
          "name": "stdout",
          "text": [
            "Önceki tensör: tensor([[5., 2., 3., 4., 5., 6., 7.]])\n",
            "Önceki şekil: torch.Size([1, 7])\n",
            "\n",
            "Yeni tensör: tensor([5., 2., 3., 4., 5., 6., 7.])\n",
            "Yeni şekil: torch.Size([7])\n"
          ]
        }
      ]
    },
    {
      "cell_type": "markdown",
      "source": [
        "Ve **`torch.squeeze()`**'in tersini yapmak için, belirli bir indekste **1** değeri eklemek için **`torch.unsqueeze()`** kullanabilirsiniz.\n"
      ],
      "metadata": {
        "id": "1ZJ25JS2xG-p"
      }
    },
    {
      "cell_type": "code",
      "source": [
        "print(f\"Önceki tensör: {x_squeezed}\")\n",
        "print(f\"Önceki şekil: {x_squeezed.shape}\")\n",
        "\n",
        "## unsqueeze ile ekstra bir boyut ekleyin\n",
        "x_unsqueezed = x_squeezed.unsqueeze(dim=0)\n",
        "print(f\"\\nYeni tensör: {x_unsqueezed}\")\n",
        "print(f\"Yeni şekil: {x_unsqueezed.shape}\")\n"
      ],
      "metadata": {
        "id": "qq3LbsW4xHk5",
        "colab": {
          "base_uri": "https://localhost:8080/"
        },
        "outputId": "a4b4b762-e23c-4522-84a9-321e097bfc69"
      },
      "execution_count": 57,
      "outputs": [
        {
          "output_type": "stream",
          "name": "stdout",
          "text": [
            "Önceki tensör: tensor([5., 2., 3., 4., 5., 6., 7.])\n",
            "Önceki şekil: torch.Size([7])\n",
            "\n",
            "Yeni tensör: tensor([[5., 2., 3., 4., 5., 6., 7.]])\n",
            "Yeni şekil: torch.Size([1, 7])\n"
          ]
        }
      ]
    },
    {
      "cell_type": "markdown",
      "source": [
        "Ayrıca **`torch.permute(input, dims)`** ile eksen değerlerinin sırasını yeniden düzenleyebilirsiniz; burada **`input`**, yeni **`dims`** ile bir *görünüm* haline gelir.\n"
      ],
      "metadata": {
        "id": "IMBoef0axRTk"
      }
    },
    {
      "cell_type": "code",
      "source": [
        "# Belirli bir şekle sahip tensör oluşturma\n",
        "x_original = torch.rand(size=(224, 224, 3))\n",
        "\n",
        "# Orijinal tensörü eksen sırasını yeniden düzenlemek için permute etme\n",
        "x_permuted = x_original.permute(2, 0, 1) # eksenleri 0->1, 1->2, 2->0 şeklinde kaydırır\n",
        "\n",
        "print(f\"Önceki şekil: {x_original.shape}\")\n",
        "print(f\"Yeni şekil: {x_permuted.shape}\")\n"
      ],
      "metadata": {
        "id": "Zk9WYjFtxSCy",
        "colab": {
          "base_uri": "https://localhost:8080/"
        },
        "outputId": "6b9475a0-cc16-47e2-aaf5-96558d6cb6d9"
      },
      "execution_count": 58,
      "outputs": [
        {
          "output_type": "stream",
          "name": "stdout",
          "text": [
            "Önceki şekil: torch.Size([224, 224, 3])\n",
            "Yeni şekil: torch.Size([3, 224, 224])\n"
          ]
        }
      ]
    },
    {
      "cell_type": "markdown",
      "source": [
        "> **Not:**  \n",
        "> Çünkü **`permute()`** bir *görünüm* döndürür (orijinal ile aynı veriyi paylaşır), permütelenmiş tensördeki değerler, orijinal tensörle aynı olacaktır ve eğer görünümdeki değerleri değiştirirseniz, bu orijinal tensörün değerlerini de değiştirir.\n"
      ],
      "metadata": {
        "id": "33UNUvajxaOb"
      }
    },
    {
      "cell_type": "markdown",
      "source": [
        "## İndeksleme (Tensörlerden veri seçme)\n",
        "\n",
        "Bazen tensörlerden belirli verileri seçmek isteyebilirsiniz (örneğin, sadece ilk sütun veya ikinci satır gibi).\n",
        "\n",
        "Bunu yapmak için indeksleme kullanabilirsiniz.\n",
        "\n",
        "Eğer Python listelerinde veya NumPy dizilerinde indeksleme yaptıysanız, PyTorch'ta tensörlerle indeksleme yapmak oldukça benzer.\n"
      ],
      "metadata": {
        "id": "4pquuNWDxe_2"
      }
    },
    {
      "cell_type": "code",
      "source": [
        "# Tensör oluşturma\n",
        "import torch\n",
        "x = torch.arange(1, 10).reshape(1, 3, 3)\n",
        "x, x.shape\n"
      ],
      "metadata": {
        "id": "LJN2guVyxf96",
        "colab": {
          "base_uri": "https://localhost:8080/"
        },
        "outputId": "65af92f0-5692-4fb4-9811-2b742fac5264"
      },
      "execution_count": 59,
      "outputs": [
        {
          "output_type": "execute_result",
          "data": {
            "text/plain": [
              "(tensor([[[1, 2, 3],\n",
              "          [4, 5, 6],\n",
              "          [7, 8, 9]]]),\n",
              " torch.Size([1, 3, 3]))"
            ]
          },
          "metadata": {},
          "execution_count": 59
        }
      ]
    },
    {
      "cell_type": "markdown",
      "source": [
        "İndeksleme işlemi dış boyuttan iç boyuta doğru yapılır (kare parantezlere göz atın).\n"
      ],
      "metadata": {
        "id": "_tDKNCaExxrE"
      }
    },
    {
      "cell_type": "code",
      "source": [
        "# Hadi, parantez parantez indeksleyelim\n",
        "print(f\"İlk kare parantez:\\n{x[0]}\")\n",
        "print(f\"İkinci kare parantez: {x[0][0]}\")\n",
        "print(f\"Üçüncü kare parantez: {x[0][0][0]}\")\n"
      ],
      "metadata": {
        "id": "WUDQjSA9xydt",
        "colab": {
          "base_uri": "https://localhost:8080/"
        },
        "outputId": "bc1e2644-0c3e-472c-fbcd-e17cea72a468"
      },
      "execution_count": 60,
      "outputs": [
        {
          "output_type": "stream",
          "name": "stdout",
          "text": [
            "İlk kare parantez:\n",
            "tensor([[1, 2, 3],\n",
            "        [4, 5, 6],\n",
            "        [7, 8, 9]])\n",
            "İkinci kare parantez: tensor([1, 2, 3])\n",
            "Üçüncü kare parantez: 1\n"
          ]
        }
      ]
    },
    {
      "cell_type": "markdown",
      "source": [
        "Ayrıca **`:`** kullanarak \"bu boyuttaki tüm değerleri\" belirtebilir ve ardından bir virgül (**`,`**) kullanarak başka bir boyut ekleyebilirsiniz.\n"
      ],
      "metadata": {
        "id": "HHSGjMY5x7zO"
      }
    },
    {
      "cell_type": "code",
      "source": [
        "# 0. boyuttaki tüm değerleri ve 1. boyuttaki 0. indeksi almak\n",
        "x[:, 0]\n"
      ],
      "metadata": {
        "id": "etjqcRH7yAjx",
        "colab": {
          "base_uri": "https://localhost:8080/"
        },
        "outputId": "bfc637cc-fd24-46cc-ebe5-c9081b367599"
      },
      "execution_count": 61,
      "outputs": [
        {
          "output_type": "execute_result",
          "data": {
            "text/plain": [
              "tensor([[1, 2, 3]])"
            ]
          },
          "metadata": {},
          "execution_count": 61
        }
      ]
    },
    {
      "cell_type": "code",
      "source": [
        "# 0. ve 1. boyuttaki tüm değerleri, ancak yalnızca 2. boyuttaki 1. indeksi almak\n",
        "x[:, :, 1]\n"
      ],
      "metadata": {
        "id": "E5OVlfwFyE0b",
        "colab": {
          "base_uri": "https://localhost:8080/"
        },
        "outputId": "7670eacb-bab1-4175-f421-e168531bb548"
      },
      "execution_count": 62,
      "outputs": [
        {
          "output_type": "execute_result",
          "data": {
            "text/plain": [
              "tensor([[2, 5, 8]])"
            ]
          },
          "metadata": {},
          "execution_count": 62
        }
      ]
    },
    {
      "cell_type": "code",
      "source": [
        "# 0. ve 1. boyutların 0. indeksini almak ve 2. boyuttaki tüm değerleri almak\n",
        "x[0, 0, :] # x[0][0] ile aynı\n"
      ],
      "metadata": {
        "id": "MjaOVh54yJ3d",
        "colab": {
          "base_uri": "https://localhost:8080/"
        },
        "outputId": "6ea7bf18-517b-4c0f-d133-d6b7482d338f"
      },
      "execution_count": 63,
      "outputs": [
        {
          "output_type": "execute_result",
          "data": {
            "text/plain": [
              "tensor([1, 2, 3])"
            ]
          },
          "metadata": {},
          "execution_count": 63
        }
      ]
    },
    {
      "cell_type": "markdown",
      "source": [
        "İndeksleme başta oldukça kafa karıştırıcı olabilir, özellikle daha büyük tensörlerle çalışırken (ben hâlâ doğru yapmak için birkaç kez indeksleme yapmam gerekiyor). Ama biraz pratik yaparak ve veri kaşiflerinin mottosunu takip ederek (***görselleştir, görselleştir, görselleştir***), zamanla alışmaya başlayacaksınız.\n"
      ],
      "metadata": {
        "id": "jjPT0sl1yNzu"
      }
    },
    {
      "cell_type": "markdown",
      "source": [
        "## PyTorch Tensörleri ve NumPy\n",
        "\n",
        "NumPy, popüler bir Python sayısal hesaplama kütüphanesi olduğundan, PyTorch'un NumPy ile düzgün bir şekilde etkileşim kurma işlevselliği vardır.\n",
        "\n",
        "NumPy ile PyTorch arasında (ve geriye) kullanmak isteyeceğiniz iki ana yöntem şunlardır:\n",
        "* [`torch.from_numpy(ndarray)`](https://pytorch.org/docs/stable/generated/torch.from_numpy.html) - NumPy dizisi -> PyTorch tensörü.\n",
        "* [`torch.Tensor.numpy()`](https://pytorch.org/docs/stable/generated/torch.Tensor.numpy.html) - PyTorch tensörü -> NumPy dizisi.\n",
        "\n",
        "Şimdi bunları deneyelim.\n"
      ],
      "metadata": {
        "id": "o20M5CwhyUir"
      }
    },
    {
      "cell_type": "code",
      "source": [
        "# NumPy dizisini tensöre çevirme\n",
        "import torch\n",
        "import numpy as np\n",
        "\n",
        "array = np.arange(1.0, 8.0)\n",
        "tensor = torch.from_numpy(array)\n",
        "array, tensor\n"
      ],
      "metadata": {
        "id": "sDB_iIqHyXTG",
        "colab": {
          "base_uri": "https://localhost:8080/"
        },
        "outputId": "9f9dad9a-9c7d-4d98-f623-0e5db9ee1415"
      },
      "execution_count": 64,
      "outputs": [
        {
          "output_type": "execute_result",
          "data": {
            "text/plain": [
              "(array([1., 2., 3., 4., 5., 6., 7.]),\n",
              " tensor([1., 2., 3., 4., 5., 6., 7.], dtype=torch.float64))"
            ]
          },
          "metadata": {},
          "execution_count": 64
        }
      ]
    },
    {
      "cell_type": "markdown",
      "source": [
        "> **Not:**  \n",
        "> Varsayılan olarak, NumPy dizileri **`float64`** veri tipiyle oluşturulur ve PyTorch tensörüne dönüştürdüğünüzde aynı veri tipi korunur (yukarıdaki gibi).  \n",
        ">  \n",
        "> Ancak, birçok PyTorch hesaplaması varsayılan olarak **`float32`** kullanır.  \n",
        ">  \n",
        "> Yani, NumPy dizinizi (**`float64`**) -> PyTorch tensörü (**`float64`**) -> PyTorch tensörü (**`float32`**) olarak dönüştürmek istiyorsanız, **`tensor = torch.from_numpy(array).type(torch.float32)`** kullanabilirsiniz.  \n",
        ">  \n",
        "> Yukarıda **`tensor`**'u yeniden atadığımız için, tensörü değiştirdiğinizde dizi aynı kalır.\n"
      ],
      "metadata": {
        "id": "-1c4THo2ydr1"
      }
    },
    {
      "cell_type": "code",
      "source": [
        "# Diziyi değiştir, tensörü aynı tut\n",
        "array = array + 1\n",
        "array, tensor\n"
      ],
      "metadata": {
        "id": "H3bOiO4myOg6",
        "colab": {
          "base_uri": "https://localhost:8080/"
        },
        "outputId": "e02d079d-b371-450a-c1a4-40f69cae03e1"
      },
      "execution_count": 65,
      "outputs": [
        {
          "output_type": "execute_result",
          "data": {
            "text/plain": [
              "(array([2., 3., 4., 5., 6., 7., 8.]),\n",
              " tensor([1., 2., 3., 4., 5., 6., 7.], dtype=torch.float64))"
            ]
          },
          "metadata": {},
          "execution_count": 65
        }
      ]
    },
    {
      "cell_type": "markdown",
      "source": [
        "Ve eğer PyTorch tensöründen NumPy dizisine geçmek isterseniz, **`tensor.numpy()`** fonksiyonunu çağırabilirsiniz.\n"
      ],
      "metadata": {
        "id": "5e2K5bPNymkm"
      }
    },
    {
      "cell_type": "code",
      "source": [
        "# Tensörden NumPy dizisine\n",
        "tensor = torch.ones(7) # float32 veri tipiyle bir tensör oluşturma\n",
        "numpy_tensor = tensor.numpy() # dtype=float32 olacak, eğer değiştirilmezse\n",
        "tensor, numpy_tensor\n"
      ],
      "metadata": {
        "id": "N9aI-6JEynRs",
        "colab": {
          "base_uri": "https://localhost:8080/"
        },
        "outputId": "785f45c0-926d-4a88-ab4e-f1867be79c35"
      },
      "execution_count": 66,
      "outputs": [
        {
          "output_type": "execute_result",
          "data": {
            "text/plain": [
              "(tensor([1., 1., 1., 1., 1., 1., 1.]),\n",
              " array([1., 1., 1., 1., 1., 1., 1.], dtype=float32))"
            ]
          },
          "metadata": {},
          "execution_count": 66
        }
      ]
    },
    {
      "cell_type": "markdown",
      "source": [
        "Ve yukarıdaki kural aynen geçerlidir; eğer orijinal **`tensor`**'ı değiştirirseniz, yeni **`numpy_tensor`** aynı kalır.\n"
      ],
      "metadata": {
        "id": "TvLFP0jtyru4"
      }
    },
    {
      "cell_type": "code",
      "source": [
        "# Tensörü değiştir, diziyi aynı tut\n",
        "tensor = tensor + 1\n",
        "tensor, numpy_tensor\n"
      ],
      "metadata": {
        "id": "fq7yUezxyz_5",
        "colab": {
          "base_uri": "https://localhost:8080/"
        },
        "outputId": "f7136402-4b7f-4380-9fe0-f29b55427674"
      },
      "execution_count": 67,
      "outputs": [
        {
          "output_type": "execute_result",
          "data": {
            "text/plain": [
              "(tensor([2., 2., 2., 2., 2., 2., 2.]),\n",
              " array([1., 1., 1., 1., 1., 1., 1.], dtype=float32))"
            ]
          },
          "metadata": {},
          "execution_count": 67
        }
      ]
    },
    {
      "cell_type": "markdown",
      "source": [
        "## Tekrarlanabilirlik (Rastgeleliği Rastgelelikten Çıkarmaya Çalışmak)\n",
        "\n",
        "Sinir ağları ve makine öğrenimi hakkında daha fazla şey öğrendikçe, rastgeleliğin ne kadar önemli bir rol oynadığını keşfedeceksiniz.\n",
        "\n",
        "Aslında bu, **sahte rastgelelik**. Çünkü sonuçta, tasarlandıkları gibi bir bilgisayar temelde **deterministiktir** (her adım tahmin edilebilir), bu yüzden yarattıkları rastgelelikler, simüle edilmiş rastgeleliklerdir (bununla ilgili de tartışmalar olsa da, ben bir bilgisayar bilimci olmadığım için bunu kendiniz keşfetmenize bırakıyorum).\n",
        "\n",
        "Peki bu, sinir ağları ve derin öğrenme ile nasıl ilişkilidir?\n",
        "\n",
        "Sinir ağlarının, verilerdeki kalıpları tanımlamak için rastgele sayılarla başladığını ve bu sayıları tensör işlemleri (ve henüz tartışmadığımız birkaç başka şey) kullanarak iyileştirmeye çalıştığını konuştuk. Bu sayılar başlangıçta kötü tanımlamalardır ve verilerdeki kalıpları daha iyi tanımlamak için bu rastgele sayılar iyileştirilmeye çalışılır.\n",
        "\n",
        "Kısacası:\n",
        "\n",
        "``rastgele sayılarla başla -> tensör işlemleri -> daha iyi hale getirmeye çalış (defalarca ve tekrar)``\n",
        "\n",
        "Rastgelelik güzel ve güçlü olsa da, bazen biraz daha az rastgelelik istersiniz.\n",
        "\n",
        "Neden?\n",
        "\n",
        "Çünkü tekrarlanabilir deneyler yapabilmek istersiniz.\n",
        "\n",
        "Örneğin, X performansını elde edebilen bir algoritma oluşturursunuz.\n",
        "\n",
        "Ve sonra arkadaşınız bunu deneyerek sizin deli olmadığınızı doğrulamak ister.\n",
        "\n",
        "Bunu nasıl yapabilirler?\n",
        "\n",
        "İşte burada **tekrarlanabilirlik** devreye giriyor.\n",
        "\n",
        "Başka bir deyişle, aynı kodu çalıştıran bilgisayarımda aldığım aynı (veya çok benzer) sonuçları, sizin bilgisayarınızda alabilir misiniz?\n",
        "\n",
        "Hadi PyTorch'ta tekrarlanabilirliğe kısa bir örnek bakalım.\n",
        "\n",
        "İki rastgele tensör oluşturacağız. Çünkü rastgele olduklarından, farklı olmalarını beklersiniz, değil mi?\n"
      ],
      "metadata": {
        "id": "sa47pSZny3V_"
      }
    },
    {
      "cell_type": "code",
      "source": [
        "import torch\n",
        "\n",
        "# İki rastgele tensör oluşturma\n",
        "random_tensor_A = torch.rand(3, 4)\n",
        "random_tensor_B = torch.rand(3, 4)\n",
        "\n",
        "print(f\"Tensör A:\\n{random_tensor_A}\\n\")\n",
        "print(f\"Tensör B:\\n{random_tensor_B}\\n\")\n",
        "print(f\"Tensör A, Tensör B'ye eşit mi? (herhangi bir yerde)\")\n",
        "random_tensor_A == random_tensor_B\n"
      ],
      "metadata": {
        "id": "FVX4eoFUy86n",
        "outputId": "7b8560b8-b217-4416-a782-7d1341174f74",
        "colab": {
          "base_uri": "https://localhost:8080/"
        }
      },
      "execution_count": 68,
      "outputs": [
        {
          "output_type": "stream",
          "name": "stdout",
          "text": [
            "Tensör A:\n",
            "tensor([[0.8016, 0.3649, 0.6286, 0.9663],\n",
            "        [0.7687, 0.4566, 0.5745, 0.9200],\n",
            "        [0.3230, 0.8613, 0.0919, 0.3102]])\n",
            "\n",
            "Tensör B:\n",
            "tensor([[0.9536, 0.6002, 0.0351, 0.6826],\n",
            "        [0.3743, 0.5220, 0.1336, 0.9666],\n",
            "        [0.9754, 0.8474, 0.8988, 0.1105]])\n",
            "\n",
            "Tensör A, Tensör B'ye eşit mi? (herhangi bir yerde)\n"
          ]
        },
        {
          "output_type": "execute_result",
          "data": {
            "text/plain": [
              "tensor([[False, False, False, False],\n",
              "        [False, False, False, False],\n",
              "        [False, False, False, False]])"
            ]
          },
          "metadata": {},
          "execution_count": 68
        }
      ]
    },
    {
      "cell_type": "markdown",
      "source": [
        "Beklediğiniz gibi, tensörler farklı değerlerle çıktı.\n",
        "\n",
        "Ama ya iki rastgele tensörün *aynı* değerlere sahip olmasını isteseydiniz?\n",
        "\n",
        "Yani tensörler hala rastgele değerlere sahip olacak ama aynı \"lezzette\" olacaklardı.\n",
        "\n",
        "İşte burada **`torch.manual_seed(seed)`** devreye giriyor; burada **`seed`** bir tam sayıdır (mesela **`42`** olabilir ama başka bir şey de olabilir) ve rastgeleliği **lezzetlendiren** bir değerdir.\n",
        "\n",
        "Hadi bunu deneyelim ve daha fazla *lezzetlendirilmiş* rastgele tensörler oluşturalım.\n"
      ],
      "metadata": {
        "id": "uIjm-ILtzLhB"
      }
    },
    {
      "cell_type": "code",
      "source": [
        "import torch\n",
        "import random\n",
        "\n",
        "# Rastgele tohum değerini ayarla\n",
        "RANDOM_SEED = 42 # Bunu farklı değerlere değiştirerek aşağıdaki sayılarda ne olduğunu görebilirsiniz\n",
        "torch.manual_seed(seed=RANDOM_SEED)\n",
        "random_tensor_C = torch.rand(3, 4)\n",
        "\n",
        "# Her yeni rand() çağrıldığında tohumun sıfırlanması gerekir\n",
        "# Bunu yapmazsanız, tensor_D, tensor_C'ye farklı olurdu\n",
        "torch.random.manual_seed(seed=RANDOM_SEED) # Bu satırı yorum satırına almayı deneyin ve ne olacağını görün\n",
        "random_tensor_D = torch.rand(3, 4)\n",
        "\n",
        "print(f\"Tensör C:\\n{random_tensor_C}\\n\")\n",
        "print(f\"Tensör D:\\n{random_tensor_D}\\n\")\n",
        "print(f\"Tensör C, Tensör D'ye eşit mi? (herhangi bir yerde)\")\n",
        "random_tensor_C == random_tensor_D\n"
      ],
      "metadata": {
        "id": "QhdIoDPGzOan",
        "colab": {
          "base_uri": "https://localhost:8080/"
        },
        "outputId": "d06ced55-ef9e-4a23-a5e2-2c0838290d75"
      },
      "execution_count": 69,
      "outputs": [
        {
          "output_type": "stream",
          "name": "stdout",
          "text": [
            "Tensör C:\n",
            "tensor([[0.8823, 0.9150, 0.3829, 0.9593],\n",
            "        [0.3904, 0.6009, 0.2566, 0.7936],\n",
            "        [0.9408, 0.1332, 0.9346, 0.5936]])\n",
            "\n",
            "Tensör D:\n",
            "tensor([[0.8823, 0.9150, 0.3829, 0.9593],\n",
            "        [0.3904, 0.6009, 0.2566, 0.7936],\n",
            "        [0.9408, 0.1332, 0.9346, 0.5936]])\n",
            "\n",
            "Tensör C, Tensör D'ye eşit mi? (herhangi bir yerde)\n"
          ]
        },
        {
          "output_type": "execute_result",
          "data": {
            "text/plain": [
              "tensor([[True, True, True, True],\n",
              "        [True, True, True, True],\n",
              "        [True, True, True, True]])"
            ]
          },
          "metadata": {},
          "execution_count": 69
        }
      ]
    },
    {
      "cell_type": "markdown",
      "source": [
        "Harika!\n",
        "\n",
        "Görünüşe göre tohum ayarlamak işe yaramış.\n",
        "\n",
        "> **Kaynak:** Şu ana kadar ele aldıklarımız, PyTorch'ta tekrarlanabilirlik konusunda yalnızca yüzeyi çiziyor. Genel olarak tekrarlanabilirlik ve rastgele tohumlar hakkında daha fazla bilgi için şunları incelemenizi öneririm:\n",
        "> * [PyTorch tekrarlanabilirlik dokümantasyonu](https://pytorch.org/docs/stable/notes/randomness.html) (iyi bir alıştırma, bunu 10 dakika boyunca okuyup anlamasanız da, buna aşina olmak önemlidir).\n",
        "> * [Wikipedia rastgele tohum sayfası](https://en.wikipedia.org/wiki/Random_seed) (bu, rastgele tohumlar ve genel olarak sahte rastgelelik hakkında iyi bir genel bakış sağlar).\n"
      ],
      "metadata": {
        "id": "xgKOtuWpzVAE"
      }
    },
    {
      "cell_type": "markdown",
      "source": [
        "## Tensörleri GPU'larda Çalıştırma (ve Daha Hızlı Hesaplamalar Yapma)\n",
        "\n",
        "Derin öğrenme algoritmaları çok fazla sayısal işlem gerektirir.\n",
        "\n",
        "Ve varsayılan olarak bu işlemler çoğunlukla bir CPU'da (işlemci) yapılır.\n",
        "\n",
        "Ancak, bir GPU (grafik işleme birimi) adında başka bir yaygın donanım türü vardır, bu donanım genellikle sinir ağlarının ihtiyaç duyduğu belirli türdeki işlemleri (matris çarpımları) CPU'lardan çok daha hızlı bir şekilde gerçekleştirebilir.\n",
        "\n",
        "Bilgisayarınızda bir tane olabilir.\n",
        "\n",
        "Eğer öyleyse, sinir ağlarını eğitmek için her fırsatta kullanmaya çalışmalısınız çünkü büyük ihtimalle eğitim süresini dramatik şekilde hızlandıracaktır.\n",
        "\n",
        "GPU'ya erişmenin ve PyTorch'u GPU kullanacak şekilde yapılandırmanın birkaç yolu vardır.\n",
        "\n",
        "> **Not:** Bu kurs boyunca \"GPU\"dan bahsederken, [CUDA etkinleştirilmiş bir Nvidia GPU'yu](https://developer.nvidia.com/cuda-gpus) kast ediyorum (CUDA, GPU'ların yalnızca grafik değil, genel amaçlı hesaplama için de kullanılmasını sağlayan bir hesaplama platformu ve API'sidir) aksi belirtilmedikçe.\n"
      ],
      "metadata": {
        "id": "D4xB2AVnzgEp"
      }
    },
    {
      "cell_type": "markdown",
      "source": [
        "### 1. GPU'ya Erişim\n",
        "\n",
        "GPU dediğimde ne olduğunu zaten biliyor olabilirsiniz. Ancak bilmiyorsanız, birine erişim sağlamak için birkaç yol vardır.\n",
        "\n",
        "| **Yöntem** | **Kurulum Zorluğu** | **Avantajlar** | **Dezavantajlar** | **Nasıl Kurulur** |\n",
        "| ----- | ----- | ----- | ----- | ----- |\n",
        "| Google Colab | Kolay | Ücretsiz, neredeyse sıfır kurulum gerektirir, çalışmaları başkalarıyla bir bağlantı kadar kolay paylaşabilirsiniz | Verilerinizi kaydetmez, sınırlı hesaplama gücü, zaman aşımına uğrayabilir | [Google Colab Kılavuzunu Takip Edin](https://colab.research.google.com/notebooks/gpu.ipynb) |\n",
        "| Kendi bilgisayarınızı kullanma | Orta | Her şeyi yerel olarak kendi bilgisayarınızda çalıştırabilirsiniz | GPU'lar ücretsiz değil, önceden maliyet gerektirir | [PyTorch kurulum yönergelerini takip edin](https://pytorch.org/get-started/locally/) |\n",
        "| Bulut bilişim (AWS, GCP, Azure) | Orta-Zor | Küçük ön maliyet, neredeyse sonsuz hesaplama erişimi | Sürekli çalıştırırsanız pahalı olabilir, doğru şekilde kurmak zaman alabilir | [PyTorch bulut kurulum kılavuzunu takip edin](https://pytorch.org/get-started/cloud-partners/) |\n",
        "\n",
        "GPU'ları kullanmak için daha fazla seçenek vardır ancak yukarıdaki üç seçenek şimdilik yeterli olacaktır.\n",
        "\n",
        "Kişisel olarak, küçük ölçekli deneyler (ve bu kursu oluşturma) için Google Colab ve kendi bilgisayarımın bir kombinasyonunu kullanıyorum ve daha fazla hesaplama gücüne ihtiyaç duyduğumda bulut kaynaklarına başvuruyorum.\n",
        "\n",
        "> **Kaynak:** Kendi GPU'nuzu satın almayı düşünüyorsanız ancak ne alacağınızı bilmiyorsanız, [Tim Dettmers'ın harika bir kılavuzu var](https://timdettmers.com/2020/09/07/which-gpu-for-deep-learning/).\n",
        "\n",
        "Bir Nvidia GPU'nuzun olup olmadığını kontrol etmek için, `!nvidia-smi` komutunu çalıştırabilirsiniz, burada `!` (aynı zamanda bang olarak da bilinir) \"bunu komut satırında çalıştır\" anlamına gelir.\n"
      ],
      "metadata": {
        "id": "rwemFJIkzq2c"
      }
    },
    {
      "cell_type": "code",
      "source": [
        "!nvidia-smi"
      ],
      "metadata": {
        "id": "DgB0QZWrzjEp",
        "colab": {
          "base_uri": "https://localhost:8080/"
        },
        "outputId": "78dc30a4-b89f-4d8c-cc25-e114429695aa"
      },
      "execution_count": 70,
      "outputs": [
        {
          "output_type": "stream",
          "name": "stdout",
          "text": [
            "/bin/bash: line 1: nvidia-smi: command not found\n"
          ]
        }
      ]
    },
    {
      "cell_type": "markdown",
      "source": [
        "Eğer erişebileceğiniz bir Nvidia GPU'nuz yoksa, yukarıdaki çıktı şu şekilde görünecektir:\n",
        "\n"
      ],
      "metadata": {
        "id": "wJglSGizz6GB"
      }
    },
    {
      "cell_type": "markdown",
      "source": [
        "### 2. PyTorch'u GPU üzerinde çalıştırma\n",
        "\n",
        "Bir GPU'ya erişim sağladıktan sonra, bir sonraki adım, PyTorch'u verileri (tensörleri) depolamak ve veriler üzerinde hesaplamalar yapmak (tensörler üzerinde işlemler gerçekleştirmek) için kullanmaktır.\n",
        "\n",
        "Bunu yapmak için **`torch.cuda`** paketini kullanabilirsiniz.\n",
        "\n",
        "Bundan bahsetmek yerine, bunu deneyelim.\n",
        "\n",
        "PyTorch'un bir GPU'ya erişimi olup olmadığını, **[`torch.cuda.is_available()`](https://pytorch.org/docs/stable/generated/torch.cuda.is_available.html#torch.cuda.is_available)** fonksiyonunu kullanarak test edebilirsiniz.\n"
      ],
      "metadata": {
        "id": "Khx-VYnoz_SE"
      }
    },
    {
      "cell_type": "code",
      "source": [
        "# GPU'yu kontrol etme\n",
        "import torch\n",
        "torch.cuda.is_available()\n"
      ],
      "metadata": {
        "id": "iMwPP5g8z_59",
        "colab": {
          "base_uri": "https://localhost:8080/"
        },
        "outputId": "df9ea002-994a-4b0d-8801-dffa274623bc"
      },
      "execution_count": 71,
      "outputs": [
        {
          "output_type": "execute_result",
          "data": {
            "text/plain": [
              "False"
            ]
          },
          "metadata": {},
          "execution_count": 71
        }
      ]
    },
    {
      "cell_type": "markdown",
      "source": [
        "Eğer yukarıdaki çıktı **`True`** ise, PyTorch GPU'yu görebilir ve kullanabilir, eğer **`False`** çıkarsa, GPU'yu göremez ve bu durumda kurulum adımlarını tekrar gözden geçirmeniz gerekecek.\n",
        "\n",
        "Şimdi, kodunuzu CPU *veya* mevcutsa GPU üzerinde çalışacak şekilde ayarlamak istediğinizi varsayalım.\n",
        "\n",
        "Bu şekilde, siz veya birisi kodunuzu çalıştırmaya karar verdiğinde, kullandıkları hesaplama cihazına bakılmaksızın çalışacaktır.\n",
        "\n",
        "Bir `device` değişkeni oluşturalım ve hangi tür cihazın mevcut olduğunu saklayalım.\n"
      ],
      "metadata": {
        "id": "Ipf9zbYY0K-w"
      }
    },
    {
      "cell_type": "code",
      "source": [
        "# Cihaz türünü ayarlama\n",
        "device = \"cuda\" if torch.cuda.is_available() else \"cpu\"\n",
        "device\n"
      ],
      "metadata": {
        "id": "nqgwd7fe0M6M",
        "colab": {
          "base_uri": "https://localhost:8080/",
          "height": 35
        },
        "outputId": "e74bdfed-ebaa-4bae-bdf4-9604b018016d"
      },
      "execution_count": 72,
      "outputs": [
        {
          "output_type": "execute_result",
          "data": {
            "text/plain": [
              "'cpu'"
            ],
            "application/vnd.google.colaboratory.intrinsic+json": {
              "type": "string"
            }
          },
          "metadata": {},
          "execution_count": 72
        }
      ]
    },
    {
      "cell_type": "markdown",
      "source": [
        "Yukarıdaki çıktı **`\"cuda\"`** ise, tüm PyTorch kodumuzu mevcut CUDA cihazını (GPU) kullanacak şekilde ayarlayabileceğimiz anlamına gelir ve eğer **`\"cpu\"`** çıkarsa, PyTorch kodumuz CPU üzerinde çalışacaktır.\n",
        "\n",
        "> **Not:** PyTorch'ta, [**cihazdan bağımsız kod**](https://pytorch.org/docs/master/notes/cuda.html#device-agnostic-code) yazmak en iyi uygulamadır. Bu, CPU'da (her zaman mevcut) veya GPU'da (mevcutsa) çalışacak kod anlamına gelir.\n",
        "\n",
        "Daha hızlı hesaplamalar yapmak istiyorsanız, bir GPU kullanabilirsiniz, ancak *çok* daha hızlı hesaplamalar yapmak istiyorsanız, birden fazla GPU kullanabilirsiniz.\n",
        "\n",
        "PyTorch'un erişebileceği GPU sayısını, **[`torch.cuda.device_count()`](https://pytorch.org/docs/stable/generated/torch.cuda.device_count.html#torch.cuda.device_count)** fonksiyonunu kullanarak öğrenebilirsiniz.\n"
      ],
      "metadata": {
        "id": "XA1sKRPg0URk"
      }
    },
    {
      "cell_type": "code",
      "source": [
        "# Cihaz sayısını sayma\n",
        "torch.cuda.device_count()\n"
      ],
      "metadata": {
        "id": "dQMUzFRB0YPm",
        "colab": {
          "base_uri": "https://localhost:8080/"
        },
        "outputId": "fc2ce727-3bf4-43a7-f3fc-281862ae4d6e"
      },
      "execution_count": 73,
      "outputs": [
        {
          "output_type": "execute_result",
          "data": {
            "text/plain": [
              "0"
            ]
          },
          "metadata": {},
          "execution_count": 73
        }
      ]
    },
    {
      "cell_type": "markdown",
      "source": [
        "PyTorch'un erişebileceği GPU sayısını bilmek, bir işlemi bir GPU'da ve başka bir işlemi diğer GPU'da çalıştırmak isterseniz faydalıdır (PyTorch ayrıca bir işlemi *tüm* GPU'lar üzerinde çalıştırmanıza olanak tanıyan özelliklere sahiptir).\n"
      ],
      "metadata": {
        "id": "TpIixDo-0d2l"
      }
    },
    {
      "cell_type": "markdown",
      "source": [
        "### 2.1 PyTorch'u Apple Silicon'da Çalıştırma\n",
        "\n",
        "Apple'ın M1/M2/M3 GPU'larında PyTorch çalıştırmak için **[`torch.backends.mps`](https://pytorch.org/docs/stable/notes/mps.html)** modülünü kullanabilirsiniz.\n",
        "\n",
        "macOS ve PyTorch sürümlerinin güncel olduğundan emin olun.\n",
        "\n",
        "PyTorch'un bir GPU'ya erişimi olup olmadığını **`torch.backends.mps.is_available()`** ile test edebilirsiniz.\n"
      ],
      "metadata": {
        "id": "uIB79nEG0jU9"
      }
    },
    {
      "cell_type": "code",
      "source": [
        "# Apple Silicon GPU'yu kontrol etme\n",
        "import torch\n",
        "torch.backends.mps.is_available() # Not: Bu, bir Mac'te çalışmıyorsanız false döndürecektir\n"
      ],
      "metadata": {
        "id": "HqCas6Gs0kH-",
        "colab": {
          "base_uri": "https://localhost:8080/"
        },
        "outputId": "3e6b9495-eb01-4b65-b42e-23b16fc41f50"
      },
      "execution_count": 74,
      "outputs": [
        {
          "output_type": "execute_result",
          "data": {
            "text/plain": [
              "False"
            ]
          },
          "metadata": {},
          "execution_count": 74
        }
      ]
    },
    {
      "cell_type": "code",
      "source": [
        "# Cihaz türünü ayarlama\n",
        "device = \"mps\" if torch.backends.mps.is_available() else \"cpu\"\n",
        "device\n"
      ],
      "metadata": {
        "id": "mwA66ygc0oP3",
        "colab": {
          "base_uri": "https://localhost:8080/",
          "height": 35
        },
        "outputId": "f96a14c9-7c1f-4e96-b3d4-82df438bff40"
      },
      "execution_count": 75,
      "outputs": [
        {
          "output_type": "execute_result",
          "data": {
            "text/plain": [
              "'cpu'"
            ],
            "application/vnd.google.colaboratory.intrinsic+json": {
              "type": "string"
            }
          },
          "metadata": {},
          "execution_count": 75
        }
      ]
    },
    {
      "cell_type": "markdown",
      "source": [
        "Yukarıdaki çıktı **`\"mps\"`** ise, tüm PyTorch kodumuzu mevcut Apple Silicon GPU'sunu kullanacak şekilde ayarlayabileceğimiz anlamına gelir.\n"
      ],
      "metadata": {
        "id": "vEgOhEOt0s-E"
      }
    },
    {
      "cell_type": "code",
      "source": [
        "if torch.cuda.is_available():\n",
        "    device = \"cuda\"  # NVIDIA GPU'yu kullan (eğer mevcutsa)\n",
        "elif torch.backends.mps.is_available():\n",
        "    device = \"mps\"  # Apple Silicon GPU'yu kullan (eğer mevcutsa)\n",
        "else:\n",
        "    device = \"cpu\"  # GPU yoksa varsayılan olarak CPU kullan\n"
      ],
      "metadata": {
        "id": "R7-M6VxR0x1t"
      },
      "execution_count": 76,
      "outputs": []
    },
    {
      "cell_type": "markdown",
      "source": [
        "### 3. Tensörleri (ve modelleri) GPU'ya koyma\n",
        "\n",
        "Tensörleri (ve modelleri, bunu daha sonra göreceğiz) belirli bir cihaza koymak için onlara **`to(device)`** fonksiyonunu çağırabilirsiniz. Burada **`device`**, tensörün (veya modelin) gitmesini istediğiniz hedef cihazdır.\n",
        "\n",
        "Bunu neden yapmalısınız?\n",
        "\n",
        "GPU'lar, CPU'lardan çok daha hızlı sayısal hesaplamalar yapar ve eğer bir GPU mevcut değilse, **cihazdan bağımsız kodumuz** (yukarıya bakın) sayesinde kod CPU üzerinde çalışacaktır.\n",
        "\n",
        "> **Not:** **`to(device)`** kullanarak bir tensörü GPU'ya koymak (örneğin **`some_tensor.to(device)`**) o tensörün bir kopyasını döndürür; örneğin, aynı tensör hem CPU'da hem de GPU'da olacaktır. Tensörleri üzerine yazmak için onları yeniden atayın:\n",
        ">\n",
        "> `some_tensor = some_tensor.to(device)`\n",
        "\n",
        "Hadi, bir tensör oluşturalım ve onu GPU'ya koyalım (eğer mevcutsa).\n"
      ],
      "metadata": {
        "id": "lUppzg1l06wL"
      }
    },
    {
      "cell_type": "code",
      "source": [
        "# Tensör oluşturma (varsayılan olarak CPU üzerinde)\n",
        "tensor = torch.tensor([1, 2, 3])\n",
        "\n",
        "# Tensör GPU'da değil\n",
        "print(tensor, tensor.device)\n",
        "\n",
        "# Tensörü GPU'ya taşıma (eğer mevcutsa)\n",
        "tensor_on_gpu = tensor.to(device)\n",
        "tensor_on_gpu\n"
      ],
      "metadata": {
        "id": "JevoqGA-08kQ",
        "colab": {
          "base_uri": "https://localhost:8080/"
        },
        "outputId": "c957c0b9-1d18-4160-a703-ca55efc7a8a6"
      },
      "execution_count": 77,
      "outputs": [
        {
          "output_type": "stream",
          "name": "stdout",
          "text": [
            "tensor([1, 2, 3]) cpu\n"
          ]
        },
        {
          "output_type": "execute_result",
          "data": {
            "text/plain": [
              "tensor([1, 2, 3])"
            ]
          },
          "metadata": {},
          "execution_count": 77
        }
      ]
    },
    {
      "cell_type": "markdown",
      "source": [
        "Eğer bir GPU'nuz mevcutsa, yukarıdaki kod şu şekilde bir çıktı verecektir:\n",
        "\n",
        "```\n",
        "tensor([1, 2, 3]) cpu\n",
        "tensor([1, 2, 3], device='cuda:0')\n",
        "```\n",
        "\n",
        "İkinci tensörün **`device='cuda:0'`** olduğunu fark edin, bu, tensörün mevcut 0. GPU'da depolandığını gösterir (GPU'lar 0'dan başlar, eğer iki GPU mevcutsa, sırasıyla `'cuda:0'` ve `'cuda:1'` olur, bu şekilde `'cuda:n'`'e kadar devam eder).\n"
      ],
      "metadata": {
        "id": "OuJIlGiN1HcU"
      }
    },
    {
      "cell_type": "markdown",
      "source": [
        "### 4. Tensörleri CPU'ya geri taşıma\n",
        "\n",
        "Ya tensörü geri CPU'ya taşımak istersek?\n",
        "\n",
        "Örneğin, tensörlerinizle NumPy ile etkileşimde bulunmak isterseniz bunu yapmak isteyebilirsiniz (NumPy, GPU'yu kullanmaz).\n",
        "\n",
        "Hadi, **`torch.Tensor.numpy()`** metodunu **`tensor_on_gpu`** üzerinde deneyelim.\n"
      ],
      "metadata": {
        "id": "YbKaIdQ81K8n"
      }
    },
    {
      "cell_type": "code",
      "source": [
        "# Eğer tensör GPU'daysa, NumPy'ye dönüştürülemez (bu hata verecektir)\n",
        "tensor_on_gpu.numpy()\n"
      ],
      "metadata": {
        "id": "dh6y1zUr1RTw",
        "colab": {
          "base_uri": "https://localhost:8080/"
        },
        "outputId": "d4e28cdb-c43f-4e48-ed95-b56c4e3fcbe1"
      },
      "execution_count": 78,
      "outputs": [
        {
          "output_type": "execute_result",
          "data": {
            "text/plain": [
              "array([1, 2, 3])"
            ]
          },
          "metadata": {},
          "execution_count": 78
        }
      ]
    },
    {
      "cell_type": "markdown",
      "source": [
        "Bunun yerine, bir tensörü CPU'ya geri almak ve NumPy ile kullanılabilir hale getirmek için **[`Tensor.cpu()`](https://pytorch.org/docs/stable/generated/torch.Tensor.cpu.html)** kullanabiliriz.\n",
        "\n",
        "Bu, tensörü CPU belleğine kopyalar, böylece CPU'lar ile kullanılabilir hale gelir.\n"
      ],
      "metadata": {
        "id": "re4L2_YZ1adh"
      }
    },
    {
      "cell_type": "code",
      "source": [
        "# Bunun yerine, tensörü geri CPU'ya kopyala\n",
        "tensor_back_on_cpu = tensor_on_gpu.cpu().numpy()\n",
        "tensor_back_on_cpu\n"
      ],
      "metadata": {
        "id": "LPIKXGxN1fdT",
        "colab": {
          "base_uri": "https://localhost:8080/"
        },
        "outputId": "94fef295-f2d6-427c-a116-a0de24be25cf"
      },
      "execution_count": 79,
      "outputs": [
        {
          "output_type": "execute_result",
          "data": {
            "text/plain": [
              "array([1, 2, 3])"
            ]
          },
          "metadata": {},
          "execution_count": 79
        }
      ]
    },
    {
      "cell_type": "markdown",
      "source": [
        "Yukarıdaki işlem, GPU tensörünün bir kopyasını CPU belleğine döndürür, böylece orijinal tensör hala GPU üzerinde kalır.\n"
      ],
      "metadata": {
        "id": "bc36Ve3J1jp0"
      }
    },
    {
      "cell_type": "code",
      "source": [
        "tensor_on_gpu"
      ],
      "metadata": {
        "id": "JRHDFVEy1m7u",
        "colab": {
          "base_uri": "https://localhost:8080/"
        },
        "outputId": "1fb90ba7-8420-4db5-a2ab-faf5cfa8c740"
      },
      "execution_count": 80,
      "outputs": [
        {
          "output_type": "execute_result",
          "data": {
            "text/plain": [
              "tensor([1, 2, 3])"
            ]
          },
          "metadata": {},
          "execution_count": 80
        }
      ]
    },
    {
      "cell_type": "markdown",
      "source": [],
      "metadata": {
        "id": "-l9dVpGIfJxF"
      }
    }
  ]
}