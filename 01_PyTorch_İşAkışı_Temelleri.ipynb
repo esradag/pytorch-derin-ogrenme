{
  "nbformat": 4,
  "nbformat_minor": 0,
  "metadata": {
    "colab": {
      "provenance": [],
      "authorship_tag": "ABX9TyMUoV4Aua7SKUwWvycn2Cll",
      "include_colab_link": true
    },
    "kernelspec": {
      "name": "python3",
      "display_name": "Python 3"
    },
    "language_info": {
      "name": "python"
    }
  },
  "cells": [
    {
      "cell_type": "markdown",
      "metadata": {
        "id": "view-in-github",
        "colab_type": "text"
      },
      "source": [
        "<a href=\"https://colab.research.google.com/github/esradag/pytorch-derin-ogrenme/blob/main/01_PyTorch_%C4%B0%C5%9FAk%C4%B1%C5%9F%C4%B1_Temelleri.ipynb\" target=\"_parent\"><img src=\"https://colab.research.google.com/assets/colab-badge.svg\" alt=\"Open In Colab\"/></a>"
      ]
    },
    {
      "cell_type": "markdown",
      "source": [
        "# 01. PyTorch İş Akışı Temelleri\n",
        "\n",
        "Makine öğrenimi ve derin öğrenimin özü, geçmişten bazı verileri almak, bu verilerdeki kalıpları keşfetmek için bir algoritma (örneğin bir sinir ağı) oluşturmak ve keşfedilen kalıpları geleceği tahmin etmek için kullanmaktır.\n",
        "\n",
        "Bunu yapmanın birçok yolu vardır ve her zaman yeni yöntemler keşfedilmektedir.\n",
        "\n",
        "Ama küçük başlayalım.\n",
        "\n",
        "Düz bir doğru ile başlamaya ne dersiniz?\n",
        "\n",
        "Ve PyTorch kullanarak bu doğrunun desenini öğrenip onu eşleştirebilen bir model oluşturmayı deneyelim.\n"
      ],
      "metadata": {
        "id": "ZFABYVA7ix77"
      }
    },
    {
      "cell_type": "markdown",
      "source": [
        "## Neleri Kapsayacağız?\n",
        "\n",
        "Bu modülde standart bir PyTorch iş akışını ele alacağız (gerekirse değiştirilebilir ancak temel adımları kapsar).\n",
        "\n",
        "<img src=\"https://raw.githubusercontent.com/mrdbourke/pytorch-deep-learning/main/images/01_a_pytorch_workflow.png\" width=900 alt=\"bir pytorch iş akışı akış şeması\"/>\n",
        "\n",
        "Şimdilik bu iş akışını basit bir düz çizgiyi tahmin etmek için kullanacağız, ancak bu adımlar üzerinde çalıştığınız probleme göre tekrarlanabilir ve değiştirilebilir.\n",
        "\n",
        "Özellikle şu konuları ele alacağız:\n",
        "\n",
        "| **Konu** | **İçerik** |\n",
        "| ----- | ----- |\n",
        "| **1. Veriyi Hazırlama** | Veri neredeyse her şey olabilir ancak başlamak için basit bir düz çizgi oluşturacağız. |\n",
        "| **2. Model Oluşturma** | Burada verideki kalıpları öğrenebilecek bir model oluşturacağız. Ayrıca bir **kayıp fonksiyonu**, **optimizasyon algoritması** seçecek ve bir **eğitim döngüsü** kuracağız. |\n",
        "| **3. Modeli Veriye Uydurma (Eğitim)** | Artık verimiz ve modelimiz var, şimdi modelin (**eğitim**) verisindeki kalıpları bulmasını sağlayalım. |\n",
        "| **4. Tahmin Yapma ve Modeli Değerlendirme (Çıkarım)** | Modelimiz verideki kalıpları buldu, şimdi bulduklarını gerçek (**test**) verileriyle karşılaştıralım. |\n",
        "| **5. Modeli Kaydetme ve Yükleme** | Modelinizi başka bir yerde kullanmak veya daha sonra geri dönmek isteyebilirsiniz, burada bunu nasıl yapacağımızı ele alacağız. |\n",
        "| **6. Tümünü Birleştirme** | Yukarıdakilerin hepsini alıp bir araya getirelim. |\n"
      ],
      "metadata": {
        "id": "GlnW9d7Vi6dM"
      }
    },
    {
      "cell_type": "markdown",
      "source": [
        "## Nereden Yardım Alabilirsiniz?\n",
        "\n",
        "Bu kursa ait tüm materyaller [GitHub üzerinde mevcuttur](https://github.com/mrdbourke/pytorch-deep-learning).\n",
        "\n",
        "Herhangi bir sorunla karşılaşırsanız, [Tartışmalar sayfasında](https://github.com/mrdbourke/pytorch-deep-learning/discussions) soru sorabilirsiniz.\n",
        "\n",
        "Ayrıca [PyTorch geliştirici forumları](https://discuss.pytorch.org/) da PyTorch ile ilgili her konuda oldukça faydalı bir kaynaktır.\n",
        "\n",
        "Haydi, öğrendiğimiz konuları daha sonra başvurmak üzere bir sözlük (dictionary) içine yerleştirerek başlayalım.\n"
      ],
      "metadata": {
        "id": "YuOvoIP_i8TU"
      }
    },
    {
      "cell_type": "code",
      "execution_count": 1,
      "metadata": {
        "id": "Hj7bBAoFixMg"
      },
      "outputs": [],
      "source": [
        "what_were_covering = {\n",
        "    1: \"data (prepare and load)\",                # Veriyi hazırlama ve yükleme\n",
        "    2: \"build model\",                            # Model oluşturma\n",
        "    3: \"fitting the model to data (training)\",   # Modeli veriye uydurma (eğitim)\n",
        "    4: \"making predictions and evaluating a model (inference)\",  # Tahmin yapma ve modeli değerlendirme (çıkarım)\n",
        "    5: \"saving and loading a model\",             # Modeli kaydetme ve yükleme\n",
        "    6: \"putting it all together\"                 # Tümünü birleştirme\n",
        "}\n"
      ]
    },
    {
      "cell_type": "markdown",
      "source": [
        "Şimdi bu modül için ihtiyaç duyacağımız kütüphaneleri içe aktaralım.\n",
        "\n",
        "`torch`, `torch.nn` (buradaki `nn` sinir ağı anlamına gelir ve PyTorch'ta sinir ağları oluşturmak için gerekli yapı taşlarını içerir) ve `matplotlib` kütüphanelerini kullanacağız.\n"
      ],
      "metadata": {
        "id": "uQacX8xCi_LG"
      }
    },
    {
      "cell_type": "code",
      "source": [
        "import torch\n",
        "from torch import nn  # nn, PyTorch'un sinir ağları için tüm yapı taşlarını içerir\n",
        "import matplotlib.pyplot as plt\n",
        "\n",
        "# PyTorch sürümünü kontrol et\n",
        "torch.__version__\n"
      ],
      "metadata": {
        "id": "7Gt8CZUIjAcJ",
        "colab": {
          "base_uri": "https://localhost:8080/",
          "height": 35
        },
        "outputId": "07cbdf34-9500-4dbf-b4c7-5bfa801a5190"
      },
      "execution_count": 2,
      "outputs": [
        {
          "output_type": "execute_result",
          "data": {
            "text/plain": [
              "'2.5.1+cu121'"
            ],
            "application/vnd.google.colaboratory.intrinsic+json": {
              "type": "string"
            }
          },
          "metadata": {},
          "execution_count": 2
        }
      ]
    },
    {
      "cell_type": "markdown",
      "source": [
        "## 1. Veri (Hazırlama ve Yükleme)\n",
        "\n",
        "Makine öğreniminde \"veri\" neredeyse hayal edebileceğiniz her şey olabilir. Bir sayı tablosu (büyük bir Excel dosyası gibi), her türden görüntü, videolar (YouTube veriyle dolu!), şarkılar veya podcastler gibi ses dosyaları, protein yapıları, metinler ve daha fazlası.\n",
        "\n",
        "![makine öğrenimi iki aşamalı bir oyundur: 1. verini temsil eden sayılar haline getir ve 2. bu temsili en iyi şekilde öğrenebilecek bir model seç veya oluştur](https://raw.githubusercontent.com/mrdbourke/pytorch-deep-learning/main/images/01-machine-learning-a-game-of-two-parts.png)\n",
        "\n",
        "Makine öğrenimi iki aşamalı bir oyundur:  \n",
        "1. Verinizi, ne olursa olsun, sayılara (bir temsile) dönüştürün.  \n",
        "2. Bu temsili en iyi şekilde öğrenebilecek bir modeli seçin veya oluşturun.\n",
        "\n",
        "Bazen bu iki adım aynı anda da yapılabilir.\n",
        "\n",
        "Peki ya veriniz yoksa?\n",
        "\n",
        "İşte şu anda bizim durumumuz bu.\n",
        "\n",
        "Verimiz yok.\n",
        "\n",
        "Ama veri oluşturabiliriz.\n",
        "\n",
        "Verimizi düz bir doğru olarak oluşturalım.\n",
        "\n",
        "[Doğrusal regresyon](https://tr.wikipedia.org/wiki/Do%C4%9Frusal_regresyon) kullanarak bilinen **parametrelerle** (bir model tarafından öğrenilebilecek şeyler) veri oluşturacağız ve ardından PyTorch kullanarak bu parametreleri [**gradyan inişi**](https://tr.wikipedia.org/wiki/Gradyan_ini%C5%9Fi) yöntemiyle tahmin edebilen bir model oluşturup oluşturamayacağımıza bakacağız.\n",
        "\n",
        "Yukarıdaki terimler şu anda çok anlam ifade etmiyorsa endişelenmeyin, bunları uygulamalı olarak göreceğiz ve daha fazla bilgi edinebileceğiniz ekstra kaynakları aşağıda paylaşacağım.\n"
      ],
      "metadata": {
        "id": "GoVekNk7jC4g"
      }
    },
    {
      "cell_type": "code",
      "source": [
        "# *Bilinen* parametreleri oluştur\n",
        "weight = 0.7  # Ağırlık (eğim)\n",
        "bias = 0.3    # Bias (sapma)\n",
        "\n",
        "# Veriyi oluştur\n",
        "start = 0      # Başlangıç değeri\n",
        "end = 1        # Bitiş değeri\n",
        "step = 0.02    # Adım değeri\n",
        "\n",
        "# X değerlerini oluştur ve boyutunu genişlet (unsqueeze ile 2D tensör yapıyoruz)\n",
        "X = torch.arange(start, end, step).unsqueeze(dim=1)\n",
        "\n",
        "# Y değerlerini doğrusal denklemle oluştur: y = weight * X + bias\n",
        "y = weight * X + bias\n",
        "\n",
        "# İlk 10 veriyi görüntüle\n",
        "X[:10], y[:10]\n"
      ],
      "metadata": {
        "id": "eGL8fV3EjElf",
        "colab": {
          "base_uri": "https://localhost:8080/"
        },
        "outputId": "759b8058-e4d0-49ed-f1dd-3421a17fad37"
      },
      "execution_count": 3,
      "outputs": [
        {
          "output_type": "execute_result",
          "data": {
            "text/plain": [
              "(tensor([[0.0000],\n",
              "         [0.0200],\n",
              "         [0.0400],\n",
              "         [0.0600],\n",
              "         [0.0800],\n",
              "         [0.1000],\n",
              "         [0.1200],\n",
              "         [0.1400],\n",
              "         [0.1600],\n",
              "         [0.1800]]),\n",
              " tensor([[0.3000],\n",
              "         [0.3140],\n",
              "         [0.3280],\n",
              "         [0.3420],\n",
              "         [0.3560],\n",
              "         [0.3700],\n",
              "         [0.3840],\n",
              "         [0.3980],\n",
              "         [0.4120],\n",
              "         [0.4260]]))"
            ]
          },
          "metadata": {},
          "execution_count": 3
        }
      ]
    },
    {
      "cell_type": "markdown",
      "source": [
        "Harika! Şimdi `X` (**özellikler**) ile `y` (**etiketler**) arasındaki ilişkiyi öğrenebilecek bir model oluşturmaya geçiyoruz.\n"
      ],
      "metadata": {
        "id": "UY1t6c7wjHMy"
      }
    },
    {
      "cell_type": "markdown",
      "source": [
        "### Veriyi Eğitim ve Test Setlerine Ayırma\n",
        "\n",
        "Artık elimizde bazı veriler var.\n",
        "\n",
        "Ancak bir model oluşturmadan önce bu verileri bölmemiz gerekiyor.\n",
        "\n",
        "Makine öğrenimi projelerindeki en önemli adımlardan biri, veriyi eğitim ve test setlerine (gerekirse doğrulama setine) ayırmaktır.\n",
        "\n",
        "Veri kümesinin her bir bölümü belirli bir amaca hizmet eder:\n",
        "\n",
        "| **Bölüm** | **Amaç** | **Toplam Verinin Oranı** | **Ne Sıklıkla Kullanılır?** |\n",
        "| --------- | -------- | ----------------------- | --------------------------- |\n",
        "| **Eğitim Seti (Training set)** | Model bu veriden öğrenir (dönem boyunca çalıştığınız ders materyalleri gibi). | ~%60-80 | Her zaman |\n",
        "| **Doğrulama Seti (Validation set)** | Model bu veride ayarlanır (final sınavı öncesi çözdüğünüz deneme sınavı gibi). | ~%10-20 | Sık sık ama her zaman değil |\n",
        "| **Test Seti (Testing set)** | Modelin öğrendiklerini değerlendirmek için kullanılır (dönem sonundaki final sınavı gibi). | ~%10-20 | Her zaman |\n",
        "\n",
        "Şimdilik yalnızca eğitim ve test setlerini kullanacağız. Bu sayede modelimizin hem öğrenmesi hem de değerlendirilmesi için iki ayrı veri kümesi olacak.\n",
        "\n",
        "Bu setleri, `X` ve `y` tensörlerimizi bölerek oluşturabiliriz.\n",
        "\n",
        "> **Not:** Gerçek dünya verileriyle çalışırken bu adım genellikle projenin en başında yapılır (test seti her zaman diğer tüm verilerden ayrı tutulmalıdır). Modelin eğitim verisiyle öğrenmesini ve ardından test verisiyle değerlendirilmesini isteriz. Bu şekilde modelin **genelleme** yeteneğini, yani daha önce görmediği örnekler üzerindeki performansını ölçebiliriz.\n"
      ],
      "metadata": {
        "id": "GirF_TqBjIXU"
      }
    },
    {
      "cell_type": "code",
      "source": [
        "# Eğitim/Test setlerini oluştur\n",
        "train_split = int(0.8 * len(X))  # Verinin %80'i eğitim seti, %20'si test seti için ayrılır\n",
        "X_train, y_train = X[:train_split], y[:train_split]  # Eğitim verisi\n",
        "X_test, y_test = X[train_split:], y[train_split:]   # Test verisi\n",
        "\n",
        "# Eğitim ve test setlerinin uzunluklarını kontrol et\n",
        "len(X_train), len(y_train), len(X_test), len(y_test)\n"
      ],
      "metadata": {
        "id": "PqimHlWHjJsk",
        "colab": {
          "base_uri": "https://localhost:8080/"
        },
        "outputId": "93c3e9d6-8dbb-40d7-c043-fc06b1cfa749"
      },
      "execution_count": 4,
      "outputs": [
        {
          "output_type": "execute_result",
          "data": {
            "text/plain": [
              "(40, 40, 10, 10)"
            ]
          },
          "metadata": {},
          "execution_count": 4
        }
      ]
    },
    {
      "cell_type": "markdown",
      "source": [
        "Harika! Eğitim için (`X_train` ve `y_train`) 40 örneğimiz ve test için (`X_test` ve `y_test`) 10 örneğimiz var.\n",
        "\n",
        "Oluşturacağımız model, `X_train` ve `y_train` arasındaki ilişkiyi öğrenmeye çalışacak ve ardından öğrendiklerini `X_test` ve `y_test` üzerinde değerlendireceğiz.\n",
        "\n",
        "Ancak şu anda verilerimiz sadece sayılardan ibaret.\n",
        "\n",
        "Haydi, bu verileri görselleştirmek için bir fonksiyon oluşturalım.\n"
      ],
      "metadata": {
        "id": "eq5kt3kRjnUt"
      }
    },
    {
      "cell_type": "code",
      "source": [
        "def plot_predictions(train_data=X_train,\n",
        "                     train_labels=y_train,\n",
        "                     test_data=X_test,\n",
        "                     test_labels=y_test,\n",
        "                     predictions=None):\n",
        "    \"\"\"\n",
        "    Eğitim verisini, test verisini ve tahminleri karşılaştırmalı olarak görselleştirir.\n",
        "    \"\"\"\n",
        "    plt.figure(figsize=(10, 7))\n",
        "\n",
        "    # Eğitim verisini mavi renkte göster\n",
        "    plt.scatter(train_data, train_labels, c=\"b\", s=4, label=\"Eğitim verisi\")\n",
        "\n",
        "    # Test verisini yeşil renkte göster\n",
        "    plt.scatter(test_data, test_labels, c=\"g\", s=4, label=\"Test verisi\")\n",
        "\n",
        "    # Eğer tahminler varsa, kırmızı renkte göster\n",
        "    if predictions is not None:\n",
        "        plt.scatter(test_data, predictions, c=\"r\", s=4, label=\"Tahminler\")\n",
        "\n",
        "    # Göstergeyi ekle\n",
        "    plt.legend(prop={\"size\": 14})\n"
      ],
      "metadata": {
        "id": "_Lv42ZghjNL_"
      },
      "execution_count": 5,
      "outputs": []
    },
    {
      "cell_type": "code",
      "source": [
        "plot_predictions();"
      ],
      "metadata": {
        "id": "DD0G_pC_jQgI",
        "colab": {
          "base_uri": "https://localhost:8080/",
          "height": 599
        },
        "outputId": "27f2d531-76fe-4660-b92d-7d2bba0c7a97"
      },
      "execution_count": 6,
      "outputs": [
        {
          "output_type": "display_data",
          "data": {
            "text/plain": [
              "<Figure size 1000x700 with 1 Axes>"
            ],
            "image/png": "[encoded data removed]"
          },
          "metadata": {}
        }
      ]
    },
    {
      "cell_type": "markdown",
      "source": [
        "Efsane!\n",
        "\n",
        "Artık verilerimiz sadece sayılardan ibaret değil, düz bir doğru şeklinde görselleştirildi.\n",
        "\n",
        "> **Not:** Şimdi sizi veri keşifçilerinin mottosuyla tanıştırmanın tam zamanı... \"görselleştir, görselleştir, görselleştir!\"\n",
        ">\n",
        "> Verilerle çalışırken ve onları sayılara dönüştürürken bunu aklınızda bulundurun. Eğer bir şeyi görselleştirebiliyorsanız, onu anlamakta harikalar yaratabilir.\n",
        ">\n",
        "> Makineler sayıları sever, biz insanlar da sayıları severiz ama aynı zamanda bir şeyleri görmeyi de severiz.\n"
      ],
      "metadata": {
        "id": "r3UgT3sTjSRq"
      }
    },
    {
      "cell_type": "markdown",
      "source": [
        "## 2. Model Oluşturma\n",
        "\n",
        "Artık elimizde bazı veriler var, şimdi mavi noktaları kullanarak yeşil noktaları tahmin edecek bir model oluşturalım.\n",
        "\n",
        "Hemen işe koyulalım.\n",
        "\n",
        "Önce kodu yazacağız, ardından her şeyi açıklayacağız.\n",
        "\n",
        "Saf PyTorch kullanarak standart bir doğrusal regresyon modelini oluşturalım.\n"
      ],
      "metadata": {
        "id": "tSDBPhyvjTpt"
      }
    },
    {
      "cell_type": "code",
      "source": [
        "# Doğrusal Regresyon Modeli Sınıfı Oluştur\n",
        "class LinearRegressionModel(nn.Module):  # <- PyTorch'taki neredeyse her şey nn.Module'den türetilir (bunu sinir ağı lego parçaları gibi düşünebilirsiniz)\n",
        "    def __init__(self):\n",
        "        super().__init__()\n",
        "        self.weights = nn.Parameter(torch.randn(1,  # <- Rastgele ağırlıklarla başlıyoruz (model öğrendikçe bu değer güncellenecek)\n",
        "                                                dtype=torch.float),  # <- PyTorch varsayılan olarak float32 türünü sever\n",
        "                                   requires_grad=True)  # <- Bu değeri gradyan inişiyle güncelleyebilir miyiz?\n",
        "\n",
        "        self.bias = nn.Parameter(torch.randn(1,  # <- Rastgele bias (sapma) ile başlıyoruz (model öğrendikçe bu değer güncellenecek)\n",
        "                                            dtype=torch.float),  # <- PyTorch varsayılan olarak float32 türünü sever\n",
        "                                requires_grad=True)  # <- Bu değeri gradyan inişiyle güncelleyebilir miyiz?\n",
        "\n",
        "    # Forward metodu modeldeki hesaplamaları tanımlar\n",
        "    def forward(self, x: torch.Tensor) -> torch.Tensor:  # <- \"x\" giriş verisidir (örneğin eğitim/test özellikleri)\n",
        "        return self.weights * x + self.bias  # <- Bu doğrusal regresyon formülüdür (y = m*x + b)\n"
      ],
      "metadata": {
        "id": "GZ7iLuDIjVQu"
      },
      "execution_count": 7,
      "outputs": []
    },
    {
      "cell_type": "markdown",
      "source": [
        "Yukarıda oldukça fazla şey oluyor ama hadi adım adım inceleyelim.\n",
        "\n",
        "> **Kaynak:** Sinir ağları oluşturmak için Python sınıflarını kullanacağız. Python sınıf yapısına aşina değilseniz, [Real Python'un Python 3'te Nesne Yönelimli Programlama rehberini](https://realpython.com/python3-object-oriented-programming/) birkaç kez okumanızı tavsiye ederim.\n"
      ],
      "metadata": {
        "id": "5V8WWPsyjW3K"
      }
    },
    {
      "cell_type": "markdown",
      "source": [
        "### PyTorch Model Oluşturma Temelleri\n",
        "\n",
        "PyTorch'ta hayal edebileceğiniz neredeyse her türlü sinir ağını oluşturmak için kullanabileceğiniz dört (aşağı yukarı) temel modül vardır.\n",
        "\n",
        "Bunlar: [`torch.nn`](https://pytorch.org/docs/stable/nn.html), [`torch.optim`](https://pytorch.org/docs/stable/optim.html), [`torch.utils.data.Dataset`](https://pytorch.org/docs/stable/data.html#torch.utils.data.Dataset) ve [`torch.utils.data.DataLoader`](https://pytorch.org/docs/stable/data.html). Şimdilik ilk iki modüle odaklanacağız, diğer ikisini daha sonra ele alacağız (ne işe yaradıklarını tahmin edebilirsiniz).\n",
        "\n",
        "| **PyTorch Modülü** | **Ne İşe Yarar?** |\n",
        "| ------------------ | ----------------- |\n",
        "| [`torch.nn`](https://pytorch.org/docs/stable/nn.html) | Hesaplama grafikleri için tüm yapı taşlarını içerir (özünde belirli bir şekilde yürütülen bir dizi hesaplama). |\n",
        "| [`torch.nn.Parameter`](https://pytorch.org/docs/stable/generated/torch.nn.parameter.Parameter.html#parameter) | `nn.Module` ile kullanılabilen tensörleri saklar. `requires_grad=True` olduğunda, model parametrelerini [**gradyan inişi**](https://ml-cheatsheet.readthedocs.io/en/latest/gradient_descent.html) ile güncellemek için gerekli gradyanlar otomatik olarak hesaplanır. Bu işlem \"autograd\" olarak adlandırılır. |\n",
        "| [`torch.nn.Module`](https://pytorch.org/docs/stable/generated/torch.nn.Module.html#torch.nn.Module) | Tüm sinir ağı modülleri için temel sınıftır. Sinir ağları için tüm yapı taşları bu sınıftan türetilir. PyTorch'ta bir sinir ağı modeli oluştururken, modelleriniz `nn.Module` sınıfından türetilmelidir. `forward()` metodunun tanımlanması zorunludur. |\n",
        "| [`torch.optim`](https://pytorch.org/docs/stable/optim.html) | Çeşitli optimizasyon algoritmalarını içerir (model parametrelerinin nasıl değişmesi gerektiğini belirler, böylece gradyan inişi iyileştirilir ve kayıp azaltılır). |\n",
        "| `def forward()` | Tüm `nn.Module` alt sınıfları, veri üzerinde gerçekleştirilecek hesaplamayı tanımlayan bir `forward()` metoduna ihtiyaç duyar (örneğin yukarıdaki doğrusal regresyon formülü). |\n",
        "\n",
        "Eğer yukarıdakiler karmaşık geliyorsa şu şekilde düşünebilirsiniz: PyTorch sinir ağlarındaki neredeyse her şey `torch.nn` modülünden gelir.  \n",
        "- **`nn.Module`**, büyük yapı taşlarını (katmanlar) içerir.  \n",
        "- **`nn.Parameter`**, ağırlıklar ve biaslar gibi küçük parametreleri barındırır (bunlar birleştirilerek `nn.Module` oluşturulur).  \n",
        "- **`forward()`**, büyük yapı taşlarının girdiler üzerinde nasıl hesaplama yapacağını belirler (veri dolu tensörler).  \n",
        "- **`torch.optim`**, `nn.Parameter` içindeki parametreleri girdileri daha iyi temsil edecek şekilde iyileştirmek için kullanılan optimizasyon yöntemlerini içerir.  \n",
        "\n",
        "![a pytorch linear model with annotations](https://raw.githubusercontent.com/mrdbourke/pytorch-deep-learning/main/images/01-pytorch-linear-model-annotated.png)  \n",
        "*`nn.Module` sınıfını genişleterek PyTorch modeli oluşturmanın temel yapı taşları. `nn.Module` sınıfından türeyen nesnelerde `forward()` metodu tanımlanmalıdır.*\n",
        "\n",
        "> **Kaynak:** Bu temel modüller ve kullanım alanları hakkında daha fazla bilgi almak için [PyTorch Cheat Sheet](https://pytorch.org/tutorials/beginner/ptcheat.html) kaynağını inceleyebilirsiniz.\n"
      ],
      "metadata": {
        "id": "QsfGs2mojYl0"
      }
    },
    {
      "cell_type": "markdown",
      "source": [
        "### PyTorch Modelinin İçeriğini Kontrol Etme\n",
        "\n",
        "Artık bu temel bilgileri öğrendiğimize göre, oluşturduğumuz sınıfla bir model örneği oluşturalım ve modelin parametrelerini [.parameters()](https://pytorch.org/docs/stable/generated/torch.nn.Module.html#torch.nn.Module.parameters) yöntemiyle kontrol edelim.\n"
      ],
      "metadata": {
        "id": "3f0cDPMRjb5S"
      }
    },
    {
      "cell_type": "code",
      "source": [
        "# nn.Parameter rastgele başlatıldığı için manuel tohumlama yapıyoruz\n",
        "torch.manual_seed(42)\n",
        "\n",
        "# Modelin bir örneğini oluşturuyoruz (bu, nn.Parameter(s) içeren nn.Module sınıfının bir alt sınıfıdır)\n",
        "model_0 = LinearRegressionModel()\n",
        "\n",
        "# Oluşturduğumuz nn.Module alt sınıfı içindeki nn.Parameter(s) değerlerini kontrol ediyoruz\n",
        "list(model_0.parameters())\n"
      ],
      "metadata": {
        "id": "b-lcgNEajcV7",
        "colab": {
          "base_uri": "https://localhost:8080/"
        },
        "outputId": "a061192e-519b-43cb-82a5-138547a0f7d0"
      },
      "execution_count": 8,
      "outputs": [
        {
          "output_type": "execute_result",
          "data": {
            "text/plain": [
              "[Parameter containing:\n",
              " tensor([0.3367], requires_grad=True),\n",
              " Parameter containing:\n",
              " tensor([0.1288], requires_grad=True)]"
            ]
          },
          "metadata": {},
          "execution_count": 8
        }
      ]
    },
    {
      "cell_type": "markdown",
      "source": [
        "Modelin içeriğini (modelin ne içerdiğini) [.state_dict()](https://pytorch.org/docs/stable/generated/torch.nn.Module.html#torch.nn.Module.state_dict) yöntemiyle de görebiliriz.\n"
      ],
      "metadata": {
        "id": "I3mhwRKwlNjA"
      }
    },
    {
      "cell_type": "code",
      "source": [
        "# Modeldeki adlandırılmış parametreleri listele\n",
        "model_0.state_dict()\n"
      ],
      "metadata": {
        "id": "-k-Vf_QulOpM",
        "colab": {
          "base_uri": "https://localhost:8080/"
        },
        "outputId": "e36fb32f-b4be-459b-90e2-f3e2d15e8b79"
      },
      "execution_count": 9,
      "outputs": [
        {
          "output_type": "execute_result",
          "data": {
            "text/plain": [
              "OrderedDict([('weights', tensor([0.3367])), ('bias', tensor([0.1288]))])"
            ]
          },
          "metadata": {},
          "execution_count": 9
        }
      ]
    },
    {
      "cell_type": "markdown",
      "source": [
        "`model_0.state_dict()` çıktısındaki `weights` ve `bias` değerlerinin rastgele float tensörler olarak geldiğini fark ettiniz mi?\n",
        "\n",
        "Bunun nedeni, bu parametreleri yukarıda `torch.randn()` kullanarak başlatmış olmamızdır.\n",
        "\n",
        "Temel olarak, rastgele başlatılan parametrelerden başlamak ve modeli, verimize en iyi uyum sağlayacak parametrelere doğru güncellemeye çalışmak istiyoruz (düz çizgi verimizi oluştururken belirlediğimiz sabit `weight` ve `bias` değerleri).\n",
        "\n",
        "> **Alıştırma:** Yukarıdaki iki hücrede yer alan `torch.manual_seed()` değerini değiştirin ve ağırlık ve bias değerlerinde ne gibi değişiklikler olduğunu gözlemleyin.\n",
        "\n",
        "Modelimiz rastgele değerlerle başladığı için şu anda tahmin gücü zayıf olacaktır.\n"
      ],
      "metadata": {
        "id": "a5RZnKChlQdP"
      }
    },
    {
      "cell_type": "markdown",
      "source": [
        "### `torch.inference_mode()` Kullanarak Tahmin Yapma\n",
        "\n",
        "Bunu kontrol etmek için, test verisi olan `X_test`'i modele vererek `y_test`'e ne kadar yakın tahminler yaptığını görebiliriz.\n",
        "\n",
        "Veriyi modele aktardığımızda, modelin `forward()` metodu üzerinden geçerek tanımladığımız hesaplama doğrultusunda bir sonuç üretir.\n",
        "\n",
        "Haydi, bazı tahminler yapalım.\n"
      ],
      "metadata": {
        "id": "0_YoiTPylTD-"
      }
    },
    {
      "cell_type": "code",
      "source": [
        "# Model ile tahmin yap\n",
        "with torch.inference_mode():\n",
        "    y_preds = model_0(X_test)\n",
        "\n",
        "# Not: Eski PyTorch sürümlerinde torch.no_grad() da kullanılabilir\n",
        "# with torch.no_grad():\n",
        "#     y_preds = model_0(X_test)\n"
      ],
      "metadata": {
        "id": "AH-qFxAulVZ7"
      },
      "execution_count": 10,
      "outputs": []
    },
    {
      "cell_type": "markdown",
      "source": [
        "Hmm?\n",
        "\n",
        "Muhtemelen tahmin yaparken [`torch.inference_mode()`](https://pytorch.org/docs/stable/generated/torch.inference_mode.html) kullandığımızı fark ettiniz. Bu yöntemi bir [context manager](https://realpython.com/python-with-statement/) olarak kullandık (yani `with torch.inference_mode():` yapısı).\n",
        "\n",
        "İsminin de belirttiği gibi, `torch.inference_mode()` bir modeli çıkarım (tahmin) için kullandığımızda tercih edilir.\n",
        "\n",
        "`torch.inference_mode()`, birçok işlemi (özellikle eğitim sırasında gerekli olan ancak tahmin sırasında gereksiz olan gradyan takibini) kapatarak **ileri geçişleri** (verinin `forward()` metodundan geçmesi) daha hızlı hale getirir.\n",
        "\n",
        "> **Not:** Eski PyTorch kodlarında çıkarım için `torch.no_grad()` kullanımını da görebilirsiniz.  \n",
        "> `torch.inference_mode()` ve `torch.no_grad()` benzer işlevler sunsa da, `torch.inference_mode()` daha yeni, potansiyel olarak daha hızlıdır ve tercih edilir. Daha fazla bilgi için bu [PyTorch Tweet'ine](https://twitter.com/PyTorch/status/1437838231505096708?s=20) göz atabilirsiniz.\n",
        "\n",
        "Şimdi bazı tahminler yaptık, haydi nasıl göründüklerine bakalım.\n"
      ],
      "metadata": {
        "id": "wfPKTwOBlXIm"
      }
    },
    {
      "cell_type": "code",
      "source": [
        "# Tahminleri kontrol et\n",
        "print(f\"Test verisi örnek sayısı: {len(X_test)}\")\n",
        "print(f\"Yapılan tahmin sayısı: {len(y_preds)}\")\n",
        "print(f\"Tahmin edilen değerler:\\n{y_preds}\")\n"
      ],
      "metadata": {
        "id": "T0zzPbI-lYcF",
        "colab": {
          "base_uri": "https://localhost:8080/"
        },
        "outputId": "4facba68-5c4f-4675-dbd5-d57181b2838f"
      },
      "execution_count": 11,
      "outputs": [
        {
          "output_type": "stream",
          "name": "stdout",
          "text": [
            "Test verisi örnek sayısı: 10\n",
            "Yapılan tahmin sayısı: 10\n",
            "Tahmin edilen değerler:\n",
            "tensor([[0.3982],\n",
            "        [0.4049],\n",
            "        [0.4116],\n",
            "        [0.4184],\n",
            "        [0.4251],\n",
            "        [0.4318],\n",
            "        [0.4386],\n",
            "        [0.4453],\n",
            "        [0.4520],\n",
            "        [0.4588]])\n"
          ]
        }
      ]
    },
    {
      "cell_type": "markdown",
      "source": [
        "Her test örneği için bir tahmin değeri olduğunu fark ettiniz mi?\n",
        "\n",
        "Bunun nedeni, kullandığımız veri türü. Düz bir doğru için, bir `X` değeri bir `y` değerine karşılık gelir.\n",
        "\n",
        "Ancak, makine öğrenimi modelleri oldukça esnektir. 100 adet `X` değeri bir, iki, üç veya 10 adet `y` değerine eşlenebilir. Bu tamamen üzerinde çalıştığınız probleme bağlıdır.\n",
        "\n",
        "Tahminlerimiz hâlâ sayısal değerler olarak duruyor. Haydi, yukarıda oluşturduğumuz `plot_predictions()` fonksiyonunu kullanarak bu tahminleri görselleştirelim.\n"
      ],
      "metadata": {
        "id": "WSFovOVslnZq"
      }
    },
    {
      "cell_type": "code",
      "source": [
        "plot_predictions(predictions=y_preds)"
      ],
      "metadata": {
        "id": "Ck-DszrmloWY",
        "colab": {
          "base_uri": "https://localhost:8080/",
          "height": 599
        },
        "outputId": "6fa5198e-88fb-4f35-8df9-88412d00f91f"
      },
      "execution_count": 12,
      "outputs": [
        {
          "output_type": "display_data",
          "data": {
            "text/plain": [
              "<Figure size 1000x700 with 1 Axes>"
            ],
            "image/png": "[encoded data removed]"
          },
          "metadata": {}
        }
      ]
    },
    {
      "cell_type": "code",
      "source": [
        "y_test - y_preds"
      ],
      "metadata": {
        "id": "1tkJ2S-Elr2N",
        "colab": {
          "base_uri": "https://localhost:8080/"
        },
        "outputId": "017352cd-a830-4db7-a5d1-c315a800185e"
      },
      "execution_count": 13,
      "outputs": [
        {
          "output_type": "execute_result",
          "data": {
            "text/plain": [
              "tensor([[0.4618],\n",
              "        [0.4691],\n",
              "        [0.4764],\n",
              "        [0.4836],\n",
              "        [0.4909],\n",
              "        [0.4982],\n",
              "        [0.5054],\n",
              "        [0.5127],\n",
              "        [0.5200],\n",
              "        [0.5272]])"
            ]
          },
          "metadata": {},
          "execution_count": 13
        }
      ]
    },
    {
      "cell_type": "markdown",
      "source": [
        "Vay! Bu tahminler oldukça kötü görünüyor...\n",
        "\n",
        "Ancak bu oldukça mantıklı çünkü modelimiz şu anda tahmin yapmak için rastgele parametre değerleri kullanıyor.\n",
        "\n",
        "Model, yeşil noktaları tahmin etmeye çalışmak için mavi noktalara bile bakmadı.\n",
        "\n",
        "Bunu değiştirme zamanı geldi.\n"
      ],
      "metadata": {
        "id": "-KrIQvIXlxbG"
      }
    },
    {
      "cell_type": "markdown",
      "source": [
        "## 3. Modeli Eğitme\n",
        "\n",
        "Şu anda modelimiz rastgele parametreler kullanarak tahmin yapıyor, yani aslında rastgele tahminlerde bulunuyor.\n",
        "\n",
        "Bunu düzeltmek için, modelin iç parametrelerini (*parametreler* terimini *kalıplar* olarak da düşünebilirsiniz), `nn.Parameter()` ve `torch.randn()` ile rastgele başlattığımız `weights` (ağırlık) ve `bias` (sapma) değerlerini veriyi daha iyi temsil edecek şekilde güncelleyebiliriz.\n",
        "\n",
        "Bu değerleri (başlangıçta belirlediğimiz `weight=0.7` ve `bias=0.3`) manuel olarak ayarlayabiliriz ama bu pek eğlenceli olmaz!\n",
        "\n",
        "Çoğu zaman bir model için ideal parametrelerin ne olduğunu bilemezsiniz.\n",
        "\n",
        "Bunun yerine, kod yazarak modelin bu parametreleri kendi kendine öğrenip öğrenemeyeceğini görmek çok daha eğlencelidir.\n"
      ],
      "metadata": {
        "id": "EbbphlMgmLfa"
      }
    },
    {
      "cell_type": "markdown",
      "source": [
        "### PyTorch'ta Kayıp Fonksiyonu ve Optimizasyon Yöntemi Oluşturma\n",
        "\n",
        "Modelimizin parametrelerini kendi kendine güncelleyebilmesi için birkaç şey daha eklememiz gerekiyor.\n",
        "\n",
        "Bunlar **kayıp fonksiyonu (loss function)** ve **optimizasyon yöntemi (optimizer)**.\n",
        "\n",
        "Bunların görevleri:\n",
        "\n",
        "| **Fonksiyon** | **Ne İşe Yarar?** | **PyTorch'ta Nerede?** | **Yaygın Kullanımlar** |\n",
        "| ------------- | ----------------- | ---------------------- | --------------------- |\n",
        "| **Kayıp Fonksiyonu** | Modelin tahminlerinin (örneğin `y_preds`) gerçek etiketlerden (örneğin `y_test`) ne kadar sapma gösterdiğini ölçer. Ne kadar düşükse o kadar iyidir. | [`torch.nn`](https://pytorch.org/docs/stable/nn.html#loss-functions) içinde birçok yerleşik kayıp fonksiyonu bulunur. | Regresyon problemleri için Ortalama Mutlak Hata (MAE) ([`torch.nn.L1Loss()`](https://pytorch.org/docs/stable/generated/torch.nn.L1Loss.html)). İkili sınıflandırma için Binary Cross Entropy ([`torch.nn.BCELoss()`](https://pytorch.org/docs/stable/generated/torch.nn.BCELoss.html)). |\n",
        "| **Optimizasyon Yöntemi** | Modelin iç parametrelerini kaybı minimize edecek şekilde nasıl güncelleyeceğini belirler. | [`torch.optim`](https://pytorch.org/docs/stable/optim.html) içinde çeşitli optimizasyon yöntemleri bulunur. | Stokastik Gradyan İnişi (SGD) ([`torch.optim.SGD()`](https://pytorch.org/docs/stable/generated/torch.optim.SGD.html#torch.optim.SGD)). Adam optimizasyonu ([`torch.optim.Adam()`](https://pytorch.org/docs/stable/generated/torch.optim.Adam.html#torch.optim.Adam)). |\n",
        "\n",
        "Haydi, modelimizi iyileştirmek için bir kayıp fonksiyonu ve optimizasyon yöntemi oluşturalım.\n",
        "\n",
        "Çalıştığınız probleme bağlı olarak kullanacağınız kayıp fonksiyonu ve optimizasyon yöntemi değişir.  \n",
        "Ancak regresyon problemlerinde MAE (`torch.nn.L1Loss()`) ve sınıflandırma problemlerinde Binary Cross Entropy yaygın olarak kullanılır.  \n",
        "\n",
        "Bizim problemimizde sayı tahmini yaptığımız için, kayıp fonksiyonu olarak **MAE**'yi (`torch.nn.L1Loss()`) kullanacağız.  \n",
        "\n",
        "![MAE kaybının görselleştirilmiş hali](https://raw.githubusercontent.com/mrdbourke/pytorch-deep-learning/main/images/01-mae-loss-annotated.png)  \n",
        "*Ortalama Mutlak Hata (MAE, PyTorch: `torch.nn.L1Loss`), tahminler ile gerçek değerler arasındaki mutlak farkı ölçer ve tüm örnekler üzerinde ortalamasını alır.*\n",
        "\n",
        "Optimizasyon yöntemi olarak ise **SGD** (Stochastic Gradient Descent) kullanacağız:  \n",
        "`torch.optim.SGD(params, lr)`\n",
        "\n",
        "- `params`: Optimize etmek istediğimiz model parametreleri (örneğin, rastgele başlattığımız `weights` ve `bias`).  \n",
        "- `lr`: **Öğrenme oranı (learning rate)**. Parametrelerin ne kadar hızlı güncelleneceğini belirler. Daha yüksek değerler daha büyük adımlar atar (bazen çok büyük olabilir ve model öğrenemez), daha düşük değerler daha küçük adımlar atar (çok küçük olursa öğrenme süresi uzayabilir). Öğrenme oranı bir **hiperparametre**dir ve genellikle `0.01`, `0.001`, `0.0001` gibi değerlerle başlanır. Zamanla ayarlanabilir ([öğrenme oranı zamanlaması](https://pytorch.org/docs/stable/optim.html#how-to-adjust-learning-rate)).\n",
        "\n",
        "Bu çok fazla bilgi gibi görünüyor, haydi bunu kodda görelim.\n"
      ],
      "metadata": {
        "id": "_zfnmswQmcMS"
      }
    },
    {
      "cell_type": "code",
      "source": [
        "# Kayıp fonksiyonunu oluştur\n",
        "loss_fn = nn.L1Loss()  # MAE kaybı, L1Loss ile aynıdır\n",
        "\n",
        "# Optimizasyon yöntemini oluştur\n",
        "optimizer = torch.optim.SGD(params=model_0.parameters(),  # Optimize edilecek modelin parametreleri\n",
        "                            lr=0.01)  # Öğrenme oranı (her adımda parametrelerin ne kadar değişeceğini belirler, yüksek değer = daha fazla (daha az stabil), düşük değer = daha az (daha uzun sürebilir))\n"
      ],
      "metadata": {
        "id": "pFE2SrYAmMC1"
      },
      "execution_count": 14,
      "outputs": []
    },
    {
      "cell_type": "markdown",
      "source": [
        "### PyTorch'ta Optimizasyon Döngüsü Oluşturma\n",
        "\n",
        "Harika! Artık bir kayıp fonksiyonumuz ve optimizasyon yöntemimiz var. Şimdi sırada **eğitim döngüsü** (**training loop**) ve **test döngüsü** (**testing loop**) oluşturmak var.\n",
        "\n",
        "- **Eğitim Döngüsü (Training Loop):** Modelin eğitim verisinden geçerek `özellikler` (features) ve `etiketler` (labels) arasındaki ilişkiyi öğrenmesini sağlar.  \n",
        "- **Test Döngüsü (Testing Loop):** Modelin hiç görmediği test verisi üzerinden geçerek, eğitim sırasında öğrendiği kalıpların ne kadar iyi olduğunu değerlendirir.  \n",
        "\n",
        "Bunlara \"döngü\" denir çünkü modelimizin her bir veri örneğini tekrar tekrar gözden geçirmesini isteriz.\n",
        "\n",
        "Bu döngüleri oluşturmak için [resmi olmayan PyTorch optimizasyon döngüsü şarkısı](https://twitter.com/mrdbourke/status/1450977868406673410?s=20) (bir de [video versiyonu](https://youtu.be/Nutpusq_AFw) var) temasıyla Python `for` döngüsü yazacağız.  \n",
        "\n",
        "![resmi olmayan pytorch optimizasyon döngüsü şarkısı](https://raw.githubusercontent.com/mrdbourke/pytorch-deep-learning/main/images/01-pytorch-optimization-loop-song.png)  \n",
        "*PyTorch eğitim ve test döngülerini hatırlamanın eğlenceli bir yolu.*\n",
        "\n",
        "Kod biraz uzun olabilir ama üstesinden gelebiliriz!\n"
      ],
      "metadata": {
        "id": "VyxFUMKZmzCA"
      }
    },
    {
      "cell_type": "markdown",
      "source": [
        "### PyTorch Eğitim Döngüsü\n",
        "\n",
        "Eğitim döngüsü için şu adımları oluşturacağız:\n",
        "\n",
        "| **Adım No** | **Adım Adı** | **Ne Yapar?** | **Kod Örneği** |\n",
        "| ------------ | ------------- | -------------- | --------------- |\n",
        "| 1 | **İleri Geçiş (Forward Pass)** | Model, tüm eğitim verisinden bir kez geçer ve `forward()` fonksiyonunu kullanarak hesaplamalarını yapar. | `model(X_train)` |\n",
        "| 2 | **Kayıp Hesaplama** | Modelin çıktıları (tahminler), gerçek değerlerle karşılaştırılır ve ne kadar yanlış oldukları ölçülür. | `loss = loss_fn(y_pred, y_train)` |\n",
        "| 3 | **Gradyanları Sıfırlama** | Optimizasyon için gradyanlar sıfırlanır (varsayılan olarak birikirler), böylece belirli eğitim adımı için yeniden hesaplanabilirler. | `optimizer.zero_grad()` |\n",
        "| 4 | **Kayıp Üzerinden Geri Yayılım (Backpropagation)** | Kayıp fonksiyonunun model parametreleri üzerindeki gradyanları hesaplanır (`requires_grad=True` olan parametreler için). Bu işleme **geri yayılım** denir. | `loss.backward()` |\n",
        "| 5 | **Optimizasyon Adımı (Gradyan İnişi)** | Gradyanlar doğrultusunda modelin öğrenilebilir parametreleri güncellenir. | `optimizer.step()` |\n",
        "\n",
        "![pytorch eğitim döngüsü](https://raw.githubusercontent.com/mrdbourke/pytorch-deep-learning/main/images/01-pytorch-training-loop-annotated.png)\n",
        "\n",
        "> **Not:** Yukarıdaki adımlar, eğitim döngüsünün nasıl sıralanabileceğine dair bir örnektir. Deneyim kazandıkça, PyTorch eğitim döngülerinin oldukça esnek olduğunu göreceksiniz.  \n",
        ">\n",
        "> Adımların sıralaması için bazı temel kurallar:\n",
        "> * **Kayıp hesaplaması** (`loss = ...`), geri yayılımdan (`loss.backward()`) *önce* yapılmalıdır.  \n",
        "> * **Gradyanlar sıfırlanmalı** (`optimizer.zero_grad()`), kayıp fonksiyonunun gradyanları hesaplanmadan (`loss.backward()`) *önce* yapılmalıdır.  \n",
        "> * **Optimizasyon adımı** (`optimizer.step()`), geri yayılımdan (`loss.backward()`) *sonra* yapılmalıdır.  \n",
        "\n",
        "Geri yayılım (backpropagation) ve gradyan inişi (gradient descent) süreçlerinin nasıl çalıştığını daha iyi anlamak için ekstra kaynakları inceleyebilirsiniz.\n"
      ],
      "metadata": {
        "id": "f69kIb4ZnDTS"
      }
    },
    {
      "cell_type": "markdown",
      "source": [
        "### PyTorch Test Döngüsü\n",
        "\n",
        "Modelimizi değerlendirmek için test döngüsünde genellikle şu adımlar yer alır:\n",
        "\n",
        "| **Adım No** | **Adım Adı** | **Ne Yapar?** | **Kod Örneği** |\n",
        "| ------------ | ------------- | -------------- | --------------- |\n",
        "| 1 | **İleri Geçiş (Forward Pass)** | Model, tüm test verisinden bir kez geçer ve `forward()` fonksiyonunu kullanarak hesaplamalarını yapar. | `model(X_test)` |\n",
        "| 2 | **Kayıp Hesaplama** | Modelin çıktıları (tahminler), gerçek değerlerle karşılaştırılır ve ne kadar yanlış oldukları ölçülür. | `loss = loss_fn(y_pred, y_test)` |\n",
        "| 3 | **Değerlendirme Metriklerini Hesaplama (Opsiyonel)** | Kayıp değeri dışında, test seti üzerindeki doğruluk gibi başka değerlendirme metrikleri de hesaplanabilir. | Özel fonksiyonlar |\n",
        "\n",
        "Dikkat edin, test döngüsünde geri yayılım (`loss.backward()`) veya optimizasyon adımı (`optimizer.step()`) yer almaz. Bunun nedeni, test sırasında modelin parametrelerinin değiştirilmemesidir; bu parametreler zaten eğitim sırasında öğrenilmiştir.  \n",
        "Test aşamasında yalnızca modelin ileri geçiş (forward pass) çıktılarıyla ilgileniriz.\n",
        "\n",
        "![pytorch açıklamalı test döngüsü](https://raw.githubusercontent.com/mrdbourke/pytorch-deep-learning/main/images/01-pytorch-testing-loop-annotated.png)\n",
        "\n",
        "Şimdi yukarıdaki tüm adımları birleştirip modelimizi **100 epoch** boyunca eğitelim ve her 10 epoch'ta bir değerlendirelim.\n"
      ],
      "metadata": {
        "id": "NyZy1OF9nD5q"
      }
    },
    {
      "cell_type": "code",
      "source": [
        "torch.manual_seed(42)\n",
        "\n",
        "# Epoch sayısını belirle (modelin eğitim verisi üzerinde kaç kez geçiş yapacağını belirler)\n",
        "epochs = 100\n",
        "\n",
        "# Kayıp değerlerini takip etmek için boş listeler oluştur\n",
        "train_loss_values = []\n",
        "test_loss_values = []\n",
        "epoch_count = []\n",
        "\n",
        "for epoch in range(epochs):\n",
        "    ### Eğitim Aşaması\n",
        "\n",
        "    # Modeli eğitim moduna al (varsayılan moddur)\n",
        "    model_0.train()\n",
        "\n",
        "    # 1. Eğitim verisi üzerinde ileri geçiş (forward pass)\n",
        "    y_pred = model_0(X_train)\n",
        "\n",
        "    # 2. Kayıp hesaplama (modelin tahminleri ile gerçek değerler arasındaki fark)\n",
        "    loss = loss_fn(y_pred, y_train)\n",
        "\n",
        "    # 3. Optimizasyonun gradyanlarını sıfırla\n",
        "    optimizer.zero_grad()\n",
        "\n",
        "    # 4. Geri yayılım (backpropagation)\n",
        "    loss.backward()\n",
        "\n",
        "    # 5. Optimizasyonu ilerlet (ağırlıkları güncelle)\n",
        "    optimizer.step()\n",
        "\n",
        "    ### Test Aşaması\n",
        "\n",
        "    # Modeli değerlendirme moduna al\n",
        "    model_0.eval()\n",
        "\n",
        "    with torch.inference_mode():\n",
        "        # 1. Test verisi üzerinde ileri geçiş\n",
        "        test_pred = model_0(X_test)\n",
        "\n",
        "        # 2. Test verisi için kayıp hesaplama\n",
        "        test_loss = loss_fn(test_pred, y_test.type(torch.float))  # Tahminler torch.float türünde olduğu için, karşılaştırmalar aynı türde yapılmalı\n",
        "\n",
        "        # Her 10 epoch'ta bir durumu yazdır\n",
        "        if epoch % 10 == 0:\n",
        "            epoch_count.append(epoch)\n",
        "            train_loss_values.append(loss.detach().numpy())\n",
        "            test_loss_values.append(test_loss.detach().numpy())\n",
        "            print(f\"Epoch: {epoch} | MAE Eğitim Kaybı: {loss} | MAE Test Kaybı: {test_loss}\")\n"
      ],
      "metadata": {
        "id": "PYqLTZMGlx9X",
        "colab": {
          "base_uri": "https://localhost:8080/"
        },
        "outputId": "12f9cd4a-336e-41db-f3fa-b805a93518d1"
      },
      "execution_count": 15,
      "outputs": [
        {
          "output_type": "stream",
          "name": "stdout",
          "text": [
            "Epoch: 0 | MAE Eğitim Kaybı: 0.31288138031959534 | MAE Test Kaybı: 0.48106518387794495\n",
            "Epoch: 10 | MAE Eğitim Kaybı: 0.1976713240146637 | MAE Test Kaybı: 0.3463551998138428\n",
            "Epoch: 20 | MAE Eğitim Kaybı: 0.08908725529909134 | MAE Test Kaybı: 0.21729660034179688\n",
            "Epoch: 30 | MAE Eğitim Kaybı: 0.053148526698350906 | MAE Test Kaybı: 0.14464017748832703\n",
            "Epoch: 40 | MAE Eğitim Kaybı: 0.04543796554207802 | MAE Test Kaybı: 0.11360953003168106\n",
            "Epoch: 50 | MAE Eğitim Kaybı: 0.04167863354086876 | MAE Test Kaybı: 0.09919948130846024\n",
            "Epoch: 60 | MAE Eğitim Kaybı: 0.03818932920694351 | MAE Test Kaybı: 0.08886633068323135\n",
            "Epoch: 70 | MAE Eğitim Kaybı: 0.03476089984178543 | MAE Test Kaybı: 0.0805937647819519\n",
            "Epoch: 80 | MAE Eğitim Kaybı: 0.03132382780313492 | MAE Test Kaybı: 0.07232122868299484\n",
            "Epoch: 90 | MAE Eğitim Kaybı: 0.02788739837706089 | MAE Test Kaybı: 0.06473556160926819\n"
          ]
        }
      ]
    },
    {
      "cell_type": "markdown",
      "source": [
        "Vay canına! Görünüşe göre kayıp değerimiz her epoch'ta azalıyor. Haydi bunu görselleştirerek doğrulayalım.\n"
      ],
      "metadata": {
        "id": "TaYlR_QHqhJ3"
      }
    },
    {
      "cell_type": "code",
      "source": [
        "# Kayıp Eğrilerini Çizdirme\n",
        "\n",
        "plt.plot(epoch_count, train_loss_values, label=\"Eğitim Kaybı\")\n",
        "plt.plot(epoch_count, test_loss_values, label=\"Test Kaybı\")\n",
        "plt.title(\"Eğitim ve Test Kayıp Eğrileri\")\n",
        "plt.ylabel(\"Kayıp\")\n",
        "plt.xlabel(\"Epoch\")\n",
        "plt.legend();\n"
      ],
      "metadata": {
        "colab": {
          "base_uri": "https://localhost:8080/",
          "height": 472
        },
        "id": "02xl7yTwqs8f",
        "outputId": "620094da-6c89-4697-856e-ff26010a666b"
      },
      "execution_count": 16,
      "outputs": [
        {
          "output_type": "display_data",
          "data": {
            "text/plain": [
              "<Figure size 640x480 with 1 Axes>"
            ],
            "image/png": "[encoded data removed]"
          },
          "metadata": {}
        }
      ]
    },
    {
      "cell_type": "markdown",
      "source": [
        "Harika! **Kayıp eğrileri**, kaybın zamanla azaldığını gösteriyor. Unutmayın, kayıp modelinizin ne kadar *yanlış* olduğunu ölçer, dolayısıyla daha düşük olması daha iyidir.\n",
        "\n",
        "Peki, kayıp neden azaldı?\n",
        "\n",
        "Kayıp fonksiyonumuz ve optimizasyon yöntemimiz sayesinde modelin iç parametreleri (`weights` ve `bias`), verideki temel kalıpları daha iyi yansıtacak şekilde güncellendi.\n",
        "\n",
        "Haydi, modelimizin [`.state_dict()`](https://pytorch.org/tutorials/recipes/recipes/what_is_state_dict.html) metodunu inceleyerek ağırlıklar ve bias için belirlediğimiz orijinal değerlere ne kadar yaklaştığını görelim.\n"
      ],
      "metadata": {
        "id": "BktZAeMLqvc6"
      }
    },
    {
      "cell_type": "code",
      "source": [
        "# Modelimizin öğrendiği parametreleri bulalım\n",
        "print(\"Modelin öğrendiği ağırlık ve bias değerleri:\")\n",
        "print(model_0.state_dict())\n",
        "print(\"\\nVe orijinal ağırlık ve bias değerleri:\")\n",
        "print(f\"ağırlık: {weight}, bias: {bias}\")\n"
      ],
      "metadata": {
        "colab": {
          "base_uri": "https://localhost:8080/"
        },
        "id": "flQFiSYEqv_0",
        "outputId": "c4067363-7137-4f03-8097-bcadf87acf3b"
      },
      "execution_count": 17,
      "outputs": [
        {
          "output_type": "stream",
          "name": "stdout",
          "text": [
            "Modelin öğrendiği ağırlık ve bias değerleri:\n",
            "OrderedDict([('weights', tensor([0.5784])), ('bias', tensor([0.3513]))])\n",
            "\n",
            "Ve orijinal ağırlık ve bias değerleri:\n",
            "ağırlık: 0.7, bias: 0.3\n"
          ]
        }
      ]
    },
    {
      "cell_type": "markdown",
      "source": [
        "Vay canına! Ne kadar havalı değil mi?\n",
        "\n",
        "Modelimiz, `weight` ve `bias` için belirlediğimiz orijinal değerlere oldukça yaklaştı (ve muhtemelen daha uzun süre eğitirsek daha da yaklaşır).\n",
        "\n",
        "> **Alıştırma:** Yukarıdaki `epochs` değerini 200 olarak değiştirin. Kayıp eğrileri ve modelin ağırlık ve bias parametrelerinde ne gibi değişiklikler oluyor?\n",
        "\n",
        "Model bu değerleri *mükemmel* şekilde tahmin edemeyebilir (özellikle daha karmaşık veri setlerinde) ama bu sorun değil. Genellikle yakın bir tahmin bile oldukça etkileyici sonuçlar verebilir.\n",
        "\n",
        "Makine öğrenimi ve derin öğrenmenin temel fikri de budur: **verimizi tanımlayan bazı ideal değerler vardır** ve bunları elle hesaplamak yerine, **bir modeli bu değerleri programatik olarak bulması için eğitebiliriz**.\n"
      ],
      "metadata": {
        "id": "7KUf7WvFqzDE"
      }
    },
    {
      "cell_type": "markdown",
      "source": [
        "## 4. Eğitilmiş Bir PyTorch Modeli ile Tahmin Yapma (Çıkarım)\n",
        "\n",
        "Bir modeli eğittikten sonra, büyük ihtimalle onunla tahminler yapmak isteyeceksiniz.\n",
        "\n",
        "Bunun bir kısmını yukarıdaki eğitim ve test kodunda görmüştük, ancak eğitim/test döngüsü dışında tahmin yapmak için adımlar benzerdir.\n",
        "\n",
        "PyTorch modeli ile tahmin (çıkarım) yaparken hatırlanması gereken üç önemli nokta vardır:\n",
        "\n",
        "1. **Modeli değerlendirme moduna al** (`model.eval()`).\n",
        "2. **Tahminleri çıkarım modu ile yap** (`with torch.inference_mode(): ...`).\n",
        "3. **Tüm tahminler aynı cihazda yapılmalı** (örneğin, veri ve model yalnızca GPU'da veya yalnızca CPU'da olmalı).\n",
        "\n",
        "İlk iki madde, PyTorch'un eğitim sırasında arka planda yaptığı ancak çıkarım için gerekli olmayan tüm hesaplamaları ve ayarları devre dışı bırakır (**daha hızlı işlem** sağlar). Üçüncü madde ise cihazlar arası hataları önler.\n"
      ],
      "metadata": {
        "id": "N-94Xawgq2PM"
      }
    },
    {
      "cell_type": "code",
      "source": [
        "# 1. Modeli değerlendirme moduna al\n",
        "model_0.eval()\n",
        "\n",
        "# 2. Çıkarım modu context manager'ını başlat\n",
        "with torch.inference_mode():\n",
        "  # 3. Hesaplamaların model ve veri aynı cihazda yapılmasını sağla\n",
        "  # Bizim durumumuzda cihazdan bağımsız kod henüz yazmadık, bu yüzden veri ve model\n",
        "  # varsayılan olarak CPU'da çalışıyor.\n",
        "  # model_0.to(device)\n",
        "  # X_test = X_test.to(device)\n",
        "  y_preds = model_0(X_test)\n",
        "\n",
        "y_preds\n"
      ],
      "metadata": {
        "colab": {
          "base_uri": "https://localhost:8080/"
        },
        "id": "-wEgzGRGq41e",
        "outputId": "8ff88bf2-eda1-444e-d6b1-6788f2e7d841"
      },
      "execution_count": 18,
      "outputs": [
        {
          "output_type": "execute_result",
          "data": {
            "text/plain": [
              "tensor([[0.8141],\n",
              "        [0.8256],\n",
              "        [0.8372],\n",
              "        [0.8488],\n",
              "        [0.8603],\n",
              "        [0.8719],\n",
              "        [0.8835],\n",
              "        [0.8950],\n",
              "        [0.9066],\n",
              "        [0.9182]])"
            ]
          },
          "metadata": {},
          "execution_count": 18
        }
      ]
    },
    {
      "cell_type": "markdown",
      "source": [
        "Harika! Eğitilmiş modelimizle bazı tahminler yaptık, şimdi bu tahminler nasıl görünüyor bir bakalım!\n"
      ],
      "metadata": {
        "id": "5d1-LZZFq6R8"
      }
    },
    {
      "cell_type": "code",
      "source": [
        "# Tahminleri görselleştir\n",
        "plot_predictions(predictions=y_preds)\n"
      ],
      "metadata": {
        "colab": {
          "base_uri": "https://localhost:8080/",
          "height": 599
        },
        "id": "NEYpAI1Lq7ni",
        "outputId": "0d9b036b-0093-46c3-c817-148092d2b0b3"
      },
      "execution_count": 19,
      "outputs": [
        {
          "output_type": "display_data",
          "data": {
            "text/plain": [
              "<Figure size 1000x700 with 1 Axes>"
            ],
            "image/png": "[encoded data removed]"
          },
          "metadata": {}
        }
      ]
    },
    {
      "cell_type": "markdown",
      "source": [
        "Harika! Kırmızı noktalar önceye göre çok daha yakın görünüyor!\n",
        "\n",
        "Şimdi PyTorch'ta bir modeli kaydetme ve yeniden yükleme işlemine geçelim.\n"
      ],
      "metadata": {
        "id": "YRQWd8SIq8u7"
      }
    },
    {
      "cell_type": "markdown",
      "source": [
        "## 5. PyTorch Modelini Kaydetme ve Yükleme\n",
        "\n",
        "Eğer bir PyTorch modeli eğittiyseniz, büyük ihtimalle onu kaydetmek ve bir yere aktarmak isteyeceksiniz.\n",
        "\n",
        "Örneğin, modeli Google Colab'da veya yerel bilgisayarınızda GPU ile eğitmiş olabilirsiniz ancak artık başkalarının kullanabileceği bir uygulamaya aktarmak isteyebilirsiniz.\n",
        "\n",
        "Ya da model üzerindeki ilerlemenizi kaydedip daha sonra devam etmek isteyebilirsiniz.\n",
        "\n",
        "PyTorch'ta modelleri kaydetmek ve yüklemek için bilmeniz gereken üç ana yöntem vardır (bunlar [PyTorch model kaydetme ve yükleme rehberi](https://pytorch.org/tutorials/beginner/saving_loading_models.html#saving-loading-model-for-inference)'nden alınmıştır):\n",
        "\n",
        "| **PyTorch Yöntemi** | **Ne İşe Yarar?** |\n",
        "| -------------------- | ----------------- |\n",
        "| [`torch.save`](https://pytorch.org/docs/stable/torch.html?highlight=save#torch.save) | Python'un [`pickle`](https://docs.python.org/3/library/pickle.html) aracı kullanılarak serileştirilmiş bir nesneyi diske kaydeder. Modeller, tensörler ve sözlükler gibi çeşitli Python nesneleri `torch.save` ile kaydedilebilir. |\n",
        "| [`torch.load`](https://pytorch.org/docs/stable/torch.html?highlight=torch%20load#torch.load) | `pickle`'ın deserialization özelliklerini kullanarak kaydedilmiş Python nesne dosyalarını (model, tensör, sözlük gibi) belleğe yükler. Hangi cihaza (CPU, GPU vb.) yükleneceğini de belirtebilirsiniz. |\n",
        "| [`torch.nn.Module.load_state_dict`](https://pytorch.org/docs/stable/generated/torch.nn.Module.html?highlight=load_state_dict#torch.nn.Module.load_state_dict) | Kaydedilmiş bir `state_dict()` nesnesini kullanarak bir modelin parametre sözlüğünü (`model.state_dict()`) yükler. |\n",
        "\n",
        "> **Not:** [Python'un `pickle` dökümantasyonunda](https://docs.python.org/3/library/pickle.html) belirtildiği gibi, `pickle` modülü **güvenli değildir**. Bu nedenle yalnızca güvendiğiniz verileri yüklemelisiniz. PyTorch modelleri için de bu geçerlidir. Yalnızca güvenilir kaynaklardan kaydedilmiş PyTorch modellerini kullanın.\n"
      ],
      "metadata": {
        "id": "Knm3xEiLq-Ix"
      }
    },
    {
      "cell_type": "markdown",
      "source": [
        "### PyTorch Modelinin `state_dict()`'ini Kaydetme\n",
        "\n",
        "Modeli çıkarım (tahmin) için kaydetmenin ve yüklemenin [önerilen yolu](https://pytorch.org/tutorials/beginner/saving_loading_models.html#saving-loading-model-for-inference), modelin `state_dict()`'ini kaydedip yüklemektir.\n",
        "\n",
        "Bunu birkaç adımda nasıl yapabileceğimize bakalım:\n",
        "\n",
        "1. Python'un `pathlib` modülünü kullanarak modelleri kaydetmek için `models` adında bir dizin oluşturacağız.  \n",
        "2. Modeli kaydetmek için bir dosya yolu oluşturacağız.  \n",
        "3. `torch.save(obj, f)` komutunu kullanacağız. Burada `obj` kaydedilecek modelin `state_dict()`'i ve `f` modelin kaydedileceği dosya adıdır.  \n",
        "\n",
        "> **Not:** PyTorch'ta kaydedilen model veya nesnelerin dosya uzantısının `.pt` veya `.pth` ile bitmesi yaygın bir uygulamadır, örneğin: `saved_model_01.pth`.\n"
      ],
      "metadata": {
        "id": "S_6HFELQq_3r"
      }
    },
    {
      "cell_type": "code",
      "source": [
        "from pathlib import Path\n",
        "\n",
        "# 1. Modeller için bir dizin oluştur\n",
        "MODEL_PATH = Path(\"models\")\n",
        "MODEL_PATH.mkdir(parents=True, exist_ok=True)\n",
        "\n",
        "# 2. Modeli kaydetmek için bir dosya yolu oluştur\n",
        "MODEL_NAME = \"01_pytorch_workflow_model_0.pth\"\n",
        "MODEL_SAVE_PATH = MODEL_PATH / MODEL_NAME\n",
        "\n",
        "# 3. Modelin state_dict()'ini kaydet\n",
        "print(f\"Model şu konuma kaydediliyor: {MODEL_SAVE_PATH}\")\n",
        "torch.save(obj=model_0.state_dict(),  # Yalnızca state_dict() kaydedilirse modelin öğrenilmiş parametreleri kaydedilir\n",
        "           f=MODEL_SAVE_PATH)\n"
      ],
      "metadata": {
        "colab": {
          "base_uri": "https://localhost:8080/"
        },
        "id": "DaUNl38crBUe",
        "outputId": "5183debe-db71-40ae-c955-e832d9744967"
      },
      "execution_count": 20,
      "outputs": [
        {
          "output_type": "stream",
          "name": "stdout",
          "text": [
            "Model şu konuma kaydediliyor: models/01_pytorch_workflow_model_0.pth\n"
          ]
        }
      ]
    },
    {
      "cell_type": "code",
      "source": [
        "# Kaydedilen dosya yolunu kontrol et\n",
        "!ls -l models/01_pytorch_workflow_model_0.pth\n"
      ],
      "metadata": {
        "colab": {
          "base_uri": "https://localhost:8080/"
        },
        "id": "H7Q8x6dPrCkw",
        "outputId": "f0c8e20c-b0c7-4f0e-dbe2-a6306a07543b"
      },
      "execution_count": 21,
      "outputs": [
        {
          "output_type": "stream",
          "name": "stdout",
          "text": [
            "-rw-r--r-- 1 root root 1680 Jan 16 20:14 models/01_pytorch_workflow_model_0.pth\n"
          ]
        }
      ]
    },
    {
      "cell_type": "markdown",
      "source": [
        "### Kaydedilmiş Bir PyTorch Modelinin `state_dict()`'ini Yükleme\n",
        "\n",
        "Artık `models/01_pytorch_workflow_model_0.pth` yolunda kaydedilmiş bir model `state_dict()`'imiz olduğuna göre, bunu `torch.nn.Module.load_state_dict(torch.load(f))` yöntemiyle yükleyebiliriz. Burada `f`, kaydedilmiş modelin `state_dict()` dosya yoludur.\n",
        "\n",
        "**Neden `torch.nn.Module.load_state_dict()` içinde `torch.load()` kullanıyoruz?**\n",
        "\n",
        "Çünkü sadece modelin `state_dict()`'ini (öğrenilmiş parametrelerin sözlüğünü) kaydettik, modelin *tamamını* değil. Öncelikle `torch.load()` ile `state_dict()`'i yüklememiz ve ardından bu `state_dict()`'i modelimizin yeni bir örneğine (ki bu `nn.Module` sınıfının bir alt sınıfıdır) aktarmamız gerekiyor.\n",
        "\n",
        "**Neden tüm modeli kaydetmiyoruz?**\n",
        "\n",
        "[Tüm modeli kaydetmek](https://pytorch.org/tutorials/beginner/saving_loading_models.html#save-load-entire-model) daha sezgisel olsa da, PyTorch dokümantasyonunda belirtildiği gibi (*italik metin bana ait*):\n",
        "\n",
        "> Bu yaklaşımın *(tüm modeli kaydetmenin)* dezavantajı, serileştirilmiş verinin belirli sınıflara ve modelin kaydedildiği dizin yapısına bağlı olmasıdır...  \n",
        ">\n",
        "> Bu nedenle, kodunuz başka projelerde veya yeniden yapılandırmalardan sonra çeşitli şekillerde bozulabilir.\n",
        "\n",
        "Bu yüzden, yalnızca modelin parametrelerini içeren `state_dict()`'i kaydetmek ve yüklemek daha esnek bir yöntemdir.\n",
        "\n",
        "Haydi bunu test edelim! `LinearRegressionModel()` sınıfından yeni bir örnek oluşturalım ve ardından `load_state_dict()` ile modelin parametrelerini yükleyelim.\n"
      ],
      "metadata": {
        "id": "iKt57uaYrDxk"
      }
    },
    {
      "cell_type": "code",
      "source": [
        "# Modelimizin yeni bir örneğini oluştur (bu rastgele ağırlıklarla başlatılacak)\n",
        "loaded_model_0 = LinearRegressionModel()\n",
        "\n",
        "# Kaydedilmiş modelin state_dict'ini yükle (bu, yeni model örneğini eğitilmiş ağırlıklarla güncelleyecek)\n",
        "loaded_model_0.load_state_dict(torch.load(f=MODEL_SAVE_PATH))\n"
      ],
      "metadata": {
        "colab": {
          "base_uri": "https://localhost:8080/"
        },
        "id": "4tV2T7PYrFUQ",
        "outputId": "f0d20f88-dd2b-41c5-8457-709758f05754"
      },
      "execution_count": 22,
      "outputs": [
        {
          "output_type": "stream",
          "name": "stderr",
          "text": [
            "<ipython-input-22-6cfb228f60ee>:5: FutureWarning: You are using `torch.load` with `weights_only=False` (the current default value), which uses the default pickle module implicitly. It is possible to construct malicious pickle data which will execute arbitrary code during unpickling (See https://github.com/pytorch/pytorch/blob/main/SECURITY.md#untrusted-models for more details). In a future release, the default value for `weights_only` will be flipped to `True`. This limits the functions that could be executed during unpickling. Arbitrary objects will no longer be allowed to be loaded via this mode unless they are explicitly allowlisted by the user via `torch.serialization.add_safe_globals`. We recommend you start setting `weights_only=True` for any use case where you don't have full control of the loaded file. Please open an issue on GitHub for any issues related to this experimental feature.\n",
            "  loaded_model_0.load_state_dict(torch.load(f=MODEL_SAVE_PATH))\n"
          ]
        },
        {
          "output_type": "execute_result",
          "data": {
            "text/plain": [
              "<All keys matched successfully>"
            ]
          },
          "metadata": {},
          "execution_count": 22
        }
      ]
    },
    {
      "cell_type": "markdown",
      "source": [
        "Mükemmel! Görünüşe göre her şey uyuştu.\n",
        "\n",
        "Şimdi, yüklediğimiz modelimizi test etmek için onunla çıkarım (tahmin) yapalım.\n",
        "\n",
        "PyTorch modelleriyle çıkarım yaparken uyulması gereken kuralları hatırlıyor musunuz?\n",
        "\n",
        "Hatırlamıyorsanız işte bir hatırlatma:\n",
        "\n",
        "<details>\n",
        "    <summary>PyTorch Çıkarım Kuralları</summary>\n",
        "    <ol>\n",
        "      <li>Modeli değerlendirme moduna alın (<code>model.eval()</code>).</li>\n",
        "      <li>Inference mode context manager kullanarak tahmin yapın (<code>with torch.inference_mode(): ...</code>).</li>\n",
        "      <li>Tüm tahminlerin aynı cihazda yapılması gerektiğini unutmayın (örneğin, veri ve model yalnızca GPU'da ya da yalnızca CPU'da olmalı).</li>\n",
        "    </ol>\n",
        "</details>\n"
      ],
      "metadata": {
        "id": "j8zgST9QrGlb"
      }
    },
    {
      "cell_type": "code",
      "source": [
        "# 1. Yüklenen modeli değerlendirme moduna al\n",
        "loaded_model_0.eval()\n",
        "\n",
        "# 2. Çıkarım modu context manager'ını kullanarak tahmin yap\n",
        "with torch.inference_mode():\n",
        "    loaded_model_preds = loaded_model_0(X_test)  # Yüklenen modelle test verisi üzerinde ileri geçiş (forward pass) yap\n"
      ],
      "metadata": {
        "id": "E2UUzRCgrIA8"
      },
      "execution_count": 23,
      "outputs": []
    },
    {
      "cell_type": "markdown",
      "source": [
        "Artık yüklenen modelle bazı tahminler yaptık, şimdi bunların önceki tahminlerle aynı olup olmadığını kontrol edelim.\n"
      ],
      "metadata": {
        "id": "NdkXxaS3rSOc"
      }
    },
    {
      "cell_type": "code",
      "source": [
        "# Önceki modelin tahminleri ile yüklenen modelin tahminlerini karşılaştır (aynı olmalılar)\n",
        "y_preds == loaded_model_preds\n"
      ],
      "metadata": {
        "colab": {
          "base_uri": "https://localhost:8080/"
        },
        "id": "7HrtETimr00v",
        "outputId": "56186cb8-5069-4a32-e7c9-59d1d98419ce"
      },
      "execution_count": 24,
      "outputs": [
        {
          "output_type": "execute_result",
          "data": {
            "text/plain": [
              "tensor([[True],\n",
              "        [True],\n",
              "        [True],\n",
              "        [True],\n",
              "        [True],\n",
              "        [True],\n",
              "        [True],\n",
              "        [True],\n",
              "        [True],\n",
              "        [True]])"
            ]
          },
          "metadata": {},
          "execution_count": 24
        }
      ]
    },
    {
      "cell_type": "markdown",
      "source": [
        "Harika!\n",
        "\n",
        "Görünüşe göre yüklenen modelin tahminleri, kaydetmeden önce yapılan önceki model tahminleriyle aynı. Bu, modelimizin beklendiği gibi kaydedilip yüklendiğini gösteriyor.\n",
        "\n",
        "> **Not:** PyTorch modellerini kaydetmek ve yüklemek için daha fazla yöntem vardır, ancak bunları ek kaynaklar ve ileri okumalar için bırakıyorum. Daha fazla bilgi için [PyTorch model kaydetme ve yükleme rehberine](https://pytorch.org/tutorials/beginner/saving_loading_models.html#saving-and-loading-models) göz atabilirsiniz.\n"
      ],
      "metadata": {
        "id": "6zcDldfIr16R"
      }
    },
    {
      "cell_type": "markdown",
      "source": [
        "## 6. Her Şeyi Birleştirme\n",
        "\n",
        "Şimdiye kadar oldukça fazla konuyu ele aldık.\n",
        "\n",
        "Ancak biraz pratik yaptıktan sonra yukarıdaki adımları sanki sokakta dans ediyormuş gibi kolayca uygulayacaksınız.\n",
        "\n",
        "Pratik demişken, şimdiye kadar yaptığımız her şeyi bir araya getirelim.\n",
        "\n",
        "Bu sefer kodumuzu cihazdan bağımsız hale getireceğiz (eğer bir GPU varsa onu kullanacak, yoksa varsayılan olarak CPU'yu kullanacak).\n",
        "\n",
        "Bu bölümde önceki kadar açıklama olmayacak çünkü üzerinden geçtiğimiz konuları tekrar edeceğiz.\n",
        "\n",
        "İlk olarak, ihtiyacımız olan standart kütüphaneleri içe aktararak başlayacağız.\n",
        "\n",
        "> **Not:** Google Colab kullanıyorsanız, GPU kurulumunu yapmak için: Runtime -> Change runtime type -> Hardware acceleration -> GPU adımlarını izleyin. Bunu yaptığınızda Colab çalışma zamanı sıfırlanır ve kaydedilmiş değişkenler silinir.\n"
      ],
      "metadata": {
        "id": "GHYMI3lSr3Sm"
      }
    },
    {
      "cell_type": "code",
      "source": [
        "# PyTorch ve matplotlib kütüphanelerini içe aktar\n",
        "import torch\n",
        "from torch import nn  # nn, PyTorch'un sinir ağları için tüm yapı taşlarını içerir\n",
        "import matplotlib.pyplot as plt\n",
        "\n",
        "# PyTorch sürümünü kontrol et\n",
        "torch.__version__\n"
      ],
      "metadata": {
        "colab": {
          "base_uri": "https://localhost:8080/",
          "height": 35
        },
        "id": "zKi_EfhSr5q9",
        "outputId": "24cc2070-7601-4c80-e944-86e979e316b6"
      },
      "execution_count": 25,
      "outputs": [
        {
          "output_type": "execute_result",
          "data": {
            "text/plain": [
              "'2.5.1+cu121'"
            ],
            "application/vnd.google.colaboratory.intrinsic+json": {
              "type": "string"
            }
          },
          "metadata": {},
          "execution_count": 25
        }
      ]
    },
    {
      "cell_type": "markdown",
      "source": [
        "Şimdi kodumuzu cihazdan bağımsız hale getirelim. Eğer GPU (CUDA) mevcutsa `device=\"cuda\"` olarak ayarlayacağız, aksi takdirde varsayılan olarak `device=\"cpu\"` kullanılacak.\n"
      ],
      "metadata": {
        "id": "z8j-ZJUcr6yS"
      }
    },
    {
      "cell_type": "code",
      "source": [
        "# Cihazdan bağımsız kodu ayarla\n",
        "device = \"cuda\" if torch.cuda.is_available() else \"cpu\"\n",
        "print(f\"Kullanılan cihaz: {device}\")\n"
      ],
      "metadata": {
        "colab": {
          "base_uri": "https://localhost:8080/"
        },
        "id": "XbKaVYFyr78q",
        "outputId": "c9637391-33a0-451a-a41d-a646a56ed7b1"
      },
      "execution_count": 26,
      "outputs": [
        {
          "output_type": "stream",
          "name": "stdout",
          "text": [
            "Kullanılan cihaz: cpu\n"
          ]
        }
      ]
    },
    {
      "cell_type": "markdown",
      "source": [
        "Eğer bir GPU erişiminiz varsa, yukarıdaki kod şu çıktıyı vermiş olmalı:\n",
        "\n",
        "```\n",
        "Using device: cuda\n",
        "```\n",
        "\n",
        "Aksi takdirde, aşağıdaki hesaplamalar için CPU kullanılacak. Küçük veri setimiz için bu yeterli ancak daha büyük veri setlerinde işlemler daha uzun sürebilir.\n"
      ],
      "metadata": {
        "id": "j2audhdqr9HD"
      }
    },
    {
      "cell_type": "markdown",
      "source": [
        "### 6.1 Veri\n",
        "\n",
        "Daha önce yaptığımız gibi bazı veriler oluşturalım.\n",
        "\n",
        "Önce, bazı `weight` (ağırlık) ve `bias` (sapma) değerlerini sabit olarak belirleyeceğiz.\n",
        "\n",
        "Ardından, 0 ile 1 arasında bir sayı aralığı oluşturacağız, bunlar bizim `X` değerlerimiz olacak.\n",
        "\n",
        "Son olarak, doğrusal regresyon formülünü (`y = weight * X + bias`) kullanarak `X`, `weight` ve `bias` değerlerinden `y` değerlerini oluşturacağız.\n"
      ],
      "metadata": {
        "id": "t-zKNqP6s5_p"
      }
    },
    {
      "cell_type": "code",
      "source": [
        "# Ağırlık ve bias oluştur\n",
        "weight = 0.7\n",
        "bias = 0.3\n",
        "\n",
        "# Değer aralığını oluştur\n",
        "start = 0\n",
        "end = 1\n",
        "step = 0.02\n",
        "\n",
        "# X ve y (özellikler ve etiketler) oluştur\n",
        "X = torch.arange(start, end, step).unsqueeze(dim=1)  # unsqueeze kullanılmazsa, ileride lineer katmanlarda şekil uyuşmazlıkları oluşur\n",
        "y = weight * X + bias\n",
        "X[:10], y[:10]\n"
      ],
      "metadata": {
        "colab": {
          "base_uri": "https://localhost:8080/"
        },
        "id": "6tFTlJVEsCry",
        "outputId": "112be221-1fab-43b9-f14c-0abf354036d0"
      },
      "execution_count": 27,
      "outputs": [
        {
          "output_type": "execute_result",
          "data": {
            "text/plain": [
              "(tensor([[0.0000],\n",
              "         [0.0200],\n",
              "         [0.0400],\n",
              "         [0.0600],\n",
              "         [0.0800],\n",
              "         [0.1000],\n",
              "         [0.1200],\n",
              "         [0.1400],\n",
              "         [0.1600],\n",
              "         [0.1800]]),\n",
              " tensor([[0.3000],\n",
              "         [0.3140],\n",
              "         [0.3280],\n",
              "         [0.3420],\n",
              "         [0.3560],\n",
              "         [0.3700],\n",
              "         [0.3840],\n",
              "         [0.3980],\n",
              "         [0.4120],\n",
              "         [0.4260]]))"
            ]
          },
          "metadata": {},
          "execution_count": 27
        }
      ]
    },
    {
      "cell_type": "markdown",
      "source": [
        "Harika!\n",
        "\n",
        "Artık elimizde bazı veriler var, şimdi bunu eğitim ve test setlerine ayıralım.\n",
        "\n",
        "Veriyi %80 eğitim ve %20 test olacak şekilde böleceğiz.\n"
      ],
      "metadata": {
        "id": "LkxI4S6Bs8yt"
      }
    },
    {
      "cell_type": "code",
      "source": [
        "# Veriyi eğitim ve test olarak ayır\n",
        "train_split = int(0.8 * len(X))\n",
        "X_train, y_train = X[:train_split], y[:train_split]  # Eğitim verisi\n",
        "X_test, y_test = X[train_split:], y[train_split:]    # Test verisi\n",
        "\n",
        "len(X_train), len(y_train), len(X_test), len(y_test)\n"
      ],
      "metadata": {
        "colab": {
          "base_uri": "https://localhost:8080/"
        },
        "id": "GrQzLoXts-qF",
        "outputId": "0ca25e62-0ead-4ee1-cd85-2c23c25af1f0"
      },
      "execution_count": 28,
      "outputs": [
        {
          "output_type": "execute_result",
          "data": {
            "text/plain": [
              "(40, 40, 10, 10)"
            ]
          },
          "metadata": {},
          "execution_count": 28
        }
      ]
    },
    {
      "cell_type": "markdown",
      "source": [
        "Harika, şimdi verileri görselleştirerek her şeyin yolunda olup olmadığını kontrol edelim.\n"
      ],
      "metadata": {
        "id": "j-6_qVaZtAFx"
      }
    },
    {
      "cell_type": "markdown",
      "source": [
        "# Not: Eğer çalışma zamanınızı sıfırladıysanız, bu fonksiyon çalışmayacaktır.\n",
        "# Yukarıda fonksiyonun tanımlandığı hücreyi tekrar çalıştırmanız gerekir.\n",
        "plot_predictions(X_train, y_train, X_test, y_test)\n"
      ],
      "metadata": {
        "id": "iKo-aV4StBt5"
      }
    },
    {
      "cell_type": "markdown",
      "source": [
        "### 6.2 PyTorch Doğrusal Modeli Oluşturma\n",
        "\n",
        "Artık elimizde bazı veriler var, şimdi bir model oluşturalım.\n",
        "\n",
        "Daha önce oluşturduğumuz modele benzer bir model yapacağız. Ancak bu sefer, modelimizin ağırlık ve bias parametrelerini manuel olarak `nn.Parameter()` ile tanımlamak yerine, bunun için [`nn.Linear(in_features, out_features)`](https://pytorch.org/docs/stable/generated/torch.nn.Linear.html) kullanacağız.\n",
        "\n",
        "Burada:\n",
        "- **`in_features`**: Girdi verimizin sahip olduğu özellik (boyut) sayısıdır.  \n",
        "- **`out_features`**: Çıktı verisinin sahip olmasını istediğimiz özellik (boyut) sayısıdır.  \n",
        "\n",
        "Bizim durumumuzda her ikisi de **1**, çünkü verimizde her bir etiket (`y`) için bir giriş özelliği (`X`) bulunuyor.\n",
        "\n",
        "![nn.Parameter ve nn.Linear kullanarak oluşturulan doğrusal regresyon modellerinin karşılaştırması](https://raw.githubusercontent.com/mrdbourke/pytorch-deep-learning/main/images/01-pytorch-linear-regression-model-with-nn-Parameter-and-nn-Linear-compared.png)  \n",
        "*`nn.Parameter` kullanarak doğrusal regresyon modeli oluşturma ile `nn.Linear` kullanarak oluşturma karşılaştırması. `torch.nn` modülü, birçok popüler ve kullanışlı sinir ağı katmanını içeren hazır hesaplamalar sunar.*\n"
      ],
      "metadata": {
        "id": "haj2LW5EtD4O"
      }
    },
    {
      "cell_type": "code",
      "source": [
        "# nn.Module sınıfını genişleterek modelimizi oluştur\n",
        "class LinearRegressionModelV2(nn.Module):\n",
        "    def __init__(self):\n",
        "        super().__init__()\n",
        "        # Model parametrelerini oluşturmak için nn.Linear() kullan\n",
        "        self.linear_layer = nn.Linear(in_features=1,\n",
        "                                      out_features=1)\n",
        "\n",
        "    # İleri hesaplamayı tanımla (girdi verisi x, nn.Linear() katmanından geçer)\n",
        "    def forward(self, x: torch.Tensor) -> torch.Tensor:\n",
        "        return self.linear_layer(x)\n",
        "\n",
        "# Model oluşturulurken manuel tohumlama yap (bu her zaman gerekli değildir, ama gösterim amacıyla kullanılmıştır. Yoruma alıp sonucu gözlemleyebilirsiniz)\n",
        "torch.manual_seed(42)\n",
        "model_1 = LinearRegressionModelV2()\n",
        "model_1, model_1.state_dict()\n"
      ],
      "metadata": {
        "colab": {
          "base_uri": "https://localhost:8080/"
        },
        "id": "kmJagzYgtG9Z",
        "outputId": "816f71fe-c330-45af-f20e-b5de9532d2df"
      },
      "execution_count": 29,
      "outputs": [
        {
          "output_type": "execute_result",
          "data": {
            "text/plain": [
              "(LinearRegressionModelV2(\n",
              "   (linear_layer): Linear(in_features=1, out_features=1, bias=True)\n",
              " ),\n",
              " OrderedDict([('linear_layer.weight', tensor([[0.7645]])),\n",
              "              ('linear_layer.bias', tensor([0.8300]))]))"
            ]
          },
          "metadata": {},
          "execution_count": 29
        }
      ]
    },
    {
      "cell_type": "markdown",
      "source": [
        "`model_1.state_dict()` çıktısındaki değerlere dikkat edin, `nn.Linear()` katmanı bizim için rastgele bir `weight` (ağırlık) ve `bias` (sapma) parametresi oluşturdu.\n",
        "\n",
        "Şimdi modelimizi GPU'ya (eğer mevcutsa) taşıyalım.\n",
        "\n",
        "PyTorch nesnelerinin cihazını değiştirmek için `.to(device)` metodunu kullanabiliriz.\n",
        "\n",
        "Önce modelimizin şu anda hangi cihazda olduğunu kontrol edelim.\n"
      ],
      "metadata": {
        "id": "ywAW0k0XtJnT"
      }
    },
    {
      "cell_type": "code",
      "source": [
        "# Modelin mevcut cihazını kontrol et\n",
        "next(model_1.parameters()).device\n"
      ],
      "metadata": {
        "colab": {
          "base_uri": "https://localhost:8080/"
        },
        "id": "v1kfgMcdtK3S",
        "outputId": "cbbd62e1-c571-417d-8338-b1e7347e7ecc"
      },
      "execution_count": 30,
      "outputs": [
        {
          "output_type": "execute_result",
          "data": {
            "text/plain": [
              "device(type='cpu')"
            ]
          },
          "metadata": {},
          "execution_count": 30
        }
      ]
    },
    {
      "cell_type": "markdown",
      "source": [
        "Harika, model varsayılan olarak CPU üzerinde görünüyor.\n",
        "\n",
        "Şimdi onu GPU'ya (mevcutsa) taşıyalım.\n"
      ],
      "metadata": {
        "id": "yw74QsjxtMA7"
      }
    },
    {
      "cell_type": "code",
      "source": [
        "# Modeli GPU'ya taşı (mevcutsa), aksi takdirde varsayılan olarak CPU'da kalır\n",
        "model_1.to(device)  # device değişkeni yukarıda \"cuda\" (GPU) veya \"cpu\" olarak ayarlanmıştı\n",
        "next(model_1.parameters()).device\n"
      ],
      "metadata": {
        "colab": {
          "base_uri": "https://localhost:8080/"
        },
        "id": "3r_7PoL3tPS9",
        "outputId": "57662da6-ef59-42e3-89c0-b1dda49e9b56"
      },
      "execution_count": 31,
      "outputs": [
        {
          "output_type": "execute_result",
          "data": {
            "text/plain": [
              "device(type='cpu')"
            ]
          },
          "metadata": {},
          "execution_count": 31
        }
      ]
    },
    {
      "cell_type": "markdown",
      "source": [
        "Harika! Cihazdan bağımsız kodumuz sayesinde, yukarıdaki hücre GPU mevcut olsun ya da olmasın sorunsuz çalışacak.\n",
        "\n",
        "Eğer CUDA destekli bir GPU'ya erişiminiz varsa, çıktınız şu şekilde olmalı:\n",
        "\n",
        "```\n",
        "device(type='cuda', index=0)\n",
        "```"
      ],
      "metadata": {
        "id": "7rz8FbeptRCS"
      }
    },
    {
      "cell_type": "markdown",
      "source": [
        "### 6.3 Eğitim\n",
        "\n",
        "Şimdi bir eğitim ve test döngüsü oluşturalım.\n",
        "\n",
        "Öncelikle bir kayıp fonksiyonuna ve bir optimizasyona ihtiyacımız var.\n",
        "\n",
        "Daha önce kullandığımız fonksiyonları, `nn.L1Loss()` ve `torch.optim.SGD()` kullanalım.\n",
        "\n",
        "Optimizasyonun eğitim sırasında modelin parametrelerini ayarlayabilmesi için yeni modelin parametrelerini (`model.parameters()`) optimizere aktarmamız gerekecek.\n",
        "\n",
        "Daha önce iyi sonuç veren `0.01` öğrenme oranını tekrar kullanalım.\n"
      ],
      "metadata": {
        "id": "W0_9Op1svqpb"
      }
    },
    {
      "cell_type": "code",
      "source": [
        "# Kayıp fonksiyonunu oluştur\n",
        "loss_fn = nn.L1Loss()\n",
        "\n",
        "# Optimizasyon yöntemini oluştur\n",
        "optimizer = torch.optim.SGD(params=model_1.parameters(),  # yeni oluşturulan modelin parametrelerini optimize et\n",
        "                            lr=0.01)\n"
      ],
      "metadata": {
        "id": "hpDDVYLktUQE"
      },
      "execution_count": 32,
      "outputs": []
    },
    {
      "cell_type": "markdown",
      "source": [
        "Harika, kayıp fonksiyonu ve optimizer hazır. Şimdi eğitim ve test döngüsü ile modelimizi eğitip değerlendirelim.\n",
        "\n",
        "Bu adımda önceki eğitim döngüsünden farklı olarak, verileri hedef `device` üzerine taşıyacağız.\n",
        "\n",
        "Modelimizi zaten `model_1.to(device)` komutuyla hedef cihaza taşımıştık.\n",
        "\n",
        "Aynı işlemi veriler için de yapabiliriz.\n",
        "\n",
        "Bu şekilde model GPU'daysa veriler de GPU'da olacak (veya CPU'daysa CPU'da olacak).\n",
        "\n",
        "Bu sefer işleri bir adım ileri taşıyalım ve `epochs=1000` olarak ayarlayalım.\n",
        "\n",
        "PyTorch eğitim döngüsü adımlarını hatırlamak isterseniz aşağıya bakabilirsiniz.\n",
        "\n",
        "<details>\n",
        "    <summary>PyTorch Eğitim Döngüsü Adımları</summary>\n",
        "    <ol>\n",
        "        <li><b>İleri geçiş (Forward pass)</b> - Model, eğitim verisinin tamamından bir kez geçerek <code>forward()</code> fonksiyonunu uygular (<code>model(x_train)</code>).</li>\n",
        "        <li><b>Kayıp hesaplama</b> - Modelin çıktıları (tahminler), gerçek değerlerle karşılaştırılır ve ne kadar yanlış oldukları değerlendirilir (<code>loss = loss_fn(y_pred, y_train)</code>).</li>\n",
        "        <li><b>Gradyanları sıfırlama</b> - Optimizasyonun gradyanları sıfırlanır (<code>optimizer.zero_grad()</code>), böylece her eğitim adımı için yeniden hesaplanabilir.</li>\n",
        "        <li><b>Geri yayılım (Backpropagation)</b> - Kayıp fonksiyonunun model parametreleri üzerindeki gradyanları hesaplanır (<code>loss.backward()</code>).</li>\n",
        "        <li><b>Optimizasyon adımı (Gradient descent)</b> - Model parametreleri gradyanlar doğrultusunda güncellenir (<code>optimizer.step()</code>).</li>\n",
        "    </ol>\n",
        "</details>\n"
      ],
      "metadata": {
        "id": "-ttW-0cSvt5h"
      }
    },
    {
      "cell_type": "code",
      "source": [
        "torch.manual_seed(42)\n",
        "\n",
        "# Epoch sayısını ayarla\n",
        "epochs = 1000\n",
        "\n",
        "# Verileri mevcut cihaza taşı\n",
        "# Bu yapılmazsa hata oluşur (model/veri aynı cihazda olmalı)\n",
        "X_train = X_train.to(device)\n",
        "X_test = X_test.to(device)\n",
        "y_train = y_train.to(device)\n",
        "y_test = y_test.to(device)\n",
        "\n",
        "for epoch in range(epochs):\n",
        "    ### Eğitim\n",
        "    model_1.train()  # Modeli eğitim moduna al (varsayılan olarak açık)\n",
        "\n",
        "    # 1. İleri geçiş (Forward pass)\n",
        "    y_pred = model_1(X_train)\n",
        "\n",
        "    # 2. Kayıp hesaplama\n",
        "    loss = loss_fn(y_pred, y_train)\n",
        "\n",
        "    # 3. Optimizasyonun gradyanlarını sıfırla\n",
        "    optimizer.zero_grad()\n",
        "\n",
        "    # 4. Geri yayılım (Backpropagation)\n",
        "    loss.backward()\n",
        "\n",
        "    # 5. Optimizasyon adımı\n",
        "    optimizer.step()\n",
        "\n",
        "    ### Test\n",
        "    model_1.eval()  # Test (çıkarım) için modeli değerlendirme moduna al\n",
        "    # 1. İleri geçiş\n",
        "    with torch.inference_mode():\n",
        "        test_pred = model_1(X_test)\n",
        "\n",
        "        # 2. Kayıp hesaplama\n",
        "        test_loss = loss_fn(test_pred, y_test)\n",
        "\n",
        "    if epoch % 100 == 0:\n",
        "        print(f\"Epoch: {epoch} | Eğitim Kaybı: {loss} | Test Kaybı: {test_loss}\")\n"
      ],
      "metadata": {
        "colab": {
          "base_uri": "https://localhost:8080/"
        },
        "id": "T0ThXEaVvwW-",
        "outputId": "21eeaa1a-273d-4be9-c538-c50a41b296ca"
      },
      "execution_count": 33,
      "outputs": [
        {
          "output_type": "stream",
          "name": "stdout",
          "text": [
            "Epoch: 0 | Eğitim Kaybı: 0.5551779866218567 | Test Kaybı: 0.5739762187004089\n",
            "Epoch: 100 | Eğitim Kaybı: 0.006215679459273815 | Test Kaybı: 0.014086711220443249\n",
            "Epoch: 200 | Eğitim Kaybı: 0.0012645035749301314 | Test Kaybı: 0.013801807537674904\n",
            "Epoch: 300 | Eğitim Kaybı: 0.0012645035749301314 | Test Kaybı: 0.013801807537674904\n",
            "Epoch: 400 | Eğitim Kaybı: 0.0012645035749301314 | Test Kaybı: 0.013801807537674904\n",
            "Epoch: 500 | Eğitim Kaybı: 0.0012645035749301314 | Test Kaybı: 0.013801807537674904\n",
            "Epoch: 600 | Eğitim Kaybı: 0.0012645035749301314 | Test Kaybı: 0.013801807537674904\n",
            "Epoch: 700 | Eğitim Kaybı: 0.0012645035749301314 | Test Kaybı: 0.013801807537674904\n",
            "Epoch: 800 | Eğitim Kaybı: 0.0012645035749301314 | Test Kaybı: 0.013801807537674904\n",
            "Epoch: 900 | Eğitim Kaybı: 0.0012645035749301314 | Test Kaybı: 0.013801807537674904\n"
          ]
        }
      ]
    },
    {
      "cell_type": "markdown",
      "source": [
        "> **Not:** Makine öğreniminin rastgele doğası nedeniyle, modeliniz CPU veya GPU üzerinde eğitildiğinde (aynı rastgele tohum kullanılsa bile) farklı sonuçlar (farklı kayıp ve tahmin değerleri) elde edebilirsiniz. Fark büyükse hataları kontrol etmeniz gerekebilir, ancak fark küçükse (ideal olarak küçük olmalıdır) bunu göz ardı edebilirsiniz.\n",
        "\n",
        "Harika! Kayıp değeri oldukça düşük görünüyor.\n",
        "\n",
        "Şimdi modelimizin öğrendiği parametreleri kontrol edelim ve bunları başlangıçta sabit olarak belirlediğimiz orijinal parametrelerle karşılaştıralım.\n"
      ],
      "metadata": {
        "id": "kV0KRsLLvx6K"
      }
    },
    {
      "cell_type": "code",
      "source": [
        "# Modelimizin öğrendiği parametreleri bulalım\n",
        "from pprint import pprint  # pprint = daha düzenli yazdırma, bkz: https://docs.python.org/3/library/pprint.html\n",
        "\n",
        "print(\"Modelin öğrendiği ağırlık ve bias değerleri:\")\n",
        "pprint(model_1.state_dict())\n",
        "\n",
        "print(\"\\nVe orijinal ağırlık ve bias değerleri:\")\n",
        "print(f\"Ağırlık: {weight}, Bias: {bias}\")\n"
      ],
      "metadata": {
        "colab": {
          "base_uri": "https://localhost:8080/"
        },
        "id": "S2MmtZFovzyL",
        "outputId": "422cc61b-ac5b-4c98-e9e1-1f389e6f796e"
      },
      "execution_count": 34,
      "outputs": [
        {
          "output_type": "stream",
          "name": "stdout",
          "text": [
            "Modelin öğrendiği ağırlık ve bias değerleri:\n",
            "OrderedDict([('linear_layer.weight', tensor([[0.6968]])),\n",
            "             ('linear_layer.bias', tensor([0.3025]))])\n",
            "\n",
            "Ve orijinal ağırlık ve bias değerleri:\n",
            "Ağırlık: 0.7, Bias: 0.3\n"
          ]
        }
      ]
    },
    {
      "cell_type": "markdown",
      "source": [
        "Ho ho! Bu gerçekten mükemmel bir modele oldukça yakın.\n",
        "\n",
        "Ama unutmayın, pratikte mükemmel parametreleri önceden bilmek nadirdir.\n",
        "\n",
        "Ve eğer modelinizin öğrenmesi gereken parametreleri önceden biliyor olsaydınız, makine öğreniminin ne eğlencesi kalırdı ki?\n",
        "\n",
        "Ayrıca, birçok gerçek dünya makine öğrenimi probleminde, parametre sayısı milyonları aşabilir.\n",
        "\n",
        "Benim fikrimi sorarsanız, bu kadar çok parametreyi elle hesaplamak yerine bilgisayarın kodla öğrenmesini tercih ederim.\n"
      ],
      "metadata": {
        "id": "duHvC_itv1BT"
      }
    },
    {
      "cell_type": "markdown",
      "source": [
        "### 6.4 Tahmin Yapma\n",
        "\n",
        "Artık eğitilmiş bir modelimiz var, şimdi modelimizi değerlendirme moduna alalım ve tahminler yapalım.\n"
      ],
      "metadata": {
        "id": "78XCOzViv2Np"
      }
    },
    {
      "cell_type": "code",
      "source": [
        "# Modeli değerlendirme moduna al\n",
        "model_1.eval()\n",
        "\n",
        "# Test verisi üzerinde tahminler yap\n",
        "with torch.inference_mode():\n",
        "    y_preds = model_1(X_test)\n",
        "y_preds\n"
      ],
      "metadata": {
        "colab": {
          "base_uri": "https://localhost:8080/"
        },
        "id": "KnQrCbLNv3cF",
        "outputId": "9c766555-64b2-4558-face-3aa129f7511b"
      },
      "execution_count": 35,
      "outputs": [
        {
          "output_type": "execute_result",
          "data": {
            "text/plain": [
              "tensor([[0.8600],\n",
              "        [0.8739],\n",
              "        [0.8878],\n",
              "        [0.9018],\n",
              "        [0.9157],\n",
              "        [0.9296],\n",
              "        [0.9436],\n",
              "        [0.9575],\n",
              "        [0.9714],\n",
              "        [0.9854]])"
            ]
          },
          "metadata": {},
          "execution_count": 35
        }
      ]
    },
    {
      "cell_type": "markdown",
      "source": [
        "Eğer tahminleri GPU üzerindeki verilerle yapıyorsanız, yukarıdaki çıktının sonunda `device='cuda:0'` ifadesini görebilirsiniz. Bu, verilerin CUDA aygıtı 0'da (sistemin erişebildiği ilk GPU) olduğu anlamına gelir. İleride birden fazla GPU kullanırsanız, bu sayı daha yüksek olabilir.\n",
        "\n",
        "Şimdi modelimizin tahminlerini görselleştirelim.\n",
        "\n",
        "> **Not:** pandas, matplotlib ve NumPy gibi birçok veri bilimi kütüphanesi, GPU üzerinde depolanan verileri kullanamaz. Bu nedenle, bu kütüphanelerden birinin fonksiyonunu GPU'da bulunan bir tensör ile kullanmaya çalışırken sorun yaşayabilirsiniz. Bunu çözmek için, hedef tensörünüzü CPU'ya taşımak için [`.cpu()`](https://pytorch.org/docs/stable/generated/torch.Tensor.cpu.html) metodunu kullanabilirsiniz.\n"
      ],
      "metadata": {
        "id": "2Us6bPZrv5uL"
      }
    },
    {
      "cell_type": "code",
      "source": [
        "# plot_predictions(predictions=y_preds) # -> çalışmaz... veri CPU'da değil\n",
        "\n",
        "# Veriyi CPU'ya taşı ve görselleştir\n",
        "plot_predictions(predictions=y_preds.cpu())\n"
      ],
      "metadata": {
        "colab": {
          "base_uri": "https://localhost:8080/",
          "height": 599
        },
        "id": "VruZ0N0jv7IT",
        "outputId": "64952f64-afa6-4d21-dd40-aa97c04e6b0f"
      },
      "execution_count": 36,
      "outputs": [
        {
          "output_type": "display_data",
          "data": {
            "text/plain": [
              "<Figure size 1000x700 with 1 Axes>"
            ],
            "image/png": "[encoded data removed]"
          },
          "metadata": {}
        }
      ]
    },
    {
      "cell_type": "markdown",
      "source": [
        "Vay canına! Şu kırmızı noktalara bak, neredeyse mükemmel bir şekilde yeşil noktalarla hizalanmışlar. Sanırım ekstra epochlar işe yaradı.\n"
      ],
      "metadata": {
        "id": "FAjppnKiv8OW"
      }
    },
    {
      "cell_type": "markdown",
      "source": [
        "### 6.5 Modeli Kaydetme ve Yükleme\n",
        "\n",
        "Modelimizin tahminlerinden memnunuz, bu yüzden onu daha sonra kullanabilmek için bir dosyaya kaydedelim.\n"
      ],
      "metadata": {
        "id": "nRZq7Y95v9UH"
      }
    },
    {
      "cell_type": "code",
      "source": [
        "from pathlib import Path\n",
        "\n",
        "# 1. Modeller için bir dizin oluştur\n",
        "MODEL_PATH = Path(\"models\")\n",
        "MODEL_PATH.mkdir(parents=True, exist_ok=True)\n",
        "\n",
        "# 2. Modeli kaydetmek için bir dosya yolu oluştur\n",
        "MODEL_NAME = \"01_pytorch_workflow_model_1.pth\"\n",
        "MODEL_SAVE_PATH = MODEL_PATH / MODEL_NAME\n",
        "\n",
        "# 3. Modelin state_dict'ini kaydet\n",
        "print(f\"Model şu konuma kaydediliyor: {MODEL_SAVE_PATH}\")\n",
        "torch.save(obj=model_1.state_dict(),  # Sadece state_dict() kaydedilir, bu da modelin öğrendiği parametreleri kaydeder\n",
        "           f=MODEL_SAVE_PATH)\n"
      ],
      "metadata": {
        "colab": {
          "base_uri": "https://localhost:8080/"
        },
        "id": "IDdog4_Nv-u3",
        "outputId": "ebc3af5c-f668-4817-f633-906d08acbcc9"
      },
      "execution_count": 37,
      "outputs": [
        {
          "output_type": "stream",
          "name": "stdout",
          "text": [
            "Model şu konuma kaydediliyor: models/01_pytorch_workflow_model_1.pth\n"
          ]
        }
      ]
    },
    {
      "cell_type": "markdown",
      "source": [
        "Her şeyin düzgün çalıştığından emin olmak için modeli tekrar yükleyelim.\n",
        "\n",
        "Şu adımları gerçekleştireceğiz:\n",
        "* `LinearRegressionModelV2()` sınıfından yeni bir örnek oluşturacağız.  \n",
        "* `torch.nn.Module.load_state_dict()` kullanarak modelin state_dict'ini yükleyeceğiz.  \n",
        "* Yeni model örneğini hedef cihaza göndereceğiz (kodumuzun cihazdan bağımsız olması için).  \n"
      ],
      "metadata": {
        "id": "JfuPfaEBwAa4"
      }
    },
    {
      "cell_type": "code",
      "source": [
        "# LinearRegressionModelV2 sınıfından yeni bir model örneği oluştur\n",
        "loaded_model_1 = LinearRegressionModelV2()\n",
        "\n",
        "# Modelin state_dict'ini yükle\n",
        "loaded_model_1.load_state_dict(torch.load(MODEL_SAVE_PATH))\n",
        "\n",
        "# Modeli hedef cihaza taşı (veriniz GPU'daysa, modelin de GPU'da olması gerekir)\n",
        "loaded_model_1.to(device)\n",
        "\n",
        "print(f\"Yüklenen model:\\n{loaded_model_1}\")\n",
        "print(f\"Modelin bulunduğu cihaz:\\n{next(loaded_model_1.parameters()).device}\")\n"
      ],
      "metadata": {
        "colab": {
          "base_uri": "https://localhost:8080/"
        },
        "id": "3WhB4LA9wCOj",
        "outputId": "9339108d-30a6-4cde-a90c-82ee44f2a3a0"
      },
      "execution_count": 38,
      "outputs": [
        {
          "output_type": "stream",
          "name": "stdout",
          "text": [
            "Yüklenen model:\n",
            "LinearRegressionModelV2(\n",
            "  (linear_layer): Linear(in_features=1, out_features=1, bias=True)\n",
            ")\n",
            "Modelin bulunduğu cihaz:\n",
            "cpu\n"
          ]
        },
        {
          "output_type": "stream",
          "name": "stderr",
          "text": [
            "<ipython-input-38-2c0eddd73318>:5: FutureWarning: You are using `torch.load` with `weights_only=False` (the current default value), which uses the default pickle module implicitly. It is possible to construct malicious pickle data which will execute arbitrary code during unpickling (See https://github.com/pytorch/pytorch/blob/main/SECURITY.md#untrusted-models for more details). In a future release, the default value for `weights_only` will be flipped to `True`. This limits the functions that could be executed during unpickling. Arbitrary objects will no longer be allowed to be loaded via this mode unless they are explicitly allowlisted by the user via `torch.serialization.add_safe_globals`. We recommend you start setting `weights_only=True` for any use case where you don't have full control of the loaded file. Please open an issue on GitHub for any issues related to this experimental feature.\n",
            "  loaded_model_1.load_state_dict(torch.load(MODEL_SAVE_PATH))\n"
          ]
        }
      ]
    },
    {
      "cell_type": "markdown",
      "source": [
        "Şimdi, yüklenen modeli değerlendirerek kaydetmeden önce yapılan tahminlerle uyuşup uyuşmadığını kontrol edebiliriz.\n"
      ],
      "metadata": {
        "id": "D6WfDp1QwDTk"
      }
    },
    {
      "cell_type": "code",
      "source": [
        "# Yüklenen modeli değerlendir\n",
        "loaded_model_1.eval()\n",
        "with torch.inference_mode():\n",
        "    loaded_model_1_preds = loaded_model_1(X_test)\n",
        "\n",
        "# Önceki tahminlerle yüklenen modelin tahminlerini karşılaştır\n",
        "y_preds == loaded_model_1_preds\n"
      ],
      "metadata": {
        "colab": {
          "base_uri": "https://localhost:8080/"
        },
        "id": "rU-6Y9_BwElP",
        "outputId": "59d3f833-709e-4024-ac5a-5efc14751e44"
      },
      "execution_count": 39,
      "outputs": [
        {
          "output_type": "execute_result",
          "data": {
            "text/plain": [
              "tensor([[True],\n",
              "        [True],\n",
              "        [True],\n",
              "        [True],\n",
              "        [True],\n",
              "        [True],\n",
              "        [True],\n",
              "        [True],\n",
              "        [True],\n",
              "        [True]])"
            ]
          },
          "metadata": {},
          "execution_count": 39
        }
      ]
    },
    {
      "cell_type": "markdown",
      "source": [
        "Her şey mükemmel görünüyor! Harika!\n",
        "\n",
        "Oldukça yol kat ettik. Artık PyTorch'ta ilk iki sinir ağı modelini oluşturdun ve eğittin!\n",
        "\n",
        "Şimdi bu becerilerini geliştirme zamanı.\n"
      ],
      "metadata": {
        "id": "LZMK9Th8wFvZ"
      }
    }
  ]
}