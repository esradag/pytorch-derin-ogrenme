{
  "nbformat": 4,
  "nbformat_minor": 0,
  "metadata": {
    "colab": {
      "provenance": [],
      "authorship_tag": "ABX9TyO1inPw0G/Kqa3lTtRKDER8",
      "include_colab_link": true
    },
    "kernelspec": {
      "name": "python3",
      "display_name": "Python 3"
    },
    "language_info": {
      "name": "python"
    },
    "widgets": {
      "application/vnd.jupyter.widget-state+json": {
        "a2beb3481c1d486cb482c125502cba75": {
          "model_module": "@jupyter-widgets/controls",
          "model_name": "HBoxModel",
          "model_module_version": "1.5.0",
          "state": {
            "_dom_classes": [],
            "_model_module": "@jupyter-widgets/controls",
            "_model_module_version": "1.5.0",
            "_model_name": "HBoxModel",
            "_view_count": null,
            "_view_module": "@jupyter-widgets/controls",
            "_view_module_version": "1.5.0",
            "_view_name": "HBoxView",
            "box_style": "",
            "children": [
              "IPY_MODEL_0c8c98c72ee442dca1364b630ccc6339",
              "IPY_MODEL_a00aabfa60a3499ab1d8d06e4a435ffc",
              "IPY_MODEL_c214466a0e184b30ab5e27fcd7415499"
            ],
            "layout": "IPY_MODEL_e18a17acea344b1d85d042402f867d94"
          }
        },
        "0c8c98c72ee442dca1364b630ccc6339": {
          "model_module": "@jupyter-widgets/controls",
          "model_name": "HTMLModel",
          "model_module_version": "1.5.0",
          "state": {
            "_dom_classes": [],
            "_model_module": "@jupyter-widgets/controls",
            "_model_module_version": "1.5.0",
            "_model_name": "HTMLModel",
            "_view_count": null,
            "_view_module": "@jupyter-widgets/controls",
            "_view_module_version": "1.5.0",
            "_view_name": "HTMLView",
            "description": "",
            "description_tooltip": null,
            "layout": "IPY_MODEL_12c2b5b41a2e44e29b01db1910f6266e",
            "placeholder": "​",
            "style": "IPY_MODEL_66fa6b5d82ed40b3953b62f71b6c16f0",
            "value": "100%"
          }
        },
        "a00aabfa60a3499ab1d8d06e4a435ffc": {
          "model_module": "@jupyter-widgets/controls",
          "model_name": "FloatProgressModel",
          "model_module_version": "1.5.0",
          "state": {
            "_dom_classes": [],
            "_model_module": "@jupyter-widgets/controls",
            "_model_module_version": "1.5.0",
            "_model_name": "FloatProgressModel",
            "_view_count": null,
            "_view_module": "@jupyter-widgets/controls",
            "_view_module_version": "1.5.0",
            "_view_name": "ProgressView",
            "bar_style": "success",
            "description": "",
            "description_tooltip": null,
            "layout": "IPY_MODEL_a394eed85b3f4c13895d0217a7d2649b",
            "max": 3,
            "min": 0,
            "orientation": "horizontal",
            "style": "IPY_MODEL_694c8805d00d4bc2b4d6f9e6bf807821",
            "value": 3
          }
        },
        "c214466a0e184b30ab5e27fcd7415499": {
          "model_module": "@jupyter-widgets/controls",
          "model_name": "HTMLModel",
          "model_module_version": "1.5.0",
          "state": {
            "_dom_classes": [],
            "_model_module": "@jupyter-widgets/controls",
            "_model_module_version": "1.5.0",
            "_model_name": "HTMLModel",
            "_view_count": null,
            "_view_module": "@jupyter-widgets/controls",
            "_view_module_version": "1.5.0",
            "_view_name": "HTMLView",
            "description": "",
            "description_tooltip": null,
            "layout": "IPY_MODEL_5ae5dec0d6b443baac1b39d63597cc23",
            "placeholder": "​",
            "style": "IPY_MODEL_01dae9f314ca4b1e97a433e808efa02a",
            "value": " 3/3 [00:39&lt;00:00, 12.47s/it]"
          }
        },
        "e18a17acea344b1d85d042402f867d94": {
          "model_module": "@jupyter-widgets/base",
          "model_name": "LayoutModel",
          "model_module_version": "1.2.0",
          "state": {
            "_model_module": "@jupyter-widgets/base",
            "_model_module_version": "1.2.0",
            "_model_name": "LayoutModel",
            "_view_count": null,
            "_view_module": "@jupyter-widgets/base",
            "_view_module_version": "1.2.0",
            "_view_name": "LayoutView",
            "align_content": null,
            "align_items": null,
            "align_self": null,
            "border": null,
            "bottom": null,
            "display": null,
            "flex": null,
            "flex_flow": null,
            "grid_area": null,
            "grid_auto_columns": null,
            "grid_auto_flow": null,
            "grid_auto_rows": null,
            "grid_column": null,
            "grid_gap": null,
            "grid_row": null,
            "grid_template_areas": null,
            "grid_template_columns": null,
            "grid_template_rows": null,
            "height": null,
            "justify_content": null,
            "justify_items": null,
            "left": null,
            "margin": null,
            "max_height": null,
            "max_width": null,
            "min_height": null,
            "min_width": null,
            "object_fit": null,
            "object_position": null,
            "order": null,
            "overflow": null,
            "overflow_x": null,
            "overflow_y": null,
            "padding": null,
            "right": null,
            "top": null,
            "visibility": null,
            "width": null
          }
        },
        "12c2b5b41a2e44e29b01db1910f6266e": {
          "model_module": "@jupyter-widgets/base",
          "model_name": "LayoutModel",
          "model_module_version": "1.2.0",
          "state": {
            "_model_module": "@jupyter-widgets/base",
            "_model_module_version": "1.2.0",
            "_model_name": "LayoutModel",
            "_view_count": null,
            "_view_module": "@jupyter-widgets/base",
            "_view_module_version": "1.2.0",
            "_view_name": "LayoutView",
            "align_content": null,
            "align_items": null,
            "align_self": null,
            "border": null,
            "bottom": null,
            "display": null,
            "flex": null,
            "flex_flow": null,
            "grid_area": null,
            "grid_auto_columns": null,
            "grid_auto_flow": null,
            "grid_auto_rows": null,
            "grid_column": null,
            "grid_gap": null,
            "grid_row": null,
            "grid_template_areas": null,
            "grid_template_columns": null,
            "grid_template_rows": null,
            "height": null,
            "justify_content": null,
            "justify_items": null,
            "left": null,
            "margin": null,
            "max_height": null,
            "max_width": null,
            "min_height": null,
            "min_width": null,
            "object_fit": null,
            "object_position": null,
            "order": null,
            "overflow": null,
            "overflow_x": null,
            "overflow_y": null,
            "padding": null,
            "right": null,
            "top": null,
            "visibility": null,
            "width": null
          }
        },
        "66fa6b5d82ed40b3953b62f71b6c16f0": {
          "model_module": "@jupyter-widgets/controls",
          "model_name": "DescriptionStyleModel",
          "model_module_version": "1.5.0",
          "state": {
            "_model_module": "@jupyter-widgets/controls",
            "_model_module_version": "1.5.0",
            "_model_name": "DescriptionStyleModel",
            "_view_count": null,
            "_view_module": "@jupyter-widgets/base",
            "_view_module_version": "1.2.0",
            "_view_name": "StyleView",
            "description_width": ""
          }
        },
        "a394eed85b3f4c13895d0217a7d2649b": {
          "model_module": "@jupyter-widgets/base",
          "model_name": "LayoutModel",
          "model_module_version": "1.2.0",
          "state": {
            "_model_module": "@jupyter-widgets/base",
            "_model_module_version": "1.2.0",
            "_model_name": "LayoutModel",
            "_view_count": null,
            "_view_module": "@jupyter-widgets/base",
            "_view_module_version": "1.2.0",
            "_view_name": "LayoutView",
            "align_content": null,
            "align_items": null,
            "align_self": null,
            "border": null,
            "bottom": null,
            "display": null,
            "flex": null,
            "flex_flow": null,
            "grid_area": null,
            "grid_auto_columns": null,
            "grid_auto_flow": null,
            "grid_auto_rows": null,
            "grid_column": null,
            "grid_gap": null,
            "grid_row": null,
            "grid_template_areas": null,
            "grid_template_columns": null,
            "grid_template_rows": null,
            "height": null,
            "justify_content": null,
            "justify_items": null,
            "left": null,
            "margin": null,
            "max_height": null,
            "max_width": null,
            "min_height": null,
            "min_width": null,
            "object_fit": null,
            "object_position": null,
            "order": null,
            "overflow": null,
            "overflow_x": null,
            "overflow_y": null,
            "padding": null,
            "right": null,
            "top": null,
            "visibility": null,
            "width": null
          }
        },
        "694c8805d00d4bc2b4d6f9e6bf807821": {
          "model_module": "@jupyter-widgets/controls",
          "model_name": "ProgressStyleModel",
          "model_module_version": "1.5.0",
          "state": {
            "_model_module": "@jupyter-widgets/controls",
            "_model_module_version": "1.5.0",
            "_model_name": "ProgressStyleModel",
            "_view_count": null,
            "_view_module": "@jupyter-widgets/base",
            "_view_module_version": "1.2.0",
            "_view_name": "StyleView",
            "bar_color": null,
            "description_width": ""
          }
        },
        "5ae5dec0d6b443baac1b39d63597cc23": {
          "model_module": "@jupyter-widgets/base",
          "model_name": "LayoutModel",
          "model_module_version": "1.2.0",
          "state": {
            "_model_module": "@jupyter-widgets/base",
            "_model_module_version": "1.2.0",
            "_model_name": "LayoutModel",
            "_view_count": null,
            "_view_module": "@jupyter-widgets/base",
            "_view_module_version": "1.2.0",
            "_view_name": "LayoutView",
            "align_content": null,
            "align_items": null,
            "align_self": null,
            "border": null,
            "bottom": null,
            "display": null,
            "flex": null,
            "flex_flow": null,
            "grid_area": null,
            "grid_auto_columns": null,
            "grid_auto_flow": null,
            "grid_auto_rows": null,
            "grid_column": null,
            "grid_gap": null,
            "grid_row": null,
            "grid_template_areas": null,
            "grid_template_columns": null,
            "grid_template_rows": null,
            "height": null,
            "justify_content": null,
            "justify_items": null,
            "left": null,
            "margin": null,
            "max_height": null,
            "max_width": null,
            "min_height": null,
            "min_width": null,
            "object_fit": null,
            "object_position": null,
            "order": null,
            "overflow": null,
            "overflow_x": null,
            "overflow_y": null,
            "padding": null,
            "right": null,
            "top": null,
            "visibility": null,
            "width": null
          }
        },
        "01dae9f314ca4b1e97a433e808efa02a": {
          "model_module": "@jupyter-widgets/controls",
          "model_name": "DescriptionStyleModel",
          "model_module_version": "1.5.0",
          "state": {
            "_model_module": "@jupyter-widgets/controls",
            "_model_module_version": "1.5.0",
            "_model_name": "DescriptionStyleModel",
            "_view_count": null,
            "_view_module": "@jupyter-widgets/base",
            "_view_module_version": "1.2.0",
            "_view_name": "StyleView",
            "description_width": ""
          }
        },
        "45c63840b70a44be860c70a2130d8473": {
          "model_module": "@jupyter-widgets/controls",
          "model_name": "HBoxModel",
          "model_module_version": "1.5.0",
          "state": {
            "_dom_classes": [],
            "_model_module": "@jupyter-widgets/controls",
            "_model_module_version": "1.5.0",
            "_model_name": "HBoxModel",
            "_view_count": null,
            "_view_module": "@jupyter-widgets/controls",
            "_view_module_version": "1.5.0",
            "_view_name": "HBoxView",
            "box_style": "",
            "children": [
              "IPY_MODEL_2b661d90fba94db9b9e7bf2b0803278c",
              "IPY_MODEL_bc1cd39767804edfbb1e2cdff4ac6e05",
              "IPY_MODEL_f00be212922c4ba69f6f4517fa243c5a"
            ],
            "layout": "IPY_MODEL_9f2d28061bc242c2a3091b32cadb8ebe"
          }
        },
        "2b661d90fba94db9b9e7bf2b0803278c": {
          "model_module": "@jupyter-widgets/controls",
          "model_name": "HTMLModel",
          "model_module_version": "1.5.0",
          "state": {
            "_dom_classes": [],
            "_model_module": "@jupyter-widgets/controls",
            "_model_module_version": "1.5.0",
            "_model_name": "HTMLModel",
            "_view_count": null,
            "_view_module": "@jupyter-widgets/controls",
            "_view_module_version": "1.5.0",
            "_view_name": "HTMLView",
            "description": "",
            "description_tooltip": null,
            "layout": "IPY_MODEL_003938190dc144f98fb80f1574f1a08d",
            "placeholder": "​",
            "style": "IPY_MODEL_d5ba026d39d4439388df60f2a7504cfa",
            "value": "100%"
          }
        },
        "bc1cd39767804edfbb1e2cdff4ac6e05": {
          "model_module": "@jupyter-widgets/controls",
          "model_name": "FloatProgressModel",
          "model_module_version": "1.5.0",
          "state": {
            "_dom_classes": [],
            "_model_module": "@jupyter-widgets/controls",
            "_model_module_version": "1.5.0",
            "_model_name": "FloatProgressModel",
            "_view_count": null,
            "_view_module": "@jupyter-widgets/controls",
            "_view_module_version": "1.5.0",
            "_view_name": "ProgressView",
            "bar_style": "success",
            "description": "",
            "description_tooltip": null,
            "layout": "IPY_MODEL_87810544ada54440858e474db081a2c6",
            "max": 3,
            "min": 0,
            "orientation": "horizontal",
            "style": "IPY_MODEL_6e9b704f7f5d48ec96b1d34868e00252",
            "value": 3
          }
        },
        "f00be212922c4ba69f6f4517fa243c5a": {
          "model_module": "@jupyter-widgets/controls",
          "model_name": "HTMLModel",
          "model_module_version": "1.5.0",
          "state": {
            "_dom_classes": [],
            "_model_module": "@jupyter-widgets/controls",
            "_model_module_version": "1.5.0",
            "_model_name": "HTMLModel",
            "_view_count": null,
            "_view_module": "@jupyter-widgets/controls",
            "_view_module_version": "1.5.0",
            "_view_name": "HTMLView",
            "description": "",
            "description_tooltip": null,
            "layout": "IPY_MODEL_fd55079ba3a844c89e20b2c607247559",
            "placeholder": "​",
            "style": "IPY_MODEL_43bbeb926dce4516be8e29f89cc99767",
            "value": " 3/3 [00:28&lt;00:00,  9.40s/it]"
          }
        },
        "9f2d28061bc242c2a3091b32cadb8ebe": {
          "model_module": "@jupyter-widgets/base",
          "model_name": "LayoutModel",
          "model_module_version": "1.2.0",
          "state": {
            "_model_module": "@jupyter-widgets/base",
            "_model_module_version": "1.2.0",
            "_model_name": "LayoutModel",
            "_view_count": null,
            "_view_module": "@jupyter-widgets/base",
            "_view_module_version": "1.2.0",
            "_view_name": "LayoutView",
            "align_content": null,
            "align_items": null,
            "align_self": null,
            "border": null,
            "bottom": null,
            "display": null,
            "flex": null,
            "flex_flow": null,
            "grid_area": null,
            "grid_auto_columns": null,
            "grid_auto_flow": null,
            "grid_auto_rows": null,
            "grid_column": null,
            "grid_gap": null,
            "grid_row": null,
            "grid_template_areas": null,
            "grid_template_columns": null,
            "grid_template_rows": null,
            "height": null,
            "justify_content": null,
            "justify_items": null,
            "left": null,
            "margin": null,
            "max_height": null,
            "max_width": null,
            "min_height": null,
            "min_width": null,
            "object_fit": null,
            "object_position": null,
            "order": null,
            "overflow": null,
            "overflow_x": null,
            "overflow_y": null,
            "padding": null,
            "right": null,
            "top": null,
            "visibility": null,
            "width": null
          }
        },
        "003938190dc144f98fb80f1574f1a08d": {
          "model_module": "@jupyter-widgets/base",
          "model_name": "LayoutModel",
          "model_module_version": "1.2.0",
          "state": {
            "_model_module": "@jupyter-widgets/base",
            "_model_module_version": "1.2.0",
            "_model_name": "LayoutModel",
            "_view_count": null,
            "_view_module": "@jupyter-widgets/base",
            "_view_module_version": "1.2.0",
            "_view_name": "LayoutView",
            "align_content": null,
            "align_items": null,
            "align_self": null,
            "border": null,
            "bottom": null,
            "display": null,
            "flex": null,
            "flex_flow": null,
            "grid_area": null,
            "grid_auto_columns": null,
            "grid_auto_flow": null,
            "grid_auto_rows": null,
            "grid_column": null,
            "grid_gap": null,
            "grid_row": null,
            "grid_template_areas": null,
            "grid_template_columns": null,
            "grid_template_rows": null,
            "height": null,
            "justify_content": null,
            "justify_items": null,
            "left": null,
            "margin": null,
            "max_height": null,
            "max_width": null,
            "min_height": null,
            "min_width": null,
            "object_fit": null,
            "object_position": null,
            "order": null,
            "overflow": null,
            "overflow_x": null,
            "overflow_y": null,
            "padding": null,
            "right": null,
            "top": null,
            "visibility": null,
            "width": null
          }
        },
        "d5ba026d39d4439388df60f2a7504cfa": {
          "model_module": "@jupyter-widgets/controls",
          "model_name": "DescriptionStyleModel",
          "model_module_version": "1.5.0",
          "state": {
            "_model_module": "@jupyter-widgets/controls",
            "_model_module_version": "1.5.0",
            "_model_name": "DescriptionStyleModel",
            "_view_count": null,
            "_view_module": "@jupyter-widgets/base",
            "_view_module_version": "1.2.0",
            "_view_name": "StyleView",
            "description_width": ""
          }
        },
        "87810544ada54440858e474db081a2c6": {
          "model_module": "@jupyter-widgets/base",
          "model_name": "LayoutModel",
          "model_module_version": "1.2.0",
          "state": {
            "_model_module": "@jupyter-widgets/base",
            "_model_module_version": "1.2.0",
            "_model_name": "LayoutModel",
            "_view_count": null,
            "_view_module": "@jupyter-widgets/base",
            "_view_module_version": "1.2.0",
            "_view_name": "LayoutView",
            "align_content": null,
            "align_items": null,
            "align_self": null,
            "border": null,
            "bottom": null,
            "display": null,
            "flex": null,
            "flex_flow": null,
            "grid_area": null,
            "grid_auto_columns": null,
            "grid_auto_flow": null,
            "grid_auto_rows": null,
            "grid_column": null,
            "grid_gap": null,
            "grid_row": null,
            "grid_template_areas": null,
            "grid_template_columns": null,
            "grid_template_rows": null,
            "height": null,
            "justify_content": null,
            "justify_items": null,
            "left": null,
            "margin": null,
            "max_height": null,
            "max_width": null,
            "min_height": null,
            "min_width": null,
            "object_fit": null,
            "object_position": null,
            "order": null,
            "overflow": null,
            "overflow_x": null,
            "overflow_y": null,
            "padding": null,
            "right": null,
            "top": null,
            "visibility": null,
            "width": null
          }
        },
        "6e9b704f7f5d48ec96b1d34868e00252": {
          "model_module": "@jupyter-widgets/controls",
          "model_name": "ProgressStyleModel",
          "model_module_version": "1.5.0",
          "state": {
            "_model_module": "@jupyter-widgets/controls",
            "_model_module_version": "1.5.0",
            "_model_name": "ProgressStyleModel",
            "_view_count": null,
            "_view_module": "@jupyter-widgets/base",
            "_view_module_version": "1.2.0",
            "_view_name": "StyleView",
            "bar_color": null,
            "description_width": ""
          }
        },
        "fd55079ba3a844c89e20b2c607247559": {
          "model_module": "@jupyter-widgets/base",
          "model_name": "LayoutModel",
          "model_module_version": "1.2.0",
          "state": {
            "_model_module": "@jupyter-widgets/base",
            "_model_module_version": "1.2.0",
            "_model_name": "LayoutModel",
            "_view_count": null,
            "_view_module": "@jupyter-widgets/base",
            "_view_module_version": "1.2.0",
            "_view_name": "LayoutView",
            "align_content": null,
            "align_items": null,
            "align_self": null,
            "border": null,
            "bottom": null,
            "display": null,
            "flex": null,
            "flex_flow": null,
            "grid_area": null,
            "grid_auto_columns": null,
            "grid_auto_flow": null,
            "grid_auto_rows": null,
            "grid_column": null,
            "grid_gap": null,
            "grid_row": null,
            "grid_template_areas": null,
            "grid_template_columns": null,
            "grid_template_rows": null,
            "height": null,
            "justify_content": null,
            "justify_items": null,
            "left": null,
            "margin": null,
            "max_height": null,
            "max_width": null,
            "min_height": null,
            "min_width": null,
            "object_fit": null,
            "object_position": null,
            "order": null,
            "overflow": null,
            "overflow_x": null,
            "overflow_y": null,
            "padding": null,
            "right": null,
            "top": null,
            "visibility": null,
            "width": null
          }
        },
        "43bbeb926dce4516be8e29f89cc99767": {
          "model_module": "@jupyter-widgets/controls",
          "model_name": "DescriptionStyleModel",
          "model_module_version": "1.5.0",
          "state": {
            "_model_module": "@jupyter-widgets/controls",
            "_model_module_version": "1.5.0",
            "_model_name": "DescriptionStyleModel",
            "_view_count": null,
            "_view_module": "@jupyter-widgets/base",
            "_view_module_version": "1.2.0",
            "_view_name": "StyleView",
            "description_width": ""
          }
        },
        "c137a710e07748cf8c55ea4eedbc8a83": {
          "model_module": "@jupyter-widgets/controls",
          "model_name": "HBoxModel",
          "model_module_version": "1.5.0",
          "state": {
            "_dom_classes": [],
            "_model_module": "@jupyter-widgets/controls",
            "_model_module_version": "1.5.0",
            "_model_name": "HBoxModel",
            "_view_count": null,
            "_view_module": "@jupyter-widgets/controls",
            "_view_module_version": "1.5.0",
            "_view_name": "HBoxView",
            "box_style": "",
            "children": [
              "IPY_MODEL_1b5f817fbeee48bf862491b82af1a536",
              "IPY_MODEL_ea0ffa32fe864309bcd1da2758273c2a",
              "IPY_MODEL_85d47500a5e143b2a0cda85a8e522288"
            ],
            "layout": "IPY_MODEL_ff18c76591534770a62be0d3a95e59b4"
          }
        },
        "1b5f817fbeee48bf862491b82af1a536": {
          "model_module": "@jupyter-widgets/controls",
          "model_name": "HTMLModel",
          "model_module_version": "1.5.0",
          "state": {
            "_dom_classes": [],
            "_model_module": "@jupyter-widgets/controls",
            "_model_module_version": "1.5.0",
            "_model_name": "HTMLModel",
            "_view_count": null,
            "_view_module": "@jupyter-widgets/controls",
            "_view_module_version": "1.5.0",
            "_view_name": "HTMLView",
            "description": "",
            "description_tooltip": null,
            "layout": "IPY_MODEL_c1a7301fb70a4761944740f0b916ccb3",
            "placeholder": "​",
            "style": "IPY_MODEL_718bd4edb9624d148431918625c376f6",
            "value": "100%"
          }
        },
        "ea0ffa32fe864309bcd1da2758273c2a": {
          "model_module": "@jupyter-widgets/controls",
          "model_name": "FloatProgressModel",
          "model_module_version": "1.5.0",
          "state": {
            "_dom_classes": [],
            "_model_module": "@jupyter-widgets/controls",
            "_model_module_version": "1.5.0",
            "_model_name": "FloatProgressModel",
            "_view_count": null,
            "_view_module": "@jupyter-widgets/controls",
            "_view_module_version": "1.5.0",
            "_view_name": "ProgressView",
            "bar_style": "success",
            "description": "",
            "description_tooltip": null,
            "layout": "IPY_MODEL_a70e74ba5ce04f01ba267acd5f0e8448",
            "max": 3,
            "min": 0,
            "orientation": "horizontal",
            "style": "IPY_MODEL_da151e60e5c2481ca998e4d27f9f528d",
            "value": 3
          }
        },
        "85d47500a5e143b2a0cda85a8e522288": {
          "model_module": "@jupyter-widgets/controls",
          "model_name": "HTMLModel",
          "model_module_version": "1.5.0",
          "state": {
            "_dom_classes": [],
            "_model_module": "@jupyter-widgets/controls",
            "_model_module_version": "1.5.0",
            "_model_name": "HTMLModel",
            "_view_count": null,
            "_view_module": "@jupyter-widgets/controls",
            "_view_module_version": "1.5.0",
            "_view_name": "HTMLView",
            "description": "",
            "description_tooltip": null,
            "layout": "IPY_MODEL_f6ab976928c54b70a7e17489950aee3f",
            "placeholder": "​",
            "style": "IPY_MODEL_eba2f8db27714dff9eb7eb371e91d2bb",
            "value": " 3/3 [02:34&lt;00:00, 51.02s/it]"
          }
        },
        "ff18c76591534770a62be0d3a95e59b4": {
          "model_module": "@jupyter-widgets/base",
          "model_name": "LayoutModel",
          "model_module_version": "1.2.0",
          "state": {
            "_model_module": "@jupyter-widgets/base",
            "_model_module_version": "1.2.0",
            "_model_name": "LayoutModel",
            "_view_count": null,
            "_view_module": "@jupyter-widgets/base",
            "_view_module_version": "1.2.0",
            "_view_name": "LayoutView",
            "align_content": null,
            "align_items": null,
            "align_self": null,
            "border": null,
            "bottom": null,
            "display": null,
            "flex": null,
            "flex_flow": null,
            "grid_area": null,
            "grid_auto_columns": null,
            "grid_auto_flow": null,
            "grid_auto_rows": null,
            "grid_column": null,
            "grid_gap": null,
            "grid_row": null,
            "grid_template_areas": null,
            "grid_template_columns": null,
            "grid_template_rows": null,
            "height": null,
            "justify_content": null,
            "justify_items": null,
            "left": null,
            "margin": null,
            "max_height": null,
            "max_width": null,
            "min_height": null,
            "min_width": null,
            "object_fit": null,
            "object_position": null,
            "order": null,
            "overflow": null,
            "overflow_x": null,
            "overflow_y": null,
            "padding": null,
            "right": null,
            "top": null,
            "visibility": null,
            "width": null
          }
        },
        "c1a7301fb70a4761944740f0b916ccb3": {
          "model_module": "@jupyter-widgets/base",
          "model_name": "LayoutModel",
          "model_module_version": "1.2.0",
          "state": {
            "_model_module": "@jupyter-widgets/base",
            "_model_module_version": "1.2.0",
            "_model_name": "LayoutModel",
            "_view_count": null,
            "_view_module": "@jupyter-widgets/base",
            "_view_module_version": "1.2.0",
            "_view_name": "LayoutView",
            "align_content": null,
            "align_items": null,
            "align_self": null,
            "border": null,
            "bottom": null,
            "display": null,
            "flex": null,
            "flex_flow": null,
            "grid_area": null,
            "grid_auto_columns": null,
            "grid_auto_flow": null,
            "grid_auto_rows": null,
            "grid_column": null,
            "grid_gap": null,
            "grid_row": null,
            "grid_template_areas": null,
            "grid_template_columns": null,
            "grid_template_rows": null,
            "height": null,
            "justify_content": null,
            "justify_items": null,
            "left": null,
            "margin": null,
            "max_height": null,
            "max_width": null,
            "min_height": null,
            "min_width": null,
            "object_fit": null,
            "object_position": null,
            "order": null,
            "overflow": null,
            "overflow_x": null,
            "overflow_y": null,
            "padding": null,
            "right": null,
            "top": null,
            "visibility": null,
            "width": null
          }
        },
        "718bd4edb9624d148431918625c376f6": {
          "model_module": "@jupyter-widgets/controls",
          "model_name": "DescriptionStyleModel",
          "model_module_version": "1.5.0",
          "state": {
            "_model_module": "@jupyter-widgets/controls",
            "_model_module_version": "1.5.0",
            "_model_name": "DescriptionStyleModel",
            "_view_count": null,
            "_view_module": "@jupyter-widgets/base",
            "_view_module_version": "1.2.0",
            "_view_name": "StyleView",
            "description_width": ""
          }
        },
        "a70e74ba5ce04f01ba267acd5f0e8448": {
          "model_module": "@jupyter-widgets/base",
          "model_name": "LayoutModel",
          "model_module_version": "1.2.0",
          "state": {
            "_model_module": "@jupyter-widgets/base",
            "_model_module_version": "1.2.0",
            "_model_name": "LayoutModel",
            "_view_count": null,
            "_view_module": "@jupyter-widgets/base",
            "_view_module_version": "1.2.0",
            "_view_name": "LayoutView",
            "align_content": null,
            "align_items": null,
            "align_self": null,
            "border": null,
            "bottom": null,
            "display": null,
            "flex": null,
            "flex_flow": null,
            "grid_area": null,
            "grid_auto_columns": null,
            "grid_auto_flow": null,
            "grid_auto_rows": null,
            "grid_column": null,
            "grid_gap": null,
            "grid_row": null,
            "grid_template_areas": null,
            "grid_template_columns": null,
            "grid_template_rows": null,
            "height": null,
            "justify_content": null,
            "justify_items": null,
            "left": null,
            "margin": null,
            "max_height": null,
            "max_width": null,
            "min_height": null,
            "min_width": null,
            "object_fit": null,
            "object_position": null,
            "order": null,
            "overflow": null,
            "overflow_x": null,
            "overflow_y": null,
            "padding": null,
            "right": null,
            "top": null,
            "visibility": null,
            "width": null
          }
        },
        "da151e60e5c2481ca998e4d27f9f528d": {
          "model_module": "@jupyter-widgets/controls",
          "model_name": "ProgressStyleModel",
          "model_module_version": "1.5.0",
          "state": {
            "_model_module": "@jupyter-widgets/controls",
            "_model_module_version": "1.5.0",
            "_model_name": "ProgressStyleModel",
            "_view_count": null,
            "_view_module": "@jupyter-widgets/base",
            "_view_module_version": "1.2.0",
            "_view_name": "StyleView",
            "bar_color": null,
            "description_width": ""
          }
        },
        "f6ab976928c54b70a7e17489950aee3f": {
          "model_module": "@jupyter-widgets/base",
          "model_name": "LayoutModel",
          "model_module_version": "1.2.0",
          "state": {
            "_model_module": "@jupyter-widgets/base",
            "_model_module_version": "1.2.0",
            "_model_name": "LayoutModel",
            "_view_count": null,
            "_view_module": "@jupyter-widgets/base",
            "_view_module_version": "1.2.0",
            "_view_name": "LayoutView",
            "align_content": null,
            "align_items": null,
            "align_self": null,
            "border": null,
            "bottom": null,
            "display": null,
            "flex": null,
            "flex_flow": null,
            "grid_area": null,
            "grid_auto_columns": null,
            "grid_auto_flow": null,
            "grid_auto_rows": null,
            "grid_column": null,
            "grid_gap": null,
            "grid_row": null,
            "grid_template_areas": null,
            "grid_template_columns": null,
            "grid_template_rows": null,
            "height": null,
            "justify_content": null,
            "justify_items": null,
            "left": null,
            "margin": null,
            "max_height": null,
            "max_width": null,
            "min_height": null,
            "min_width": null,
            "object_fit": null,
            "object_position": null,
            "order": null,
            "overflow": null,
            "overflow_x": null,
            "overflow_y": null,
            "padding": null,
            "right": null,
            "top": null,
            "visibility": null,
            "width": null
          }
        },
        "eba2f8db27714dff9eb7eb371e91d2bb": {
          "model_module": "@jupyter-widgets/controls",
          "model_name": "DescriptionStyleModel",
          "model_module_version": "1.5.0",
          "state": {
            "_model_module": "@jupyter-widgets/controls",
            "_model_module_version": "1.5.0",
            "_model_name": "DescriptionStyleModel",
            "_view_count": null,
            "_view_module": "@jupyter-widgets/base",
            "_view_module_version": "1.2.0",
            "_view_name": "StyleView",
            "description_width": ""
          }
        },
        "d164a917641b439ebed113e2f01a12ff": {
          "model_module": "@jupyter-widgets/controls",
          "model_name": "HBoxModel",
          "model_module_version": "1.5.0",
          "state": {
            "_dom_classes": [],
            "_model_module": "@jupyter-widgets/controls",
            "_model_module_version": "1.5.0",
            "_model_name": "HBoxModel",
            "_view_count": null,
            "_view_module": "@jupyter-widgets/controls",
            "_view_module_version": "1.5.0",
            "_view_name": "HBoxView",
            "box_style": "",
            "children": [
              "IPY_MODEL_d60e519d05694fc195820ceef1edfb54",
              "IPY_MODEL_ec8a8ad85083498a87e3e243e5c1279f",
              "IPY_MODEL_0a8e47ea3a1640db989d94c1cca072f9"
            ],
            "layout": "IPY_MODEL_9474569920814604a0a1c2288893c211"
          }
        },
        "d60e519d05694fc195820ceef1edfb54": {
          "model_module": "@jupyter-widgets/controls",
          "model_name": "HTMLModel",
          "model_module_version": "1.5.0",
          "state": {
            "_dom_classes": [],
            "_model_module": "@jupyter-widgets/controls",
            "_model_module_version": "1.5.0",
            "_model_name": "HTMLModel",
            "_view_count": null,
            "_view_module": "@jupyter-widgets/controls",
            "_view_module_version": "1.5.0",
            "_view_name": "HTMLView",
            "description": "",
            "description_tooltip": null,
            "layout": "IPY_MODEL_c0ce09a83a694872b931340641573f1c",
            "placeholder": "​",
            "style": "IPY_MODEL_a3a5cac28ab8434b941ba3779ebc7f74",
            "value": "Tahminler yapılıyor: 100%"
          }
        },
        "ec8a8ad85083498a87e3e243e5c1279f": {
          "model_module": "@jupyter-widgets/controls",
          "model_name": "FloatProgressModel",
          "model_module_version": "1.5.0",
          "state": {
            "_dom_classes": [],
            "_model_module": "@jupyter-widgets/controls",
            "_model_module_version": "1.5.0",
            "_model_name": "FloatProgressModel",
            "_view_count": null,
            "_view_module": "@jupyter-widgets/controls",
            "_view_module_version": "1.5.0",
            "_view_name": "ProgressView",
            "bar_style": "success",
            "description": "",
            "description_tooltip": null,
            "layout": "IPY_MODEL_265c62df1e0048a882899e75692f7fb5",
            "max": 313,
            "min": 0,
            "orientation": "horizontal",
            "style": "IPY_MODEL_3dd8618740844709bb3acffa2867b61e",
            "value": 313
          }
        },
        "0a8e47ea3a1640db989d94c1cca072f9": {
          "model_module": "@jupyter-widgets/controls",
          "model_name": "HTMLModel",
          "model_module_version": "1.5.0",
          "state": {
            "_dom_classes": [],
            "_model_module": "@jupyter-widgets/controls",
            "_model_module_version": "1.5.0",
            "_model_name": "HTMLModel",
            "_view_count": null,
            "_view_module": "@jupyter-widgets/controls",
            "_view_module_version": "1.5.0",
            "_view_name": "HTMLView",
            "description": "",
            "description_tooltip": null,
            "layout": "IPY_MODEL_835af96ae7024f22ac2071971cc03a75",
            "placeholder": "​",
            "style": "IPY_MODEL_896fb2b558784e509afb2dafd193c883",
            "value": " 313/313 [00:06&lt;00:00, 72.66it/s]"
          }
        },
        "9474569920814604a0a1c2288893c211": {
          "model_module": "@jupyter-widgets/base",
          "model_name": "LayoutModel",
          "model_module_version": "1.2.0",
          "state": {
            "_model_module": "@jupyter-widgets/base",
            "_model_module_version": "1.2.0",
            "_model_name": "LayoutModel",
            "_view_count": null,
            "_view_module": "@jupyter-widgets/base",
            "_view_module_version": "1.2.0",
            "_view_name": "LayoutView",
            "align_content": null,
            "align_items": null,
            "align_self": null,
            "border": null,
            "bottom": null,
            "display": null,
            "flex": null,
            "flex_flow": null,
            "grid_area": null,
            "grid_auto_columns": null,
            "grid_auto_flow": null,
            "grid_auto_rows": null,
            "grid_column": null,
            "grid_gap": null,
            "grid_row": null,
            "grid_template_areas": null,
            "grid_template_columns": null,
            "grid_template_rows": null,
            "height": null,
            "justify_content": null,
            "justify_items": null,
            "left": null,
            "margin": null,
            "max_height": null,
            "max_width": null,
            "min_height": null,
            "min_width": null,
            "object_fit": null,
            "object_position": null,
            "order": null,
            "overflow": null,
            "overflow_x": null,
            "overflow_y": null,
            "padding": null,
            "right": null,
            "top": null,
            "visibility": null,
            "width": null
          }
        },
        "c0ce09a83a694872b931340641573f1c": {
          "model_module": "@jupyter-widgets/base",
          "model_name": "LayoutModel",
          "model_module_version": "1.2.0",
          "state": {
            "_model_module": "@jupyter-widgets/base",
            "_model_module_version": "1.2.0",
            "_model_name": "LayoutModel",
            "_view_count": null,
            "_view_module": "@jupyter-widgets/base",
            "_view_module_version": "1.2.0",
            "_view_name": "LayoutView",
            "align_content": null,
            "align_items": null,
            "align_self": null,
            "border": null,
            "bottom": null,
            "display": null,
            "flex": null,
            "flex_flow": null,
            "grid_area": null,
            "grid_auto_columns": null,
            "grid_auto_flow": null,
            "grid_auto_rows": null,
            "grid_column": null,
            "grid_gap": null,
            "grid_row": null,
            "grid_template_areas": null,
            "grid_template_columns": null,
            "grid_template_rows": null,
            "height": null,
            "justify_content": null,
            "justify_items": null,
            "left": null,
            "margin": null,
            "max_height": null,
            "max_width": null,
            "min_height": null,
            "min_width": null,
            "object_fit": null,
            "object_position": null,
            "order": null,
            "overflow": null,
            "overflow_x": null,
            "overflow_y": null,
            "padding": null,
            "right": null,
            "top": null,
            "visibility": null,
            "width": null
          }
        },
        "a3a5cac28ab8434b941ba3779ebc7f74": {
          "model_module": "@jupyter-widgets/controls",
          "model_name": "DescriptionStyleModel",
          "model_module_version": "1.5.0",
          "state": {
            "_model_module": "@jupyter-widgets/controls",
            "_model_module_version": "1.5.0",
            "_model_name": "DescriptionStyleModel",
            "_view_count": null,
            "_view_module": "@jupyter-widgets/base",
            "_view_module_version": "1.2.0",
            "_view_name": "StyleView",
            "description_width": ""
          }
        },
        "265c62df1e0048a882899e75692f7fb5": {
          "model_module": "@jupyter-widgets/base",
          "model_name": "LayoutModel",
          "model_module_version": "1.2.0",
          "state": {
            "_model_module": "@jupyter-widgets/base",
            "_model_module_version": "1.2.0",
            "_model_name": "LayoutModel",
            "_view_count": null,
            "_view_module": "@jupyter-widgets/base",
            "_view_module_version": "1.2.0",
            "_view_name": "LayoutView",
            "align_content": null,
            "align_items": null,
            "align_self": null,
            "border": null,
            "bottom": null,
            "display": null,
            "flex": null,
            "flex_flow": null,
            "grid_area": null,
            "grid_auto_columns": null,
            "grid_auto_flow": null,
            "grid_auto_rows": null,
            "grid_column": null,
            "grid_gap": null,
            "grid_row": null,
            "grid_template_areas": null,
            "grid_template_columns": null,
            "grid_template_rows": null,
            "height": null,
            "justify_content": null,
            "justify_items": null,
            "left": null,
            "margin": null,
            "max_height": null,
            "max_width": null,
            "min_height": null,
            "min_width": null,
            "object_fit": null,
            "object_position": null,
            "order": null,
            "overflow": null,
            "overflow_x": null,
            "overflow_y": null,
            "padding": null,
            "right": null,
            "top": null,
            "visibility": null,
            "width": null
          }
        },
        "3dd8618740844709bb3acffa2867b61e": {
          "model_module": "@jupyter-widgets/controls",
          "model_name": "ProgressStyleModel",
          "model_module_version": "1.5.0",
          "state": {
            "_model_module": "@jupyter-widgets/controls",
            "_model_module_version": "1.5.0",
            "_model_name": "ProgressStyleModel",
            "_view_count": null,
            "_view_module": "@jupyter-widgets/base",
            "_view_module_version": "1.2.0",
            "_view_name": "StyleView",
            "bar_color": null,
            "description_width": ""
          }
        },
        "835af96ae7024f22ac2071971cc03a75": {
          "model_module": "@jupyter-widgets/base",
          "model_name": "LayoutModel",
          "model_module_version": "1.2.0",
          "state": {
            "_model_module": "@jupyter-widgets/base",
            "_model_module_version": "1.2.0",
            "_model_name": "LayoutModel",
            "_view_count": null,
            "_view_module": "@jupyter-widgets/base",
            "_view_module_version": "1.2.0",
            "_view_name": "LayoutView",
            "align_content": null,
            "align_items": null,
            "align_self": null,
            "border": null,
            "bottom": null,
            "display": null,
            "flex": null,
            "flex_flow": null,
            "grid_area": null,
            "grid_auto_columns": null,
            "grid_auto_flow": null,
            "grid_auto_rows": null,
            "grid_column": null,
            "grid_gap": null,
            "grid_row": null,
            "grid_template_areas": null,
            "grid_template_columns": null,
            "grid_template_rows": null,
            "height": null,
            "justify_content": null,
            "justify_items": null,
            "left": null,
            "margin": null,
            "max_height": null,
            "max_width": null,
            "min_height": null,
            "min_width": null,
            "object_fit": null,
            "object_position": null,
            "order": null,
            "overflow": null,
            "overflow_x": null,
            "overflow_y": null,
            "padding": null,
            "right": null,
            "top": null,
            "visibility": null,
            "width": null
          }
        },
        "896fb2b558784e509afb2dafd193c883": {
          "model_module": "@jupyter-widgets/controls",
          "model_name": "DescriptionStyleModel",
          "model_module_version": "1.5.0",
          "state": {
            "_model_module": "@jupyter-widgets/controls",
            "_model_module_version": "1.5.0",
            "_model_name": "DescriptionStyleModel",
            "_view_count": null,
            "_view_module": "@jupyter-widgets/base",
            "_view_module_version": "1.2.0",
            "_view_name": "StyleView",
            "description_width": ""
          }
        }
      }
    }
  },
  "cells": [
    {
      "cell_type": "markdown",
      "metadata": {
        "id": "view-in-github",
        "colab_type": "text"
      },
      "source": [
        "<a href=\"https://colab.research.google.com/github/esradag/pytorch-derin-ogrenme/blob/main/03_Pytorch_G%C3%B6r%C3%BCnt%C3%BC_i%C5%9Fleme.ipynb\" target=\"_parent\"><img src=\"https://colab.research.google.com/assets/colab-badge.svg\" alt=\"Open In Colab\"/></a>"
      ]
    },
    {
      "cell_type": "markdown",
      "source": [
        "# 03. PyTorch Görüntü İşleme\n",
        "\n",
        "[Görüntü işleme](https://en.wikipedia.org/wiki/Computer_vision), bir bilgisayara görme yeteneği kazandırma sanatıdır.\n",
        "\n",
        "Örneğin, bir fotoğrafın kedi mi yoksa köpek mi olduğunu sınıflandıran bir model geliştirmek olabilir ([ikili sınıflandırma](https://developers.google.com/machine-learning/glossary#binary-classification)).\n",
        "\n",
        "Ya da bir fotoğrafın kedi, köpek veya tavuk olup olmadığını belirlemek olabilir ([çoklu sınıf sınıflandırma](https://developers.google.com/machine-learning/glossary#multi-class-classification)).\n",
        "\n",
        "Veya bir videoda bir arabanın hangi karede yer aldığını tespit etmek olabilir ([nesne tespiti](https://en.wikipedia.org/wiki/Object_detection)).\n",
        "\n",
        "Ya da bir görüntüde farklı nesnelerin nerelerde ayrılabileceğini bulmak olabilir ([panoptik segmentasyon](https://arxiv.org/abs/1801.00868)).\n",
        "\n",
        "![örnek bilgisayar vision problemleri](https://raw.githubusercontent.com/mrdbourke/pytorch-deep-learning/main/images/03-computer-vision-problems.png)\n",
        "*İkili sınıflandırma, çoklu sınıf sınıflandırma, nesne tespiti ve segmentasyon için örnek bilgisayar vision problemleri.*\n"
      ],
      "metadata": {
        "id": "pBMyqH2r2tnf"
      }
    },
    {
      "cell_type": "markdown",
      "source": [
        "## Görüntü işleme nerelerde kullanılır?\n",
        "\n",
        "Bir akıllı telefon kullanıyorsanız, bilgisayar vision'u zaten kullanıyorsunuz demektir.\n",
        "\n",
        "Kamera ve fotoğraf uygulamaları, görüntüleri [görüntü işleme ile geliştirir](https://machinelearning.apple.com/research/panoptic-segmentation).\n",
        "\n",
        "Modern arabalar, diğer araçlardan kaçınmak ve şeritlerde kalmak için [görüntü işleme kullanır](https://youtu.be/j0z4FweCy4M?t=2989).\n",
        "\n",
        "Üreticiler, çeşitli ürünlerdeki hataları tespit etmek için görüntü işleme kullanır.\n",
        "\n",
        "Güvenlik kameraları, potansiyel girişimcileri tespit etmek için görüntü işleme kullanır.\n",
        "\n",
        "Özetle, görsel anlamda tanımlanabilen her şey bir bilgisayar vision problemi olabilir.\n"
      ],
      "metadata": {
        "id": "4TxBrcad2u4g"
      }
    },
    {
      "cell_type": "markdown",
      "source": [
        "## Konu Başlıklarımız\n",
        "\n",
        "Önceki bölümlerde öğrendiğimiz PyTorch iş akışını, görüntü işleme uygulamalarına uyarlayacağız.\n",
        "\n",
        "![PyTorch iş akışının görüntü işleme odaklı versiyonu](https://raw.githubusercontent.com/mrdbourke/pytorch-deep-learning/main/images/03-pytorch-computer-vision-workflow.png)\n",
        "\n",
        "Özellikle, şu konuları ele alacağız:\n",
        "\n",
        "| **Konu** | **İçerik** |\n",
        "| ----- | ----- |\n",
        "| **0. PyTorch'ta görüntü işleme kütüphaneleri** | PyTorch, görüntü işleme problemleri için kullanabileceğiniz bir dizi yerleşik kütüphane içeriyor, bunları inceleyeceğiz. |\n",
        "| **1. Veriyi yükleme** | Görüntü işleme üzerine pratik yapmaya başlamak için [FashionMNIST](https://github.com/zalandoresearch/fashion-mnist) veri seti ile başlayacağız. |\n",
        "| **2. Veriyi hazırlama** | Bazı görsellerimiz var, onları bir [PyTorch `DataLoader`](https://pytorch.org/docs/stable/data.html) ile yükleyip, eğitim döngüsünde kullanacağız. |\n",
        "| **3. Model 0: Temel bir model oluşturma** | Burada, verilerdeki desenleri öğrenmek için bir çoklu sınıf sınıflandırma modeli oluşturacağız, ayrıca bir **kayıp fonksiyonu**, **optimizer** ve **eğitim döngüsü** seçeceğiz. |\n",
        "| **4. Model 0 ile tahmin yapma ve değerlendirme** | Temel modelimizle bazı tahminler yapalım ve değerlendirelim. |\n",
        "| **5. Gelecek modeller için cihaz bağımsız kod ayarlama** | En iyi uygulama, cihaz bağımsız kod yazmak, bu yüzden bunu ayarlayalım. |\n",
        "| **6. Model 1: Doğrusal olmayanlık ekleme** | Makine öğreniminin büyük bir parçası deneme yapmaktır, temel modelimizi doğrusal olmayan katmanlar ekleyerek iyileştirmeyi deneyelim. |\n",
        "| **7. Model 2: Konvolüsyonel Sinir Ağı (CNN)** | Görüntü işleme odaklı olarak güçlü bir konvolüsyonel sinir ağı mimarisi tanıtalım. |\n",
        "| **8. Modellerimizi karşılaştırma** | Üç farklı model oluşturduk, onları karşılaştıralım. |\n",
        "| **9. En iyi modelimizi değerlendirme** | Rastgele görseller üzerinde bazı tahminler yapalım ve en iyi modelimizi değerlendirelim. |\n",
        "| **10. Karışıklık matrisi oluşturma** | Karışıklık matrisi, sınıflandırma modellerini değerlendirmek için harika bir yöntemdir, nasıl yapılacağını görelim. |\n",
        "| **11. En iyi performans gösteren modeli kaydetme ve yükleme** | Modelimizi daha sonra kullanmak isteyebiliriz, o yüzden kaydedelim ve düzgün bir şekilde tekrar yüklediğimizden emin olalım. |\n"
      ],
      "metadata": {
        "id": "UBAjvH272y2V"
      }
    },
    {
      "cell_type": "markdown",
      "source": [
        "\n",
        "## Yardım Nerede Bulunabilir?\n",
        "\n",
        "Bu kurs için tüm materyaller [GitHub'da](https://github.com/mrdbourke/pytorch-deep-learning) mevcuttur.\n",
        "\n",
        "Sorun yaşarsanız, kursun [GitHub Discussions sayfasında](https://github.com/mrdbourke/pytorch-deep-learning/discussions) bir soru sorabilirsiniz.\n",
        "\n",
        "Ve tabii ki, [PyTorch belgeleri](https://pytorch.org/docs/stable/index.html) ve [PyTorch geliştirici forumları](https://discuss.pytorch.org/), PyTorch ile ilgili her şey için çok yardımcı bir yerdir.\n",
        "\n",
        "## 0. PyTorch'ta Görüntü İşleme Kütüphaneleri\n",
        "\n",
        "Kod yazmaya başlamadan önce, PyTorch'ta kullanmanız gereken bazı görüntü işleme kütüphanelerini konuşalım.\n",
        "\n",
        "| PyTorch modülü | Ne işe yarar? |\n",
        "| ----- | ----- |\n",
        "| [`torchvision`](https://pytorch.org/vision/stable/index.html) | Görüntü işleme problemleri için sıklıkla kullanılan veri setleri, model mimarileri ve görüntü dönüşümleri içerir. |\n",
        "| [`torchvision.datasets`](https://pytorch.org/vision/stable/datasets.html) | Burada, görüntü sınıflandırma, nesne tespiti, görüntü başlıklandırma, video sınıflandırma ve daha fazlası için birçok örnek veri seti bulabilirsiniz. Ayrıca, [özel veri setleri oluşturmak için bazı temel sınıfları içerir](https://pytorch.org/vision/stable/datasets.html#base-classes-for-custom-datasets). |\n",
        "| [`torchvision.models`](https://pytorch.org/vision/stable/models.html) | Bu modül, PyTorch'ta yaygın olarak kullanılan ve iyi performans gösteren görüntü işleme model mimarilerini içerir, bunları kendi problemlerinizle kullanabilirsiniz. |\n",
        "| [`torchvision.transforms`](https://pytorch.org/vision/stable/transforms.html) | Görüntülerin bir modele kullanmadan önce dönüştürülmesi (sayılara dönüştürülmesi, işlenmesi, artırılması) gerekir, burada sık kullanılan görüntü dönüşümleri bulunur. |\n",
        "| [`torch.utils.data.Dataset`](https://pytorch.org/docs/stable/data.html#torch.utils.data.Dataset) | PyTorch için temel veri seti sınıfıdır. |\n",
        "| [`torch.utils.data.DataLoader`](https://pytorch.org/docs/stable/data.html#module-torch.utils.data) | Bir veri seti üzerinde Python iteratörü oluşturur (bu, `torch.utils.data.Dataset` ile oluşturulur). |\n",
        "\n",
        "> **Not:** `torch.utils.data.Dataset` ve `torch.utils.data.DataLoader` sınıfları yalnızca PyTorch'ta görüntü işleme için değildir, bunlar farklı veri türleriyle de çalışabilir.\n",
        "\n",
        "Şimdi, PyTorch'ta bazı önemli görüntü işleme kütüphanelerini inceledik, ilgili bağımlılıkları içe aktaralım.\n"
      ],
      "metadata": {
        "id": "YP2l5Bt723E_"
      }
    },
    {
      "cell_type": "code",
      "source": [
        "# PyTorch'u içe aktaralım\n",
        "import torch\n",
        "from torch import nn\n",
        "\n",
        "# torchvision'u içe aktaralım\n",
        "import torchvision\n",
        "from torchvision import datasets\n",
        "from torchvision.transforms import ToTensor\n",
        "\n",
        "# Görselleştirme için matplotlib'ı içe aktaralım\n",
        "import matplotlib.pyplot as plt\n",
        "\n",
        "# Sürümleri kontrol edelim\n",
        "# Not: PyTorch sürümünüz 1.10.0'dan düşük olmamalı ve torchvision sürümünüz 0.11'den düşük olmamalı\n",
        "print(f\"PyTorch sürümü: {torch.__version__}\\ntorchvision sürümü: {torchvision.__version__}\")\n"
      ],
      "metadata": {
        "id": "xYJU4i7G3EXN",
        "colab": {
          "base_uri": "https://localhost:8080/"
        },
        "outputId": "62263428-54ab-4d98-f628-81171e634a22"
      },
      "execution_count": null,
      "outputs": [
        {
          "output_type": "stream",
          "name": "stdout",
          "text": [
            "PyTorch sürümü: 2.5.1+cu121\n",
            "torchvision sürümü: 0.20.1+cu121\n"
          ]
        }
      ]
    },
    {
      "cell_type": "markdown",
      "source": [
        "## 1. Veri Seti Alma\n",
        "\n",
        "Bir görüntü işleme problemi üzerinde çalışmaya başlamak için, bir görüntü işleme veri seti alalım.\n",
        "\n",
        "FashionMNIST ile başlayacağız.\n",
        "\n",
        "MNIST, Modified National Institute of Standards and Technology'in kısaltmasıdır.\n",
        "\n",
        "[Orijinal MNIST veri seti](https://en.wikipedia.org/wiki/MNIST_database), binlerce el yazısı rakam örneği (0'dan 9'a kadar) içerir ve posta servisleri için rakamları tanıyan görüntü işleme modelleri oluşturmak için kullanılmıştır.\n",
        "\n",
        "[FashionMNIST](https://github.com/zalandoresearch/fashion-mnist), Zalando Araştırma tarafından yapılmıştır, benzer bir kurulum vardır.\n",
        "\n",
        "Ancak, 10 farklı türde giysinin gri tonlamalı görsellerini içerir.\n",
        "\n",
        "![FashionMNIST örnek resmi](https://raw.githubusercontent.com/mrdbourke/pytorch-deep-learning/main/images/03-fashion-mnist-slide.png)\n",
        "*`torchvision.datasets`, üzerinde görüntü işleme kodu yazma pratiği yapabileceğiniz birçok örnek veri seti içerir. FashionMNIST, bu veri setlerinden bir tanesidir. Ve 10 farklı sınıfı (farklı giysi türleri) olduğu için çoklu sınıf sınıflandırma problemidir.*\n",
        "\n",
        "Daha sonra, bu görsellerdeki farklı giysi stillerini tanımlayan bir görüntü işleme sinir ağı inşa edeceğiz.\n",
        "\n",
        "PyTorch, `torchvision.datasets` içinde birçok yaygın görüntü işleme veri seti saklar.\n",
        "\n",
        "Bunlar arasında [`torchvision.datasets.FashionMNIST()`](https://pytorch.org/vision/main/generated/torchvision.datasets.FashionMNIST.html) yer alır.\n",
        "\n",
        "Veriyi indirmek için şu parametreleri sağlarız:\n",
        "* `root: str` - veriyi hangi klasöre indirmek istersiniz?\n",
        "* `train: Bool` - eğitim verisi mi yoksa test verisi mi almak istersiniz?\n",
        "* `download: Bool` - veri indirilsin mi?\n",
        "* `transform: torchvision.transforms` - veriye hangi dönüşümleri uygulamak istersiniz?\n",
        "* `target_transform` - hedefleri (etiketleri) dönüştürebilirsiniz.\n",
        "\n",
        "`torchvision`'daki diğer veri setlerinin de bu parametre seçenekleri vardır.\n"
      ],
      "metadata": {
        "id": "QdH2Fp7l3Rya"
      }
    },
    {
      "cell_type": "code",
      "source": [
        "# Eğitim Verisini Ayarlama\n",
        "train_data = datasets.FashionMNIST(\n",
        "    root=\"data\", # verinin nereye indirileceğini belirleyin\n",
        "    train=True, # eğitim verisini alın\n",
        "    download=True, # veri disk üzerinde yoksa indirilsin\n",
        "    transform=ToTensor(), # görseller PIL formatında gelir, biz bunları Torch tensörlerine dönüştürmek istiyoruz\n",
        "    target_transform=None # etiketleri de dönüştürebilirsiniz\n",
        ")\n",
        "# Test Verisini Ayarlama\n",
        "test_data = datasets.FashionMNIST(\n",
        "    root=\"data\",\n",
        "    train=False, # test verisini alın\n",
        "    download=True,\n",
        "    transform=ToTensor()\n",
        ")"
      ],
      "metadata": {
        "id": "-82mVQGO3RXH",
        "colab": {
          "base_uri": "https://localhost:8080/"
        },
        "outputId": "dff8fe0e-ed12-4880-f4a0-f30e6ddc4640"
      },
      "execution_count": null,
      "outputs": [
        {
          "output_type": "stream",
          "name": "stdout",
          "text": [
            "Downloading http://fashion-mnist.s3-website.eu-central-1.amazonaws.com/train-images-idx3-ubyte.gz\n",
            "Downloading http://fashion-mnist.s3-website.eu-central-1.amazonaws.com/train-images-idx3-ubyte.gz to data/FashionMNIST/raw/train-images-idx3-ubyte.gz\n"
          ]
        },
        {
          "output_type": "stream",
          "name": "stderr",
          "text": [
            "100%|██████████| 26.4M/26.4M [00:01<00:00, 22.5MB/s]\n"
          ]
        },
        {
          "output_type": "stream",
          "name": "stdout",
          "text": [
            "Extracting data/FashionMNIST/raw/train-images-idx3-ubyte.gz to data/FashionMNIST/raw\n",
            "\n",
            "Downloading http://fashion-mnist.s3-website.eu-central-1.amazonaws.com/train-labels-idx1-ubyte.gz\n",
            "Downloading http://fashion-mnist.s3-website.eu-central-1.amazonaws.com/train-labels-idx1-ubyte.gz to data/FashionMNIST/raw/train-labels-idx1-ubyte.gz\n"
          ]
        },
        {
          "output_type": "stream",
          "name": "stderr",
          "text": [
            "100%|██████████| 29.5k/29.5k [00:00<00:00, 351kB/s]\n"
          ]
        },
        {
          "output_type": "stream",
          "name": "stdout",
          "text": [
            "Extracting data/FashionMNIST/raw/train-labels-idx1-ubyte.gz to data/FashionMNIST/raw\n",
            "\n",
            "Downloading http://fashion-mnist.s3-website.eu-central-1.amazonaws.com/t10k-images-idx3-ubyte.gz\n",
            "Downloading http://fashion-mnist.s3-website.eu-central-1.amazonaws.com/t10k-images-idx3-ubyte.gz to data/FashionMNIST/raw/t10k-images-idx3-ubyte.gz\n"
          ]
        },
        {
          "output_type": "stream",
          "name": "stderr",
          "text": [
            "100%|██████████| 4.42M/4.42M [00:00<00:00, 6.34MB/s]\n"
          ]
        },
        {
          "output_type": "stream",
          "name": "stdout",
          "text": [
            "Extracting data/FashionMNIST/raw/t10k-images-idx3-ubyte.gz to data/FashionMNIST/raw\n",
            "\n",
            "Downloading http://fashion-mnist.s3-website.eu-central-1.amazonaws.com/t10k-labels-idx1-ubyte.gz\n",
            "Downloading http://fashion-mnist.s3-website.eu-central-1.amazonaws.com/t10k-labels-idx1-ubyte.gz to data/FashionMNIST/raw/t10k-labels-idx1-ubyte.gz\n"
          ]
        },
        {
          "output_type": "stream",
          "name": "stderr",
          "text": [
            "100%|██████████| 5.15k/5.15k [00:00<00:00, 13.3MB/s]"
          ]
        },
        {
          "output_type": "stream",
          "name": "stdout",
          "text": [
            "Extracting data/FashionMNIST/raw/t10k-labels-idx1-ubyte.gz to data/FashionMNIST/raw\n",
            "\n"
          ]
        },
        {
          "output_type": "stream",
          "name": "stderr",
          "text": [
            "\n"
          ]
        }
      ]
    },
    {
      "cell_type": "markdown",
      "source": [
        "İlk eğitim verisi örneğine göz atalım."
      ],
      "metadata": {
        "id": "8DJPR0hx3BAq"
      }
    },
    {
      "cell_type": "code",
      "source": [
        "# İlk eğitim örneğini görüntüleyelim\n",
        "image, label = train_data[0]\n",
        "image, label"
      ],
      "metadata": {
        "id": "1PQp1CHL4An9",
        "colab": {
          "base_uri": "https://localhost:8080/"
        },
        "outputId": "81246589-8b2c-4f2d-9b05-5352a218e7f6"
      },
      "execution_count": null,
      "outputs": [
        {
          "output_type": "execute_result",
          "data": {
            "text/plain": [
              "(tensor([[[0.0000, 0.0000, 0.0000, 0.0000, 0.0000, 0.0000, 0.0000, 0.0000,\n",
              "           0.0000, 0.0000, 0.0000, 0.0000, 0.0000, 0.0000, 0.0000, 0.0000,\n",
              "           0.0000, 0.0000, 0.0000, 0.0000, 0.0000, 0.0000, 0.0000, 0.0000,\n",
              "           0.0000, 0.0000, 0.0000, 0.0000],\n",
              "          [0.0000, 0.0000, 0.0000, 0.0000, 0.0000, 0.0000, 0.0000, 0.0000,\n",
              "           0.0000, 0.0000, 0.0000, 0.0000, 0.0000, 0.0000, 0.0000, 0.0000,\n",
              "           0.0000, 0.0000, 0.0000, 0.0000, 0.0000, 0.0000, 0.0000, 0.0000,\n",
              "           0.0000, 0.0000, 0.0000, 0.0000],\n",
              "          [0.0000, 0.0000, 0.0000, 0.0000, 0.0000, 0.0000, 0.0000, 0.0000,\n",
              "           0.0000, 0.0000, 0.0000, 0.0000, 0.0000, 0.0000, 0.0000, 0.0000,\n",
              "           0.0000, 0.0000, 0.0000, 0.0000, 0.0000, 0.0000, 0.0000, 0.0000,\n",
              "           0.0000, 0.0000, 0.0000, 0.0000],\n",
              "          [0.0000, 0.0000, 0.0000, 0.0000, 0.0000, 0.0000, 0.0000, 0.0000,\n",
              "           0.0000, 0.0000, 0.0000, 0.0000, 0.0039, 0.0000, 0.0000, 0.0510,\n",
              "           0.2863, 0.0000, 0.0000, 0.0039, 0.0157, 0.0000, 0.0000, 0.0000,\n",
              "           0.0000, 0.0039, 0.0039, 0.0000],\n",
              "          [0.0000, 0.0000, 0.0000, 0.0000, 0.0000, 0.0000, 0.0000, 0.0000,\n",
              "           0.0000, 0.0000, 0.0000, 0.0000, 0.0118, 0.0000, 0.1412, 0.5333,\n",
              "           0.4980, 0.2431, 0.2118, 0.0000, 0.0000, 0.0000, 0.0039, 0.0118,\n",
              "           0.0157, 0.0000, 0.0000, 0.0118],\n",
              "          [0.0000, 0.0000, 0.0000, 0.0000, 0.0000, 0.0000, 0.0000, 0.0000,\n",
              "           0.0000, 0.0000, 0.0000, 0.0000, 0.0235, 0.0000, 0.4000, 0.8000,\n",
              "           0.6902, 0.5255, 0.5647, 0.4824, 0.0902, 0.0000, 0.0000, 0.0000,\n",
              "           0.0000, 0.0471, 0.0392, 0.0000],\n",
              "          [0.0000, 0.0000, 0.0000, 0.0000, 0.0000, 0.0000, 0.0000, 0.0000,\n",
              "           0.0000, 0.0000, 0.0000, 0.0000, 0.0000, 0.0000, 0.6078, 0.9255,\n",
              "           0.8118, 0.6980, 0.4196, 0.6118, 0.6314, 0.4275, 0.2510, 0.0902,\n",
              "           0.3020, 0.5098, 0.2824, 0.0588],\n",
              "          [0.0000, 0.0000, 0.0000, 0.0000, 0.0000, 0.0000, 0.0000, 0.0000,\n",
              "           0.0000, 0.0000, 0.0000, 0.0039, 0.0000, 0.2706, 0.8118, 0.8745,\n",
              "           0.8549, 0.8471, 0.8471, 0.6392, 0.4980, 0.4745, 0.4784, 0.5725,\n",
              "           0.5529, 0.3451, 0.6745, 0.2588],\n",
              "          [0.0000, 0.0000, 0.0000, 0.0000, 0.0000, 0.0000, 0.0000, 0.0000,\n",
              "           0.0000, 0.0039, 0.0039, 0.0039, 0.0000, 0.7843, 0.9098, 0.9098,\n",
              "           0.9137, 0.8980, 0.8745, 0.8745, 0.8431, 0.8353, 0.6431, 0.4980,\n",
              "           0.4824, 0.7686, 0.8980, 0.0000],\n",
              "          [0.0000, 0.0000, 0.0000, 0.0000, 0.0000, 0.0000, 0.0000, 0.0000,\n",
              "           0.0000, 0.0000, 0.0000, 0.0000, 0.0000, 0.7176, 0.8824, 0.8471,\n",
              "           0.8745, 0.8941, 0.9216, 0.8902, 0.8784, 0.8706, 0.8784, 0.8667,\n",
              "           0.8745, 0.9608, 0.6784, 0.0000],\n",
              "          [0.0000, 0.0000, 0.0000, 0.0000, 0.0000, 0.0000, 0.0000, 0.0000,\n",
              "           0.0000, 0.0000, 0.0000, 0.0000, 0.0000, 0.7569, 0.8941, 0.8549,\n",
              "           0.8353, 0.7765, 0.7059, 0.8314, 0.8235, 0.8275, 0.8353, 0.8745,\n",
              "           0.8627, 0.9529, 0.7922, 0.0000],\n",
              "          [0.0000, 0.0000, 0.0000, 0.0000, 0.0000, 0.0000, 0.0000, 0.0000,\n",
              "           0.0000, 0.0039, 0.0118, 0.0000, 0.0471, 0.8588, 0.8627, 0.8314,\n",
              "           0.8549, 0.7529, 0.6627, 0.8902, 0.8157, 0.8549, 0.8784, 0.8314,\n",
              "           0.8863, 0.7725, 0.8196, 0.2039],\n",
              "          [0.0000, 0.0000, 0.0000, 0.0000, 0.0000, 0.0000, 0.0000, 0.0000,\n",
              "           0.0000, 0.0000, 0.0235, 0.0000, 0.3882, 0.9569, 0.8706, 0.8627,\n",
              "           0.8549, 0.7961, 0.7765, 0.8667, 0.8431, 0.8353, 0.8706, 0.8627,\n",
              "           0.9608, 0.4667, 0.6549, 0.2196],\n",
              "          [0.0000, 0.0000, 0.0000, 0.0000, 0.0000, 0.0000, 0.0000, 0.0000,\n",
              "           0.0000, 0.0157, 0.0000, 0.0000, 0.2157, 0.9255, 0.8941, 0.9020,\n",
              "           0.8941, 0.9412, 0.9098, 0.8353, 0.8549, 0.8745, 0.9176, 0.8510,\n",
              "           0.8510, 0.8196, 0.3608, 0.0000],\n",
              "          [0.0000, 0.0000, 0.0039, 0.0157, 0.0235, 0.0275, 0.0078, 0.0000,\n",
              "           0.0000, 0.0000, 0.0000, 0.0000, 0.9294, 0.8863, 0.8510, 0.8745,\n",
              "           0.8706, 0.8588, 0.8706, 0.8667, 0.8471, 0.8745, 0.8980, 0.8431,\n",
              "           0.8549, 1.0000, 0.3020, 0.0000],\n",
              "          [0.0000, 0.0118, 0.0000, 0.0000, 0.0000, 0.0000, 0.0000, 0.0000,\n",
              "           0.0000, 0.2431, 0.5686, 0.8000, 0.8941, 0.8118, 0.8353, 0.8667,\n",
              "           0.8549, 0.8157, 0.8275, 0.8549, 0.8784, 0.8745, 0.8588, 0.8431,\n",
              "           0.8784, 0.9569, 0.6235, 0.0000],\n",
              "          [0.0000, 0.0000, 0.0000, 0.0000, 0.0706, 0.1725, 0.3216, 0.4196,\n",
              "           0.7412, 0.8941, 0.8627, 0.8706, 0.8510, 0.8863, 0.7843, 0.8039,\n",
              "           0.8275, 0.9020, 0.8784, 0.9176, 0.6902, 0.7373, 0.9804, 0.9725,\n",
              "           0.9137, 0.9333, 0.8431, 0.0000],\n",
              "          [0.0000, 0.2235, 0.7333, 0.8157, 0.8784, 0.8667, 0.8784, 0.8157,\n",
              "           0.8000, 0.8392, 0.8157, 0.8196, 0.7843, 0.6235, 0.9608, 0.7569,\n",
              "           0.8078, 0.8745, 1.0000, 1.0000, 0.8667, 0.9176, 0.8667, 0.8275,\n",
              "           0.8627, 0.9098, 0.9647, 0.0000],\n",
              "          [0.0118, 0.7922, 0.8941, 0.8784, 0.8667, 0.8275, 0.8275, 0.8392,\n",
              "           0.8039, 0.8039, 0.8039, 0.8627, 0.9412, 0.3137, 0.5882, 1.0000,\n",
              "           0.8980, 0.8667, 0.7373, 0.6039, 0.7490, 0.8235, 0.8000, 0.8196,\n",
              "           0.8706, 0.8941, 0.8824, 0.0000],\n",
              "          [0.3843, 0.9137, 0.7765, 0.8235, 0.8706, 0.8980, 0.8980, 0.9176,\n",
              "           0.9765, 0.8627, 0.7608, 0.8431, 0.8510, 0.9451, 0.2549, 0.2863,\n",
              "           0.4157, 0.4588, 0.6588, 0.8588, 0.8667, 0.8431, 0.8510, 0.8745,\n",
              "           0.8745, 0.8784, 0.8980, 0.1137],\n",
              "          [0.2941, 0.8000, 0.8314, 0.8000, 0.7569, 0.8039, 0.8275, 0.8824,\n",
              "           0.8471, 0.7255, 0.7725, 0.8078, 0.7765, 0.8353, 0.9412, 0.7647,\n",
              "           0.8902, 0.9608, 0.9373, 0.8745, 0.8549, 0.8314, 0.8196, 0.8706,\n",
              "           0.8627, 0.8667, 0.9020, 0.2627],\n",
              "          [0.1882, 0.7961, 0.7176, 0.7608, 0.8353, 0.7725, 0.7255, 0.7451,\n",
              "           0.7608, 0.7529, 0.7922, 0.8392, 0.8588, 0.8667, 0.8627, 0.9255,\n",
              "           0.8824, 0.8471, 0.7804, 0.8078, 0.7294, 0.7098, 0.6941, 0.6745,\n",
              "           0.7098, 0.8039, 0.8078, 0.4510],\n",
              "          [0.0000, 0.4784, 0.8588, 0.7569, 0.7020, 0.6706, 0.7176, 0.7686,\n",
              "           0.8000, 0.8235, 0.8353, 0.8118, 0.8275, 0.8235, 0.7843, 0.7686,\n",
              "           0.7608, 0.7490, 0.7647, 0.7490, 0.7765, 0.7529, 0.6902, 0.6118,\n",
              "           0.6549, 0.6941, 0.8235, 0.3608],\n",
              "          [0.0000, 0.0000, 0.2902, 0.7412, 0.8314, 0.7490, 0.6863, 0.6745,\n",
              "           0.6863, 0.7098, 0.7255, 0.7373, 0.7412, 0.7373, 0.7569, 0.7765,\n",
              "           0.8000, 0.8196, 0.8235, 0.8235, 0.8275, 0.7373, 0.7373, 0.7608,\n",
              "           0.7529, 0.8471, 0.6667, 0.0000],\n",
              "          [0.0078, 0.0000, 0.0000, 0.0000, 0.2588, 0.7843, 0.8706, 0.9294,\n",
              "           0.9373, 0.9490, 0.9647, 0.9529, 0.9569, 0.8667, 0.8627, 0.7569,\n",
              "           0.7490, 0.7020, 0.7137, 0.7137, 0.7098, 0.6902, 0.6510, 0.6588,\n",
              "           0.3882, 0.2275, 0.0000, 0.0000],\n",
              "          [0.0000, 0.0000, 0.0000, 0.0000, 0.0000, 0.0000, 0.0000, 0.1569,\n",
              "           0.2392, 0.1725, 0.2824, 0.1608, 0.1373, 0.0000, 0.0000, 0.0000,\n",
              "           0.0000, 0.0000, 0.0000, 0.0000, 0.0000, 0.0000, 0.0000, 0.0000,\n",
              "           0.0000, 0.0000, 0.0000, 0.0000],\n",
              "          [0.0000, 0.0000, 0.0000, 0.0000, 0.0000, 0.0000, 0.0000, 0.0000,\n",
              "           0.0000, 0.0000, 0.0000, 0.0000, 0.0000, 0.0000, 0.0000, 0.0000,\n",
              "           0.0000, 0.0000, 0.0000, 0.0000, 0.0000, 0.0000, 0.0000, 0.0000,\n",
              "           0.0000, 0.0000, 0.0000, 0.0000],\n",
              "          [0.0000, 0.0000, 0.0000, 0.0000, 0.0000, 0.0000, 0.0000, 0.0000,\n",
              "           0.0000, 0.0000, 0.0000, 0.0000, 0.0000, 0.0000, 0.0000, 0.0000,\n",
              "           0.0000, 0.0000, 0.0000, 0.0000, 0.0000, 0.0000, 0.0000, 0.0000,\n",
              "           0.0000, 0.0000, 0.0000, 0.0000]]]),\n",
              " 9)"
            ]
          },
          "metadata": {},
          "execution_count": 3
        }
      ]
    },
    {
      "cell_type": "markdown",
      "source": [
        "### 1.1 Görüntü İşleme Modelinin Girdi ve Çıktı Şekilleri\n",
        "\n",
        "Elimizde büyük bir tensör var (görüntü) ve bu tensör tek bir değere (etiket) dönüşüyor.\n",
        "\n",
        "Görüntü şekline bakalım."
      ],
      "metadata": {
        "id": "fsjvqNNE4HAH"
      }
    },
    {
      "cell_type": "code",
      "source": [
        "# Görüntünün şekli nedir?\n",
        "image.shape\n"
      ],
      "metadata": {
        "id": "DQF9zs9b4BoV",
        "colab": {
          "base_uri": "https://localhost:8080/"
        },
        "outputId": "901fd408-fed0-4680-f9d8-cf3bd0fa5273"
      },
      "execution_count": null,
      "outputs": [
        {
          "output_type": "execute_result",
          "data": {
            "text/plain": [
              "torch.Size([1, 28, 28])"
            ]
          },
          "metadata": {},
          "execution_count": 4
        }
      ]
    },
    {
      "cell_type": "markdown",
      "source": [
        "Görüntü tensörünün şekli `[1, 28, 28]` veya daha spesifik olarak:\n",
        "```\n",
        "[color_channels=1, height=28, width=28]\n",
        "```\n",
        "\n",
        "`color_channels=1` olması, görüntünün gri tonlamalı olduğunu gösterir.\n",
        "\n",
        "![fashionMNIST problemine ait örnek girdi ve çıktı şekilleri](https://raw.githubusercontent.com/mrdbourke/pytorch-deep-learning/main/images/03-computer-vision-input-and-output-shapes.png)\n",
        "*Çeşitli problemler farklı girdi ve çıktı şekillerine sahip olabilir. Ancak temel prensip aynıdır: veriyi sayılara dönüştür, bu sayılarda desenler bulacak bir model oluştur, ve bu desenleri anlamlı bir şekilde dönüştür.*\n",
        "\n",
        "Eğer `color_channels=3` olsaydı, görüntüde kırmızı, yeşil ve mavi (RGB renk modeli) için piksellerin değerleri olurdu.\n",
        "\n",
        "Görüntü tensörümüzün sırası genellikle `CHW` (Renk Kanalları, Yükseklik, Genişlik) olarak adlandırılır.\n",
        "\n",
        "Görüntüler `CHW` (renk kanalları önce) veya `HWC` (renk kanalları sonra) olarak temsil edilmeli mi, diye bir tartışma vardır.\n",
        "\n",
        "> **Not:** `NCHW` ve `NHWC` formatlarını da görebilirsiniz, burada `N` *görüntü sayısını* ifade eder. Örneğin eğer `batch_size=32` varsa, tensör şekliniz `[32, 1, 28, 28]` olabilir. Daha sonra batch size'dan bahsedeceğiz.\n",
        "\n",
        "PyTorch genellikle `NCHW` (renk kanalları önce) formatını varsayılan olarak kabul eder.\n",
        "\n",
        "Ancak, PyTorch ayrıca `NHWC` (renk kanalları sonra) formatının daha iyi performans gösterdiğini ve [en iyi uygulama](https://pytorch.org/blog/tensor-memory-format-matters/#pytorch-best-practice) olarak kabul edildiğini açıklar.\n",
        "\n",
        "Şu anda veri setimiz ve modellerimiz nispeten küçük olduğu için bu çok fazla fark yaratmayacaktır.\n",
        "\n",
        "Ancak, daha büyük görüntü veri setleri üzerinde çalışırken ve evrişimsel sinir ağlarını (CNN) kullanırken bunu aklınızda bulundurun (bunları daha sonra göreceğiz).\n",
        "\n",
        "Verimizin daha fazla şekline göz atalım."
      ],
      "metadata": {
        "id": "AZxw9Zx_4KEX"
      }
    },
    {
      "cell_type": "code",
      "source": [
        "# Kaç tane örnek var?\n",
        "len(train_data.data), len(train_data.targets), len(test_data.data), len(test_data.targets)"
      ],
      "metadata": {
        "id": "nEayBXfW4V0B",
        "colab": {
          "base_uri": "https://localhost:8080/"
        },
        "outputId": "d1956b14-2daf-4a6e-805a-2ef5e485925f"
      },
      "execution_count": null,
      "outputs": [
        {
          "output_type": "execute_result",
          "data": {
            "text/plain": [
              "(60000, 60000, 10000, 10000)"
            ]
          },
          "metadata": {},
          "execution_count": 5
        }
      ]
    },
    {
      "cell_type": "markdown",
      "source": [
        "\n",
        "Bu durumda 60.000 eğitim örneği ve 10.000 test örneğimiz var.\n",
        "\n",
        "Peki hangi sınıflar var?\n",
        "\n",
        "Bunları `.classes` özelliğiyle bulabiliriz."
      ],
      "metadata": {
        "id": "xey8ZqL74sPo"
      }
    },
    {
      "cell_type": "code",
      "source": [
        "# Sınıflara göz atalım\n",
        "class_names = train_data.classes\n",
        "class_names"
      ],
      "metadata": {
        "id": "2mZzqmkf4tTp",
        "colab": {
          "base_uri": "https://localhost:8080/"
        },
        "outputId": "f392cab7-5091-4c3a-aca8-d14c716cf845"
      },
      "execution_count": null,
      "outputs": [
        {
          "output_type": "execute_result",
          "data": {
            "text/plain": [
              "['T-shirt/top',\n",
              " 'Trouser',\n",
              " 'Pullover',\n",
              " 'Dress',\n",
              " 'Coat',\n",
              " 'Sandal',\n",
              " 'Shirt',\n",
              " 'Sneaker',\n",
              " 'Bag',\n",
              " 'Ankle boot']"
            ]
          },
          "metadata": {},
          "execution_count": 6
        }
      ]
    },
    {
      "cell_type": "markdown",
      "source": [
        "Harika! Görünen o ki 10 farklı türde giysi ile karşılaşıyoruz.\n",
        "\n",
        "Çünkü 10 farklı sınıfımız var, bu da demek oluyor ki problemimiz **çoklu sınıf sınıflandırma**.\n",
        "\n",
        "Hadi verimizi görselleştirelim."
      ],
      "metadata": {
        "id": "V5iJwMXk4yE_"
      }
    },
    {
      "cell_type": "markdown",
      "source": [
        "### 1.2 Verimizi Görselleştirme"
      ],
      "metadata": {
        "id": "l9skWtO24zic"
      }
    },
    {
      "cell_type": "code",
      "source": [
        "import matplotlib.pyplot as plt\n",
        "image, label = train_data[0]\n",
        "print(f\"Görüntü şekli: {image.shape}\")\n",
        "plt.imshow(image.squeeze()) # görüntü şekli [1, 28, 28] (renk kanalları, yükseklik, genişlik)\n",
        "plt.title(label);"
      ],
      "metadata": {
        "id": "yxLF_cbr43I9",
        "colab": {
          "base_uri": "https://localhost:8080/",
          "height": 469
        },
        "outputId": "923bcfb2-a5be-467a-cf6e-9f56144aff25"
      },
      "execution_count": null,
      "outputs": [
        {
          "output_type": "stream",
          "name": "stdout",
          "text": [
            "Görüntü şekli: torch.Size([1, 28, 28])\n"
          ]
        },
        {
          "output_type": "display_data",
          "data": {
            "text/plain": [
              "<Figure size 640x480 with 1 Axes>"
            ],
            "image/png": "[encoded data removed]"
          },
          "metadata": {}
        }
      ]
    },
    {
      "cell_type": "markdown",
      "source": [
        "Görüntüyü gri tonlamaya dönüştürmek için `plt.imshow()`'un `cmap` parametresini kullanabiliriz."
      ],
      "metadata": {
        "id": "ZsaPJavw47Xx"
      }
    },
    {
      "cell_type": "code",
      "source": [
        "plt.imshow(image.squeeze(), cmap=\"gray\")\n",
        "plt.title(class_names[label]);"
      ],
      "metadata": {
        "id": "I0uAGFr-47Js",
        "colab": {
          "base_uri": "https://localhost:8080/",
          "height": 452
        },
        "outputId": "589f1e19-7ea3-4f03-d30d-063c6267d8c6"
      },
      "execution_count": null,
      "outputs": [
        {
          "output_type": "display_data",
          "data": {
            "text/plain": [
              "<Figure size 640x480 with 1 Axes>"
            ],
            "image/png": "[encoded data removed]"
          },
          "metadata": {}
        }
      ]
    },
    {
      "cell_type": "markdown",
      "source": [
        "Harika, ya da en azından pikselleşmiş bir gri tonlamalı bilek çizmeleri kadar harika.\n",
        "\n",
        "Hadi bir kaç tane daha görelim."
      ],
      "metadata": {
        "id": "RC_o00xY5FgA"
      }
    },
    {
      "cell_type": "code",
      "source": [
        "# Daha fazla görüntü çizelim\n",
        "torch.manual_seed(42)\n",
        "fig = plt.figure(figsize=(9, 9))\n",
        "rows, cols = 4, 4\n",
        "for i in range(1, rows * cols + 1):\n",
        "    random_idx = torch.randint(0, len(train_data), size=[1]).item()\n",
        "    img, label = train_data[random_idx]\n",
        "    fig.add_subplot(rows, cols, i)\n",
        "    plt.imshow(img.squeeze(), cmap=\"gray\")\n",
        "    plt.title(class_names[label])\n",
        "    plt.axis(False);"
      ],
      "metadata": {
        "id": "qd5Vajwl4_a8",
        "colab": {
          "base_uri": "https://localhost:8080/",
          "height": 752
        },
        "outputId": "02c948a2-4aa6-4afe-b463-8df9820b56e7"
      },
      "execution_count": null,
      "outputs": [
        {
          "output_type": "display_data",
          "data": {
            "text/plain": [
              "<Figure size 900x900 with 16 Axes>"
            ],
            "image/png": "[encoded data removed]"
          },
          "metadata": {}
        }
      ]
    },
    {
      "cell_type": "markdown",
      "source": [
        "Hmmm, bu veri seti pek estetik görünmüyor.\n",
        "\n",
        "Ancak, bu veri seti için öğrenmeye başlayacağımız model oluşturma ilkeleri, çok çeşitli görüntü işleme problemleri için benzer olacaktır.\n",
        "\n",
        "Özünde, piksel değerlerini alıp, bu değerlerdeki desenleri bulmak ve bunları gelecekteki piksel değerleri üzerinde kullanmak.\n",
        "\n",
        "Ayrıca, bu küçük veri seti için (evet, derin öğrenme için 60.000 görsel bile oldukça küçük sayılır), her birini sınıflandırmak için bir program yazabilir misiniz?\n",
        "\n",
        "Muhtemelen yazabilirsiniz.\n",
        "\n",
        "Ama sanırım PyTorch'da bir model kodlamak çok daha hızlı olurdu.\n",
        "\n",
        "> **Soru:** Yukarıdaki veri yalnızca düz (doğrusal) çizgilerle modellenebilir mi? Yoksa eğri (doğrusal olmayan) çizgilere de mi ihtiyaç duyulurdu?\n"
      ],
      "metadata": {
        "id": "ZCu_nD635W_f"
      }
    },
    {
      "cell_type": "markdown",
      "source": [
        "## 2. Veri Yükleyici Hazırlama\n",
        "\n",
        "Şimdi veri setimizi kullanıma hazır hale getirdik.\n",
        "\n",
        "Bir sonraki adım, bunu [`torch.utils.data.DataLoader`](https://pytorch.org/docs/stable/data.html#torch.utils.data.Dataset) veya kısaca `DataLoader` ile hazırlamak.\n",
        "\n",
        "`DataLoader`, tahmin edebileceğiniz gibi, veri yükleme işini yapar.\n",
        "\n",
        "Eğitim ve çıkarım (inference) için veriyi modele yükler.\n",
        "\n",
        "Bir büyük `Dataset`'i daha küçük parçalara (mini-batch'lere) ayırarak bir Python yineleyicisine dönüştürür.\n",
        "\n",
        "Bu daha küçük parçalar, **batch'ler** veya **mini-batch'ler** olarak adlandırılır ve `batch_size` parametresiyle ayarlanabilir.\n",
        "\n",
        "Neden böyle yapalım?\n",
        "\n",
        "Çünkü bu, daha hesaplamalı olarak verimlidir.\n",
        "\n",
        "İdeal bir dünyada, tüm veriler üzerinde bir ileri geçiş (forward pass) ve geri geçiş (backward pass) yapılabilir.\n",
        "\n",
        "Ancak gerçekten büyük veri setleri kullanmaya başladığınızda, sonsuz işlem gücünüz yoksa, veriyi mini-batch'lere ayırmak daha kolaydır.\n",
        "\n",
        "Ayrıca modelin daha fazla gelişme fırsatı da sunar.\n",
        "\n",
        "**Mini-batch'lerde** (verinin küçük bölümleri), her epoch'ta değil, her mini-batch'te bir kez, gradyan inişi (gradient descent) yapılır.\n",
        "\n",
        "İyi bir batch size nedir?\n",
        "\n",
        "[32 iyi bir başlangıçtır](https://twitter.com/ylecun/status/989610208497360896?s=20&t=N96J_jotN--PYuJk2WcjMw) pek çok problem için.\n",
        "\n",
        "Ama bu, ayarlayabileceğiniz bir **hiperparametre** olduğu için farklı değerlerle deneyebilirsiniz, genellikle 2'nin katları daha yaygın olarak kullanılır (örneğin 32, 64, 128, 256, 512).\n",
        "\n",
        "![batch'lenmiş FashionMNIST örneği](https://raw.githubusercontent.com/mrdbourke/pytorch-deep-learning/main/images/03-batching-fashionmnist.png)\n",
        "*FashionMNIST'in 32 batch boyutu ve karıştırma (shuffle) açıldığında nasıl batch'lendiği. Diğer veri setlerinde de benzer bir batch işleme olacak, ancak batch boyutuna göre değişiklik gösterebilir.*\n",
        "\n",
        "Şimdi, eğitim ve test veri setlerimiz için `DataLoader`'ları oluşturalım.\n"
      ],
      "metadata": {
        "id": "DxrSIxuP5W3U"
      }
    },
    {
      "cell_type": "code",
      "source": [
        "from torch.utils.data import DataLoader\n",
        "\n",
        "# Batch boyutunu ayarlayın\n",
        "BATCH_SIZE = 32\n",
        "\n",
        "# Veri setlerini yineleyicilere (batch'lere) dönüştürün\n",
        "train_dataloader = DataLoader(train_data, # yineleyiciye dönüştürülecek veri seti\n",
        "    batch_size=BATCH_SIZE, # her batch'te kaç örnek olacak?\n",
        "    shuffle=True # her epoch'ta veriyi karıştırsın mı?\n",
        ")\n",
        "\n",
        "test_dataloader = DataLoader(test_data,\n",
        "    batch_size=BATCH_SIZE,\n",
        "    shuffle=False # test verisini karıştırmaya gerek yok\n",
        ")\n",
        "\n",
        "# Oluşturduğumuz şeyleri kontrol edelim\n",
        "print(f\"Dataloaders: {train_dataloader, test_dataloader}\")\n",
        "print(f\"Training dataloader uzunluğu: {len(train_dataloader)} batch, her biri {BATCH_SIZE}\")\n",
        "print(f\"Test dataloader uzunluğu: {len(test_dataloader)} batch, her biri {BATCH_SIZE}\")\n"
      ],
      "metadata": {
        "id": "shULpP1u5fdw",
        "colab": {
          "base_uri": "https://localhost:8080/"
        },
        "outputId": "a7e18382-af19-4a35-e693-d073dc2f594c"
      },
      "execution_count": null,
      "outputs": [
        {
          "output_type": "stream",
          "name": "stdout",
          "text": [
            "Dataloaders: (<torch.utils.data.dataloader.DataLoader object at 0x7fd380f9b490>, <torch.utils.data.dataloader.DataLoader object at 0x7fd38bef2a90>)\n",
            "Training dataloader uzunluğu: 1875 batch, her biri 32\n",
            "Test dataloader uzunluğu: 313 batch, her biri 32\n"
          ]
        }
      ]
    },
    {
      "cell_type": "code",
      "source": [
        "# Eğitim dataloader'ının içeriğine göz atalım\n",
        "train_features_batch, train_labels_batch = next(iter(train_dataloader))\n",
        "train_features_batch.shape, train_labels_batch.shape\n"
      ],
      "metadata": {
        "id": "CuP4GKPe5gOn",
        "colab": {
          "base_uri": "https://localhost:8080/"
        },
        "outputId": "34b8242f-63ba-4f4e-957e-ec3d994ea6b3"
      },
      "execution_count": null,
      "outputs": [
        {
          "output_type": "execute_result",
          "data": {
            "text/plain": [
              "(torch.Size([32, 1, 28, 28]), torch.Size([32]))"
            ]
          },
          "metadata": {},
          "execution_count": 11
        }
      ]
    },
    {
      "cell_type": "markdown",
      "source": [
        "\n",
        "Ve veri tek bir örneği kontrol ederek değişmeden kaldığını görelim.\n"
      ],
      "metadata": {
        "id": "VRHclp1F5jvW"
      }
    },
    {
      "cell_type": "code",
      "source": [
        "# Bir örnek gösterelim\n",
        "torch.manual_seed(42)\n",
        "random_idx = torch.randint(0, len(train_features_batch), size=[1]).item()\n",
        "img, label = train_features_batch[random_idx], train_labels_batch[random_idx]\n",
        "plt.imshow(img.squeeze(), cmap=\"gray\")\n",
        "plt.title(class_names[label])\n",
        "plt.axis(\"Off\");\n",
        "print(f\"Görüntü boyutu: {img.shape}\")\n",
        "print(f\"Etiket: {label}, etiket boyutu: {label.shape}\")\n",
        "\n",
        "\n",
        "\n",
        "\n",
        "\n"
      ],
      "metadata": {
        "id": "XIkWOb8K5kP-",
        "colab": {
          "base_uri": "https://localhost:8080/",
          "height": 463
        },
        "outputId": "be93649a-9e29-4309-da47-f81887486572"
      },
      "execution_count": null,
      "outputs": [
        {
          "output_type": "stream",
          "name": "stdout",
          "text": [
            "Görüntü boyutu: torch.Size([1, 28, 28])\n",
            "Etiket: 6, etiket boyutu: torch.Size([])\n"
          ]
        },
        {
          "output_type": "display_data",
          "data": {
            "text/plain": [
              "<Figure size 640x480 with 1 Axes>"
            ],
            "image/png": "[encoded data removed]"
          },
          "metadata": {}
        }
      ]
    },
    {
      "cell_type": "markdown",
      "source": [
        "## 3. Model 0: Temel Bir Model Oluşturma\n",
        "\n",
        "Veri yüklendi ve hazır!\n",
        "\n",
        "Şimdi bir **temel model** oluşturalım, bunu `nn.Module` sınıfını alt sınıflandırarak yapacağız.\n",
        "\n",
        "Bir **temel model**, hayal edebileceğiniz en basit modellerden biridir.\n",
        "\n",
        "Bu modeli bir başlangıç noktası olarak kullanıp, onu daha sonraki, daha karmaşık modellerle geliştirmeye çalışırsınız.\n",
        "\n",
        "Temel modelimiz iki [`nn.Linear()`](https://pytorch.org/docs/stable/generated/torch.nn.Linear.html) katmanından oluşacak.\n",
        "\n",
        "Bunu önceki bir bölümde yapmıştık ama burada küçük bir fark olacak.\n",
        "\n",
        "Çünkü görüntü verisiyle çalışıyoruz, işin başında farklı bir katman kullanacağız.\n",
        "\n",
        "Ve bu katman [`nn.Flatten()`](https://pytorch.org/docs/stable/generated/torch.nn.Flatten.html) katmanı.\n",
        "\n",
        "`nn.Flatten()` katmanı, bir tensörün boyutlarını tek bir vektöre sıkıştırır.\n",
        "\n",
        "Bunu görmek daha kolaydır."
      ],
      "metadata": {
        "id": "QVAE5QLa5mMu"
      }
    },
    {
      "cell_type": "code",
      "source": [
        "# Bir flatten katmanı oluşturun\n",
        "flatten_model = nn.Flatten() # tüm nn modülleri model gibi çalışır (forward pass yapılabilir)\n",
        "\n",
        "# Tek bir örnek alalım\n",
        "x = train_features_batch[0]\n",
        "\n",
        "# Örneği flatten (düzleştir)\n",
        "output = flatten_model(x) # forward pass yapalım\n",
        "\n",
        "# Ne olduğunu yazdıralım\n",
        "print(f\"Flatten işleminden önce şekil: {x.shape} -> [color_channels, height, width]\")\n",
        "print(f\"Flatten işleminden sonra şekil: {output.shape} -> [color_channels, height*width]\")\n",
        "\n",
        "# Aşağıyı yorum satırından çıkarıp ne olduğunu görün\n",
        "#print(x)\n",
        "#print(output)"
      ],
      "metadata": {
        "id": "4RJDnyeH6Cgc",
        "colab": {
          "base_uri": "https://localhost:8080/"
        },
        "outputId": "ed1fa273-24c6-4304-a30d-c943725d504f"
      },
      "execution_count": null,
      "outputs": [
        {
          "output_type": "stream",
          "name": "stdout",
          "text": [
            "Flatten işleminden önce şekil: torch.Size([1, 28, 28]) -> [color_channels, height, width]\n",
            "Flatten işleminden sonra şekil: torch.Size([1, 784]) -> [color_channels, height*width]\n"
          ]
        }
      ]
    },
    {
      "cell_type": "markdown",
      "source": [
        "\n",
        "`nn.Flatten()` katmanı, şeklimizi `[color_channels, height, width]`'ten `[color_channels, height*width]`'e dönüştürdü.\n",
        "\n",
        "Bunu neden yapıyoruz?\n",
        "\n",
        "Çünkü artık piksel verimizi yükseklik ve genişlik boyutlarından bir uzun **özellik vektörüne** dönüştürdük.\n",
        "\n",
        "Ve `nn.Linear()` katmanları, girdilerinin özellik vektörü şeklinde olmasını sever.\n",
        "\n",
        "Şimdi, `nn.Flatten()`'i ilk katman olarak kullanarak ilk modelimizi oluşturalım.\n"
      ],
      "metadata": {
        "id": "qTGzbYSR6GK1"
      }
    },
    {
      "cell_type": "code",
      "source": [
        "from torch import nn\n",
        "class FashionMNISTModelV0(nn.Module):\n",
        "    def __init__(self, input_shape: int, hidden_units: int, output_shape: int):\n",
        "        super().__init__()\n",
        "        self.layer_stack = nn.Sequential(\n",
        "            nn.Flatten(), # Sinir ağları, girdilerini vektör formunda sever\n",
        "            nn.Linear(in_features=input_shape, out_features=hidden_units), # in_features = veri örneğindeki özellik sayısı (784 piksel)\n",
        "            nn.Linear(in_features=hidden_units, out_features=output_shape)\n",
        "        )\n",
        "\n",
        "    def forward(self, x):\n",
        "        return self.layer_stack(x)"
      ],
      "metadata": {
        "id": "_f1EdOOw6HE4"
      },
      "execution_count": null,
      "outputs": []
    },
    {
      "cell_type": "markdown",
      "source": [
        "Harika!\n",
        "\n",
        "Şimdi kullanabileceğimiz bir temel model sınıfımız var, şimdi modelimizi örnekleyelim.\n",
        "\n",
        "Şu parametreleri ayarlamamız gerekecek:\n",
        "* `input_shape=784` - modele giden özelliklerin sayısı, bu durumda hedef görseldeki her bir piksel için bir özellik var (28 piksel yüksekliğinde, 28 piksel genişliğinde = 784 özellik).\n",
        "* `hidden_units=10` - gizli katmanda kullanılacak birim/neurona sayısı, bu sayı istediğiniz gibi olabilir ancak modeli küçük tutmak için `10` ile başlayalım.\n",
        "* `output_shape=len(class_names)` - çünkü çoklu sınıf sınıflandırma problemiyle çalışıyoruz, veri setimizdeki her sınıf için bir çıktı nöronu gerekecek.\n",
        "\n",
        "Şimdi modelimizin bir örneğini oluşturalım ve başta CPU'ya gönderelim (yakında `model_0`'ı CPU ile GPU karşılaştırması yaparak test edeceğiz).\n"
      ],
      "metadata": {
        "id": "JSk9IRsh6GsU"
      }
    },
    {
      "cell_type": "code",
      "source": [
        "torch.manual_seed(42)\n",
        "\n",
        "# Modeli giriş parametreleriyle ayarlayın\n",
        "model_0 = FashionMNISTModelV0(input_shape=784, # her piksel için bir özellik (28x28)\n",
        "    hidden_units=10, # gizli katmanda kaç birim olacak\n",
        "    output_shape=len(class_names) # her sınıf için bir özellik\n",
        ")\n",
        "model_0.to(\"cpu\") # modelimizi başlangıçta CPU'ya gönderelim\n"
      ],
      "metadata": {
        "id": "d5uFG9sg6PTo",
        "colab": {
          "base_uri": "https://localhost:8080/"
        },
        "outputId": "4569d8ff-53fd-464b-aef3-e72890582771"
      },
      "execution_count": null,
      "outputs": [
        {
          "output_type": "execute_result",
          "data": {
            "text/plain": [
              "FashionMNISTModelV0(\n",
              "  (layer_stack): Sequential(\n",
              "    (0): Flatten(start_dim=1, end_dim=-1)\n",
              "    (1): Linear(in_features=784, out_features=10, bias=True)\n",
              "    (2): Linear(in_features=10, out_features=10, bias=True)\n",
              "  )\n",
              ")"
            ]
          },
          "metadata": {},
          "execution_count": 15
        }
      ]
    },
    {
      "cell_type": "markdown",
      "source": [
        "### 3.1 Loss, optimizer ve değerlendirme metriklerini ayarlama\n",
        "\n",
        "Çünkü bir sınıflandırma problemiyle çalışıyoruz, [helper_functions.py](https://github.com/mrdbourke/pytorch-deep-learning/blob/main/helper_functions.py) dosyamızı içeri alalım ve ardından [notebook 02](https://www.learnpytorch.io/02_pytorch_classification/)'de tanımladığımız `accuracy_fn()` fonksiyonunu kullanalım.\n",
        "\n",
        "> **Not:** Kendi doğruluk fonksiyonumuzu ya da değerlendirme metriklerimizi içeri alıp kullanmak yerine, [TorchMetrics paketinden](https://torchmetrics.readthedocs.io/en/latest/) çeşitli değerlendirme metriklerini içeri alabiliriz.\n"
      ],
      "metadata": {
        "id": "dD1zxAwl6UmL"
      }
    },
    {
      "cell_type": "code",
      "source": [
        "import requests\n",
        "from pathlib import Path\n",
        "\n",
        "# Helper fonksiyonlarını Learn PyTorch repo'sundan indirin (henüz indirildi değilse)\n",
        "if Path(\"helper_functions.py\").is_file():\n",
        "  print(\"helper_functions.py zaten var, indirme atlanıyor\")\n",
        "else:\n",
        "  print(\"helper_functions.py indiriliyor\")\n",
        "  # Not: bunun çalışması için \"raw\" GitHub URL'sine ihtiyacınız var\n",
        "  request = requests.get(\"https://raw.githubusercontent.com/mrdbourke/pytorch-deep-learning/main/helper_functions.py\")\n",
        "  with open(\"helper_functions.py\", \"wb\") as f:\n",
        "    f.write(request.content)"
      ],
      "metadata": {
        "id": "IJQOANjo6VWH",
        "colab": {
          "base_uri": "https://localhost:8080/"
        },
        "outputId": "963d0215-a319-4c89-9dda-966ab53b840a"
      },
      "execution_count": null,
      "outputs": [
        {
          "output_type": "stream",
          "name": "stdout",
          "text": [
            "helper_functions.py indiriliyor\n"
          ]
        }
      ]
    },
    {
      "cell_type": "code",
      "source": [
        "\n",
        "# Doğruluk metriğini içeri alalım\n",
        "from helper_functions import accuracy_fn # Not: torchmetrics.Accuracy() da kullanılabilir\n",
        "\n",
        "# Loss fonksiyonu ve optimizer'ı ayarlayalım\n",
        "loss_fn = nn.CrossEntropyLoss() # buna bazen \"criterion\"/\"cost function\" da denir\n",
        "optimizer = torch.optim.SGD(params=model_0.parameters(), lr=0.1)"
      ],
      "metadata": {
        "id": "mRHUhDuH6aw3"
      },
      "execution_count": null,
      "outputs": []
    },
    {
      "cell_type": "markdown",
      "source": [
        "### 3.2 Deneylerimizi Zamanlamak için Bir Fonksiyon Oluşturma\n",
        "\n",
        "Kaybı (loss function) ve optimizörü (optimizer) hazırladık!\n",
        "\n",
        "Artık modeli eğitmeye başlama zamanı.\n",
        "\n",
        "Ama ya eğitim sırasında bir deney yaparsak?\n",
        "\n",
        "Yani, modelimizi CPU'da eğitirken geçen zamanı ölçmek için bir zamanlama fonksiyonu oluşturalım.\n",
        "\n",
        "Bu modeli CPU üzerinde eğiteceğiz, ancak bir sonraki modeli GPU üzerinde eğiteceğiz ve ne olacağını göreceğiz.\n",
        "\n",
        "Zamanlama fonksiyonumuz, Python'un [`timeit`](https://docs.python.org/3/library/timeit.html#timeit.default_timer) modülünden [`timeit.default_timer()`](https://docs.python.org/3/library/timeit.html#timeit.default_timer) fonksiyonunu içerecek.\n"
      ],
      "metadata": {
        "id": "KZoAi81C6bZV"
      }
    },
    {
      "cell_type": "code",
      "source": [
        "from timeit import default_timer as timer\n",
        "\n",
        "def print_train_time(start: float, end: float, device: torch.device = None):\n",
        "    \"\"\"Başlangıç ve bitiş zamanları arasındaki farkı yazdırır.\n",
        "\n",
        "    Argümanlar:\n",
        "        start (float): Hesaplamanın başlangıç zamanı (tercihen timeit formatında).\n",
        "        end (float): Hesaplamanın bitiş zamanı.\n",
        "        device ([type], optional): Hesaplamanın çalıştığı cihaz. Varsayılan None'dur.\n",
        "\n",
        "    Döndürür:\n",
        "        float: Başlangıç ve bitiş arasındaki süre (saniye cinsinden, yüksek olan daha uzun).\n",
        "    \"\"\"\n",
        "    total_time = end - start\n",
        "    print(f\"{device} üzerinde eğitim süresi: {total_time:.3f} saniye\")\n",
        "    return total_time\n"
      ],
      "metadata": {
        "id": "bgtBpke-hI1u"
      },
      "execution_count": null,
      "outputs": []
    },
    {
      "cell_type": "markdown",
      "source": [
        "### 3.3 Eğitim Döngüsü Oluşturma ve Verilerin Batch'leri Üzerinde Model Eğitme\n",
        "\n",
        "Harika!\n",
        "\n",
        "Görünüşe göre tüm parçalar hazır, bir zamanlayıcı, bir kayıp fonksiyonu, bir optimizör, bir model ve en önemlisi bazı veriler.\n",
        "\n",
        "Şimdi bir eğitim döngüsü ve bir test döngüsü oluşturalım ve modelimizi eğitelim ve değerlendirelim.\n",
        "\n",
        "Önceki defterlerdeki (notebook) aynı adımları kullanacağız, ancak verilerimiz artık batch (yığın) formunda olduğundan, verilerimizi batch'ler üzerinden geçirecek başka bir döngü ekleyeceğiz.\n",
        "\n",
        "Veri batch'lerimiz, sırasıyla eğitim ve test verileri için `train_dataloader` ve `test_dataloader` içinde yer almaktadır.\n",
        "\n",
        "Bir batch, `X` (özellikler) ve `y` (etiketler) olarak `BATCH_SIZE` kadar örnek içerir. `BATCH_SIZE=32` kullandığımızdan, batch'lerimiz 32 görüntü ve hedef örneği içerir.\n",
        "\n",
        "Ve veriler üzerinde batch'ler halinde hesaplama yaptığımızdan, kayıp ve değerlendirme metriklerimiz **her batch başına** hesaplanacaktır, tüm veri seti yerine.\n",
        "\n",
        "Bu, kayıp ve doğruluk değerlerimizi her dataset'in ilgili dataloader'ındaki batch sayısına bölmemiz gerektiği anlamına gelir.\n",
        "\n",
        "Adımları takip edelim:  \n",
        "1. Epoch'lar üzerinden döngü kurun.\n",
        "2. Eğitim batch'leri üzerinde döngü kurun, eğitim adımlarını gerçekleştirin, her batch başına eğitim kaybını hesaplayın.\n",
        "3. Test batch'leri üzerinde döngü kurun, test adımlarını gerçekleştirin, her batch başına test kaybını hesaplayın.\n",
        "4. Ne olduğunu yazdırın.\n",
        "5. Her şeyi zamanlayın (eğlencelik).\n",
        "\n",
        "Birçok adım var ama...\n",
        "\n",
        "...şüphede kalırsanız, kodlayın.\n"
      ],
      "metadata": {
        "id": "3g6JxFjChL6v"
      }
    },
    {
      "cell_type": "code",
      "source": [
        "# Progress çubuğu için tqdm'yi içe aktar\n",
        "from tqdm.auto import tqdm\n",
        "\n",
        "# Seed'i ayarla ve zamanlayıcıyı başlat\n",
        "torch.manual_seed(42)\n",
        "train_time_start_on_cpu = timer()\n",
        "\n",
        "# Epoch sayısını ayarla (daha hızlı eğitim süreleri için bunu küçük tutacağız)\n",
        "epochs = 3\n",
        "\n",
        "# Eğitim ve test döngüsünü oluştur\n",
        "for epoch in tqdm(range(epochs)):\n",
        "    print(f\"Epoch: {epoch}\\n-------\")\n",
        "\n",
        "    ### Eğitim\n",
        "    train_loss = 0\n",
        "    # Eğitim batch'leri üzerinde döngü kur\n",
        "    for batch, (X, y) in enumerate(train_dataloader):\n",
        "        model_0.train()\n",
        "        # 1. İleri geçiş\n",
        "        y_pred = model_0(X)\n",
        "\n",
        "        # 2. Kayıp hesapla (her batch başına)\n",
        "        loss = loss_fn(y_pred, y)\n",
        "        train_loss += loss # epoch başına kaybı biriktir\n",
        "\n",
        "        # 3. Optimizer sıfırla\n",
        "        optimizer.zero_grad()\n",
        "\n",
        "        # 4. Kayıp geriye doğru\n",
        "        loss.backward()\n",
        "\n",
        "        # 5. Optimizer adımı\n",
        "        optimizer.step()\n",
        "\n",
        "        # Kaç örneğin görüldüğünü yazdır\n",
        "        if batch % 400 == 0:\n",
        "            print(f\"Toplamda {batch * len(X)}/{len(train_dataloader.dataset)} örneğe bakıldı\")\n",
        "\n",
        "    # Toplam eğitim kaybını train dataloader'ın uzunluğuna böl (epoch başına ortalama kayıp)\n",
        "    train_loss /= len(train_dataloader)\n",
        "\n",
        "    ### Test\n",
        "    # Kayıp ve doğruluk biriktirilecek değişkenler oluştur\n",
        "    test_loss, test_acc = 0, 0\n",
        "    model_0.eval()\n",
        "    with torch.inference_mode():\n",
        "        for X, y in test_dataloader:\n",
        "            # 1. İleri geçiş\n",
        "            test_pred = model_0(X)\n",
        "\n",
        "            # 2. Kayıp hesapla (biriktirerek)\n",
        "            test_loss += loss_fn(test_pred, y) # epoch başına kaybı biriktir\n",
        "\n",
        "            # 3. Doğruluk hesapla (tahminlerin doğru etiketlerle eşleşmesi gerekir)\n",
        "            test_acc += accuracy_fn(y_true=y, y_pred=test_pred.argmax(dim=1))\n",
        "\n",
        "        # Test metrikleri üzerinde hesaplamalar torch.inference_mode() içinde yapılmalı\n",
        "        # Toplam test kaybını test dataloader'ının uzunluğuna böl (her batch başına)\n",
        "        test_loss /= len(test_dataloader)\n",
        "\n",
        "        # Toplam doğruluğu test dataloader'ının uzunluğuna böl (her batch başına)\n",
        "        test_acc /= len(test_dataloader)\n",
        "\n",
        "    ## Ne olduğunu yazdır\n",
        "    print(f\"\\nTrain loss: {train_loss:.5f} | Test loss: {test_loss:.5f}, Test acc: {test_acc:.2f}%\\n\")\n",
        "\n",
        "# Eğitim süresini hesapla\n",
        "train_time_end_on_cpu = timer()\n",
        "total_train_time_model_0 = print_train_time(start=train_time_start_on_cpu,\n",
        "                                           end=train_time_end_on_cpu,\n",
        "                                           device=str(next(model_0.parameters()).device))\n"
      ],
      "metadata": {
        "id": "bo-x7HzFhOiM",
        "colab": {
          "base_uri": "https://localhost:8080/",
          "height": 587,
          "referenced_widgets": [
            "a2beb3481c1d486cb482c125502cba75",
            "0c8c98c72ee442dca1364b630ccc6339",
            "a00aabfa60a3499ab1d8d06e4a435ffc",
            "c214466a0e184b30ab5e27fcd7415499",
            "e18a17acea344b1d85d042402f867d94",
            "12c2b5b41a2e44e29b01db1910f6266e",
            "66fa6b5d82ed40b3953b62f71b6c16f0",
            "a394eed85b3f4c13895d0217a7d2649b",
            "694c8805d00d4bc2b4d6f9e6bf807821",
            "5ae5dec0d6b443baac1b39d63597cc23",
            "01dae9f314ca4b1e97a433e808efa02a"
          ]
        },
        "outputId": "c79ee089-412e-40ae-f822-319e0156be97"
      },
      "execution_count": null,
      "outputs": [
        {
          "output_type": "display_data",
          "data": {
            "text/plain": [
              "  0%|          | 0/3 [00:00<?, ?it/s]"
            ],
            "application/vnd.jupyter.widget-view+json": {
              "version_major": 2,
              "version_minor": 0,
              "model_id": "a2beb3481c1d486cb482c125502cba75"
            }
          },
          "metadata": {}
        },
        {
          "output_type": "stream",
          "name": "stdout",
          "text": [
            "Epoch: 0\n",
            "-------\n",
            "Toplamda 0/60000 örneğe bakıldı\n",
            "Toplamda 12800/60000 örneğe bakıldı\n",
            "Toplamda 25600/60000 örneğe bakıldı\n",
            "Toplamda 38400/60000 örneğe bakıldı\n",
            "Toplamda 51200/60000 örneğe bakıldı\n",
            "\n",
            "Train loss: 0.59039 | Test loss: 0.50954, Test acc: 82.04%\n",
            "\n",
            "Epoch: 1\n",
            "-------\n",
            "Toplamda 0/60000 örneğe bakıldı\n",
            "Toplamda 12800/60000 örneğe bakıldı\n",
            "Toplamda 25600/60000 örneğe bakıldı\n",
            "Toplamda 38400/60000 örneğe bakıldı\n",
            "Toplamda 51200/60000 örneğe bakıldı\n",
            "\n",
            "Train loss: 0.47633 | Test loss: 0.47989, Test acc: 83.20%\n",
            "\n",
            "Epoch: 2\n",
            "-------\n",
            "Toplamda 0/60000 örneğe bakıldı\n",
            "Toplamda 12800/60000 örneğe bakıldı\n",
            "Toplamda 25600/60000 örneğe bakıldı\n",
            "Toplamda 38400/60000 örneğe bakıldı\n",
            "Toplamda 51200/60000 örneğe bakıldı\n",
            "\n",
            "Train loss: 0.45503 | Test loss: 0.47664, Test acc: 83.43%\n",
            "\n",
            "cpu üzerinde eğitim süresi: 39.697 saniye\n"
          ]
        }
      ]
    },
    {
      "cell_type": "markdown",
      "source": [
        "Harika! Görünüşe göre temel modelimiz oldukça iyi sonuçlar elde etti.\n",
        "\n",
        "Eğitmesi de çok uzun sürmedi, hatta sadece CPU'da bile, acaba GPU'da hızlanır mı?\n",
        "\n",
        "Şimdi modelimizi değerlendirmek için biraz kod yazalım.\n"
      ],
      "metadata": {
        "id": "NoinQblzhSaB"
      }
    },
    {
      "cell_type": "markdown",
      "source": [
        "## 4. Tahminler Yapın ve Model 0 Sonuçlarını Alın\n",
        "\n",
        "Birkaç model geliştireceğimiz için, hepsini benzer şekilde değerlendirecek bir kod yazmak iyi bir fikir.\n",
        "\n",
        "Özellikle, bir eğitimli modeli, bir `DataLoader`, bir kayıp fonksiyonu ve bir doğruluk fonksiyonu alan bir fonksiyon oluşturalım.\n",
        "\n",
        "Bu fonksiyon, modeli kullanarak `DataLoader`'daki veriler üzerinde tahminler yapacak ve ardından bu tahminleri kayıp fonksiyonu ve doğruluk fonksiyonu ile değerlendireceğiz.\n"
      ],
      "metadata": {
        "id": "KDX1SV4RhUEb"
      }
    },
    {
      "cell_type": "code",
      "source": [
        "torch.manual_seed(42)\n",
        "def eval_model(model: torch.nn.Module,\n",
        "               data_loader: torch.utils.data.DataLoader,\n",
        "               loss_fn: torch.nn.Module,\n",
        "               accuracy_fn):\n",
        "    \"\"\"Data_loader üzerinde modelin tahmin sonuçlarını içeren bir sözlük döndürür.\n",
        "\n",
        "    Argümanlar:\n",
        "        model (torch.nn.Module): Data_loader üzerinde tahmin yapabilen bir PyTorch modeli.\n",
        "        data_loader (torch.utils.data.DataLoader): Tahmin yapılacak hedef veri seti.\n",
        "        loss_fn (torch.nn.Module): Modelin kayıp fonksiyonu.\n",
        "        accuracy_fn: Modelin tahminlerini doğru etiketlerle karşılaştırmak için doğruluk fonksiyonu.\n",
        "\n",
        "    Döndürür:\n",
        "        (dict): Modelin data_loader üzerinde tahmin yapma sonuçları.\n",
        "    \"\"\"\n",
        "    loss, acc = 0, 0\n",
        "    model.eval()\n",
        "    with torch.inference_mode():\n",
        "        for X, y in data_loader:\n",
        "            # Modelle tahmin yap\n",
        "            y_pred = model(X)\n",
        "\n",
        "            # Kayıp ve doğruluk değerlerini her batch başına biriktir\n",
        "            loss += loss_fn(y_pred, y)\n",
        "            acc += accuracy_fn(y_true=y,\n",
        "                                y_pred=y_pred.argmax(dim=1)) # Doğruluk için tahmin etiketlerine ihtiyacımız var (logits -> pred_prob -> pred_labels)\n",
        "\n",
        "        # Kayıp ve doğruluğu her batch başına ortalama bulmak için ölçeklendir\n",
        "        loss /= len(data_loader)\n",
        "        acc /= len(data_loader)\n",
        "\n",
        "    return {\"model_name\": model.__class__.__name__, # model sınıfla oluşturulmuşsa çalışır\n",
        "            \"model_loss\": loss.item(),\n",
        "            \"model_acc\": acc}\n",
        "\n",
        "# Model 0 sonuçlarını test veri seti üzerinde hesapla\n",
        "model_0_results = eval_model(model=model_0, data_loader=test_dataloader,\n",
        "    loss_fn=loss_fn, accuracy_fn=accuracy_fn\n",
        ")\n",
        "model_0_results\n"
      ],
      "metadata": {
        "id": "eZyeQ4RghWTp",
        "colab": {
          "base_uri": "https://localhost:8080/"
        },
        "outputId": "1cd3874f-d819-4dad-e2d4-f028948bd9e8"
      },
      "execution_count": null,
      "outputs": [
        {
          "output_type": "execute_result",
          "data": {
            "text/plain": [
              "{'model_name': 'FashionMNISTModelV0',\n",
              " 'model_loss': 0.47663894295692444,\n",
              " 'model_acc': 83.42651757188499}"
            ]
          },
          "metadata": {},
          "execution_count": 20
        }
      ]
    },
    {
      "cell_type": "markdown",
      "source": [
        "Görünüşe göre gayet iyi!\n",
        "\n",
        "Bu sözlüğü, temel model sonuçlarını daha sonraki modellerle karşılaştırmak için kullanabiliriz.\n"
      ],
      "metadata": {
        "id": "Hh_ovOUfhawp"
      }
    },
    {
      "cell_type": "markdown",
      "source": [
        "## 5. Cihazdan Bağımsız Kod Kurulumu (Var ise GPU kullanımı için)\n",
        "\n",
        "PyTorch modelimizi 60.000 örnek üzerinde CPU'da eğitirken ne kadar zaman aldığını gördük.\n",
        "\n",
        "> **Not:** Model eğitim süresi, kullanılan donanıma bağlıdır. Genelde, daha fazla işlemci daha hızlı eğitim anlamına gelir ve küçük modeller ve küçük veri setleri, büyük modeller ve büyük veri setlerine kıyasla genellikle daha hızlı eğitilir.\n",
        "\n",
        "Şimdi, modellerimiz ve verilerimiz için [cihazdan bağımsız bir kod](https://pytorch.org/docs/stable/notes/cuda.html#best-practices) kurarak, GPU'nun mevcut olması durumunda GPU'da çalışmasını sağlayalım.\n",
        "\n",
        "Eğer bu not defterini Google Colab üzerinde çalıştırıyorsanız ve henüz GPU'yu etkinleştirmediyseniz, şimdi `Runtime -> Change runtime type -> Hardware accelerator -> GPU` yoluyla bir GPU açma zamanı. Bunu yaparsanız, çalışma ortamınız sıfırlanacak ve yukarıdaki tüm hücreleri `Runtime -> Run before` yoluyla tekrar çalıştırmanız gerekecek.\n"
      ],
      "metadata": {
        "id": "rt40HlAdhcT-"
      }
    },
    {
      "cell_type": "code",
      "source": [
        "# Cihazdan bağımsız kodu kur\n",
        "import torch\n",
        "device = \"cuda\" if torch.cuda.is_available() else \"cpu\"\n",
        "device\n"
      ],
      "metadata": {
        "id": "T1bio2alhflh",
        "colab": {
          "base_uri": "https://localhost:8080/",
          "height": 35
        },
        "outputId": "fd443dc5-01d8-486c-9363-06ee5196cb3f"
      },
      "execution_count": null,
      "outputs": [
        {
          "output_type": "execute_result",
          "data": {
            "text/plain": [
              "'cpu'"
            ],
            "application/vnd.google.colaboratory.intrinsic+json": {
              "type": "string"
            }
          },
          "metadata": {},
          "execution_count": 21
        }
      ]
    },
    {
      "cell_type": "markdown",
      "source": [
        "Harika!\n",
        "\n",
        "Hadi bir model daha kuralım.\n"
      ],
      "metadata": {
        "id": "Gzx43E_Mhg6y"
      }
    },
    {
      "cell_type": "markdown",
      "source": [
        "## 6. Model 1: Daha İyi Bir Model Kurmak için Doğrusal Olmayan Fonksiyonlar\n",
        "\n",
        "[Notebook 02'de doğrusal olmayan fonksiyonların gücünü](https://www.learnpytorch.io/02_pytorch_classification/#6-the-missing-piece-non-linearity) öğrendik.\n",
        "\n",
        "Çalıştığımız verilere bakarak, doğrusal olmayan fonksiyonlara ihtiyaç duyduğumuzu düşünüyor musunuz?\n",
        "\n",
        "Ve unutmayın, doğrusal düz bir çizgi, doğrusal olmayan ise düz olmayan bir çizgi anlamına gelir.\n",
        "\n",
        "Hadi bunu keşfedelim.\n",
        "\n",
        "Bunu, daha önceki modele benzer bir model yaratarak yapacağız, ancak bu sefer her doğrusal katman arasında doğrusal olmayan fonksiyonlar (`nn.ReLU()`) ekleyeceğiz.\n"
      ],
      "metadata": {
        "id": "-skc9H-ehijH"
      }
    },
    {
      "cell_type": "code",
      "source": [
        "# Doğrusal ve doğrusal olmayan katmanlara sahip bir model oluştur\n",
        "class FashionMNISTModelV1(nn.Module):\n",
        "    def __init__(self, input_shape: int, hidden_units: int, output_shape: int):\n",
        "        super().__init__()\n",
        "        self.layer_stack = nn.Sequential(\n",
        "            nn.Flatten(), # Girdileri tek bir vektöre dönüştür\n",
        "            nn.Linear(in_features=input_shape, out_features=hidden_units),\n",
        "            nn.ReLU(),\n",
        "            nn.Linear(in_features=hidden_units, out_features=output_shape),\n",
        "            nn.ReLU()\n",
        "        )\n",
        "\n",
        "    def forward(self, x: torch.Tensor):\n",
        "        return self.layer_stack(x)\n"
      ],
      "metadata": {
        "id": "4OXCYc4Mhj-w"
      },
      "execution_count": null,
      "outputs": []
    },
    {
      "cell_type": "markdown",
      "source": [
        "Harika görünüyor.\n",
        "\n",
        "Şimdi, önceki ayarlarla aynı şekilde modelimizi başlatalım.\n",
        "\n",
        "Bize `input_shape=784` (görüntü verilerimizin özellik sayısına eşit), `hidden_units=10` (başlangıçta küçük tutuyoruz ve bu, temel modelimizle aynı) ve `output_shape=len(class_names)` (her sınıf için bir çıktı birimi) gerekecek.\n",
        "\n",
        "> **Not:** Modelimizin çoğu ayarını değiştirmeden bıraktığımıza dikkat edin, yalnızca bir değişiklik yaptık: doğrusal olmayan katmanlar ekledik. Bu, bir dizi makine öğrenimi deneyini çalıştırırken standart bir uygulamadır, bir şeyi değiştirirsiniz ve ne olduğunu görürsünüz, sonra tekrar yaparsınız, tekrar, tekrar.\n"
      ],
      "metadata": {
        "id": "ZkIa8dzJhlft"
      }
    },
    {
      "cell_type": "code",
      "source": [
        "torch.manual_seed(42)\n",
        "model_1 = FashionMNISTModelV1(input_shape=784, # giriş özellik sayısı\n",
        "    hidden_units=10,\n",
        "    output_shape=len(class_names) # istenen çıktı sınıfı sayısı\n",
        ").to(device) # modeli GPU'ya gönder, eğer mevcutsa\n",
        "next(model_1.parameters()).device # modelin hangi cihazda olduğunu kontrol et\n"
      ],
      "metadata": {
        "id": "oCX3jI2Ihm6T",
        "colab": {
          "base_uri": "https://localhost:8080/"
        },
        "outputId": "394736c7-7ced-471d-c963-df5db2467194"
      },
      "execution_count": null,
      "outputs": [
        {
          "output_type": "execute_result",
          "data": {
            "text/plain": [
              "device(type='cpu')"
            ]
          },
          "metadata": {},
          "execution_count": 23
        }
      ]
    },
    {
      "cell_type": "markdown",
      "source": [
        "### 6.1 Kayıp, Optimizör ve Değerlendirme Metrikleri Kurulumu\n",
        "\n",
        "Her zamanki gibi, bir kayıp fonksiyonu, bir optimizör ve bir değerlendirme metriği kuracağız (birden fazla değerlendirme metriği kullanabiliriz ancak şimdilik doğrulukla devam edeceğiz).\n"
      ],
      "metadata": {
        "id": "ZD0lsgeUhoy3"
      }
    },
    {
      "cell_type": "code",
      "source": [
        "from helper_functions import accuracy_fn\n",
        "loss_fn = nn.CrossEntropyLoss()\n",
        "optimizer = torch.optim.SGD(params=model_1.parameters(),\n",
        "                            lr=0.1)\n"
      ],
      "metadata": {
        "id": "ig8XfEELhqfG"
      },
      "execution_count": null,
      "outputs": []
    },
    {
      "cell_type": "markdown",
      "source": [
        "### 6.2 Eğitim ve Test Döngülerini Fonksiyon Haline Getirme\n",
        "\n",
        "Şimdiye kadar, eğitim ve test döngülerini tekrar tekrar yazdık.\n",
        "\n",
        "Onları tekrar yazalım ama bu sefer fonksiyonlar halinde yazacağız, böylece her seferinde tekrar çağrılabilirler.\n",
        "\n",
        "Ve şimdi cihazdan bağımsız kod kullandığımız için, özellik (`X`) ve hedef (`y`) tensörlerimize `.to(device)` çağrısı yapmayı unutmayacağız.\n",
        "\n",
        "Eğitim döngüsü için `train_step()` adında bir fonksiyon oluşturacağız, bu fonksiyon bir model, bir `DataLoader`, bir kayıp fonksiyonu ve bir optimizör alacak.\n",
        "\n",
        "Test döngüsü benzer olacak, ancak `test_step()` olarak adlandırılacak ve bir model, bir `DataLoader`, bir kayıp fonksiyonu ve bir değerlendirme fonksiyonu alacak.\n",
        "\n",
        "> **Not:** Bunlar fonksiyonlar olduğu için, istediğiniz gibi özelleştirebilirsiniz. Burada oluşturduğumuz şeyler, belirli sınıflandırma kullanım durumumuz için temel eğitim ve test fonksiyonları olarak kabul edilebilir.\n"
      ],
      "metadata": {
        "id": "7jgj8KI5htJS"
      }
    },
    {
      "cell_type": "code",
      "source": [
        "def train_step(model: torch.nn.Module,\n",
        "               data_loader: torch.utils.data.DataLoader,\n",
        "               loss_fn: torch.nn.Module,\n",
        "               optimizer: torch.optim.Optimizer,\n",
        "               accuracy_fn,\n",
        "               device: torch.device = device):\n",
        "    train_loss, train_acc = 0, 0\n",
        "    for batch, (X, y) in enumerate(data_loader):\n",
        "        # Veriyi GPU'ya gönder\n",
        "        X, y = X.to(device), y.to(device)\n",
        "\n",
        "        # 1. İleri geçiş\n",
        "        y_pred = model(X)\n",
        "\n",
        "        # 2. Kayıp hesapla\n",
        "        loss = loss_fn(y_pred, y)\n",
        "        train_loss += loss\n",
        "        train_acc += accuracy_fn(y_true=y,\n",
        "                                 y_pred=y_pred.argmax(dim=1)) # Logitlerden -> tahmin etiketlerine\n",
        "\n",
        "        # 3. Optimizer sıfırla\n",
        "        optimizer.zero_grad()\n",
        "\n",
        "        # 4. Kayıp geriye doğru\n",
        "        loss.backward()\n",
        "\n",
        "        # 5. Optimizer adımı\n",
        "        optimizer.step()\n",
        "\n",
        "    # Epoch başına kayıp ve doğruluğu hesapla ve ne olduğunu yazdır\n",
        "    train_loss /= len(data_loader)\n",
        "    train_acc /= len(data_loader)\n",
        "    print(f\"Train loss: {train_loss:.5f} | Train accuracy: {train_acc:.2f}%\")\n",
        "\n",
        "def test_step(data_loader: torch.utils.data.DataLoader,\n",
        "              model: torch.nn.Module,\n",
        "              loss_fn: torch.nn.Module,\n",
        "              accuracy_fn,\n",
        "              device: torch.device = device):\n",
        "    test_loss, test_acc = 0, 0\n",
        "    model.eval() # modeli eval moduna al\n",
        "    # Inference context manager'ı aç\n",
        "    with torch.inference_mode():\n",
        "        for X, y in data_loader:\n",
        "            # Veriyi GPU'ya gönder\n",
        "            X, y = X.to(device), y.to(device)\n",
        "\n",
        "            # 1. İleri geçiş\n",
        "            test_pred = model(X)\n",
        "\n",
        "            # 2. Kayıp ve doğruluğu hesapla\n",
        "            test_loss += loss_fn(test_pred, y)\n",
        "            test_acc += accuracy_fn(y_true=y,\n",
        "                y_pred=test_pred.argmax(dim=1) # Logitlerden -> tahmin etiketlerine\n",
        "            )\n",
        "\n",
        "        # Metrikleri ayarla ve yazdır\n",
        "        test_loss /= len(data_loader)\n",
        "        test_acc /= len(data_loader)\n",
        "        print(f\"Test loss: {test_loss:.5f} | Test accuracy: {test_acc:.2f}%\\n\")\n"
      ],
      "metadata": {
        "id": "5z28Lza6huvH"
      },
      "execution_count": null,
      "outputs": []
    },
    {
      "cell_type": "markdown",
      "source": [
        "Woohoo!\n",
        "\n",
        "Şimdi modelimizi eğitmek ve test etmek için bazı fonksiyonlarımız var, hadi bunları çalıştıralım.\n",
        "\n",
        "Her epoch için bir eğitim ve bir test adımı yapacak şekilde bir döngü kuracağız.\n",
        "\n",
        "Bu şekilde, her epoch için bir eğitim ve bir test adımımız olacak.\n",
        "\n",
        "> **Not:** Test adımını ne sıklıkla yapacağınızı özelleştirebilirsiniz. Bazen insanlar her beş epoch'ta bir veya 10 epoch'ta bir test adımı yapar, ya da bizim durumumuzda her epoch'ta bir.\n",
        "\n",
        "Ayrıca, GPU'da kodumuzun ne kadar sürdüğünü görmek için zamanı ölçelim.\n"
      ],
      "metadata": {
        "id": "HJVdatb-hyBF"
      }
    },
    {
      "cell_type": "code",
      "source": [
        "torch.manual_seed(42)\n",
        "\n",
        "# Zamanı ölç\n",
        "from timeit import default_timer as timer\n",
        "train_time_start_on_gpu = timer()\n",
        "\n",
        "epochs = 3\n",
        "for epoch in tqdm(range(epochs)):\n",
        "    print(f\"Epoch: {epoch}\\n---------\")\n",
        "    train_step(data_loader=train_dataloader,\n",
        "        model=model_1,\n",
        "        loss_fn=loss_fn,\n",
        "        optimizer=optimizer,\n",
        "        accuracy_fn=accuracy_fn\n",
        "    )\n",
        "    test_step(data_loader=test_dataloader,\n",
        "        model=model_1,\n",
        "        loss_fn=loss_fn,\n",
        "        accuracy_fn=accuracy_fn\n",
        "    )\n",
        "\n",
        "train_time_end_on_gpu = timer()\n",
        "total_train_time_model_1 = print_train_time(start=train_time_start_on_gpu,\n",
        "                                            end=train_time_end_on_gpu,\n",
        "                                            device=device)\n"
      ],
      "metadata": {
        "id": "keU4OfeQhzln",
        "colab": {
          "base_uri": "https://localhost:8080/",
          "height": 327,
          "referenced_widgets": [
            "45c63840b70a44be860c70a2130d8473",
            "2b661d90fba94db9b9e7bf2b0803278c",
            "bc1cd39767804edfbb1e2cdff4ac6e05",
            "f00be212922c4ba69f6f4517fa243c5a",
            "9f2d28061bc242c2a3091b32cadb8ebe",
            "003938190dc144f98fb80f1574f1a08d",
            "d5ba026d39d4439388df60f2a7504cfa",
            "87810544ada54440858e474db081a2c6",
            "6e9b704f7f5d48ec96b1d34868e00252",
            "fd55079ba3a844c89e20b2c607247559",
            "43bbeb926dce4516be8e29f89cc99767"
          ]
        },
        "outputId": "4cb4a092-545c-4111-81d8-9ff9cc01f5e3"
      },
      "execution_count": null,
      "outputs": [
        {
          "output_type": "display_data",
          "data": {
            "text/plain": [
              "  0%|          | 0/3 [00:00<?, ?it/s]"
            ],
            "application/vnd.jupyter.widget-view+json": {
              "version_major": 2,
              "version_minor": 0,
              "model_id": "45c63840b70a44be860c70a2130d8473"
            }
          },
          "metadata": {}
        },
        {
          "output_type": "stream",
          "name": "stdout",
          "text": [
            "Epoch: 0\n",
            "---------\n",
            "Train loss: 1.09199 | Train accuracy: 61.34%\n",
            "Test loss: 0.95636 | Test accuracy: 65.00%\n",
            "\n",
            "Epoch: 1\n",
            "---------\n",
            "Train loss: 0.78101 | Train accuracy: 71.93%\n",
            "Test loss: 0.72227 | Test accuracy: 73.91%\n",
            "\n",
            "Epoch: 2\n",
            "---------\n",
            "Train loss: 0.67027 | Train accuracy: 75.94%\n",
            "Test loss: 0.68500 | Test accuracy: 75.02%\n",
            "\n",
            "cpu üzerinde eğitim süresi: 28.516 saniye\n"
          ]
        }
      ]
    },
    {
      "cell_type": "markdown",
      "source": [
        "Harika!\n",
        "\n",
        "Modelimiz eğitildi ama eğitim süresi daha uzun sürdü mü?\n",
        "\n",
        "> **Not:** CUDA ve CPU arasındaki eğitim süresi, kullandığınız CPU/GPU'nun kalitesine büyük ölçüde bağlıdır. Daha ayrıntılı bir cevap için okumaya devam edin.\n",
        "\n",
        "> **Soru:** \"GPU kullandım ama modelim daha hızlı eğitilmedi, bu neden olabilir?\"\n",
        ">\n",
        "> **Cevap:** Bunun bir nedeni, veri setiniz ve modelinizin (bizim çalıştığımız veri seti ve model gibi) o kadar küçük olmasıdır ki, GPU kullanmanın faydaları, verilerin oraya aktarılması için geçen zamanla karşılaştırıldığında daha düşük kalır.\n",
        ">\n",
        "> CPU belleğinden (varsayılan) GPU belleğine veri kopyalama işlemi arasında küçük bir darboğaz vardır.\n",
        ">\n",
        "> Yani küçük modeller ve veri setleri için, hesaplama yapmanın en iyi yeri aslında CPU olabilir.\n",
        ">\n",
        "> Ancak daha büyük veri setleri ve modeller için, GPU'nun sunduğu hesaplama hızı genellikle veriyi oraya aktarmanın maliyetinden çok daha yüksek olacaktır.\n",
        ">\n",
        "> Ancak bu, kullandığınız donanıma büyük ölçüde bağlıdır. Pratik yaparak, modellerinizi eğitmek için en iyi yerin neresi olduğunu öğrenebilirsiniz.\n",
        "\n",
        "Şimdi, eğitimli `model_1` modelimizi `eval_model()` fonksiyonumuzu kullanarak değerlendirelim ve nasıl gittiğine bakalım.\n"
      ],
      "metadata": {
        "id": "V-icKlP4h3Yj"
      }
    },
    {
      "cell_type": "code",
      "source": [
        "torch.manual_seed(42)\n",
        "\n",
        "# Not: Bu, `eval_model()` fonksiyonunun cihazdan bağımsız kod kullanmaması nedeniyle hata verecektir\n",
        "model_1_results = eval_model(model=model_1,\n",
        "    data_loader=test_dataloader,\n",
        "    loss_fn=loss_fn,\n",
        "    accuracy_fn=accuracy_fn)\n",
        "model_1_results\n"
      ],
      "metadata": {
        "id": "AB4z4Anoh5GE",
        "colab": {
          "base_uri": "https://localhost:8080/"
        },
        "outputId": "e7246120-7ee0-49a8-8e02-a2c3d96b288a"
      },
      "execution_count": null,
      "outputs": [
        {
          "output_type": "execute_result",
          "data": {
            "text/plain": [
              "{'model_name': 'FashionMNISTModelV1',\n",
              " 'model_loss': 0.6850009560585022,\n",
              " 'model_acc': 75.01996805111821}"
            ]
          },
          "metadata": {},
          "execution_count": 27
        }
      ]
    },
    {
      "cell_type": "markdown",
      "source": [
        "Oh hayır!\n",
        "\n",
        "Görünüşe göre `eval_model()` fonksiyonumuz şu hatayı veriyor:\n",
        "\n",
        "> `RuntimeError: Expected all tensors to be on the same device, but found at least two devices, cuda:0 and cpu! (when checking argument for argument mat1 in method wrapper_addmm)`\n",
        "\n",
        "Bu, verimizi ve modelimizi cihazdan bağımsız kod kullanacak şekilde ayarladık, ancak değerlendirme fonksiyonumuzu ayarlamadık.\n",
        "\n",
        "Bunu, `eval_model()` fonksiyonumuza bir hedef `device` parametresi geçirerek düzeltebiliriz.\n",
        "\n",
        "Sonra sonuçları tekrar hesaplamayı deneyelim.\n"
      ],
      "metadata": {
        "id": "XY8Y5GHKh7S9"
      }
    },
    {
      "cell_type": "code",
      "source": [
        "# Değerleri cihaza taşı\n",
        "torch.manual_seed(42)\n",
        "def eval_model(model: torch.nn.Module,\n",
        "               data_loader: torch.utils.data.DataLoader,\n",
        "               loss_fn: torch.nn.Module,\n",
        "               accuracy_fn,\n",
        "               device: torch.device = device):\n",
        "    \"\"\"Verilen bir modelin verilen bir veri seti üzerindeki değerlendirmesini yapar.\n",
        "\n",
        "    Argümanlar:\n",
        "        model (torch.nn.Module): Data_loader üzerinde tahmin yapabilen bir PyTorch modeli.\n",
        "        data_loader (torch.utils.data.DataLoader): Tahmin yapılacak hedef veri seti.\n",
        "        loss_fn (torch.nn.Module): Modelin kayıp fonksiyonu.\n",
        "        accuracy_fn: Modelin tahminlerini doğru etiketlerle karşılaştırmak için doğruluk fonksiyonu.\n",
        "        device (str, opsiyonel): Hesaplama yapılacak hedef cihaz. Varsayılan olarak cihaz kullanılır.\n",
        "\n",
        "    Döndürür:\n",
        "        (dict): Modelin data_loader üzerinde tahmin yapma sonuçları.\n",
        "    \"\"\"\n",
        "    loss, acc = 0, 0\n",
        "    model.eval()\n",
        "    with torch.inference_mode():\n",
        "        for X, y in data_loader:\n",
        "            # Veriyi hedef cihaza gönder\n",
        "            X, y = X.to(device), y.to(device)\n",
        "            y_pred = model(X)\n",
        "            loss += loss_fn(y_pred, y)\n",
        "            acc += accuracy_fn(y_true=y, y_pred=y_pred.argmax(dim=1))\n",
        "\n",
        "        # Kayıp ve doğruluğu ölçeklendir\n",
        "        loss /= len(data_loader)\n",
        "        acc /= len(data_loader)\n",
        "    return {\"model_name\": model.__class__.__name__, # sadece model sınıfla oluşturulduğunda çalışır\n",
        "            \"model_loss\": loss.item(),\n",
        "            \"model_acc\": acc}\n",
        "\n",
        "# Cihaza bağımsız kod ile model 1 sonuçlarını hesapla\n",
        "model_1_results = eval_model(model=model_1, data_loader=test_dataloader,\n",
        "    loss_fn=loss_fn, accuracy_fn=accuracy_fn,\n",
        "    device=device\n",
        ")\n",
        "model_1_results\n"
      ],
      "metadata": {
        "id": "c7KXcXd0h9EP",
        "colab": {
          "base_uri": "https://localhost:8080/"
        },
        "outputId": "906da79f-b355-4a65-9b08-bbe7daea9e15"
      },
      "execution_count": null,
      "outputs": [
        {
          "output_type": "execute_result",
          "data": {
            "text/plain": [
              "{'model_name': 'FashionMNISTModelV1',\n",
              " 'model_loss': 0.6850009560585022,\n",
              " 'model_acc': 75.01996805111821}"
            ]
          },
          "metadata": {},
          "execution_count": 28
        }
      ]
    },
    {
      "cell_type": "code",
      "source": [
        "# Temel model sonuçlarını kontrol et\n",
        "model_0_results\n"
      ],
      "metadata": {
        "id": "nDTB9AD2iBMk",
        "colab": {
          "base_uri": "https://localhost:8080/"
        },
        "outputId": "bea98ffa-ae7a-44de-ac34-3fc39921acfa"
      },
      "execution_count": null,
      "outputs": [
        {
          "output_type": "execute_result",
          "data": {
            "text/plain": [
              "{'model_name': 'FashionMNISTModelV0',\n",
              " 'model_loss': 0.47663894295692444,\n",
              " 'model_acc': 83.42651757188499}"
            ]
          },
          "metadata": {},
          "execution_count": 29
        }
      ]
    },
    {
      "cell_type": "markdown",
      "source": [
        "Vay canına, bu durumda doğrusal olmayan fonksiyonlar eklemek modelimizin temel modele göre daha kötü performans göstermesine neden oldu.\n",
        "\n",
        "Bu, makine öğreniminde dikkat edilmesi gereken bir şeydir, bazen işe yarayacağını düşündüğünüz şey işe yaramaz.\n",
        "\n",
        "Ve bazen işe yaramayacağını düşündüğünüz şey işe yarar.\n",
        "\n",
        "Bu, bir yandan bilim, bir yandan sanattır.\n",
        "\n",
        "Görünüşe göre modelimiz **aşırı uyum sağlama (overfitting)** yapıyor.\n",
        "\n",
        "Aşırı uyum sağlama, modelimizin eğitim verisini iyi öğrendiği ancak bu desenlerin test verisine genellenmediği anlamına gelir.\n",
        "\n",
        "Aşırı uyum sağlamayı düzeltmek için kullanılan iki ana yöntem:\n",
        "1. Daha küçük veya farklı bir model kullanmak (bazı modeller belirli türdeki verileri diğerlerinden daha iyi öğrenir).\n",
        "2. Daha büyük bir veri seti kullanmak (daha fazla veri, modelin genellenebilir desenler öğrenme şansını artırır).\n",
        "\n",
        "Bunlardan daha fazlası var, ama bunu keşfetmeniz için bir meydan okuma olarak bırakıyorum.\n",
        "\n",
        "Çevrimiçi olarak \"makine öğreniminde aşırı uyumdan nasıl kaçınılır\" diye arama yapmayı deneyin ve ne çıkacağını görün.\n",
        "\n",
        "Bu arada, bir numaraya bakalım: farklı bir model kullanmak.\n"
      ],
      "metadata": {
        "id": "blHZoVPoiESH"
      }
    },
    {
      "cell_type": "markdown",
      "source": [
        "## 7. Model 2: Konvolüsyonel Sinir Ağı (CNN) Oluşturma\n",
        "\n",
        "Tamam, şimdi işleri bir adım ileri götürme zamanı.\n",
        "\n",
        "Bir [Konvolüsyonel Sinir Ağı](https://en.wikipedia.org/wiki/Convolutional_neural_network) (CNN veya ConvNet) oluşturalım.\n",
        "\n",
        "CNN'ler, görsel verilerde desenleri bulma yetenekleriyle bilinir.\n",
        "\n",
        "Ve biz görsel verilerle çalıştığımız için, bir CNN modelinin temel modelimize kıyasla nasıl bir iyileştirme yapabileceğine bakalım.\n",
        "\n",
        "Kullanacağımız CNN modeli, [CNN Explainer](https://poloclub.github.io/cnn-explainer/) websitesinden TinyVGG olarak bilinir.\n",
        "\n",
        "Bu model, bir konvolüsyonel sinir ağının tipik yapısını takip eder:\n",
        "\n",
        "`Giriş katmanı -> [Konvolüsyonel katman -> aktivasyon katmanı -> havuzlama katmanı] -> Çıktı katmanı`\n",
        "\n",
        "Burada `[Konvolüsyonel katman -> aktivasyon katmanı -> havuzlama katmanı]` bölümü, gereksinimlere bağlı olarak büyütülüp birden fazla kez tekrarlanabilir.\n"
      ],
      "metadata": {
        "id": "oMwmyG24iGEp"
      }
    },
    {
      "cell_type": "markdown",
      "source": [
        "### Hangi modeli kullanmalıyım?\n",
        "\n",
        "> **Soru:** Bekle, CNN'lerin görseller için iyi olduğunu söylüyorsun, başka hangi model türlerinden haberdar olmam gerek?\n",
        "\n",
        "İyi soru.\n",
        "\n",
        "Bu tablo, hangi modelin kullanılacağını belirlemek için iyi bir genel rehberdir (ancak istisnalar vardır).\n",
        "\n",
        "| **Problem tipi** | **Kullanılacak model (genellikle)** | **Kod örneği** |\n",
        "| ----- | ----- | ----- |\n",
        "| Yapısal veri (Excel tabloları, satır ve sütun verisi) | Gradient Boosted Modeller, Random Forests, XGBoost | [`sklearn.ensemble`](https://scikit-learn.org/stable/modules/classes.html#module-sklearn.ensemble), [XGBoost kütüphanesi](https://xgboost.readthedocs.io/en/stable/) |\n",
        "| Yapısal olmayan veri (görseller, ses, dil) | Konvolüsyonel Sinir Ağı, Transformers | [`torchvision.models`](https://pytorch.org/vision/stable/models.html), [HuggingFace Transformers](https://huggingface.co/docs/transformers/index) |\n",
        "\n",
        "> **Not:** Yukarıdaki tablo sadece referans içindir, kullanacağınız model, üzerinde çalıştığınız probleme ve sahip olduğunuz kısıtlamalara (veri miktarı, gecikme gereksinimleri) büyük ölçüde bağlı olacaktır.\n",
        "\n",
        "Yeterince model hakkında konuştuk, şimdi [CNN Explainer websitesindeki](https://poloclub.github.io/cnn-explainer/) modeli çoğaltan bir CNN oluşturalım.\n",
        "\n",
        "![TinyVGG mimarisi, CNN explainer websitesi tarafından ayarlandı](https://raw.githubusercontent.com/mrdbourke/pytorch-deep-learning/main/images/03-cnn-explainer-model.png)\n",
        "\n",
        "Bunu yapmak için, `torch.nn`'den [`nn.Conv2d()`](https://pytorch.org/docs/stable/generated/torch.nn.Conv2d.html) ve [`nn.MaxPool2d()`](https://pytorch.org/docs/stable/generated/torch.nn.MaxPool2d.html) katmanlarını kullanacağız.\n"
      ],
      "metadata": {
        "id": "tGvjYuDoiH-t"
      }
    },
    {
      "cell_type": "code",
      "source": [
        "# Konvolüsyonel Sinir Ağı Oluşturma\n",
        "class FashionMNISTModelV2(nn.Module):\n",
        "    \"\"\"\n",
        "    Model mimarisi TinyVGG'den kopyalanmıştır:\n",
        "    https://poloclub.github.io/cnn-explainer/\n",
        "    \"\"\"\n",
        "    def __init__(self, input_shape: int, hidden_units: int, output_shape: int):\n",
        "        super().__init__()\n",
        "        self.block_1 = nn.Sequential(\n",
        "            nn.Conv2d(in_channels=input_shape,\n",
        "                      out_channels=hidden_units,\n",
        "                      kernel_size=3, # Görüntü üzerindeki kare ne kadar büyük?\n",
        "                      stride=1, # varsayılan\n",
        "                      padding=1), # seçenekler = \"valid\" (padding yok) veya \"same\" (çıktı, girişle aynı şekle sahiptir) veya belirli bir sayı için int\n",
        "            nn.ReLU(),\n",
        "            nn.Conv2d(in_channels=hidden_units,\n",
        "                      out_channels=hidden_units,\n",
        "                      kernel_size=3,\n",
        "                      stride=1,\n",
        "                      padding=1),\n",
        "            nn.ReLU(),\n",
        "            nn.MaxPool2d(kernel_size=2,\n",
        "                         stride=2) # varsayılan stride değeri kernel_size ile aynıdır\n",
        "        )\n",
        "        self.block_2 = nn.Sequential(\n",
        "            nn.Conv2d(hidden_units, hidden_units, 3, padding=1),\n",
        "            nn.ReLU(),\n",
        "            nn.Conv2d(hidden_units, hidden_units, 3, padding=1),\n",
        "            nn.ReLU(),\n",
        "            nn.MaxPool2d(2)\n",
        "        )\n",
        "        self.classifier = nn.Sequential(\n",
        "            nn.Flatten(),\n",
        "            # Bu in_features şekli nereden geldi?\n",
        "            # Çünkü ağımızın her katmanı, giriş verilerimizin şeklinin sıkıştırılmasına ve değiştirilmesine neden olur.\n",
        "            nn.Linear(in_features=hidden_units*7*7,\n",
        "                      out_features=output_shape)\n",
        "        )\n",
        "\n",
        "    def forward(self, x: torch.Tensor):\n",
        "        x = self.block_1(x)\n",
        "        # print(x.shape)\n",
        "        x = self.block_2(x)\n",
        "        # print(x.shape)\n",
        "        x = self.classifier(x)\n",
        "        # print(x.shape)\n",
        "        return x\n",
        "\n",
        "torch.manual_seed(42)\n",
        "model_2 = FashionMNISTModelV2(input_shape=1,\n",
        "    hidden_units=10,\n",
        "    output_shape=len(class_names)).to(device)\n",
        "model_2\n"
      ],
      "metadata": {
        "id": "t7xEor_8iNdJ",
        "colab": {
          "base_uri": "https://localhost:8080/"
        },
        "outputId": "c87f177f-7d06-4ee4-9751-6b150cf79d08"
      },
      "execution_count": null,
      "outputs": [
        {
          "output_type": "execute_result",
          "data": {
            "text/plain": [
              "FashionMNISTModelV2(\n",
              "  (block_1): Sequential(\n",
              "    (0): Conv2d(1, 10, kernel_size=(3, 3), stride=(1, 1), padding=(1, 1))\n",
              "    (1): ReLU()\n",
              "    (2): Conv2d(10, 10, kernel_size=(3, 3), stride=(1, 1), padding=(1, 1))\n",
              "    (3): ReLU()\n",
              "    (4): MaxPool2d(kernel_size=2, stride=2, padding=0, dilation=1, ceil_mode=False)\n",
              "  )\n",
              "  (block_2): Sequential(\n",
              "    (0): Conv2d(10, 10, kernel_size=(3, 3), stride=(1, 1), padding=(1, 1))\n",
              "    (1): ReLU()\n",
              "    (2): Conv2d(10, 10, kernel_size=(3, 3), stride=(1, 1), padding=(1, 1))\n",
              "    (3): ReLU()\n",
              "    (4): MaxPool2d(kernel_size=2, stride=2, padding=0, dilation=1, ceil_mode=False)\n",
              "  )\n",
              "  (classifier): Sequential(\n",
              "    (0): Flatten(start_dim=1, end_dim=-1)\n",
              "    (1): Linear(in_features=490, out_features=10, bias=True)\n",
              "  )\n",
              ")"
            ]
          },
          "metadata": {},
          "execution_count": 30
        }
      ]
    },
    {
      "cell_type": "markdown",
      "source": [
        "Harika!\n",
        "\n",
        "Şimdiye kadarki en büyük modelimiz!\n",
        "\n",
        "Yaptığımız şey, makine öğreniminde yaygın bir uygulamadır.\n",
        "\n",
        "Bir model mimarisini bir yerde bulun ve kodla tekrarla.\n"
      ],
      "metadata": {
        "id": "hnpjX1A-iMNf"
      }
    },
    {
      "cell_type": "markdown",
      "source": [
        "### 7.1 `nn.Conv2d()` Adım Adım İnceleme\n",
        "\n",
        "Yukarıdaki modelimizi kullanmaya başlayabiliriz ve ne olduğunu görebiliriz, ancak önce eklediğimiz iki yeni katmanı adım adım inceleyelim:\n",
        "* [`nn.Conv2d()`](https://pytorch.org/docs/stable/generated/torch.nn.Conv2d.html), yani bir konvolüsyonel katman.\n",
        "* [`nn.MaxPool2d()`](https://pytorch.org/docs/stable/generated/torch.nn.MaxPool2d.html), yani bir maksimum havuzlama katmanı.\n",
        "\n",
        "> **Soru:** `nn.Conv2d()`'deki \"2d\" ne anlama geliyor?\n",
        ">\n",
        "> 2d, 2 boyutlu veriler içindir. Yani, görüntülerimizin iki boyutu vardır: yükseklik ve genişlik. Evet, renk kanal boyutu da vardır ancak her renk kanalının boyutu da yükseklik ve genişliktir.\n",
        ">\n",
        "> Diğer boyutlu veriler için (metin için 1D veya 3D nesneler için 3D) ayrıca `nn.Conv1d()` ve `nn.Conv3d()` de bulunmaktadır.\n",
        "\n",
        "Bu katmanları test etmek için, CNN Explainer'da kullanılan veriye benzer bazı toy veriler oluşturalım.\n"
      ],
      "metadata": {
        "id": "qJ_NsclWiRUy"
      }
    },
    {
      "cell_type": "code",
      "source": [
        "torch.manual_seed(42)\n",
        "\n",
        "# Görüntü batch'inin boyutunda rastgele sayılar içeren örnek batch oluştur\n",
        "images = torch.randn(size=(32, 3, 64, 64)) # [batch_size, renk_kanalları, yükseklik, genişlik]\n",
        "test_image = images[0] # test için tek bir görüntü al\n",
        "print(f\"Görüntü batch şekli: {images.shape} -> [batch_size, renk_kanalları, yükseklik, genişlik]\")\n",
        "print(f\"Tek bir görüntü şekli: {test_image.shape} -> [renk_kanalları, yükseklik, genişlik]\")\n",
        "print(f\"Tek bir görüntü piksel değerleri:\\n{test_image}\")\n"
      ],
      "metadata": {
        "id": "7tuiPl4aiSwc",
        "colab": {
          "base_uri": "https://localhost:8080/"
        },
        "outputId": "efd08b42-f811-4690-8166-e183fe1913e2"
      },
      "execution_count": null,
      "outputs": [
        {
          "output_type": "stream",
          "name": "stdout",
          "text": [
            "Görüntü batch şekli: torch.Size([32, 3, 64, 64]) -> [batch_size, renk_kanalları, yükseklik, genişlik]\n",
            "Tek bir görüntü şekli: torch.Size([3, 64, 64]) -> [renk_kanalları, yükseklik, genişlik]\n",
            "Tek bir görüntü piksel değerleri:\n",
            "tensor([[[ 1.9269,  1.4873,  0.9007,  ...,  1.8446, -1.1845,  1.3835],\n",
            "         [ 1.4451,  0.8564,  2.2181,  ...,  0.3399,  0.7200,  0.4114],\n",
            "         [ 1.9312,  1.0119, -1.4364,  ..., -0.5558,  0.7043,  0.7099],\n",
            "         ...,\n",
            "         [-0.5610, -0.4830,  0.4770,  ..., -0.2713, -0.9537, -0.6737],\n",
            "         [ 0.3076, -0.1277,  0.0366,  ..., -2.0060,  0.2824, -0.8111],\n",
            "         [-1.5486,  0.0485, -0.7712,  ..., -0.1403,  0.9416, -0.0118]],\n",
            "\n",
            "        [[-0.5197,  1.8524,  1.8365,  ...,  0.8935, -1.5114, -0.8515],\n",
            "         [ 2.0818,  1.0677, -1.4277,  ...,  1.6612, -2.6223, -0.4319],\n",
            "         [-0.1010, -0.4388, -1.9775,  ...,  0.2106,  0.2536, -0.7318],\n",
            "         ...,\n",
            "         [ 0.2779,  0.7342, -0.3736,  ..., -0.4601,  0.1815,  0.1850],\n",
            "         [ 0.7205, -0.2833,  0.0937,  ..., -0.1002, -2.3609,  2.2465],\n",
            "         [-1.3242, -0.1973,  0.2920,  ...,  0.5409,  0.6940,  1.8563]],\n",
            "\n",
            "        [[-0.7978,  1.0261,  1.1465,  ...,  1.2134,  0.9354, -0.0780],\n",
            "         [-1.4647, -1.9571,  0.1017,  ..., -1.9986, -0.7409,  0.7011],\n",
            "         [-1.3938,  0.8466, -1.7191,  ..., -1.1867,  0.1320,  0.3407],\n",
            "         ...,\n",
            "         [ 0.8206, -0.3745,  1.2499,  ..., -0.0676,  0.0385,  0.6335],\n",
            "         [-0.5589, -0.3393,  0.2347,  ...,  2.1181,  2.4569,  1.3083],\n",
            "         [-0.4092,  1.5199,  0.2401,  ..., -0.2558,  0.7870,  0.9924]]])\n"
          ]
        }
      ]
    },
    {
      "cell_type": "markdown",
      "source": [
        "Bir örnek `nn.Conv2d()` oluşturalım ve çeşitli parametreleri inceleyelim:\n",
        "* `in_channels` (int) - Giriş görüntüsündeki kanal sayısı.\n",
        "* `out_channels` (int) - Konvolüsyon ile üretilen kanal sayısı.\n",
        "* `kernel_size` (int veya tuple) - Konvolüsyon filtresinin boyutu.\n",
        "* `stride` (int veya tuple, opsiyonel) - Konvolüsyonel filtrenin bir seferde ne kadar adım attığı. Varsayılan: 1.\n",
        "* `padding` (int, tuple, str) - Girişin dört tarafına eklenen padding. Varsayılan: 0.\n",
        "\n",
        "![Bir Conv2d katmanının farklı parametreleriyle nasıl çalıştığını gösteren örnek](https://raw.githubusercontent.com/mrdbourke/pytorch-deep-learning/main/images/03-conv2d-layer.gif)\n",
        "\n",
        "*`nn.Conv2d()` katmanının hiperparametrelerini değiştirdiğinizde ne olduğunu gösteren örnek.*\n"
      ],
      "metadata": {
        "id": "zj8LGC-IiU4x"
      }
    },
    {
      "cell_type": "code",
      "source": [
        "torch.manual_seed(42)\n",
        "\n",
        "# TinyVGG ile aynı boyutlarda bir konvolüsyonel katman oluştur\n",
        "# (parametrelerden herhangi birini değiştirip ne olduğunu görmeyi deneyin)\n",
        "conv_layer = nn.Conv2d(in_channels=3,\n",
        "                       out_channels=10,\n",
        "                       kernel_size=3,\n",
        "                       stride=1,\n",
        "                       padding=0) # burada \"valid\" veya \"same\" kullanmayı da deneyebilirsiniz\n",
        "\n",
        "# Veriyi konvolüsyonel katmandan geçirin\n",
        "conv_layer(test_image) # Not: PyTorch <1.11.0 kullanıyorsanız, bu hata verebilir çünkü şekil sorunları vardır (nn.Conv2d() 4D tensör bekler)\n"
      ],
      "metadata": {
        "id": "Ke9ncJ6UiWc5",
        "colab": {
          "base_uri": "https://localhost:8080/"
        },
        "outputId": "39f0d429-6971-4cc2-f7a9-36e6372f0862"
      },
      "execution_count": null,
      "outputs": [
        {
          "output_type": "execute_result",
          "data": {
            "text/plain": [
              "tensor([[[ 1.5396,  0.0516,  0.6454,  ..., -0.3673,  0.8711,  0.4256],\n",
              "         [ 0.3662,  1.0114, -0.5997,  ...,  0.8983,  0.2809, -0.2741],\n",
              "         [ 1.2664, -1.4054,  0.3727,  ..., -0.3409,  1.2191, -0.0463],\n",
              "         ...,\n",
              "         [-0.1541,  0.5132, -0.3624,  ..., -0.2360, -0.4609, -0.0035],\n",
              "         [ 0.2981, -0.2432,  1.5012,  ..., -0.6289, -0.7283, -0.5767],\n",
              "         [-0.0386, -0.0781, -0.0388,  ...,  0.2842,  0.4228, -0.1802]],\n",
              "\n",
              "        [[-0.2840, -0.0319, -0.4455,  ..., -0.7956,  1.5599, -1.2449],\n",
              "         [ 0.2753, -0.1262, -0.6541,  ..., -0.2211,  0.1999, -0.8856],\n",
              "         [-0.5404, -1.5489,  0.0249,  ..., -0.5932, -1.0913, -0.3849],\n",
              "         ...,\n",
              "         [ 0.3870, -0.4064, -0.8236,  ...,  0.1734, -0.4330, -0.4951],\n",
              "         [-0.1984, -0.6386,  1.0263,  ..., -0.9401, -0.0585, -0.7833],\n",
              "         [-0.6306, -0.2052, -0.3694,  ..., -1.3248,  0.2456, -0.7134]],\n",
              "\n",
              "        [[ 0.4414,  0.5100,  0.4846,  ..., -0.8484,  0.2638,  1.1258],\n",
              "         [ 0.8117,  0.3191, -0.0157,  ...,  1.2686,  0.2319,  0.5003],\n",
              "         [ 0.3212,  0.0485, -0.2581,  ...,  0.2258,  0.2587, -0.8804],\n",
              "         ...,\n",
              "         [-0.1144, -0.1869,  0.0160,  ..., -0.8346,  0.0974,  0.8421],\n",
              "         [ 0.2941,  0.4417,  0.5866,  ..., -0.1224,  0.4814, -0.4799],\n",
              "         [ 0.6059, -0.0415, -0.2028,  ...,  0.1170,  0.2521, -0.4372]],\n",
              "\n",
              "        ...,\n",
              "\n",
              "        [[-0.2560, -0.0477,  0.6380,  ...,  0.6436,  0.7553, -0.7055],\n",
              "         [ 1.5595, -0.2209, -0.9486,  ..., -0.4876,  0.7754,  0.0750],\n",
              "         [-0.0797,  0.2471,  1.1300,  ...,  0.1505,  0.2354,  0.9576],\n",
              "         ...,\n",
              "         [ 1.1065,  0.6839,  1.2183,  ...,  0.3015, -0.1910, -0.1902],\n",
              "         [-0.3486, -0.7173, -0.3582,  ...,  0.4917,  0.7219,  0.1513],\n",
              "         [ 0.0119,  0.1017,  0.7839,  ..., -0.3752, -0.8127, -0.1257]],\n",
              "\n",
              "        [[ 0.3841,  1.1322,  0.1620,  ...,  0.7010,  0.0109,  0.6058],\n",
              "         [ 0.1664,  0.1873,  1.5924,  ...,  0.3733,  0.9096, -0.5399],\n",
              "         [ 0.4094, -0.0861, -0.7935,  ..., -0.1285, -0.9932, -0.3013],\n",
              "         ...,\n",
              "         [ 0.2688, -0.5630, -1.1902,  ...,  0.4493,  0.5404, -0.0103],\n",
              "         [ 0.0535,  0.4411,  0.5313,  ...,  0.0148, -1.0056,  0.3759],\n",
              "         [ 0.3031, -0.1590, -0.1316,  ..., -0.5384, -0.4271, -0.4876]],\n",
              "\n",
              "        [[-1.1865, -0.7280, -1.2331,  ..., -0.9013, -0.0542, -1.5949],\n",
              "         [-0.6345, -0.5920,  0.5326,  ..., -1.0395, -0.7963, -0.0647],\n",
              "         [-0.1132,  0.5166,  0.2569,  ...,  0.5595, -1.6881,  0.9485],\n",
              "         ...,\n",
              "         [-0.0254, -0.2669,  0.1927,  ..., -0.2917,  0.1088, -0.4807],\n",
              "         [-0.2609, -0.2328,  0.1404,  ..., -0.1325, -0.8436, -0.7524],\n",
              "         [-1.1399, -0.1751, -0.8705,  ...,  0.1589,  0.3377,  0.3493]]],\n",
              "       grad_fn=<SqueezeBackward1>)"
            ]
          },
          "metadata": {},
          "execution_count": 32
        }
      ]
    },
    {
      "cell_type": "markdown",
      "source": [
        "Eğer tek bir görüntüyü geçirmeye çalışırsak, bir şekil uyuşmazlığı hatası alırız:\n",
        "\n",
        "> `RuntimeError: Expected 4-dimensional input for 4-dimensional weight [10, 3, 3, 3], but got 3-dimensional input of size [3, 64, 64] instead`\n",
        "\n",
        "> **Not:** Eğer PyTorch 1.11.0+ kullanıyorsanız, bu hata meydana gelmez.\n",
        "\n",
        "Bu, `nn.Conv2d()` katmanımızın girdi olarak `(N, C, H, W)` boyutlarında yani `[batch_size, renk_kanalları, yükseklik, genişlik]` şeklinde 4 boyutlu bir tensör beklemesindendir.\n",
        "\n",
        "Şu anki tek görüntümüz `test_image`, sadece `[renk_kanalları, yükseklik, genişlik]` şeklinde yani `[3, 64, 64]` boyutlarına sahiptir.\n",
        "\n",
        "Bunu, tek bir görüntü için `test_image.unsqueeze(dim=0)` kullanarak düzeltebiliriz, böylece `N` için ekstra bir boyut eklemiş oluruz.\n"
      ],
      "metadata": {
        "id": "nU_PBxzQiaIi"
      }
    },
    {
      "cell_type": "code",
      "source": [
        "# Test görüntüsüne ekstra boyut ekle\n",
        "test_image.unsqueeze(dim=0).shape\n"
      ],
      "metadata": {
        "id": "beJqCI_mibqW",
        "colab": {
          "base_uri": "https://localhost:8080/"
        },
        "outputId": "920017d1-e9c1-478e-f537-fbbda9dbaf54"
      },
      "execution_count": null,
      "outputs": [
        {
          "output_type": "execute_result",
          "data": {
            "text/plain": [
              "torch.Size([1, 3, 64, 64])"
            ]
          },
          "metadata": {},
          "execution_count": 33
        }
      ]
    },
    {
      "cell_type": "code",
      "source": [
        "# Ekstra boyut eklenmiş test görüntüsünü konvolüsyonel katmandan geçir\n",
        "conv_layer(test_image.unsqueeze(dim=0)).shape\n"
      ],
      "metadata": {
        "id": "ucHMTZZYidsk",
        "colab": {
          "base_uri": "https://localhost:8080/"
        },
        "outputId": "d836396a-3ed2-4bac-ebf1-fa58651c01a9"
      },
      "execution_count": null,
      "outputs": [
        {
          "output_type": "execute_result",
          "data": {
            "text/plain": [
              "torch.Size([1, 10, 62, 62])"
            ]
          },
          "metadata": {},
          "execution_count": 34
        }
      ]
    },
    {
      "cell_type": "markdown",
      "source": [
        "Hmm, şeklimizde ne olduğunu fark ettiniz mi (bu, [CNN Explainer](https://poloclub.github.io/cnn-explainer/) üzerindeki TinyVGG'nin ilk katmanıyla aynı şekil)? Farklı kanal boyutları ve farklı piksel boyutları alıyoruz.\n",
        "\n",
        "Peki ya `conv_layer`'ın değerlerini değiştirsek ne olur?\n"
      ],
      "metadata": {
        "id": "WnXgUaBtifuO"
      }
    },
    {
      "cell_type": "code",
      "source": [
        "torch.manual_seed(42)\n",
        "# Farklı değerlerle yeni bir conv_layer oluştur (bunları istediğiniz gibi ayarlamayı deneyin)\n",
        "conv_layer_2 = nn.Conv2d(in_channels=3, # giriş görüntümüzle aynı renk kanalı sayısı\n",
        "                         out_channels=10,\n",
        "                         kernel_size=(5, 5), # kernel genellikle bir kare olduğundan, tuple da çalışır\n",
        "                         stride=2,\n",
        "                         padding=0)\n",
        "\n",
        "# Tek bir görüntüyü yeni conv_layer_2'den geçirin (bu, giriş üzerinde nn.Conv2d()'in forward() metodunu çağırır)\n",
        "conv_layer_2(test_image.unsqueeze(dim=0)).shape\n"
      ],
      "metadata": {
        "id": "WjS4R1dDihcu",
        "colab": {
          "base_uri": "https://localhost:8080/"
        },
        "outputId": "cf5335f8-3194-4534-bd68-cde4a94c7d40"
      },
      "execution_count": null,
      "outputs": [
        {
          "output_type": "execute_result",
          "data": {
            "text/plain": [
              "torch.Size([1, 10, 30, 30])"
            ]
          },
          "metadata": {},
          "execution_count": 35
        }
      ]
    },
    {
      "cell_type": "markdown",
      "source": [
        "Vay, başka bir şekil değişikliği gördük.\n",
        "\n",
        "Şimdi görüntümüz `[1, 10, 30, 30]` şeklinde (farklı değerler kullanırsanız bu farklı olabilir) veya `[batch_size=1, renk_kanalları=10, yükseklik=30, genişlik=30]` şeklinde.\n",
        "\n",
        "Burada ne oluyor?\n",
        "\n",
        "İçsel olarak, `nn.Conv2d()` katmanımız, görüntüdeki veriyi sıkıştırıyor.\n",
        "\n",
        "Bunu, giriş (test görüntümüz) ile kendi içsel parametreleri üzerinde işlemler yaparak gerçekleştiriyor.\n",
        "\n",
        "Bunun amacı, daha önce inşa ettiğimiz diğer tüm sinir ağlarına benzer.\n",
        "\n",
        "Veri girer ve katmanlar, optimizer tarafından yardım alarak kayıp fonksiyonunu azaltmak için içsel parametrelerini (desenlerini) güncellemeye çalışır.\n",
        "\n",
        "Tek fark, *nasıl* farklı katmanların parametre güncellemelerini hesapladığıdır ya da PyTorch terimleriyle, katmanın `forward()` metodundaki işlemdir.\n",
        "\n",
        "Eğer `conv_layer_2.state_dict()`'umuzu kontrol edersek, daha önce gördüğümüz benzer ağırlık ve bias kurulumlarını bulacağız.\n"
      ],
      "metadata": {
        "id": "77oJgy0zijkd"
      }
    },
    {
      "cell_type": "code",
      "source": [
        "# conv_layer_2'nin iç parametrelerini kontrol et\n",
        "print(conv_layer_2.state_dict())\n"
      ],
      "metadata": {
        "id": "bgMtf3LIilHS",
        "colab": {
          "base_uri": "https://localhost:8080/"
        },
        "outputId": "b1b762c1-3e14-430c-92bf-88ddc48dc5b0"
      },
      "execution_count": null,
      "outputs": [
        {
          "output_type": "stream",
          "name": "stdout",
          "text": [
            "OrderedDict([('weight', tensor([[[[ 0.0883,  0.0958, -0.0271,  0.1061, -0.0253],\n",
            "          [ 0.0233, -0.0562,  0.0678,  0.1018, -0.0847],\n",
            "          [ 0.1004,  0.0216,  0.0853,  0.0156,  0.0557],\n",
            "          [-0.0163,  0.0890,  0.0171, -0.0539,  0.0294],\n",
            "          [-0.0532, -0.0135, -0.0469,  0.0766, -0.0911]],\n",
            "\n",
            "         [[-0.0532, -0.0326, -0.0694,  0.0109, -0.1140],\n",
            "          [ 0.1043, -0.0981,  0.0891,  0.0192, -0.0375],\n",
            "          [ 0.0714,  0.0180,  0.0933,  0.0126, -0.0364],\n",
            "          [ 0.0310, -0.0313,  0.0486,  0.1031,  0.0667],\n",
            "          [-0.0505,  0.0667,  0.0207,  0.0586, -0.0704]],\n",
            "\n",
            "         [[-0.1143, -0.0446, -0.0886,  0.0947,  0.0333],\n",
            "          [ 0.0478,  0.0365, -0.0020,  0.0904, -0.0820],\n",
            "          [ 0.0073, -0.0788,  0.0356, -0.0398,  0.0354],\n",
            "          [-0.0241,  0.0958, -0.0684, -0.0689, -0.0689],\n",
            "          [ 0.1039,  0.0385,  0.1111, -0.0953, -0.1145]]],\n",
            "\n",
            "\n",
            "        [[[-0.0903, -0.0777,  0.0468,  0.0413,  0.0959],\n",
            "          [-0.0596, -0.0787,  0.0613, -0.0467,  0.0701],\n",
            "          [-0.0274,  0.0661, -0.0897, -0.0583,  0.0352],\n",
            "          [ 0.0244, -0.0294,  0.0688,  0.0785, -0.0837],\n",
            "          [-0.0616,  0.1057, -0.0390, -0.0409, -0.1117]],\n",
            "\n",
            "         [[-0.0661,  0.0288, -0.0152, -0.0838,  0.0027],\n",
            "          [-0.0789, -0.0980, -0.0636, -0.1011, -0.0735],\n",
            "          [ 0.1154,  0.0218,  0.0356, -0.1077, -0.0758],\n",
            "          [-0.0384,  0.0181, -0.1016, -0.0498, -0.0691],\n",
            "          [ 0.0003, -0.0430, -0.0080, -0.0782, -0.0793]],\n",
            "\n",
            "         [[-0.0674, -0.0395, -0.0911,  0.0968, -0.0229],\n",
            "          [ 0.0994,  0.0360, -0.0978,  0.0799, -0.0318],\n",
            "          [-0.0443, -0.0958, -0.1148,  0.0330, -0.0252],\n",
            "          [ 0.0450, -0.0948,  0.0857, -0.0848, -0.0199],\n",
            "          [ 0.0241,  0.0596,  0.0932,  0.1052, -0.0916]]],\n",
            "\n",
            "\n",
            "        [[[ 0.0291, -0.0497, -0.0127, -0.0864,  0.1052],\n",
            "          [-0.0847,  0.0617,  0.0406,  0.0375, -0.0624],\n",
            "          [ 0.1050,  0.0254,  0.0149, -0.1018,  0.0485],\n",
            "          [-0.0173, -0.0529,  0.0992,  0.0257, -0.0639],\n",
            "          [-0.0584, -0.0055,  0.0645, -0.0295, -0.0659]],\n",
            "\n",
            "         [[-0.0395, -0.0863,  0.0412,  0.0894, -0.1087],\n",
            "          [ 0.0268,  0.0597,  0.0209, -0.0411,  0.0603],\n",
            "          [ 0.0607,  0.0432, -0.0203, -0.0306,  0.0124],\n",
            "          [-0.0204, -0.0344,  0.0738,  0.0992, -0.0114],\n",
            "          [-0.0259,  0.0017, -0.0069,  0.0278,  0.0324]],\n",
            "\n",
            "         [[-0.1049, -0.0426,  0.0972,  0.0450, -0.0057],\n",
            "          [-0.0696, -0.0706, -0.1034, -0.0376,  0.0390],\n",
            "          [ 0.0736,  0.0533, -0.1021, -0.0694, -0.0182],\n",
            "          [ 0.1117,  0.0167, -0.0299,  0.0478, -0.0440],\n",
            "          [-0.0747,  0.0843, -0.0525, -0.0231, -0.1149]]],\n",
            "\n",
            "\n",
            "        [[[ 0.0773,  0.0875,  0.0421, -0.0805, -0.1140],\n",
            "          [-0.0938,  0.0861,  0.0554,  0.0972,  0.0605],\n",
            "          [ 0.0292, -0.0011, -0.0878, -0.0989, -0.1080],\n",
            "          [ 0.0473, -0.0567, -0.0232, -0.0665, -0.0210],\n",
            "          [-0.0813, -0.0754,  0.0383, -0.0343,  0.0713]],\n",
            "\n",
            "         [[-0.0370, -0.0847, -0.0204, -0.0560, -0.0353],\n",
            "          [-0.1099,  0.0646, -0.0804,  0.0580,  0.0524],\n",
            "          [ 0.0825, -0.0886,  0.0830, -0.0546,  0.0428],\n",
            "          [ 0.1084, -0.0163, -0.0009, -0.0266, -0.0964],\n",
            "          [ 0.0554, -0.1146,  0.0717,  0.0864,  0.1092]],\n",
            "\n",
            "         [[-0.0272, -0.0949,  0.0260,  0.0638, -0.1149],\n",
            "          [-0.0262, -0.0692, -0.0101, -0.0568, -0.0472],\n",
            "          [-0.0367, -0.1097,  0.0947,  0.0968, -0.0181],\n",
            "          [-0.0131, -0.0471, -0.1043, -0.1124,  0.0429],\n",
            "          [-0.0634, -0.0742, -0.0090, -0.0385, -0.0374]]],\n",
            "\n",
            "\n",
            "        [[[ 0.0037, -0.0245, -0.0398, -0.0553, -0.0940],\n",
            "          [ 0.0968, -0.0462,  0.0306, -0.0401,  0.0094],\n",
            "          [ 0.1077,  0.0532, -0.1001,  0.0458,  0.1096],\n",
            "          [ 0.0304,  0.0774,  0.1138, -0.0177,  0.0240],\n",
            "          [-0.0803, -0.0238,  0.0855,  0.0592, -0.0731]],\n",
            "\n",
            "         [[-0.0926, -0.0789, -0.1140, -0.0891, -0.0286],\n",
            "          [ 0.0779,  0.0193, -0.0878, -0.0926,  0.0574],\n",
            "          [-0.0859, -0.0142,  0.0554, -0.0534, -0.0126],\n",
            "          [-0.0101, -0.0273, -0.0585, -0.1029, -0.0933],\n",
            "          [-0.0618,  0.1115, -0.0558, -0.0775,  0.0280]],\n",
            "\n",
            "         [[ 0.0318,  0.0633,  0.0878,  0.0643, -0.1145],\n",
            "          [ 0.0102,  0.0699, -0.0107, -0.0680,  0.1101],\n",
            "          [-0.0432, -0.0657, -0.1041,  0.0052,  0.0512],\n",
            "          [ 0.0256,  0.0228, -0.0876, -0.1078,  0.0020],\n",
            "          [ 0.1053,  0.0666, -0.0672, -0.0150, -0.0851]]],\n",
            "\n",
            "\n",
            "        [[[-0.0557,  0.0209,  0.0629,  0.0957, -0.1060],\n",
            "          [ 0.0772, -0.0814,  0.0432,  0.0977,  0.0016],\n",
            "          [ 0.1051, -0.0984, -0.0441,  0.0673, -0.0252],\n",
            "          [-0.0236, -0.0481,  0.0796,  0.0566,  0.0370],\n",
            "          [-0.0649, -0.0937,  0.0125,  0.0342, -0.0533]],\n",
            "\n",
            "         [[-0.0323,  0.0780,  0.0092,  0.0052, -0.0284],\n",
            "          [-0.1046, -0.1086, -0.0552, -0.0587,  0.0360],\n",
            "          [-0.0336, -0.0452,  0.1101,  0.0402,  0.0823],\n",
            "          [-0.0559, -0.0472,  0.0424, -0.0769, -0.0755],\n",
            "          [-0.0056, -0.0422, -0.0866,  0.0685,  0.0929]],\n",
            "\n",
            "         [[ 0.0187, -0.0201, -0.1070, -0.0421,  0.0294],\n",
            "          [ 0.0544, -0.0146, -0.0457,  0.0643, -0.0920],\n",
            "          [ 0.0730, -0.0448,  0.0018, -0.0228,  0.0140],\n",
            "          [-0.0349,  0.0840, -0.0030,  0.0901,  0.1110],\n",
            "          [-0.0563, -0.0842,  0.0926,  0.0905, -0.0882]]],\n",
            "\n",
            "\n",
            "        [[[-0.0089, -0.1139, -0.0945,  0.0223,  0.0307],\n",
            "          [ 0.0245, -0.0314,  0.1065,  0.0165, -0.0681],\n",
            "          [-0.0065,  0.0277,  0.0404, -0.0816,  0.0433],\n",
            "          [-0.0590, -0.0959, -0.0631,  0.1114,  0.0987],\n",
            "          [ 0.1034,  0.0678,  0.0872, -0.0155, -0.0635]],\n",
            "\n",
            "         [[ 0.0577, -0.0598, -0.0779, -0.0369,  0.0242],\n",
            "          [ 0.0594, -0.0448, -0.0680,  0.0156, -0.0681],\n",
            "          [-0.0752,  0.0602, -0.0194,  0.1055,  0.1123],\n",
            "          [ 0.0345,  0.0397,  0.0266,  0.0018, -0.0084],\n",
            "          [ 0.0016,  0.0431,  0.1074, -0.0299, -0.0488]],\n",
            "\n",
            "         [[-0.0280, -0.0558,  0.0196,  0.0862,  0.0903],\n",
            "          [ 0.0530, -0.0850, -0.0620, -0.0254, -0.0213],\n",
            "          [ 0.0095, -0.1060,  0.0359, -0.0881, -0.0731],\n",
            "          [-0.0960,  0.1006, -0.1093,  0.0871, -0.0039],\n",
            "          [-0.0134,  0.0722, -0.0107,  0.0724,  0.0835]]],\n",
            "\n",
            "\n",
            "        [[[-0.1003,  0.0444,  0.0218,  0.0248,  0.0169],\n",
            "          [ 0.0316, -0.0555, -0.0148,  0.1097,  0.0776],\n",
            "          [-0.0043, -0.1086,  0.0051, -0.0786,  0.0939],\n",
            "          [-0.0701, -0.0083, -0.0256,  0.0205,  0.1087],\n",
            "          [ 0.0110,  0.0669,  0.0896,  0.0932, -0.0399]],\n",
            "\n",
            "         [[-0.0258,  0.0556, -0.0315,  0.0541, -0.0252],\n",
            "          [-0.0783,  0.0470,  0.0177,  0.0515,  0.1147],\n",
            "          [ 0.0788,  0.1095,  0.0062, -0.0993, -0.0810],\n",
            "          [-0.0717, -0.1018, -0.0579, -0.1063, -0.1065],\n",
            "          [-0.0690, -0.1138, -0.0709,  0.0440,  0.0963]],\n",
            "\n",
            "         [[-0.0343, -0.0336,  0.0617, -0.0570, -0.0546],\n",
            "          [ 0.0711, -0.1006,  0.0141,  0.1020,  0.0198],\n",
            "          [ 0.0314, -0.0672, -0.0016,  0.0063,  0.0283],\n",
            "          [ 0.0449,  0.1003, -0.0881,  0.0035, -0.0577],\n",
            "          [-0.0913, -0.0092, -0.1016,  0.0806,  0.0134]]],\n",
            "\n",
            "\n",
            "        [[[-0.0622,  0.0603, -0.1093, -0.0447, -0.0225],\n",
            "          [-0.0981, -0.0734, -0.0188,  0.0876,  0.1115],\n",
            "          [ 0.0735, -0.0689, -0.0755,  0.1008,  0.0408],\n",
            "          [ 0.0031,  0.0156, -0.0928, -0.0386,  0.1112],\n",
            "          [-0.0285, -0.0058, -0.0959, -0.0646, -0.0024]],\n",
            "\n",
            "         [[-0.0717, -0.0143,  0.0470, -0.1130,  0.0343],\n",
            "          [-0.0763, -0.0564,  0.0443,  0.0918, -0.0316],\n",
            "          [-0.0474, -0.1044, -0.0595, -0.1011, -0.0264],\n",
            "          [ 0.0236, -0.1082,  0.1008,  0.0724, -0.1130],\n",
            "          [-0.0552,  0.0377, -0.0237, -0.0126, -0.0521]],\n",
            "\n",
            "         [[ 0.0927, -0.0645,  0.0958,  0.0075,  0.0232],\n",
            "          [ 0.0901, -0.0190, -0.0657, -0.0187,  0.0937],\n",
            "          [-0.0857,  0.0262, -0.1135,  0.0605,  0.0427],\n",
            "          [ 0.0049,  0.0496,  0.0001,  0.0639, -0.0914],\n",
            "          [-0.0170,  0.0512,  0.1150,  0.0588, -0.0840]]],\n",
            "\n",
            "\n",
            "        [[[ 0.0888, -0.0257, -0.0247, -0.1050, -0.0182],\n",
            "          [ 0.0817,  0.0161, -0.0673,  0.0355, -0.0370],\n",
            "          [ 0.1054, -0.1002, -0.0365, -0.1115, -0.0455],\n",
            "          [ 0.0364,  0.1112,  0.0194,  0.1132,  0.0226],\n",
            "          [ 0.0667,  0.0926,  0.0965, -0.0646,  0.1062]],\n",
            "\n",
            "         [[ 0.0699, -0.0540, -0.0551, -0.0969,  0.0290],\n",
            "          [-0.0936,  0.0488,  0.0365, -0.1003,  0.0315],\n",
            "          [-0.0094,  0.0527,  0.0663, -0.1148,  0.1059],\n",
            "          [ 0.0968,  0.0459, -0.1055, -0.0412, -0.0335],\n",
            "          [-0.0297,  0.0651,  0.0420,  0.0915, -0.0432]],\n",
            "\n",
            "         [[ 0.0389,  0.0411, -0.0961, -0.1120, -0.0599],\n",
            "          [ 0.0790, -0.1087, -0.1005,  0.0647,  0.0623],\n",
            "          [ 0.0950, -0.0872, -0.0845,  0.0592,  0.1004],\n",
            "          [ 0.0691,  0.0181,  0.0381,  0.1096, -0.0745],\n",
            "          [-0.0524,  0.0808, -0.0790, -0.0637,  0.0843]]]])), ('bias', tensor([ 0.0364,  0.0373, -0.0489, -0.0016,  0.1057, -0.0693,  0.0009,  0.0549,\n",
            "        -0.0797,  0.1121]))])\n"
          ]
        }
      ]
    },
    {
      "cell_type": "markdown",
      "source": [
        "Buna bakın! Ağırlık ve bias tensörleri için bir sürü rastgele sayı.\n",
        "\n",
        "Bu şekiller, `nn.Conv2d()`'i ayarlarken geçirdiğimiz girişlerle manipüle ediliyor.\n",
        "\n",
        "Hadi bunlara bakalım.\n"
      ],
      "metadata": {
        "id": "r4BzsNaXinnW"
      }
    },
    {
      "cell_type": "code",
      "source": [
        "# conv_layer_2 içindeki ağırlık ve bias tensörlerinin şekillerini al\n",
        "print(f\"conv_layer_2 ağırlık şekli: \\n{conv_layer_2.weight.shape} -> [out_channels=10, in_channels=3, kernel_size=5, kernel_size=5]\")\n",
        "print(f\"\\nconv_layer_2 bias şekli: \\n{conv_layer_2.bias.shape} -> [out_channels=10]\")\n"
      ],
      "metadata": {
        "id": "kO4MmmE_ipyz",
        "colab": {
          "base_uri": "https://localhost:8080/"
        },
        "outputId": "265b2aa8-d84f-46e4-b8c0-d2013af864e0"
      },
      "execution_count": null,
      "outputs": [
        {
          "output_type": "stream",
          "name": "stdout",
          "text": [
            "conv_layer_2 ağırlık şekli: \n",
            "torch.Size([10, 3, 5, 5]) -> [out_channels=10, in_channels=3, kernel_size=5, kernel_size=5]\n",
            "\n",
            "conv_layer_2 bias şekli: \n",
            "torch.Size([10]) -> [out_channels=10]\n"
          ]
        }
      ]
    },
    {
      "cell_type": "markdown",
      "source": [
        "> **Soru:** `nn.Conv2d()` katmanlarımızın parametrelerini ne olarak ayarlamalıyız?\n",
        "\n",
        "Bu iyi bir soru. Ancak, makine öğreniminde birçok diğer şey gibi, bu parametrelerin değerleri kesin değildir (ve unutmayın, bu değerler bizim kendimizin ayarlayabileceğimiz değerler olduğundan \"**hiperparametreler**\" olarak adlandırılır).\n",
        "\n",
        "En iyi yolu, farklı değerleri deneyip bunların modelinizin performansını nasıl etkilediğini görmek olacaktır.\n",
        "\n",
        "Ya da daha da iyisi, sizinle benzer bir problemde çalışan bir örnek bulun (TinyVGG ile yaptığımız gibi) ve onu kopyalayın.\n",
        "\n",
        "Burada daha önce gördüğümüzden farklı bir katmanla çalışıyoruz.\n",
        "\n",
        "Ancak temeli aynı kalır: rastgele sayılarla başlayın ve onları veriyi daha iyi temsil edecek şekilde güncelleyin.\n"
      ],
      "metadata": {
        "id": "0rplE-9AitDV"
      }
    },
    {
      "cell_type": "markdown",
      "source": [
        "### 7.2 `nn.MaxPool2d()` Adım Adım İnceleme\n",
        "Şimdi, veriyi `nn.MaxPool2d()` katmanından geçirdiğimizde ne olduğunu görelim."
      ],
      "metadata": {
        "id": "Ciznx9EYRjqw"
      }
    },
    {
      "cell_type": "code",
      "source": [
        "# Orijinal görüntü şekli ve unsqueeze edilmiş boyutla birlikte görüntüyü yazdır\n",
        "print(f\"Test görüntüsünün orijinal şekli: {test_image.shape}\")\n",
        "print(f\"Test görüntüsü unsqueeze edilmiş boyutla: {test_image.unsqueeze(dim=0).shape}\")\n",
        "\n",
        "# Örnek nn.MaxPool2d() katmanı oluştur\n",
        "max_pool_layer = nn.MaxPool2d(kernel_size=2)\n",
        "\n",
        "# Veriyi sadece conv_layer'dan geçir\n",
        "test_image_through_conv = conv_layer(test_image.unsqueeze(dim=0))\n",
        "print(f\"conv_layer()'dan geçtikten sonra şekil: {test_image_through_conv.shape}\")\n",
        "\n",
        "# Veriyi max pool katmanından geçir\n",
        "test_image_through_conv_and_max_pool = max_pool_layer(test_image_through_conv)\n",
        "print(f\"conv_layer() ve max_pool_layer()'dan geçtikten sonra şekil: {test_image_through_conv_and_max_pool.shape}\")\n"
      ],
      "metadata": {
        "id": "qp3jyT48iv-E",
        "colab": {
          "base_uri": "https://localhost:8080/"
        },
        "outputId": "08827613-f221-4988-ea8a-2c94b8384cf8"
      },
      "execution_count": null,
      "outputs": [
        {
          "output_type": "stream",
          "name": "stdout",
          "text": [
            "Test görüntüsünün orijinal şekli: torch.Size([3, 64, 64])\n",
            "Test görüntüsü unsqueeze edilmiş boyutla: torch.Size([1, 3, 64, 64])\n",
            "conv_layer()'dan geçtikten sonra şekil: torch.Size([1, 10, 62, 62])\n",
            "conv_layer() ve max_pool_layer()'dan geçtikten sonra şekil: torch.Size([1, 10, 31, 31])\n"
          ]
        }
      ]
    },
    {
      "cell_type": "markdown",
      "source": [
        "`nn.MaxPool2d()` katmanının içine ve dışına olan şekil değişikliklerini fark ettiniz mi?\n",
        "\n",
        "`nn.MaxPool2d()` katmanındaki `kernel_size`, çıktı şeklinin boyutunu etkiler.\n",
        "\n",
        "Bizim durumumuzda, şekil `62x62` görüntüsünden `31x31` görüntüsüne yarıya iner.\n",
        "\n",
        "Hadi, bunu daha küçük bir tensörle görelim.\n"
      ],
      "metadata": {
        "id": "BeE2W_nriyk6"
      }
    },
    {
      "cell_type": "code",
      "source": [
        "\n",
        "torch.manual_seed(42)\n",
        "# Görüntülerimize benzer boyutlarda rastgele bir tensör oluştur\n",
        "random_tensor = torch.randn(size=(1, 1, 2, 2))\n",
        "print(f\"Rastgele tensör:\\n{random_tensor}\")\n",
        "print(f\"Rastgele tensör şekli: {random_tensor.shape}\")\n",
        "\n",
        "# Bir max pool katmanı oluştur\n",
        "max_pool_layer = nn.MaxPool2d(kernel_size=2) # kernel_size değerini değiştirdiğinizde ne olduğunu görün\n",
        "\n",
        "# Rastgele tensörü max pool katmanından geçirin\n",
        "max_pool_tensor = max_pool_layer(random_tensor)\n",
        "print(f\"\\nMax pool tensörü:\\n{max_pool_tensor} <- bu, random_tensor'dan alınan maksimum değeri temsil eder\")\n",
        "print(f\"Max pool tensörü şekli: {max_pool_tensor.shape}\")\n"
      ],
      "metadata": {
        "id": "8yaAGaMwi1Ny",
        "colab": {
          "base_uri": "https://localhost:8080/"
        },
        "outputId": "6c70a31a-318f-49a2-d80c-e6f00bd80ebc"
      },
      "execution_count": null,
      "outputs": [
        {
          "output_type": "stream",
          "name": "stdout",
          "text": [
            "Rastgele tensör:\n",
            "tensor([[[[0.3367, 0.1288],\n",
            "          [0.2345, 0.2303]]]])\n",
            "Rastgele tensör şekli: torch.Size([1, 1, 2, 2])\n",
            "\n",
            "Max pool tensörü:\n",
            "tensor([[[[0.3367]]]]) <- bu, random_tensor'dan alınan maksimum değeri temsil eder\n",
            "Max pool tensörü şekli: torch.Size([1, 1, 1, 1])\n"
          ]
        }
      ]
    },
    {
      "cell_type": "markdown",
      "source": [
        "Fark edin ki `random_tensor` ve `max_pool_tensor` arasındaki son iki boyut `[2, 2]` den `[1, 1]`'e değişiyor.\n",
        "\n",
        "Özünde, bu boyutlar yarıya iniyor.\n",
        "\n",
        "Ve bu değişim, `nn.MaxPool2d()` için farklı `kernel_size` değerleri kullanıldığında farklı olur.\n",
        "\n",
        "Ayrıca, `max_pool_tensor`'daki kalan değerin, **random_tensor**'dan alınan **maksimum** değer olduğunu fark edin.\n",
        "\n",
        "Burada ne oluyor?\n",
        "\n",
        "Bu, sinir ağlarının bir başka önemli parçasıdır.\n",
        "\n",
        "Özünde, **her katman, verileri daha yüksek boyutlu alandan daha düşük boyutlu alana sıkıştırmaya çalışır**.\n",
        "\n",
        "Başka bir deyişle, bir çok sayıyı (ham veriyi) alır ve bu sayılarda, aynı zamanda *orijinal değerlerden daha küçük* olan tahmin edici desenleri öğrenir.\n",
        "\n",
        "Yapay zeka perspektifinden bakıldığında, bir sinir ağının tüm amacını *bilgiyi sıkıştırmak* olarak düşünebilirsiniz.\n",
        "\n",
        "![Bir sinir ağının her katmanı, orijinal giriş verilerini daha küçük bir temsil haline getirir ve bu temsil, gelecekteki giriş verileri üzerinde tahminler yapabilme yeteneğine sahip olmalıdır](https://raw.githubusercontent.com/mrdbourke/pytorch-deep-learning/main/images/03-conv-net-as-compression.png)\n",
        "\n",
        "Bu, bir sinir ağının bakış açısından, zekanın sıkıştırma olduğu anlamına gelir.\n",
        "\n",
        "Bu, `nn.MaxPool2d()` katmanının kullanım amacıdır: bir tensörün bir bölümünden maksimum değeri alır ve geri kalanını göz ardı eder.\n",
        "\n",
        "Özünde, bir tensörün boyutunu küçültürken (umarız ki) bilgilerin önemli bir kısmını tutar.\n",
        "\n",
        "Bu, `nn.Conv2d()` katmanı için de aynı hikayedir.\n",
        "\n",
        "Fark, sadece maksimum değeri almak yerine, `nn.Conv2d()`'in veriler üzerinde bir konvolüsyon işlemi yapmasıdır (bunu [CNN Explainer sayfasında](https://poloclub.github.io/cnn-explainer/) aksiyon içinde görebilirsiniz).\n",
        "\n",
        "> **Egzersiz:** Sence [`nn.AvgPool2d()`](https://pytorch.org/docs/stable/generated/torch.nn.AvgPool2d.html) katmanı ne yapar? Yukarıda yaptığımız gibi rastgele bir tensör oluşturup bunu geçirmeyi deneyin. Girdi ve çıktı şekillerini ve değerlerini kontrol edin.\n",
        "\n",
        "> **Ekstra müfredat:** \"En yaygın konvolüsyonel sinir ağları\"nı araştırın, hangi mimarileri buluyorsunuz? Bunların herhangi biri [`torchvision.models`](https://pytorch.org/vision/stable/models.html) kütüphanesinde mevcut mu? Bunlarla ne yapabileceğinizi düşünüyorsunuz?\n"
      ],
      "metadata": {
        "id": "e-uyF39_i3vi"
      }
    },
    {
      "cell_type": "markdown",
      "source": [
        "### 7.3 `model_2` için Kayıp Fonksiyonu ve Optimizör Kurulumu\n",
        "\n",
        "İlk CNN'imizdeki katmanları yeterince inceledik.\n",
        "\n",
        "Ama unutmayın, eğer bir şey hala net değilse, küçük başlayarak ilerlemeyi deneyin.\n",
        "\n",
        "Bir modelin tek bir katmanını seçin, bazı verileri o katmandan geçirin ve ne olduğunu gözlemleyin.\n",
        "\n",
        "Şimdi ilerleyelim ve eğitim aşamasına geçelim!\n",
        "\n",
        "Bir kayıp fonksiyonu ve bir optimizör kuralım.\n",
        "\n",
        "Daha önce kullandığımız fonksiyonları kullanacağız: Kayıp fonksiyonu olarak `nn.CrossEntropyLoss()` (çünkü çok sınıflı sınıflandırma verisiyle çalışıyoruz).\n",
        "\n",
        "Ve optimizör olarak, `model_2.parameters()`'ı optimize etmek için öğrenme oranı olarak `0.1` kullanarak `torch.optim.SGD()`'yi seçeceğiz.\n"
      ],
      "metadata": {
        "id": "vY1R_8_Ri8H7"
      }
    },
    {
      "cell_type": "code",
      "source": [
        "# Kayıp fonksiyonu ve optimizör kurulumunu yap\n",
        "loss_fn = nn.CrossEntropyLoss()\n",
        "optimizer = torch.optim.SGD(params=model_2.parameters(),\n",
        "                             lr=0.1)\n"
      ],
      "metadata": {
        "id": "dPgzRteHi4vS"
      },
      "execution_count": null,
      "outputs": []
    },
    {
      "cell_type": "markdown",
      "source": [
        "### 7.4 `model_2`'yi Eğitim ve Test Fonksiyonlarımızla Eğitme ve Test Etme\n",
        "\n",
        "Kayıp fonksiyonu ve optimizör hazır!\n",
        "\n",
        "Şimdi eğitim ve test zamanı.\n",
        "\n",
        "Daha önce oluşturduğumuz `train_step()` ve `test_step()` fonksiyonlarını kullanacağız.\n",
        "\n",
        "Ayrıca, diğer modellerimizle karşılaştırmak için zamanı ölçeceğiz.\n"
      ],
      "metadata": {
        "id": "EBByqXw5jAZK"
      }
    },
    {
      "cell_type": "code",
      "source": [
        "torch.manual_seed(42)\n",
        "\n",
        "# Zamanı ölç\n",
        "from timeit import default_timer as timer\n",
        "train_time_start_model_2 = timer()\n",
        "\n",
        "# Modeli eğit ve test et\n",
        "epochs = 3\n",
        "for epoch in tqdm(range(epochs)):\n",
        "    print(f\"Epoch: {epoch}\\n---------\")\n",
        "    train_step(data_loader=train_dataloader,\n",
        "        model=model_2,\n",
        "        loss_fn=loss_fn,\n",
        "        optimizer=optimizer,\n",
        "        accuracy_fn=accuracy_fn,\n",
        "        device=device\n",
        "    )\n",
        "    test_step(data_loader=test_dataloader,\n",
        "        model=model_2,\n",
        "        loss_fn=loss_fn,\n",
        "        accuracy_fn=accuracy_fn,\n",
        "        device=device\n",
        "    )\n",
        "\n",
        "train_time_end_model_2 = timer()\n",
        "total_train_time_model_2 = print_train_time(start=train_time_start_model_2,\n",
        "                                           end=train_time_end_model_2,\n",
        "                                           device=device)\n"
      ],
      "metadata": {
        "id": "DOmoMiwjjCHe",
        "colab": {
          "base_uri": "https://localhost:8080/",
          "height": 327,
          "referenced_widgets": [
            "c137a710e07748cf8c55ea4eedbc8a83",
            "1b5f817fbeee48bf862491b82af1a536",
            "ea0ffa32fe864309bcd1da2758273c2a",
            "85d47500a5e143b2a0cda85a8e522288",
            "ff18c76591534770a62be0d3a95e59b4",
            "c1a7301fb70a4761944740f0b916ccb3",
            "718bd4edb9624d148431918625c376f6",
            "a70e74ba5ce04f01ba267acd5f0e8448",
            "da151e60e5c2481ca998e4d27f9f528d",
            "f6ab976928c54b70a7e17489950aee3f",
            "eba2f8db27714dff9eb7eb371e91d2bb"
          ]
        },
        "outputId": "3fd0cb2a-19b3-420c-a064-82f31a38683e"
      },
      "execution_count": null,
      "outputs": [
        {
          "output_type": "display_data",
          "data": {
            "text/plain": [
              "  0%|          | 0/3 [00:00<?, ?it/s]"
            ],
            "application/vnd.jupyter.widget-view+json": {
              "version_major": 2,
              "version_minor": 0,
              "model_id": "c137a710e07748cf8c55ea4eedbc8a83"
            }
          },
          "metadata": {}
        },
        {
          "output_type": "stream",
          "name": "stdout",
          "text": [
            "Epoch: 0\n",
            "---------\n",
            "Train loss: 0.59518 | Train accuracy: 78.38%\n",
            "Test loss: 0.39500 | Test accuracy: 85.99%\n",
            "\n",
            "Epoch: 1\n",
            "---------\n",
            "Train loss: 0.36536 | Train accuracy: 86.90%\n",
            "Test loss: 0.35244 | Test accuracy: 86.91%\n",
            "\n",
            "Epoch: 2\n",
            "---------\n",
            "Train loss: 0.32588 | Train accuracy: 88.13%\n",
            "Test loss: 0.32719 | Test accuracy: 88.07%\n",
            "\n",
            "cpu üzerinde eğitim süresi: 154.048 saniye\n"
          ]
        }
      ]
    },
    {
      "cell_type": "markdown",
      "source": [
        "Vay canına! Görünüşe göre evrişim (convolutional) ve maksimum havuzlama (max pooling) katmanları performansı biraz artırmaya yardımcı oldu.\n",
        "\n",
        "Haydi, eval_model() fonksiyonumuzla model_2'nin sonuçlarını değerlendirelim."
      ],
      "metadata": {
        "id": "YVgDfzSijIEb"
      }
    },
    {
      "cell_type": "code",
      "source": [
        "# model_2 sonuçlarını al\n",
        "model_2_results = eval_model(\n",
        "    model=model_2,\n",
        "    data_loader=test_dataloader,\n",
        "    loss_fn=loss_fn,\n",
        "    accuracy_fn=accuracy_fn\n",
        ")\n",
        "model_2_results\n"
      ],
      "metadata": {
        "id": "E5RPGjXRjJ1S",
        "colab": {
          "base_uri": "https://localhost:8080/"
        },
        "outputId": "8c36d039-44d7-4fb6-d574-a56814aa699b"
      },
      "execution_count": null,
      "outputs": [
        {
          "output_type": "execute_result",
          "data": {
            "text/plain": [
              "{'model_name': 'FashionMNISTModelV2',\n",
              " 'model_loss': 0.32718968391418457,\n",
              " 'model_acc': 88.06908945686901}"
            ]
          },
          "metadata": {},
          "execution_count": 43
        }
      ]
    },
    {
      "cell_type": "markdown",
      "source": [
        "## 8. Model Sonuçlarını ve Eğitim Süresini Karşılaştırma\n",
        "\n",
        "Üç farklı model eğittik.\n",
        "\n",
        "1. `model_0` - iki `nn.Linear()` katmanı bulunan temel modelimiz.\n",
        "2. `model_1` - `nn.Linear()` katmanları arasına `nn.ReLU()` katmanları eklenmiş, temel modelimizle aynı kurulum.\n",
        "3. `model_2` - CNN Explainer websitesindeki TinyVGG mimarisine benzeyen ilk CNN modelimiz.\n",
        "\n",
        "Bu, makine öğreniminde yaygın bir uygulamadır.\n",
        "\n",
        "Birden fazla model inşa etmek ve hangi modelin en iyi performansı gösterdiğini görmek için birden fazla eğitim deneyi yapmak.\n",
        "\n",
        "Hadi, model sonuçlarımızın sözlüklerini bir DataFrame'e ekleyip sonucu görelim.\n"
      ],
      "metadata": {
        "id": "pJbTwYvIjMx-"
      }
    },
    {
      "cell_type": "code",
      "source": [
        "\n",
        "import pandas as pd\n",
        "compare_results = pd.DataFrame([model_0_results, model_1_results, model_2_results])\n",
        "compare_results\n"
      ],
      "metadata": {
        "id": "1Bcy06_ijQ4W",
        "colab": {
          "base_uri": "https://localhost:8080/",
          "height": 143
        },
        "outputId": "62b7fd39-fea7-4ca0-ac87-eaeff1bb1b4f"
      },
      "execution_count": null,
      "outputs": [
        {
          "output_type": "execute_result",
          "data": {
            "text/plain": [
              "            model_name  model_loss  model_acc\n",
              "0  FashionMNISTModelV0    0.476639  83.426518\n",
              "1  FashionMNISTModelV1    0.685001  75.019968\n",
              "2  FashionMNISTModelV2    0.327190  88.069089"
            ],
            "text/html": [
              "\n",
              "  <div id=\"df-6afbeb38-dc44-4313-bea7-545d88fdeb1b\" class=\"colab-df-container\">\n",
              "    <div>\n",
              "<style scoped>\n",
              "    .dataframe tbody tr th:only-of-type {\n",
              "        vertical-align: middle;\n",
              "    }\n",
              "\n",
              "    .dataframe tbody tr th {\n",
              "        vertical-align: top;\n",
              "    }\n",
              "\n",
              "    .dataframe thead th {\n",
              "        text-align: right;\n",
              "    }\n",
              "</style>\n",
              "<table border=\"1\" class=\"dataframe\">\n",
              "  <thead>\n",
              "    <tr style=\"text-align: right;\">\n",
              "      <th></th>\n",
              "      <th>model_name</th>\n",
              "      <th>model_loss</th>\n",
              "      <th>model_acc</th>\n",
              "    </tr>\n",
              "  </thead>\n",
              "  <tbody>\n",
              "    <tr>\n",
              "      <th>0</th>\n",
              "      <td>FashionMNISTModelV0</td>\n",
              "      <td>0.476639</td>\n",
              "      <td>83.426518</td>\n",
              "    </tr>\n",
              "    <tr>\n",
              "      <th>1</th>\n",
              "      <td>FashionMNISTModelV1</td>\n",
              "      <td>0.685001</td>\n",
              "      <td>75.019968</td>\n",
              "    </tr>\n",
              "    <tr>\n",
              "      <th>2</th>\n",
              "      <td>FashionMNISTModelV2</td>\n",
              "      <td>0.327190</td>\n",
              "      <td>88.069089</td>\n",
              "    </tr>\n",
              "  </tbody>\n",
              "</table>\n",
              "</div>\n",
              "    <div class=\"colab-df-buttons\">\n",
              "\n",
              "  <div class=\"colab-df-container\">\n",
              "    <button class=\"colab-df-convert\" onclick=\"convertToInteractive('df-6afbeb38-dc44-4313-bea7-545d88fdeb1b')\"\n",
              "            title=\"Convert this dataframe to an interactive table.\"\n",
              "            style=\"display:none;\">\n",
              "\n",
              "  <svg xmlns=\"http://www.w3.org/2000/svg\" height=\"24px\" viewBox=\"0 -960 960 960\">\n",
              "    <path d=\"M120-120v-720h720v720H120Zm60-500h600v-160H180v160Zm220 220h160v-160H400v160Zm0 220h160v-160H400v160ZM180-400h160v-160H180v160Zm440 0h160v-160H620v160ZM180-180h160v-160H180v160Zm440 0h160v-160H620v160Z\"/>\n",
              "  </svg>\n",
              "    </button>\n",
              "\n",
              "  <style>\n",
              "    .colab-df-container {\n",
              "      display:flex;\n",
              "      gap: 12px;\n",
              "    }\n",
              "\n",
              "    .colab-df-convert {\n",
              "      background-color: #E8F0FE;\n",
              "      border: none;\n",
              "      border-radius: 50%;\n",
              "      cursor: pointer;\n",
              "      display: none;\n",
              "      fill: #1967D2;\n",
              "      height: 32px;\n",
              "      padding: 0 0 0 0;\n",
              "      width: 32px;\n",
              "    }\n",
              "\n",
              "    .colab-df-convert:hover {\n",
              "      background-color: #E2EBFA;\n",
              "      box-shadow: 0px 1px 2px rgba(60, 64, 67, 0.3), 0px 1px 3px 1px rgba(60, 64, 67, 0.15);\n",
              "      fill: #174EA6;\n",
              "    }\n",
              "\n",
              "    .colab-df-buttons div {\n",
              "      margin-bottom: 4px;\n",
              "    }\n",
              "\n",
              "    [theme=dark] .colab-df-convert {\n",
              "      background-color: #3B4455;\n",
              "      fill: #D2E3FC;\n",
              "    }\n",
              "\n",
              "    [theme=dark] .colab-df-convert:hover {\n",
              "      background-color: #434B5C;\n",
              "      box-shadow: 0px 1px 3px 1px rgba(0, 0, 0, 0.15);\n",
              "      filter: drop-shadow(0px 1px 2px rgba(0, 0, 0, 0.3));\n",
              "      fill: #FFFFFF;\n",
              "    }\n",
              "  </style>\n",
              "\n",
              "    <script>\n",
              "      const buttonEl =\n",
              "        document.querySelector('#df-6afbeb38-dc44-4313-bea7-545d88fdeb1b button.colab-df-convert');\n",
              "      buttonEl.style.display =\n",
              "        google.colab.kernel.accessAllowed ? 'block' : 'none';\n",
              "\n",
              "      async function convertToInteractive(key) {\n",
              "        const element = document.querySelector('#df-6afbeb38-dc44-4313-bea7-545d88fdeb1b');\n",
              "        const dataTable =\n",
              "          await google.colab.kernel.invokeFunction('convertToInteractive',\n",
              "                                                    [key], {});\n",
              "        if (!dataTable) return;\n",
              "\n",
              "        const docLinkHtml = 'Like what you see? Visit the ' +\n",
              "          '<a target=\"_blank\" href=https://colab.research.google.com/notebooks/data_table.ipynb>data table notebook</a>'\n",
              "          + ' to learn more about interactive tables.';\n",
              "        element.innerHTML = '';\n",
              "        dataTable['output_type'] = 'display_data';\n",
              "        await google.colab.output.renderOutput(dataTable, element);\n",
              "        const docLink = document.createElement('div');\n",
              "        docLink.innerHTML = docLinkHtml;\n",
              "        element.appendChild(docLink);\n",
              "      }\n",
              "    </script>\n",
              "  </div>\n",
              "\n",
              "\n",
              "<div id=\"df-eff0abd2-f4b1-4be1-8576-66d53d764f5f\">\n",
              "  <button class=\"colab-df-quickchart\" onclick=\"quickchart('df-eff0abd2-f4b1-4be1-8576-66d53d764f5f')\"\n",
              "            title=\"Suggest charts\"\n",
              "            style=\"display:none;\">\n",
              "\n",
              "<svg xmlns=\"http://www.w3.org/2000/svg\" height=\"24px\"viewBox=\"0 0 24 24\"\n",
              "     width=\"24px\">\n",
              "    <g>\n",
              "        <path d=\"M19 3H5c-1.1 0-2 .9-2 2v14c0 1.1.9 2 2 2h14c1.1 0 2-.9 2-2V5c0-1.1-.9-2-2-2zM9 17H7v-7h2v7zm4 0h-2V7h2v10zm4 0h-2v-4h2v4z\"/>\n",
              "    </g>\n",
              "</svg>\n",
              "  </button>\n",
              "\n",
              "<style>\n",
              "  .colab-df-quickchart {\n",
              "      --bg-color: #E8F0FE;\n",
              "      --fill-color: #1967D2;\n",
              "      --hover-bg-color: #E2EBFA;\n",
              "      --hover-fill-color: #174EA6;\n",
              "      --disabled-fill-color: #AAA;\n",
              "      --disabled-bg-color: #DDD;\n",
              "  }\n",
              "\n",
              "  [theme=dark] .colab-df-quickchart {\n",
              "      --bg-color: #3B4455;\n",
              "      --fill-color: #D2E3FC;\n",
              "      --hover-bg-color: #434B5C;\n",
              "      --hover-fill-color: #FFFFFF;\n",
              "      --disabled-bg-color: #3B4455;\n",
              "      --disabled-fill-color: #666;\n",
              "  }\n",
              "\n",
              "  .colab-df-quickchart {\n",
              "    background-color: var(--bg-color);\n",
              "    border: none;\n",
              "    border-radius: 50%;\n",
              "    cursor: pointer;\n",
              "    display: none;\n",
              "    fill: var(--fill-color);\n",
              "    height: 32px;\n",
              "    padding: 0;\n",
              "    width: 32px;\n",
              "  }\n",
              "\n",
              "  .colab-df-quickchart:hover {\n",
              "    background-color: var(--hover-bg-color);\n",
              "    box-shadow: 0 1px 2px rgba(60, 64, 67, 0.3), 0 1px 3px 1px rgba(60, 64, 67, 0.15);\n",
              "    fill: var(--button-hover-fill-color);\n",
              "  }\n",
              "\n",
              "  .colab-df-quickchart-complete:disabled,\n",
              "  .colab-df-quickchart-complete:disabled:hover {\n",
              "    background-color: var(--disabled-bg-color);\n",
              "    fill: var(--disabled-fill-color);\n",
              "    box-shadow: none;\n",
              "  }\n",
              "\n",
              "  .colab-df-spinner {\n",
              "    border: 2px solid var(--fill-color);\n",
              "    border-color: transparent;\n",
              "    border-bottom-color: var(--fill-color);\n",
              "    animation:\n",
              "      spin 1s steps(1) infinite;\n",
              "  }\n",
              "\n",
              "  @keyframes spin {\n",
              "    0% {\n",
              "      border-color: transparent;\n",
              "      border-bottom-color: var(--fill-color);\n",
              "      border-left-color: var(--fill-color);\n",
              "    }\n",
              "    20% {\n",
              "      border-color: transparent;\n",
              "      border-left-color: var(--fill-color);\n",
              "      border-top-color: var(--fill-color);\n",
              "    }\n",
              "    30% {\n",
              "      border-color: transparent;\n",
              "      border-left-color: var(--fill-color);\n",
              "      border-top-color: var(--fill-color);\n",
              "      border-right-color: var(--fill-color);\n",
              "    }\n",
              "    40% {\n",
              "      border-color: transparent;\n",
              "      border-right-color: var(--fill-color);\n",
              "      border-top-color: var(--fill-color);\n",
              "    }\n",
              "    60% {\n",
              "      border-color: transparent;\n",
              "      border-right-color: var(--fill-color);\n",
              "    }\n",
              "    80% {\n",
              "      border-color: transparent;\n",
              "      border-right-color: var(--fill-color);\n",
              "      border-bottom-color: var(--fill-color);\n",
              "    }\n",
              "    90% {\n",
              "      border-color: transparent;\n",
              "      border-bottom-color: var(--fill-color);\n",
              "    }\n",
              "  }\n",
              "</style>\n",
              "\n",
              "  <script>\n",
              "    async function quickchart(key) {\n",
              "      const quickchartButtonEl =\n",
              "        document.querySelector('#' + key + ' button');\n",
              "      quickchartButtonEl.disabled = true;  // To prevent multiple clicks.\n",
              "      quickchartButtonEl.classList.add('colab-df-spinner');\n",
              "      try {\n",
              "        const charts = await google.colab.kernel.invokeFunction(\n",
              "            'suggestCharts', [key], {});\n",
              "      } catch (error) {\n",
              "        console.error('Error during call to suggestCharts:', error);\n",
              "      }\n",
              "      quickchartButtonEl.classList.remove('colab-df-spinner');\n",
              "      quickchartButtonEl.classList.add('colab-df-quickchart-complete');\n",
              "    }\n",
              "    (() => {\n",
              "      let quickchartButtonEl =\n",
              "        document.querySelector('#df-eff0abd2-f4b1-4be1-8576-66d53d764f5f button');\n",
              "      quickchartButtonEl.style.display =\n",
              "        google.colab.kernel.accessAllowed ? 'block' : 'none';\n",
              "    })();\n",
              "  </script>\n",
              "</div>\n",
              "\n",
              "  <div id=\"id_45c25866-e9ff-47c9-891b-52e62e770593\">\n",
              "    <style>\n",
              "      .colab-df-generate {\n",
              "        background-color: #E8F0FE;\n",
              "        border: none;\n",
              "        border-radius: 50%;\n",
              "        cursor: pointer;\n",
              "        display: none;\n",
              "        fill: #1967D2;\n",
              "        height: 32px;\n",
              "        padding: 0 0 0 0;\n",
              "        width: 32px;\n",
              "      }\n",
              "\n",
              "      .colab-df-generate:hover {\n",
              "        background-color: #E2EBFA;\n",
              "        box-shadow: 0px 1px 2px rgba(60, 64, 67, 0.3), 0px 1px 3px 1px rgba(60, 64, 67, 0.15);\n",
              "        fill: #174EA6;\n",
              "      }\n",
              "\n",
              "      [theme=dark] .colab-df-generate {\n",
              "        background-color: #3B4455;\n",
              "        fill: #D2E3FC;\n",
              "      }\n",
              "\n",
              "      [theme=dark] .colab-df-generate:hover {\n",
              "        background-color: #434B5C;\n",
              "        box-shadow: 0px 1px 3px 1px rgba(0, 0, 0, 0.15);\n",
              "        filter: drop-shadow(0px 1px 2px rgba(0, 0, 0, 0.3));\n",
              "        fill: #FFFFFF;\n",
              "      }\n",
              "    </style>\n",
              "    <button class=\"colab-df-generate\" onclick=\"generateWithVariable('compare_results')\"\n",
              "            title=\"Generate code using this dataframe.\"\n",
              "            style=\"display:none;\">\n",
              "\n",
              "  <svg xmlns=\"http://www.w3.org/2000/svg\" height=\"24px\"viewBox=\"0 0 24 24\"\n",
              "       width=\"24px\">\n",
              "    <path d=\"M7,19H8.4L18.45,9,17,7.55,7,17.6ZM5,21V16.75L18.45,3.32a2,2,0,0,1,2.83,0l1.4,1.43a1.91,1.91,0,0,1,.58,1.4,1.91,1.91,0,0,1-.58,1.4L9.25,21ZM18.45,9,17,7.55Zm-12,3A5.31,5.31,0,0,0,4.9,8.1,5.31,5.31,0,0,0,1,6.5,5.31,5.31,0,0,0,4.9,4.9,5.31,5.31,0,0,0,6.5,1,5.31,5.31,0,0,0,8.1,4.9,5.31,5.31,0,0,0,12,6.5,5.46,5.46,0,0,0,6.5,12Z\"/>\n",
              "  </svg>\n",
              "    </button>\n",
              "    <script>\n",
              "      (() => {\n",
              "      const buttonEl =\n",
              "        document.querySelector('#id_45c25866-e9ff-47c9-891b-52e62e770593 button.colab-df-generate');\n",
              "      buttonEl.style.display =\n",
              "        google.colab.kernel.accessAllowed ? 'block' : 'none';\n",
              "\n",
              "      buttonEl.onclick = () => {\n",
              "        google.colab.notebook.generateWithVariable('compare_results');\n",
              "      }\n",
              "      })();\n",
              "    </script>\n",
              "  </div>\n",
              "\n",
              "    </div>\n",
              "  </div>\n"
            ],
            "application/vnd.google.colaboratory.intrinsic+json": {
              "type": "dataframe",
              "variable_name": "compare_results",
              "summary": "{\n  \"name\": \"compare_results\",\n  \"rows\": 3,\n  \"fields\": [\n    {\n      \"column\": \"model_name\",\n      \"properties\": {\n        \"dtype\": \"string\",\n        \"num_unique_values\": 3,\n        \"samples\": [\n          \"FashionMNISTModelV0\",\n          \"FashionMNISTModelV1\",\n          \"FashionMNISTModelV2\"\n        ],\n        \"semantic_type\": \"\",\n        \"description\": \"\"\n      }\n    },\n    {\n      \"column\": \"model_loss\",\n      \"properties\": {\n        \"dtype\": \"number\",\n        \"std\": 0.17971213834245262,\n        \"min\": 0.32718968391418457,\n        \"max\": 0.6850009560585022,\n        \"num_unique_values\": 3,\n        \"samples\": [\n          0.47663894295692444,\n          0.6850009560585022,\n          0.32718968391418457\n        ],\n        \"semantic_type\": \"\",\n        \"description\": \"\"\n      }\n    },\n    {\n      \"column\": \"model_acc\",\n      \"properties\": {\n        \"dtype\": \"number\",\n        \"std\": 6.614417560833454,\n        \"min\": 75.01996805111821,\n        \"max\": 88.06908945686901,\n        \"num_unique_values\": 3,\n        \"samples\": [\n          83.42651757188499,\n          75.01996805111821,\n          88.06908945686901\n        ],\n        \"semantic_type\": \"\",\n        \"description\": \"\"\n      }\n    }\n  ]\n}"
            }
          },
          "metadata": {},
          "execution_count": 44
        }
      ]
    },
    {
      "cell_type": "markdown",
      "source": [
        "Harika!\n",
        "\n",
        "Eğitim süresi değerlerini de ekleyebiliriz.\n"
      ],
      "metadata": {
        "id": "aL6oNrc5jQhM"
      }
    },
    {
      "cell_type": "code",
      "source": [
        "\n",
        "# Eğitim sürelerini sonuç karşılaştırmasına ekle\n",
        "compare_results[\"training_time\"] = [total_train_time_model_0,\n",
        "                                    total_train_time_model_1,\n",
        "                                    total_train_time_model_2]\n",
        "compare_results\n"
      ],
      "metadata": {
        "id": "ANMuZEZVjTXX",
        "colab": {
          "base_uri": "https://localhost:8080/",
          "height": 143
        },
        "outputId": "43420126-9dec-4155-a7ff-451858db0c66"
      },
      "execution_count": null,
      "outputs": [
        {
          "output_type": "execute_result",
          "data": {
            "text/plain": [
              "            model_name  model_loss  model_acc  training_time\n",
              "0  FashionMNISTModelV0    0.476639  83.426518      39.696979\n",
              "1  FashionMNISTModelV1    0.685001  75.019968      28.516394\n",
              "2  FashionMNISTModelV2    0.327190  88.069089     154.048392"
            ],
            "text/html": [
              "\n",
              "  <div id=\"df-bd7b61df-8df3-4692-883a-6d4eab9c3031\" class=\"colab-df-container\">\n",
              "    <div>\n",
              "<style scoped>\n",
              "    .dataframe tbody tr th:only-of-type {\n",
              "        vertical-align: middle;\n",
              "    }\n",
              "\n",
              "    .dataframe tbody tr th {\n",
              "        vertical-align: top;\n",
              "    }\n",
              "\n",
              "    .dataframe thead th {\n",
              "        text-align: right;\n",
              "    }\n",
              "</style>\n",
              "<table border=\"1\" class=\"dataframe\">\n",
              "  <thead>\n",
              "    <tr style=\"text-align: right;\">\n",
              "      <th></th>\n",
              "      <th>model_name</th>\n",
              "      <th>model_loss</th>\n",
              "      <th>model_acc</th>\n",
              "      <th>training_time</th>\n",
              "    </tr>\n",
              "  </thead>\n",
              "  <tbody>\n",
              "    <tr>\n",
              "      <th>0</th>\n",
              "      <td>FashionMNISTModelV0</td>\n",
              "      <td>0.476639</td>\n",
              "      <td>83.426518</td>\n",
              "      <td>39.696979</td>\n",
              "    </tr>\n",
              "    <tr>\n",
              "      <th>1</th>\n",
              "      <td>FashionMNISTModelV1</td>\n",
              "      <td>0.685001</td>\n",
              "      <td>75.019968</td>\n",
              "      <td>28.516394</td>\n",
              "    </tr>\n",
              "    <tr>\n",
              "      <th>2</th>\n",
              "      <td>FashionMNISTModelV2</td>\n",
              "      <td>0.327190</td>\n",
              "      <td>88.069089</td>\n",
              "      <td>154.048392</td>\n",
              "    </tr>\n",
              "  </tbody>\n",
              "</table>\n",
              "</div>\n",
              "    <div class=\"colab-df-buttons\">\n",
              "\n",
              "  <div class=\"colab-df-container\">\n",
              "    <button class=\"colab-df-convert\" onclick=\"convertToInteractive('df-bd7b61df-8df3-4692-883a-6d4eab9c3031')\"\n",
              "            title=\"Convert this dataframe to an interactive table.\"\n",
              "            style=\"display:none;\">\n",
              "\n",
              "  <svg xmlns=\"http://www.w3.org/2000/svg\" height=\"24px\" viewBox=\"0 -960 960 960\">\n",
              "    <path d=\"M120-120v-720h720v720H120Zm60-500h600v-160H180v160Zm220 220h160v-160H400v160Zm0 220h160v-160H400v160ZM180-400h160v-160H180v160Zm440 0h160v-160H620v160ZM180-180h160v-160H180v160Zm440 0h160v-160H620v160Z\"/>\n",
              "  </svg>\n",
              "    </button>\n",
              "\n",
              "  <style>\n",
              "    .colab-df-container {\n",
              "      display:flex;\n",
              "      gap: 12px;\n",
              "    }\n",
              "\n",
              "    .colab-df-convert {\n",
              "      background-color: #E8F0FE;\n",
              "      border: none;\n",
              "      border-radius: 50%;\n",
              "      cursor: pointer;\n",
              "      display: none;\n",
              "      fill: #1967D2;\n",
              "      height: 32px;\n",
              "      padding: 0 0 0 0;\n",
              "      width: 32px;\n",
              "    }\n",
              "\n",
              "    .colab-df-convert:hover {\n",
              "      background-color: #E2EBFA;\n",
              "      box-shadow: 0px 1px 2px rgba(60, 64, 67, 0.3), 0px 1px 3px 1px rgba(60, 64, 67, 0.15);\n",
              "      fill: #174EA6;\n",
              "    }\n",
              "\n",
              "    .colab-df-buttons div {\n",
              "      margin-bottom: 4px;\n",
              "    }\n",
              "\n",
              "    [theme=dark] .colab-df-convert {\n",
              "      background-color: #3B4455;\n",
              "      fill: #D2E3FC;\n",
              "    }\n",
              "\n",
              "    [theme=dark] .colab-df-convert:hover {\n",
              "      background-color: #434B5C;\n",
              "      box-shadow: 0px 1px 3px 1px rgba(0, 0, 0, 0.15);\n",
              "      filter: drop-shadow(0px 1px 2px rgba(0, 0, 0, 0.3));\n",
              "      fill: #FFFFFF;\n",
              "    }\n",
              "  </style>\n",
              "\n",
              "    <script>\n",
              "      const buttonEl =\n",
              "        document.querySelector('#df-bd7b61df-8df3-4692-883a-6d4eab9c3031 button.colab-df-convert');\n",
              "      buttonEl.style.display =\n",
              "        google.colab.kernel.accessAllowed ? 'block' : 'none';\n",
              "\n",
              "      async function convertToInteractive(key) {\n",
              "        const element = document.querySelector('#df-bd7b61df-8df3-4692-883a-6d4eab9c3031');\n",
              "        const dataTable =\n",
              "          await google.colab.kernel.invokeFunction('convertToInteractive',\n",
              "                                                    [key], {});\n",
              "        if (!dataTable) return;\n",
              "\n",
              "        const docLinkHtml = 'Like what you see? Visit the ' +\n",
              "          '<a target=\"_blank\" href=https://colab.research.google.com/notebooks/data_table.ipynb>data table notebook</a>'\n",
              "          + ' to learn more about interactive tables.';\n",
              "        element.innerHTML = '';\n",
              "        dataTable['output_type'] = 'display_data';\n",
              "        await google.colab.output.renderOutput(dataTable, element);\n",
              "        const docLink = document.createElement('div');\n",
              "        docLink.innerHTML = docLinkHtml;\n",
              "        element.appendChild(docLink);\n",
              "      }\n",
              "    </script>\n",
              "  </div>\n",
              "\n",
              "\n",
              "<div id=\"df-5c6801bb-2256-46db-ae21-e94a1145e366\">\n",
              "  <button class=\"colab-df-quickchart\" onclick=\"quickchart('df-5c6801bb-2256-46db-ae21-e94a1145e366')\"\n",
              "            title=\"Suggest charts\"\n",
              "            style=\"display:none;\">\n",
              "\n",
              "<svg xmlns=\"http://www.w3.org/2000/svg\" height=\"24px\"viewBox=\"0 0 24 24\"\n",
              "     width=\"24px\">\n",
              "    <g>\n",
              "        <path d=\"M19 3H5c-1.1 0-2 .9-2 2v14c0 1.1.9 2 2 2h14c1.1 0 2-.9 2-2V5c0-1.1-.9-2-2-2zM9 17H7v-7h2v7zm4 0h-2V7h2v10zm4 0h-2v-4h2v4z\"/>\n",
              "    </g>\n",
              "</svg>\n",
              "  </button>\n",
              "\n",
              "<style>\n",
              "  .colab-df-quickchart {\n",
              "      --bg-color: #E8F0FE;\n",
              "      --fill-color: #1967D2;\n",
              "      --hover-bg-color: #E2EBFA;\n",
              "      --hover-fill-color: #174EA6;\n",
              "      --disabled-fill-color: #AAA;\n",
              "      --disabled-bg-color: #DDD;\n",
              "  }\n",
              "\n",
              "  [theme=dark] .colab-df-quickchart {\n",
              "      --bg-color: #3B4455;\n",
              "      --fill-color: #D2E3FC;\n",
              "      --hover-bg-color: #434B5C;\n",
              "      --hover-fill-color: #FFFFFF;\n",
              "      --disabled-bg-color: #3B4455;\n",
              "      --disabled-fill-color: #666;\n",
              "  }\n",
              "\n",
              "  .colab-df-quickchart {\n",
              "    background-color: var(--bg-color);\n",
              "    border: none;\n",
              "    border-radius: 50%;\n",
              "    cursor: pointer;\n",
              "    display: none;\n",
              "    fill: var(--fill-color);\n",
              "    height: 32px;\n",
              "    padding: 0;\n",
              "    width: 32px;\n",
              "  }\n",
              "\n",
              "  .colab-df-quickchart:hover {\n",
              "    background-color: var(--hover-bg-color);\n",
              "    box-shadow: 0 1px 2px rgba(60, 64, 67, 0.3), 0 1px 3px 1px rgba(60, 64, 67, 0.15);\n",
              "    fill: var(--button-hover-fill-color);\n",
              "  }\n",
              "\n",
              "  .colab-df-quickchart-complete:disabled,\n",
              "  .colab-df-quickchart-complete:disabled:hover {\n",
              "    background-color: var(--disabled-bg-color);\n",
              "    fill: var(--disabled-fill-color);\n",
              "    box-shadow: none;\n",
              "  }\n",
              "\n",
              "  .colab-df-spinner {\n",
              "    border: 2px solid var(--fill-color);\n",
              "    border-color: transparent;\n",
              "    border-bottom-color: var(--fill-color);\n",
              "    animation:\n",
              "      spin 1s steps(1) infinite;\n",
              "  }\n",
              "\n",
              "  @keyframes spin {\n",
              "    0% {\n",
              "      border-color: transparent;\n",
              "      border-bottom-color: var(--fill-color);\n",
              "      border-left-color: var(--fill-color);\n",
              "    }\n",
              "    20% {\n",
              "      border-color: transparent;\n",
              "      border-left-color: var(--fill-color);\n",
              "      border-top-color: var(--fill-color);\n",
              "    }\n",
              "    30% {\n",
              "      border-color: transparent;\n",
              "      border-left-color: var(--fill-color);\n",
              "      border-top-color: var(--fill-color);\n",
              "      border-right-color: var(--fill-color);\n",
              "    }\n",
              "    40% {\n",
              "      border-color: transparent;\n",
              "      border-right-color: var(--fill-color);\n",
              "      border-top-color: var(--fill-color);\n",
              "    }\n",
              "    60% {\n",
              "      border-color: transparent;\n",
              "      border-right-color: var(--fill-color);\n",
              "    }\n",
              "    80% {\n",
              "      border-color: transparent;\n",
              "      border-right-color: var(--fill-color);\n",
              "      border-bottom-color: var(--fill-color);\n",
              "    }\n",
              "    90% {\n",
              "      border-color: transparent;\n",
              "      border-bottom-color: var(--fill-color);\n",
              "    }\n",
              "  }\n",
              "</style>\n",
              "\n",
              "  <script>\n",
              "    async function quickchart(key) {\n",
              "      const quickchartButtonEl =\n",
              "        document.querySelector('#' + key + ' button');\n",
              "      quickchartButtonEl.disabled = true;  // To prevent multiple clicks.\n",
              "      quickchartButtonEl.classList.add('colab-df-spinner');\n",
              "      try {\n",
              "        const charts = await google.colab.kernel.invokeFunction(\n",
              "            'suggestCharts', [key], {});\n",
              "      } catch (error) {\n",
              "        console.error('Error during call to suggestCharts:', error);\n",
              "      }\n",
              "      quickchartButtonEl.classList.remove('colab-df-spinner');\n",
              "      quickchartButtonEl.classList.add('colab-df-quickchart-complete');\n",
              "    }\n",
              "    (() => {\n",
              "      let quickchartButtonEl =\n",
              "        document.querySelector('#df-5c6801bb-2256-46db-ae21-e94a1145e366 button');\n",
              "      quickchartButtonEl.style.display =\n",
              "        google.colab.kernel.accessAllowed ? 'block' : 'none';\n",
              "    })();\n",
              "  </script>\n",
              "</div>\n",
              "\n",
              "  <div id=\"id_3525ada8-0a17-4db0-a52a-b0ab53e17040\">\n",
              "    <style>\n",
              "      .colab-df-generate {\n",
              "        background-color: #E8F0FE;\n",
              "        border: none;\n",
              "        border-radius: 50%;\n",
              "        cursor: pointer;\n",
              "        display: none;\n",
              "        fill: #1967D2;\n",
              "        height: 32px;\n",
              "        padding: 0 0 0 0;\n",
              "        width: 32px;\n",
              "      }\n",
              "\n",
              "      .colab-df-generate:hover {\n",
              "        background-color: #E2EBFA;\n",
              "        box-shadow: 0px 1px 2px rgba(60, 64, 67, 0.3), 0px 1px 3px 1px rgba(60, 64, 67, 0.15);\n",
              "        fill: #174EA6;\n",
              "      }\n",
              "\n",
              "      [theme=dark] .colab-df-generate {\n",
              "        background-color: #3B4455;\n",
              "        fill: #D2E3FC;\n",
              "      }\n",
              "\n",
              "      [theme=dark] .colab-df-generate:hover {\n",
              "        background-color: #434B5C;\n",
              "        box-shadow: 0px 1px 3px 1px rgba(0, 0, 0, 0.15);\n",
              "        filter: drop-shadow(0px 1px 2px rgba(0, 0, 0, 0.3));\n",
              "        fill: #FFFFFF;\n",
              "      }\n",
              "    </style>\n",
              "    <button class=\"colab-df-generate\" onclick=\"generateWithVariable('compare_results')\"\n",
              "            title=\"Generate code using this dataframe.\"\n",
              "            style=\"display:none;\">\n",
              "\n",
              "  <svg xmlns=\"http://www.w3.org/2000/svg\" height=\"24px\"viewBox=\"0 0 24 24\"\n",
              "       width=\"24px\">\n",
              "    <path d=\"M7,19H8.4L18.45,9,17,7.55,7,17.6ZM5,21V16.75L18.45,3.32a2,2,0,0,1,2.83,0l1.4,1.43a1.91,1.91,0,0,1,.58,1.4,1.91,1.91,0,0,1-.58,1.4L9.25,21ZM18.45,9,17,7.55Zm-12,3A5.31,5.31,0,0,0,4.9,8.1,5.31,5.31,0,0,0,1,6.5,5.31,5.31,0,0,0,4.9,4.9,5.31,5.31,0,0,0,6.5,1,5.31,5.31,0,0,0,8.1,4.9,5.31,5.31,0,0,0,12,6.5,5.46,5.46,0,0,0,6.5,12Z\"/>\n",
              "  </svg>\n",
              "    </button>\n",
              "    <script>\n",
              "      (() => {\n",
              "      const buttonEl =\n",
              "        document.querySelector('#id_3525ada8-0a17-4db0-a52a-b0ab53e17040 button.colab-df-generate');\n",
              "      buttonEl.style.display =\n",
              "        google.colab.kernel.accessAllowed ? 'block' : 'none';\n",
              "\n",
              "      buttonEl.onclick = () => {\n",
              "        google.colab.notebook.generateWithVariable('compare_results');\n",
              "      }\n",
              "      })();\n",
              "    </script>\n",
              "  </div>\n",
              "\n",
              "    </div>\n",
              "  </div>\n"
            ],
            "application/vnd.google.colaboratory.intrinsic+json": {
              "type": "dataframe",
              "variable_name": "compare_results",
              "summary": "{\n  \"name\": \"compare_results\",\n  \"rows\": 3,\n  \"fields\": [\n    {\n      \"column\": \"model_name\",\n      \"properties\": {\n        \"dtype\": \"string\",\n        \"num_unique_values\": 3,\n        \"samples\": [\n          \"FashionMNISTModelV0\",\n          \"FashionMNISTModelV1\",\n          \"FashionMNISTModelV2\"\n        ],\n        \"semantic_type\": \"\",\n        \"description\": \"\"\n      }\n    },\n    {\n      \"column\": \"model_loss\",\n      \"properties\": {\n        \"dtype\": \"number\",\n        \"std\": 0.17971213834245262,\n        \"min\": 0.32718968391418457,\n        \"max\": 0.6850009560585022,\n        \"num_unique_values\": 3,\n        \"samples\": [\n          0.47663894295692444,\n          0.6850009560585022,\n          0.32718968391418457\n        ],\n        \"semantic_type\": \"\",\n        \"description\": \"\"\n      }\n    },\n    {\n      \"column\": \"model_acc\",\n      \"properties\": {\n        \"dtype\": \"number\",\n        \"std\": 6.614417560833454,\n        \"min\": 75.01996805111821,\n        \"max\": 88.06908945686901,\n        \"num_unique_values\": 3,\n        \"samples\": [\n          83.42651757188499,\n          75.01996805111821,\n          88.06908945686901\n        ],\n        \"semantic_type\": \"\",\n        \"description\": \"\"\n      }\n    },\n    {\n      \"column\": \"training_time\",\n      \"properties\": {\n        \"dtype\": \"number\",\n        \"std\": 69.47365644991062,\n        \"min\": 28.516393956,\n        \"max\": 154.04839195699992,\n        \"num_unique_values\": 3,\n        \"samples\": [\n          39.69697903000002,\n          28.516393956,\n          154.04839195699992\n        ],\n        \"semantic_type\": \"\",\n        \"description\": \"\"\n      }\n    }\n  ]\n}"
            }
          },
          "metadata": {},
          "execution_count": 45
        }
      ]
    },
    {
      "cell_type": "markdown",
      "source": [
        "Görünüşe göre CNN (`FashionMNISTModelV2`) modelimiz en iyi performansı gösterdi (en düşük kayıp, en yüksek doğruluk) ancak en uzun eğitim süresine sahipti.\n",
        "\n",
        "Ve temel modelimiz (`FashionMNISTModelV0`), `model_1` (`FashionMNISTModelV1`)'den daha iyi performans gösterdi ama eğitmesi daha uzun sürdü (bu, `model_0`'ı CPU'da eğitirken, `model_1`'i GPU'da eğittiğimiz için muhtemelen böyle oldu).\n",
        "\n",
        "Buradaki denge **performans-hız** denklemi olarak bilinir.\n",
        "\n",
        "Genel olarak, daha büyük, daha karmaşık bir modelden (örneğin, `model_2` gibi) daha iyi performans alırsınız.\n",
        "\n",
        "Ancak, bu performans artışı genellikle eğitim ve çıkarım hızlarından fedakarlık yaparak gelir.\n",
        "\n",
        "> **Not:** Eğitim süreleri, kullandığınız donanıma çok bağlıdır.\n",
        ">\n",
        "> Genelde, daha fazla CPU çekirdeğiniz olduğunda, modelleriniz CPU üzerinde daha hızlı eğitilecektir. Aynı şey GPU'lar için de geçerlidir.\n",
        ">\n",
        "> Yeni donanımlar (yaş açısından) genellikle teknoloji ilerlemeleriyle modelleri daha hızlı eğitir.\n",
        "\n",
        "Hadi, görsel olarak görelim!\n"
      ],
      "metadata": {
        "id": "t_wg3rmsjWoX"
      }
    },
    {
      "cell_type": "code",
      "source": [
        "# Model sonuçlarını görselleştir\n",
        "compare_results.set_index(\"model_name\")[\"model_acc\"].plot(kind=\"barh\")\n",
        "plt.xlabel(\"doğruluk (%)\")\n",
        "plt.ylabel(\"model\")\n"
      ],
      "metadata": {
        "id": "giK1lWYSjYeU",
        "colab": {
          "base_uri": "https://localhost:8080/",
          "height": 466
        },
        "outputId": "d722fa2c-167c-49d7-d60f-7289e708eb92"
      },
      "execution_count": null,
      "outputs": [
        {
          "output_type": "execute_result",
          "data": {
            "text/plain": [
              "Text(0, 0.5, 'model')"
            ]
          },
          "metadata": {},
          "execution_count": 46
        },
        {
          "output_type": "display_data",
          "data": {
            "text/plain": [
              "<Figure size 640x480 with 1 Axes>"
            ],
            "image/png": "[encoded data removed]"
          },
          "metadata": {}
        }
      ]
    },
    {
      "cell_type": "markdown",
      "source": [
        "## 9. En İyi Modelle Rastgele Tahminler Yapma ve Değerlendirme\n",
        "\n",
        "Tamam, modellerimizi birbirleriyle karşılaştırdık, şimdi en iyi performans gösteren modelimiz `model_2`'yi daha ayrıntılı değerlendirelim.\n",
        "\n",
        "Bunu yapmak için, modelimizi ve tahmin yapılacak veriyi geçirebileceğimiz bir `make_predictions()` fonksiyonu oluşturalım.\n"
      ],
      "metadata": {
        "id": "1AhsMRqxjalN"
      }
    },
    {
      "cell_type": "code",
      "source": [
        "def make_predictions(model: torch.nn.Module, data: list, device: torch.device = device):\n",
        "    pred_probs = []\n",
        "    model.eval()\n",
        "    with torch.inference_mode():\n",
        "        for sample in data:\n",
        "            # Örneği hazırla\n",
        "            sample = torch.unsqueeze(sample, dim=0).to(device) # Ekstra bir boyut ekle ve örneği cihaza gönder\n",
        "\n",
        "            # İleri geçiş (model ham logit çıktılarını verir)\n",
        "            pred_logit = model(sample)\n",
        "\n",
        "            # Tahmin olasılığını al (logit -> tahmin olasılığı)\n",
        "            pred_prob = torch.softmax(pred_logit.squeeze(), dim=0)\n",
        "\n",
        "            # Daha fazla hesaplama için pred_prob'u GPU'dan al\n",
        "            pred_probs.append(pred_prob.cpu())\n",
        "\n",
        "    # pred_probs'u birleştirerek listeyi tensöre dönüştür\n",
        "    return torch.stack(pred_probs)\n"
      ],
      "metadata": {
        "id": "u83esZ4DjblH"
      },
      "execution_count": null,
      "outputs": []
    },
    {
      "cell_type": "code",
      "source": [
        "import random\n",
        "random.seed(42)\n",
        "test_samples = []\n",
        "test_labels = []\n",
        "for sample, label in random.sample(list(test_data), k=9):\n",
        "    test_samples.append(sample)\n",
        "    test_labels.append(label)\n",
        "\n",
        "# İlk test örneğinin şekli ve etiketi\n",
        "print(f\"Test örneği görüntü şekli: {test_samples[0].shape}\\nTest örneği etiketi: {test_labels[0]} ({class_names[test_labels[0]]})\")\n"
      ],
      "metadata": {
        "id": "2VliqEXAjevL",
        "colab": {
          "base_uri": "https://localhost:8080/"
        },
        "outputId": "d79f34b3-f3cf-48dd-e230-9cdd26156e94"
      },
      "execution_count": null,
      "outputs": [
        {
          "output_type": "stream",
          "name": "stdout",
          "text": [
            "Test örneği görüntü şekli: torch.Size([1, 28, 28])\n",
            "Test örneği etiketi: 5 (Sandal)\n"
          ]
        }
      ]
    },
    {
      "cell_type": "markdown",
      "source": [
        "Ve şimdi `make_predictions()` fonksiyonumuzu kullanarak `test_samples` üzerinde tahmin yapabiliriz.\n"
      ],
      "metadata": {
        "id": "1XUSc5p5jhM1"
      }
    },
    {
      "cell_type": "code",
      "source": [
        "# model_2 ile test örnekleri üzerinde tahmin yap\n",
        "pred_probs = make_predictions(model=model_2,\n",
        "                               data=test_samples)\n",
        "\n",
        "# İlk iki tahmin olasılığı listesini görüntüle\n",
        "pred_probs[:2]\n"
      ],
      "metadata": {
        "id": "8oRUSv8Mjj4T",
        "colab": {
          "base_uri": "https://localhost:8080/"
        },
        "outputId": "2858c340-864d-4303-e312-bb67b52ada83"
      },
      "execution_count": null,
      "outputs": [
        {
          "output_type": "execute_result",
          "data": {
            "text/plain": [
              "tensor([[1.4021e-06, 1.7343e-07, 4.4511e-07, 1.2103e-05, 5.4026e-07, 9.9938e-01,\n",
              "         3.7154e-06, 2.1650e-04, 1.4199e-04, 2.4416e-04],\n",
              "        [1.0080e-01, 5.6287e-01, 7.4506e-04, 1.1212e-01, 6.3881e-02, 3.0674e-04,\n",
              "         1.5560e-01, 1.6463e-03, 1.0169e-03, 1.0133e-03]])"
            ]
          },
          "metadata": {},
          "execution_count": 49
        }
      ]
    },
    {
      "cell_type": "markdown",
      "source": [
        "Mükemmel!\n",
        "\n",
        "Şimdi, tahmin olasılıklarından tahmin etiketlerine geçebiliriz, bunu `torch.softmax()` aktivasyon fonksiyonunun çıktısının `torch.argmax()`'ını alarak yapacağız.\n"
      ],
      "metadata": {
        "id": "jaZWplkNjmKJ"
      }
    },
    {
      "cell_type": "code",
      "source": [
        "# Tahmin olasılıklarını, argmax() alarak tahmin etiketlerine dönüştür\n",
        "pred_classes = pred_probs.argmax(dim=1)\n",
        "pred_classes\n"
      ],
      "metadata": {
        "id": "vTfpSm1Ejnu5",
        "colab": {
          "base_uri": "https://localhost:8080/"
        },
        "outputId": "97b686f8-f9ae-41d0-ec65-4fdd0a852388"
      },
      "execution_count": null,
      "outputs": [
        {
          "output_type": "execute_result",
          "data": {
            "text/plain": [
              "tensor([5, 1, 7, 4, 3, 0, 4, 7, 1])"
            ]
          },
          "metadata": {},
          "execution_count": 50
        }
      ]
    },
    {
      "cell_type": "code",
      "source": [
        "# Tahminlerimiz test etiketlerimizle aynı formda mı?\n",
        "test_labels, pred_classes\n"
      ],
      "metadata": {
        "id": "RHK78r9Yjqk6",
        "colab": {
          "base_uri": "https://localhost:8080/"
        },
        "outputId": "79d16a6d-e991-4ea3-eb58-5c72ef4a843a"
      },
      "execution_count": null,
      "outputs": [
        {
          "output_type": "execute_result",
          "data": {
            "text/plain": [
              "([5, 1, 7, 4, 3, 0, 4, 7, 1], tensor([5, 1, 7, 4, 3, 0, 4, 7, 1]))"
            ]
          },
          "metadata": {},
          "execution_count": 51
        }
      ]
    },
    {
      "cell_type": "markdown",
      "source": [
        "Şimdi, tahmin edilen sınıflarımız test etiketlerimizle aynı formatta olduğuna göre, karşılaştırabiliriz.\n",
        "\n",
        "Görüntü verisiyle çalıştığımız için, veri gezgininin motto'suna sadık kalalım.\n",
        "\n",
        "\"Visualize, visualize, visualize!\"\n"
      ],
      "metadata": {
        "id": "CLpykgjsjsge"
      }
    },
    {
      "cell_type": "code",
      "source": [
        "# Tahminleri görselleştir\n",
        "plt.figure(figsize=(9, 9))\n",
        "nrows = 3\n",
        "ncols = 3\n",
        "for i, sample in enumerate(test_samples):\n",
        "  # Alt grafik oluştur\n",
        "  plt.subplot(nrows, ncols, i+1)\n",
        "\n",
        "  # Hedef görüntüyü çiz\n",
        "  plt.imshow(sample.squeeze(), cmap=\"gray\")\n",
        "\n",
        "  # Tahmin etiketini bul (metin şeklinde, örneğin \"Sandal\")\n",
        "  pred_label = class_names[pred_classes[i]]\n",
        "\n",
        "  # Gerçek etiketini al (metin şeklinde, örneğin \"T-shirt\")\n",
        "  truth_label = class_names[test_labels[i]]\n",
        "\n",
        "  # Grafik başlık metnini oluştur\n",
        "  title_text = f\"Pred: {pred_label} | Truth: {truth_label}\"\n",
        "\n",
        "  # Eşitliği kontrol et ve başlık rengini buna göre değiştir\n",
        "  if pred_label == truth_label:\n",
        "      plt.title(title_text, fontsize=10, c=\"g\") # doğruysa yeşil metin\n",
        "  else:\n",
        "      plt.title(title_text, fontsize=10, c=\"r\") # yanlışsa kırmızı metin\n",
        "  plt.axis(False);\n"
      ],
      "metadata": {
        "id": "kjO5e50Gjt4v",
        "colab": {
          "base_uri": "https://localhost:8080/",
          "height": 749
        },
        "outputId": "118d691a-5b86-47ba-bbfd-356bdb991e83"
      },
      "execution_count": null,
      "outputs": [
        {
          "output_type": "display_data",
          "data": {
            "text/plain": [
              "<Figure size 900x900 with 9 Axes>"
            ],
            "image/png": "[encoded data removed]"
          },
          "metadata": {}
        }
      ]
    },
    {
      "cell_type": "markdown",
      "source": [
        "Vay, vay, vay, oldukça güzel görünmüyor mu?\n",
        "\n",
        "Bir kaç düzine satır PyTorch kodu için fena değil!\n"
      ],
      "metadata": {
        "id": "9epKqNc-jv6s"
      }
    },
    {
      "cell_type": "markdown",
      "source": [
        "## 10. Daha Fazla Tahmin Değerlendirmesi İçin Bir Karışıklık Matrisi Oluşturma\n",
        "\n",
        "Sınıflandırma problemleri için kullanabileceğimiz birçok [farklı değerlendirme metriği](https://www.learnpytorch.io/02_pytorch_classification/#9-more-classification-evaluation-metrics) vardır.\n",
        "\n",
        "En görsel olanlardan biri [karışıklık matrisidir](https://www.dataschool.io/simple-guide-to-confusion-matrix-terminology/).\n",
        "\n",
        "Bir karışıklık matrisi, sınıflandırma modelinizin tahminler ile gerçek etiketler arasındaki farkı nerede yaptığını gösterir.\n",
        "\n",
        "Bir karışıklık matrisi oluşturmak için üç adımı takip edeceğiz:\n",
        "1. Eğittiğimiz model olan `model_2` ile tahminler yapın (karışıklık matrisi tahminleri gerçek etiketlerle karşılaştırır).\n",
        "2. Karışıklık matrisini [`torch.ConfusionMatrix`](https://torchmetrics.readthedocs.io/en/latest/references/modules.html?highlight=confusion#confusionmatrix) kullanarak oluşturun.\n",
        "3. Karışıklık matrisini [`mlxtend.plotting.plot_confusion_matrix()`](http://rasbt.github.io/mlxtend/user_guide/plotting/plot_confusion_matrix/) kullanarak görselleştirin.\n",
        "\n",
        "Eğittiğimiz model ile tahminler yaparak başlayalım."
      ],
      "metadata": {
        "id": "TTxHmmQDSb85"
      }
    },
    {
      "cell_type": "code",
      "source": [
        "# Progress çubuğu için tqdm'yi içe aktar\n",
        "from tqdm.auto import tqdm\n",
        "\n",
        "# 1. Eğitilmiş model ile tahminler yap\n",
        "y_preds = []\n",
        "model_2.eval()\n",
        "with torch.inference_mode():\n",
        "  for X, y in tqdm(test_dataloader, desc=\"Tahminler yapılıyor\"):\n",
        "    # Verileri ve etiketleri hedef cihaza gönder\n",
        "    X, y = X.to(device), y.to(device)\n",
        "    # İleri geçiş\n",
        "    y_logit = model_2(X)\n",
        "    # Tahminleri logitlerden -> tahmin olasılıklarına -> tahmin etiketlerine çevir\n",
        "    y_pred = torch.softmax(y_logit.squeeze(), dim=0).argmax(dim=1)\n",
        "    # Tahminleri değerlendirme için CPU'ya al\n",
        "    y_preds.append(y_pred.cpu())\n",
        "# Tahmin listesini tensöre birleştir\n",
        "y_pred_tensor = torch.cat(y_preds)\n"
      ],
      "metadata": {
        "id": "y5PRMulJj1MD",
        "colab": {
          "base_uri": "https://localhost:8080/",
          "height": 49,
          "referenced_widgets": [
            "d164a917641b439ebed113e2f01a12ff",
            "d60e519d05694fc195820ceef1edfb54",
            "ec8a8ad85083498a87e3e243e5c1279f",
            "0a8e47ea3a1640db989d94c1cca072f9",
            "9474569920814604a0a1c2288893c211",
            "c0ce09a83a694872b931340641573f1c",
            "a3a5cac28ab8434b941ba3779ebc7f74",
            "265c62df1e0048a882899e75692f7fb5",
            "3dd8618740844709bb3acffa2867b61e",
            "835af96ae7024f22ac2071971cc03a75",
            "896fb2b558784e509afb2dafd193c883"
          ]
        },
        "outputId": "c9589ac4-feb8-47a8-a226-102d42f10521"
      },
      "execution_count": null,
      "outputs": [
        {
          "output_type": "display_data",
          "data": {
            "text/plain": [
              "Tahminler yapılıyor:   0%|          | 0/313 [00:00<?, ?it/s]"
            ],
            "application/vnd.jupyter.widget-view+json": {
              "version_major": 2,
              "version_minor": 0,
              "model_id": "d164a917641b439ebed113e2f01a12ff"
            }
          },
          "metadata": {}
        }
      ]
    },
    {
      "cell_type": "markdown",
      "source": [
        "Harika!\n",
        "\n",
        "Şimdi tahminlerimiz var, hadi 2. ve 3. adımları geçelim:\n",
        "2. Karışıklık matrisini [`torchmetrics.ConfusionMatrix`](https://torchmetrics.readthedocs.io/en/latest/references/modules.html?highlight=confusion#confusionmatrix) kullanarak oluşturalım.\n",
        "3. Karışıklık matrisini [`mlxtend.plotting.plot_confusion_matrix()`](http://rasbt.github.io/mlxtend/user_guide/plotting/plot_confusion_matrix/) kullanarak görselleştirelim.\n",
        "\n",
        "Öncelikle, karışıklık matrisi oluşturmak ve görselleştirmek için `torchmetrics` ve `mlxtend` kütüphanelerinin yüklü olduğundan emin olmalıyız (bu iki kütüphane karışıklık matrisi yapmamıza ve görselleştirmemize yardımcı olacak).\n",
        "\n",
        "> **Not:** Google Colab kullanıyorsanız, varsayılan olarak yüklü olan `mlxtend` sürümü 0.14.0'dır (Mart 2022 itibariyle). Ancak, kullanmak istediğimiz `plot_confusion_matrix()` fonksiyonunun parametreleri için 0.19.0 veya daha yüksek bir sürüme ihtiyacımız var.\n"
      ],
      "metadata": {
        "id": "8Ukrs8trj33r"
      }
    },
    {
      "cell_type": "code",
      "source": [
        "# torchmetrics'in yüklü olup olmadığını kontrol et, eğer değilse yükle\n",
        "try:\n",
        "    import torchmetrics, mlxtend\n",
        "    print(f\"mlxtend sürümü: {mlxtend.__version__}\")\n",
        "    assert int(mlxtend.__version__.split(\".\")[1]) >= 19, \"mlxtend sürümü 0.19.0 veya daha yüksek olmalıdır\"\n",
        "except:\n",
        "    !pip install -q torchmetrics -U mlxtend # <- Not: Google Colab kullanıyorsanız, bu işlem çalışma ortamını yeniden başlatmanızı gerektirebilir\n",
        "    import torchmetrics, mlxtend\n",
        "    print(f\"mlxtend sürümü: {mlxtend.__version__}\")\n"
      ],
      "metadata": {
        "id": "QeI8i58Aj5v1",
        "colab": {
          "base_uri": "https://localhost:8080/"
        },
        "outputId": "9b56046f-875c-4429-ea74-0b2e144763a0"
      },
      "execution_count": null,
      "outputs": [
        {
          "output_type": "stream",
          "name": "stdout",
          "text": [
            "\u001b[?25l   \u001b[90m━━━━━━━━━━━━━━━━━━━━━━━━━━━━━━━━━━━━━━━━\u001b[0m \u001b[32m0.0/927.3 kB\u001b[0m \u001b[31m?\u001b[0m eta \u001b[36m-:--:--\u001b[0m\r\u001b[2K   \u001b[90m━━━━━━━━━━━━━━━━━━━━━━━━━━━━━━━━━━━━━━━━\u001b[0m \u001b[32m927.3/927.3 kB\u001b[0m \u001b[31m39.3 MB/s\u001b[0m eta \u001b[36m0:00:00\u001b[0m\n",
            "\u001b[?25hmlxtend sürümü: 0.23.3\n"
          ]
        }
      ]
    },
    {
      "cell_type": "markdown",
      "source": [
        "Karışıklık matrisini görselleştirmek için, `mlxtend` sürümünün 0.19.0 veya daha yüksek olduğundan emin olmamız gerekiyor.\n"
      ],
      "metadata": {
        "id": "FNCb3ONgj7wK"
      }
    },
    {
      "cell_type": "code",
      "source": [
        "# Yükseltilmiş mlxtend sürümünü içe aktar\n",
        "import mlxtend\n",
        "print(mlxtend.__version__)\n",
        "assert int(mlxtend.__version__.split(\".\")[1]) >= 19 # sürüm 0.19.0 veya daha yüksek olmalı\n"
      ],
      "metadata": {
        "id": "DNc_1MQ_j-cF",
        "colab": {
          "base_uri": "https://localhost:8080/"
        },
        "outputId": "ea721989-411f-4999-a34b-057558ba51d7"
      },
      "execution_count": null,
      "outputs": [
        {
          "output_type": "stream",
          "name": "stdout",
          "text": [
            "0.23.3\n"
          ]
        }
      ]
    },
    {
      "cell_type": "markdown",
      "source": [
        "`torchmetrics` ve `mlxtend` yüklendi, şimdi bir karışıklık matrisi oluşturalım!\n",
        "\n",
        "İlk olarak, `num_classes=len(class_names)` diyerek kaç sınıfla çalıştığımızı belirterek bir `torchmetrics.ConfusionMatrix` örneği oluşturacağız.\n",
        "\n",
        "Ardından, örneğimizi, modelimizin tahminlerini (`preds=y_pred_tensor`) ve hedefleri (`target=test_data.targets`) geçirerek bir karışıklık matrisi (tensor formatında) oluşturacağız.\n",
        "\n",
        "Son olarak, `mlxtend.plotting`'ten `plot_confusion_matrix()` fonksiyonunu kullanarak karışıklık matrisimizi görselleştirebiliriz.\n"
      ],
      "metadata": {
        "id": "TFihL7mJkBFF"
      }
    },
    {
      "cell_type": "code",
      "source": [
        "from torchmetrics import ConfusionMatrix\n",
        "from mlxtend.plotting import plot_confusion_matrix\n",
        "\n",
        "# 2. Karışıklık matrisi oluştur ve tahminleri hedeflerle karşılaştır\n",
        "confmat = ConfusionMatrix(task=\"multiclass\", num_classes=len(class_names))\n",
        "confmat_tensor = confmat(preds=y_pred_tensor,\n",
        "                         target=test_data.targets)\n",
        "\n",
        "# 3. Karışıklık matrisini görselleştir\n",
        "fig, ax = plot_confusion_matrix(\n",
        "    conf_mat=confmat_tensor.numpy(),  # matplotlib NumPy formatında çalışmayı tercih eder\n",
        "    class_names=class_names,          # Satır ve sütun etiketlerini sınıf isimleriyle belirt\n",
        "    figsize=(10, 7)\n",
        ")\n"
      ],
      "metadata": {
        "id": "qG5MhFCgkDgQ",
        "colab": {
          "base_uri": "https://localhost:8080/",
          "height": 667
        },
        "outputId": "2dfe8a62-6928-44a4-9d6f-8bcafa4be6ed"
      },
      "execution_count": null,
      "outputs": [
        {
          "output_type": "display_data",
          "data": {
            "text/plain": [
              "<Figure size 1000x700 with 1 Axes>"
            ],
            "image/png": "[encoded data removed]"
          },
          "metadata": {}
        }
      ]
    },
    {
      "cell_type": "markdown",
      "source": [
        "Vay! Görünüşe göre oldukça güzel görünüyor!\n",
        "\n",
        "Modelimizin oldukça iyi performans gösterdiğini görebiliyoruz, çünkü çoğu karanlık kare sol üstten sağ alt köşeye kadar olan diyagonal üzerinde yer almakta (ideal bir model sadece bu karelerde değerler içerir ve diğer her yerde 0 olur).\n",
        "\n",
        "Model, benzer sınıflarda en çok \"karışıyor\", örneğin \"Pullover\" yerine aslında \"Shirt\" olarak etiketlenen görüntülerde tahmin yapıyor.\n",
        "\n",
        "Aynı şekilde, \"Shirt\" yerine aslında \"T-shirt/top\" olarak etiketlenen sınıflar için tahmin yapıyor.\n",
        "\n",
        "Bu tür bilgiler, tek bir doğruluk metriğinden daha faydalıdır çünkü modelin *nerede* hata yaptığını gösterir.\n",
        "\n",
        "Ayrıca, modelin neden bazı şeyleri yanlış yapıyor olabileceğini de ipucu verir.\n",
        "\n",
        "Modelin bazen \"Shirt\" tahmini yapmasının \"T-shirt/top\" etiketli görüntüler için anlaşılabilir olduğunu kabul edebiliriz.\n",
        "\n",
        "Bu tür bilgileri, modellerimizi ve verilerimizi daha detaylı incelemek için kullanabiliriz ve bu, iyileştirilmesi gereken alanları ortaya çıkarır.\n",
        "\n",
        "> **Egzersiz:** Eğittiğimiz `model_2`'yi test FashionMNIST veri seti üzerinde tahminler yapmak için kullanın. Sonra, modelin yanlış tahmin yaptığı bazı örnekleri, görüntünün etiketinin ne olması gerektiğiyle birlikte görselleştirin. Bu tahminleri görselleştirdikten sonra bunun bir modelleme hatası mı yoksa veri hatası mı olduğunu düşünüyorsunuz? Yani, modelin daha iyi yapabilmesi mümkün mü yoksa verinin etiketleri birbirine çok yakın mı? (Örneğin, \"Shirt\" etiketi \"T-shirt/top\" ile çok yakın mı?)\n"
      ],
      "metadata": {
        "id": "TTQzSdkVkFin"
      }
    },
    {
      "cell_type": "markdown",
      "source": [
        "## 11. En İyi Performans Gösteren Modeli Kaydetme ve Yükleme\n",
        "\n",
        "Bu bölümü, en iyi performans gösteren modelimizi kaydederek ve yükleyerek bitirelim.\n",
        "\n",
        "[Notebook 01'den](https://www.learnpytorch.io/01_pytorch_workflow/#5-saving-and-loading-a-pytorch-model) hatırlayacağınız gibi, bir PyTorch modelini kaydetmek ve yüklemek için şu kombinasyonu kullanabiliriz:\n",
        "* `torch.save` - Bir PyTorch modelini veya modelin `state_dict()`'ini kaydetmek için bir fonksiyon.\n",
        "* `torch.load` - Kaydedilmiş bir PyTorch nesnesini yüklemek için bir fonksiyon.\n",
        "* `torch.nn.Module.load_state_dict()` - Kaydedilmiş bir `state_dict()`'i mevcut bir model örneğine yüklemek için bir fonksiyon.\n",
        "\n",
        "Bu üç fonksiyonu daha ayrıntılı olarak [PyTorch model kaydetme ve yükleme dokümantasyonunda](https://pytorch.org/tutorials/beginner/saving_loading_models.html) görebilirsiniz.\n",
        "\n",
        "Şimdi, `model_2`'nin `state_dict()`'ini kaydedelim, sonra geri yükleyip yüklemenin doğru yapıldığından emin olmak için değerlendirelim.\n"
      ],
      "metadata": {
        "id": "YJTTsLwhkHaV"
      }
    },
    {
      "cell_type": "code",
      "source": [
        "from pathlib import Path\n",
        "\n",
        "# Modeller dizini oluştur (eğer zaten yoksa), bakınız: https://docs.python.org/3/library/pathlib.html#pathlib.Path.mkdir\n",
        "MODEL_PATH = Path(\"models\")\n",
        "MODEL_PATH.mkdir(parents=True, # gerekirse üst dizinleri oluştur\n",
        "                 exist_ok=True # models dizini zaten varsa hata verme\n",
        ")\n",
        "\n",
        "# Model kaydetme yolu oluştur\n",
        "MODEL_NAME = \"03_pytorch_computer_vision_model_2.pth\"\n",
        "MODEL_SAVE_PATH = MODEL_PATH / MODEL_NAME\n",
        "\n",
        "# Modelin state_dict()'ini kaydet\n",
        "print(f\"Model kaydediliyor: {MODEL_SAVE_PATH}\")\n",
        "torch.save(obj=model_2.state_dict(), # sadece state_dict() kaydediliyor, sadece öğrenilen parametreler kaydedilir\n",
        "           f=MODEL_SAVE_PATH)\n"
      ],
      "metadata": {
        "id": "IaKcZLIPkKNa",
        "colab": {
          "base_uri": "https://localhost:8080/"
        },
        "outputId": "c54e2536-82c9-4601-9a26-abe90d36b9e2"
      },
      "execution_count": null,
      "outputs": [
        {
          "output_type": "stream",
          "name": "stdout",
          "text": [
            "Model kaydediliyor: models/03_pytorch_computer_vision_model_2.pth\n"
          ]
        }
      ]
    },
    {
      "cell_type": "markdown",
      "source": [
        "Şimdi kaydedilmiş bir model `state_dict()`'imiz var, bunu `load_state_dict()` ve `torch.load()` kombinasyonu kullanarak geri yükleyebiliriz.\n",
        "\n",
        "`load_state_dict()` kullandığımız için, kaydedilmiş model `state_dict()` ile aynı giriş parametrelerine sahip yeni bir `FashionMNISTModelV2()` örneği oluşturmamız gerekecek.\n"
      ],
      "metadata": {
        "id": "8nrtUVuZkW9I"
      }
    },
    {
      "cell_type": "code",
      "source": [
        "# Yeni bir FashionMNISTModelV2 örneği oluştur (aynı sınıfı kaydedilen state_dict() ile kullanıyoruz)\n",
        "# Not: Modeli yüklerken şekiller burada kaydedilen sürümle aynı değilse hata alırsınız\n",
        "loaded_model_2 = FashionMNISTModelV2(input_shape=1,\n",
        "                                    hidden_units=10, # bunu 128 olarak değiştirip ne olduğunu görmek için deneyin\n",
        "                                    output_shape=10)\n",
        "\n",
        "# Kaydedilen state_dict()'i yükle\n",
        "loaded_model_2.load_state_dict(torch.load(f=MODEL_SAVE_PATH))\n",
        "\n",
        "# Modeli GPU'ya gönder\n",
        "loaded_model_2 = loaded_model_2.to(device)\n"
      ],
      "metadata": {
        "id": "udvsBZJ_kYQe",
        "colab": {
          "base_uri": "https://localhost:8080/"
        },
        "outputId": "5bc13868-6d5c-48ac-c224-06890a18a37b"
      },
      "execution_count": null,
      "outputs": [
        {
          "output_type": "stream",
          "name": "stderr",
          "text": [
            "<ipython-input-62-e73a9791a2bf>:8: FutureWarning: You are using `torch.load` with `weights_only=False` (the current default value), which uses the default pickle module implicitly. It is possible to construct malicious pickle data which will execute arbitrary code during unpickling (See https://github.com/pytorch/pytorch/blob/main/SECURITY.md#untrusted-models for more details). In a future release, the default value for `weights_only` will be flipped to `True`. This limits the functions that could be executed during unpickling. Arbitrary objects will no longer be allowed to be loaded via this mode unless they are explicitly allowlisted by the user via `torch.serialization.add_safe_globals`. We recommend you start setting `weights_only=True` for any use case where you don't have full control of the loaded file. Please open an issue on GitHub for any issues related to this experimental feature.\n",
            "  loaded_model_2.load_state_dict(torch.load(f=MODEL_SAVE_PATH))\n"
          ]
        }
      ]
    },
    {
      "cell_type": "markdown",
      "source": [
        "Ve şimdi yüklediğimiz bir modelimiz var, bunu `eval_model()` ile değerlendirerek, parametrelerinin kaydetmeden önceki `model_2` ile benzer şekilde çalıştığından emin olabiliriz.\n"
      ],
      "metadata": {
        "id": "3XoC0luLkb0J"
      }
    },
    {
      "cell_type": "code",
      "source": [
        "# Yüklenen modeli değerlendirme\n",
        "torch.manual_seed(42)\n",
        "\n",
        "loaded_model_2_results = eval_model(\n",
        "    model=loaded_model_2,\n",
        "    data_loader=test_dataloader,\n",
        "    loss_fn=loss_fn,\n",
        "    accuracy_fn=accuracy_fn\n",
        ")\n",
        "\n",
        "loaded_model_2_results\n"
      ],
      "metadata": {
        "id": "qBDuyAFpkd2Z",
        "colab": {
          "base_uri": "https://localhost:8080/"
        },
        "outputId": "9039c410-d52b-4252-ab37-f402a68f31a2"
      },
      "execution_count": null,
      "outputs": [
        {
          "output_type": "execute_result",
          "data": {
            "text/plain": [
              "{'model_name': 'FashionMNISTModelV2',\n",
              " 'model_loss': 0.32718968391418457,\n",
              " 'model_acc': 88.06908945686901}"
            ]
          },
          "metadata": {},
          "execution_count": 63
        }
      ]
    },
    {
      "cell_type": "markdown",
      "source": [
        "Bu sonuçlar, `model_2_results` ile aynı görünüyor mu?\n"
      ],
      "metadata": {
        "id": "qeuUHHSxkhSa"
      }
    },
    {
      "cell_type": "code",
      "source": [
        "model_2_results\n"
      ],
      "metadata": {
        "id": "tOaoXVNpkjBn",
        "colab": {
          "base_uri": "https://localhost:8080/"
        },
        "outputId": "328b1506-6b8b-4344-b06a-5251d570697d"
      },
      "execution_count": null,
      "outputs": [
        {
          "output_type": "execute_result",
          "data": {
            "text/plain": [
              "{'model_name': 'FashionMNISTModelV2',\n",
              " 'model_loss': 0.32718968391418457,\n",
              " 'model_acc': 88.06908945686901}"
            ]
          },
          "metadata": {},
          "execution_count": 64
        }
      ]
    },
    {
      "cell_type": "markdown",
      "source": [
        "İki tensörün birbirine yakın olup olmadığını, `torch.isclose()` fonksiyonunu kullanarak ve yakınlık için bir tolerans seviyesi belirterek öğrenebiliriz. Bunun için `atol` (mutlak tolerans) ve `rtol` (göreli tolerans) parametrelerini kullanırız.\n",
        "\n",
        "Eğer modelimizin sonuçları yakınsa, `torch.isclose()` fonksiyonunun çıktısı doğru olmalıdır.\n"
      ],
      "metadata": {
        "id": "yXEg-IJKklPS"
      }
    },
    {
      "cell_type": "code",
      "source": [
        "# Sonuçların birbirine yakın olup olmadığını kontrol et (çok uzaklarsa bir hata olabilir)\n",
        "torch.isclose(torch.tensor(model_2_results[\"model_loss\"]),\n",
        "              torch.tensor(loaded_model_2_results[\"model_loss\"]),\n",
        "              atol=1e-08, # mutlak tolerans\n",
        "              rtol=0.0001) # göreli tolerans\n"
      ],
      "metadata": {
        "id": "5zYGEvhxknuC",
        "colab": {
          "base_uri": "https://localhost:8080/"
        },
        "outputId": "ace0efd2-6079-49c8-93cd-97e88c606799"
      },
      "execution_count": null,
      "outputs": [
        {
          "output_type": "execute_result",
          "data": {
            "text/plain": [
              "tensor(True)"
            ]
          },
          "metadata": {},
          "execution_count": 65
        }
      ]
    }
  ]
}