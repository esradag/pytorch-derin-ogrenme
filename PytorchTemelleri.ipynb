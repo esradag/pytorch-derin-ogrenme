{
  "nbformat": 4,
  "nbformat_minor": 0,
  "metadata": {
    "colab": {
      "provenance": [],
      "authorship_tag": "ABX9TyPYfJSrMZHjDCO/L+tfsNii",
      "include_colab_link": true
    },
    "kernelspec": {
      "name": "python3",
      "display_name": "Python 3"
    },
    "language_info": {
      "name": "python"
    }
  },
  "cells": [
    {
      "cell_type": "markdown",
      "metadata": {
        "id": "view-in-github",
        "colab_type": "text"
      },
      "source": [
        "<a href=\"https://colab.research.google.com/github/esradag/pytorch-derin-ogrenme/blob/main/PytorchTemelleri.ipynb\" target=\"_parent\"><img src=\"https://colab.research.google.com/assets/colab-badge.svg\" alt=\"Open In Colab\"/></a>"
      ]
    },
    {
      "cell_type": "markdown",
      "source": [
        "#PyTorch Nedir?\n",
        "PyTorch, açık kaynaklı bir makine öğrenimi ve derin öğrenme framework’üdür.\n",
        "\n",
        "#PyTorch Ne İçin Kullanılır?\n",
        "PyTorch, Python kodu kullanarak veri işleme ve makine öğrenimi algoritmaları yazmayı sağlar."
      ],
      "metadata": {
        "id": "KP3SgER0ZsAM"
      }
    },
    {
      "cell_type": "markdown",
      "source": [
        "#PyTorch Temel Konuları\n",
        "\n",
        "##Tensörlere Giriş:\n",
        "Tensörler, makine öğrenimi ve derin öğrenme modellerinin temel yapı taşlarıdır. Tüm veri işlemleri ve hesaplamalar tensörler üzerinden gerçekleştirilir.\n",
        "\n",
        "##Tensör Oluşturma:\n",
        "Tensörler; görüntüler, metinler ve sayı tabloları gibi farklı veri türlerini temsil edebilir. PyTorch, farklı boyut ve türde tensörler oluşturmayı kolaylaştırır.\n",
        "\n",
        "##Tensörlerden Bilgi Alma:\n",
        "Tensörlerde depolanan verilere erişmek ve bu bilgileri analiz etmek için çeşitli yöntemler sunar.\n",
        "\n",
        "##Tensörleri Manipüle Etme:\n",
        "Tensörler üzerinde toplama, çarpma ve birleştirme gibi matematiksel ve yapısal işlemler kolaylıkla yapılabilir.\n",
        "\n",
        "##Tensör Şekilleriyle Çalışma:\n",
        "Makine öğreniminde sıkça karşılaşılan yanlış şekilli tensörlerin yönetimi için şekil dönüştürme ve uyumlu hale getirme işlemleri uygulanır.\n",
        "\n",
        "##Tensörlerde İndeksleme:\n",
        "Python listeleri veya NumPy dizileriyle benzer şekilde, tensörlerde de çok boyutlu indeksleme yapılabilir. Bu sayede veriye kolay erişim sağlanır.\n",
        "\n",
        "##PyTorch ve NumPy Karışımı:\n",
        "PyTorch tensörleri (torch.Tensor) ve NumPy dizileri (np.ndarray) arasında veri dönüşümleri kolaylıkla yapılabilir. Böylece her iki kütüphanenin avantajlarından yararlanılır.\n",
        "\n",
        "##Yeniden Üretilebilirlik:\n",
        "Makine öğreniminde deneylerin tutarlılığı için rastgeleliğin kontrol edilmesi önemlidir. PyTorch, belirli bir rastgelelik seviyesini sabitleyerek sonuçların tekrarlanabilir olmasını sağlar.\n",
        "\n",
        "##Tensörleri GPU’da Çalıştırma:\n",
        "PyTorch, GPU (Grafik İşleme Birimi) desteğiyle büyük veri ve karmaşık hesaplamaları hızlı bir şekilde gerçekleştirir. Bu sayede model eğitimi ve tahmin süreçleri hız kazanır."
      ],
      "metadata": {
        "id": "BabWWlYWayYo"
      }
    },
    {
      "cell_type": "markdown",
      "source": [
        "#PyTorch'u İçe Aktarma\n",
        "> **Not:** Bu kodu çalıştırmadan önce, [PyTorch kurulum adımlarını ] (https://pytorch.org/get-started/locally/)  tamamlamış olmanız gerekir.\n",
        "> Ancak, **Google Colab kullanıyorsanız **herhangi bir ek kurulum yapmanıza gerek yoktur çünkü PyTorch ve diğer gerekli kütüphaneler Colab'de önceden yüklüdür.\n",
        "\n",
        "PyTorch'u içe aktararak ve kullanılan sürümü kontrol ederek başlayalım:"
      ],
      "metadata": {
        "id": "-UfpAaulbMGo"
      }
    },
    {
      "cell_type": "code",
      "source": [
        "import torch\n",
        "torch.__version__"
      ],
      "metadata": {
        "colab": {
          "base_uri": "https://localhost:8080/",
          "height": 35
        },
        "id": "RX5glGB6Z148",
        "outputId": "028ac83d-009c-461a-fa84-ccbae66b0211"
      },
      "execution_count": 1,
      "outputs": [
        {
          "output_type": "execute_result",
          "data": {
            "text/plain": [
              "'2.5.1+cu121'"
            ],
            "application/vnd.google.colaboratory.intrinsic+json": {
              "type": "string"
            }
          },
          "metadata": {},
          "execution_count": 1
        }
      ]
    },
    {
      "cell_type": "markdown",
      "source": [
        "## Tensörlere Giriş\n",
        "\n",
        "Tensörler, makine öğreniminin temel yapı taşıdır.  \n",
        "Görevleri, verileri sayısal bir şekilde temsil etmektir.\n",
        "\n",
        "Örneğin, bir resmi **`[3, 224, 224]`** şeklinde bir tensör olarak temsil edebiliriz. Bu şu anlama gelir:\n",
        "\n",
        "- **3** renk kanalı (**kırmızı**, **yeşil**, **mavi**)  \n",
        "- **224** piksel **yükseklik**  \n",
        "- **224** piksel **genişlik**  \n",
        "\n",
        "Tensör dilinde bu, **üç boyutlu** bir tensördür:  \n",
        "\n",
        "1. **Renk kanalları** (`colour_channels`)  \n",
        "2. **Yükseklik** (`height`)  \n",
        "3. **Genişlik** (`width`)  \n"
      ],
      "metadata": {
        "id": "oSTWM2_gcHT7"
      }
    },
    {
      "cell_type": "markdown",
      "source": [
        "### Tensör Oluşturma\n",
        "\n",
        "PyTorch, tensörler üzerine kurulmuş güçlü bir kütüphanedir. Hatta [`torch.Tensor`](https://pytorch.org/docs/stable/tensors.html) sınıfına özel bir dokümantasyon sayfası da bulunmaktadır.\n",
        "\n",
        "\n",
        "İlk oluşturulacak veri türü bir **skaler**dir.\n",
        "\n",
        "**Skaler** nedir?  \n",
        "- Tek bir sayıdan oluşan en basit veri türüdür.  \n",
        "- Tensör terminolojisinde **sıfır boyutlu (0D)** bir tensör olarak adlandırılır.  \n"
      ],
      "metadata": {
        "id": "SIafJg7kdU2o"
      }
    },
    {
      "cell_type": "code",
      "source": [
        "# Scalar\n",
        "scalar = torch.tensor(7)\n",
        "scalar"
      ],
      "metadata": {
        "colab": {
          "base_uri": "https://localhost:8080/"
        },
        "id": "i9fg_z8zdbH0",
        "outputId": "c51021fa-1256-452d-a6ab-9128494514cf"
      },
      "execution_count": 2,
      "outputs": [
        {
          "output_type": "execute_result",
          "data": {
            "text/plain": [
              "tensor(7)"
            ]
          },
          "metadata": {},
          "execution_count": 2
        }
      ]
    },
    {
      "cell_type": "markdown",
      "source": [
        "### Tensörlerin Boyutlarını Kontrol Etme\n",
        "\n",
        "Yukarıda ekrana **`tensor(7)`** çıktısını gördünüz mü?  \n",
        "\n",
        "Bu, **scalar** tek bir sayı olmasına rağmen, PyTorch'ta **`torch.Tensor`** türünde olduğunu gösterir.\n",
        "\n",
        "Bir tensörün boyutunu kontrol etmek için **`.ndim`** özelliğini kullanabiliriz.\n"
      ],
      "metadata": {
        "id": "eK1R_HX2cssS"
      }
    },
    {
      "cell_type": "code",
      "source": [
        "scalar.ndim"
      ],
      "metadata": {
        "colab": {
          "base_uri": "https://localhost:8080/"
        },
        "id": "CXmtxgftdw1G",
        "outputId": "1de5a276-90d1-4e81-e832-03e8abddc2e0"
      },
      "execution_count": 3,
      "outputs": [
        {
          "output_type": "execute_result",
          "data": {
            "text/plain": [
              "0"
            ]
          },
          "metadata": {},
          "execution_count": 3
        }
      ]
    },
    {
      "cell_type": "markdown",
      "source": [
        "### Vektör (Vector) Nedir?\n",
        "\n",
        "Şimdi de **vektör** kavramını inceleyelim.  \n",
        "\n",
        "Bir **vektör**, tek boyutlu (**1D**) bir tensördür ancak birden fazla sayı içerebilir.\n",
        "\n",
        "Örneğin, evinizdeki oda bilgilerini temsil etmek için bir vektör kullanabilirsiniz:  \n",
        "- `[3, 2]` → **3** yatak odası ve **2** banyo  \n",
        "- `[3, 2, 2]` → **3** yatak odası, **2** banyo ve **2** otopark alanı  \n",
        "\n",
        "Burada dikkat edilmesi gereken önemli nokta, bir **vektörün** (ve tensörlerin) neyi temsil edeceği konusunda esnek olmasıdır.\n",
        "\n"
      ],
      "metadata": {
        "id": "skTafv9Id6CL"
      }
    },
    {
      "cell_type": "code",
      "source": [
        "# Vector\n",
        "vector = torch.tensor([7, 7])\n",
        "vector"
      ],
      "metadata": {
        "colab": {
          "base_uri": "https://localhost:8080/"
        },
        "id": "l4xwrhkfd5kK",
        "outputId": "a0afe6ed-0a66-4085-c765-6b656beb5136"
      },
      "execution_count": 4,
      "outputs": [
        {
          "output_type": "execute_result",
          "data": {
            "text/plain": [
              "tensor([7, 7])"
            ]
          },
          "metadata": {},
          "execution_count": 4
        }
      ]
    },
    {
      "cell_type": "markdown",
      "source": [
        "### Vektörün Boyutunu ve Şeklini Anlama\n",
        "\n",
        "İlginç değil mi? **`vector`** iki sayı içeriyor ancak yalnızca **tek bir boyuta** sahip.  \n",
        "\n",
        "Bu durumu daha iyi anlamanız için size küçük bir ipucu vereyim:  \n",
        "\n",
        "**Bir tensörün kaç boyutlu olduğunu, köşeli parantez sayısından anlayabilirsiniz (`[`).**  \n",
        "Ve yalnızca **bir tarafı** saymanız yeterlidir.\n",
        "\n",
        "Örneğin:  \n",
        "- **`[1, 2, 3]`** → **1 boyutlu** tensör (**vektör**)  \n",
        "- **`[[1, 2, 3], [4, 5, 6]]`** → **2 boyutlu** tensör (**matris**)  \n",
        "- **`[[[1], [2]], [[3], [4]]]`** → **3 boyutlu** tensör  \n",
        "\n",
        "Peki, **`vector`** kaç köşeli parantez içeriyor?  \n",
        "\n",
        "---\n",
        "\n",
        "Tensörlerle ilgili önemli bir diğer kavram ise **`shape`** (şekil) özelliğidir.  \n",
        "**`shape`**, tensör içindeki elemanların nasıl düzenlendiğini gösterir.\n"
      ],
      "metadata": {
        "id": "iENHs35RebmC"
      }
    },
    {
      "cell_type": "code",
      "source": [
        "# Vektörün şeklini kontrol etme\n",
        "vector.shape"
      ],
      "metadata": {
        "colab": {
          "base_uri": "https://localhost:8080/"
        },
        "id": "3ZWDUJzVee4g",
        "outputId": "9fd63772-735d-4add-ef41-2d0b0daf1940"
      },
      "execution_count": 5,
      "outputs": [
        {
          "output_type": "execute_result",
          "data": {
            "text/plain": [
              "torch.Size([2])"
            ]
          },
          "metadata": {},
          "execution_count": 5
        }
      ]
    },
    {
      "cell_type": "markdown",
      "source": [
        "### Matris (Matrix) Nedir?\n",
        "\n",
        "Bir önceki işlemde elde ettiğimiz sonuç **`torch.Size([2])`** oldu. Bu, vektörümüzün **[2]** şeklinde olduğunu gösterir.  \n",
        "Bunun nedeni, köşeli parantezler içine **iki eleman** yerleştirmiş olmamızdır (`[7, 7]`).\n",
        "\n",
        "Şimdi bir **matris** oluşturalım.\n",
        "\n",
        "**Matris**, **iki boyutlu (2D)** bir tensördür.  \n",
        "Örneğin, aşağıdaki gibi bir yapı matristir:\n",
        "\n"
      ],
      "metadata": {
        "id": "YtCcmUWzert_"
      }
    },
    {
      "cell_type": "code",
      "source": [
        "\n",
        "# Matris (2D tensör) oluşturma\n",
        "MATRIX = torch.tensor([[7, 8],\n",
        "                       [9, 10]])\n",
        "\n",
        "MATRIX"
      ],
      "metadata": {
        "colab": {
          "base_uri": "https://localhost:8080/"
        },
        "id": "RmeTD2sKezbh",
        "outputId": "3a653c15-33aa-48d5-fab9-bfa74b5c8963"
      },
      "execution_count": 6,
      "outputs": [
        {
          "output_type": "execute_result",
          "data": {
            "text/plain": [
              "tensor([[ 7,  8],\n",
              "        [ 9, 10]])"
            ]
          },
          "metadata": {},
          "execution_count": 6
        }
      ]
    },
    {
      "cell_type": "markdown",
      "source": [
        "## Matrisler (Matrix) – Çok Boyutlu Veri Temsili\n",
        "\n",
        "**Vektörler** tek boyutlu tensörlerken, **matrisler** ekstra bir boyut ekleyerek verileri daha esnek ve karmaşık bir şekilde temsil eder.  \n",
        "Matrisler, **satır (row)** ve **sütun (column)** yapısından oluşur ve genellikle **2 boyutlu (2D)** tensörler olarak adlandırılır.\n"
      ],
      "metadata": {
        "id": "CIwn4nvZhlLL"
      }
    },
    {
      "cell_type": "markdown",
      "source": [
        "\n",
        "### 📏 Matrisin Boyut Sayısını Kontrol Etme\n",
        "\n",
        "Bir tensörün kaç boyutlu olduğunu öğrenmek için **`.ndim`** özelliğini kullanabiliriz.  \n",
        "Bu özellik, tensörün boyut (dimension) sayısını döndürür."
      ],
      "metadata": {
        "id": "oa8sTRQVhtVD"
      }
    },
    {
      "cell_type": "code",
      "source": [
        "# Matrisin boyut sayısını kontrol etme\n",
        "MATRIX.ndim"
      ],
      "metadata": {
        "colab": {
          "base_uri": "https://localhost:8080/"
        },
        "id": "kN9hA29yhvUZ",
        "outputId": "8e365ea5-2ed7-48b0-88b1-43281e106e1c"
      },
      "execution_count": 7,
      "outputs": [
        {
          "output_type": "execute_result",
          "data": {
            "text/plain": [
              "2"
            ]
          },
          "metadata": {},
          "execution_count": 7
        }
      ]
    },
    {
      "cell_type": "markdown",
      "source": [
        "\n",
        "### 📐 Matrisin Şekli (Shape) Ne Olacak?\n",
        "\n",
        "**`MATRIX`** tensörünün **2 boyutlu (2D)** olduğunu öğrendik.  \n",
        "(Bunu, dıştaki köşeli parantezleri sayarak da anlayabiliriz! 😉)\n",
        "\n",
        "Peki, bu matrisin **şekli (shape)** nasıl olacak?"
      ],
      "metadata": {
        "id": "ZwnkWsC3h6Dt"
      }
    },
    {
      "cell_type": "code",
      "source": [
        "# Matrisin şeklini kontrol etme\n",
        "MATRIX.shape"
      ],
      "metadata": {
        "colab": {
          "base_uri": "https://localhost:8080/"
        },
        "id": "6nXh8mgwh70U",
        "outputId": "caa3aa31-f292-4d31-aed8-63618eeab93e"
      },
      "execution_count": 8,
      "outputs": [
        {
          "output_type": "execute_result",
          "data": {
            "text/plain": [
              "torch.Size([2, 2])"
            ]
          },
          "metadata": {},
          "execution_count": 8
        }
      ]
    },
    {
      "cell_type": "markdown",
      "source": [
        "### 🔢 Tensör (Tensor) Oluşturma\n",
        "\n",
        "Şimdi daha genel ve çok boyutlu bir **tensör** oluşturalım.  \n",
        "**Tensörler**, skaler, vektör ve matrislerden daha fazla boyut içerebilir ve çok daha karmaşık verileri temsil etmek için kullanılır.\n",
        "\n",
        "Örneğin, **3 boyutlu (3D)** bir tensör oluşturalım."
      ],
      "metadata": {
        "id": "JmGN7euTiJqF"
      }
    },
    {
      "cell_type": "code",
      "source": [
        "# 3 boyutlu bir tensör oluşturma\n",
        "TENSOR = torch.tensor([[[1, 2, 3],\n",
        "                        [3, 6, 9],\n",
        "                        [2, 4, 5]]])\n",
        "\n",
        "# Tensörü yazdırma\n",
        "print(TENSOR)"
      ],
      "metadata": {
        "colab": {
          "base_uri": "https://localhost:8080/"
        },
        "id": "MADADlgfiVIh",
        "outputId": "1bb8c29a-209c-460c-af91-c6343ee9a549"
      },
      "execution_count": 9,
      "outputs": [
        {
          "output_type": "stream",
          "name": "stdout",
          "text": [
            "tensor([[[1, 2, 3],\n",
            "         [3, 6, 9],\n",
            "         [2, 4, 5]]])\n"
          ]
        }
      ]
    },
    {
      "cell_type": "markdown",
      "source": [
        "### 🔎 Tensörler Neredeyse Her Şeyi Temsil Edebilir!\n",
        "\n",
        "Gerçekten etkileyici bir tensör oluşturduk! 🎉\n",
        "\n",
        "**Tensörler**, hemen hemen her türlü veriyi temsil edebilir.  \n",
        "Az önce oluşturduğumuz tensör, örneğin bir **steak ve badem ezmesi** dükkanının satış verilerini gösterebilir! 🍖🥜\n",
        "\n",
        "📊 **Görsel Temsil:**  \n",
        "![Steak ve Badem Ezmesi Satışları](https://raw.githubusercontent.com/mrdbourke/pytorch-deep-learning/main/images/00_simple_tensor.png)  \n",
        "\n",
        "Bu tensör, haftanın günlerine göre **steak** ve **badem ezmesi** satışlarını temsil ediyor olabilir.\n",
        "\n",
        "\n",
        "### ❓ **Kaç Boyutlu Bir Tensör?**\n",
        "\n",
        "Şimdi bu tensörün kaç boyutlu olduğunu bulalım!  \n",
        "📌 **İpucu:** Dıştaki köşeli parantezleri (`[ ]`) sayın!"
      ],
      "metadata": {
        "id": "GN6nU9nBiio5"
      }
    },
    {
      "cell_type": "code",
      "source": [
        "# TENSOR değişkeninin boyut sayısını kontrol etme\n",
        "TENSOR.ndim"
      ],
      "metadata": {
        "colab": {
          "base_uri": "https://localhost:8080/"
        },
        "id": "DiJqLXQFijoL",
        "outputId": "565437b5-c406-4887-bfce-8e8cf8a6fc09"
      },
      "execution_count": 10,
      "outputs": [
        {
          "output_type": "execute_result",
          "data": {
            "text/plain": [
              "3"
            ]
          },
          "metadata": {},
          "execution_count": 10
        }
      ]
    },
    {
      "cell_type": "code",
      "source": [
        "# TENSOR değişkeninin şeklini (boyutlarının düzenini) kontrol etme\n",
        "TENSOR.shape"
      ],
      "metadata": {
        "colab": {
          "base_uri": "https://localhost:8080/"
        },
        "id": "WjkmKhCbhl-s",
        "outputId": "bda8e873-7b2d-4f19-c867-2b71bb2b2672"
      },
      "execution_count": 11,
      "outputs": [
        {
          "output_type": "execute_result",
          "data": {
            "text/plain": [
              "torch.Size([1, 3, 3])"
            ]
          },
          "metadata": {},
          "execution_count": 11
        }
      ]
    },
    {
      "cell_type": "markdown",
      "source": [
        "### 🔎 Tensör Boyutları ve İsimlendirme\n",
        "\n",
        "**`torch.Size([1, 3, 3])`** çıktısı bize şunu söylüyor:  \n",
        "- Dıştan içe doğru gidildiğinde, **1 adet 3x3 matris** olduğunu anlıyoruz.  \n",
        "- Yani bu tensör, **3 boyutlu (3D)** bir yapıya sahip.\n",
        "\n",
        "📊 **Görsel Temsil:**  \n",
        "![Farklı Tensör Boyutları](https://raw.githubusercontent.com/mrdbourke/pytorch-deep-learning/main/images/00-pytorch-different-tensor-dimensions.png)\n",
        "\n",
        "---\n",
        "\n",
        "### ✏️ **İsimlendirme Kuralları**\n",
        "\n",
        "Dikkat ettiyseniz, küçük harfleri **`scalar`** ve **`vector`** için, büyük harfleri ise **`MATRIX`** ve **`TENSOR`** için kullandım.  \n",
        "Bu kasıtlı bir tercihti ve pratikte yaygın bir uygulamadır.  \n",
        "\n",
        "📌 **Genel İsimlendirme:**  \n",
        "- **Skaler (scalar)** ve **vektör (vector)** → Genellikle **küçük harf** kullanılır (**`a`, `y`**)  \n",
        "- **Matris (matrix)** ve **tensör (tensor)** → Genellikle **büyük harf** kullanılır (**`X`, `W`**)  \n",
        "\n",
        "⚠️ **Not:** PyTorch'ta genellikle tüm veriler **`torch.Tensor`** olarak tanımlanır. Ancak içeriğin boyutu ve şekli, verinin **skaler**, **vektör**, **matris** veya daha yüksek boyutlu bir tensör olup olmadığını belirler.\n",
        "\n",
        "---\n",
        "\n",
        "### 📊 **Özet Tablo**\n",
        "\n",
        "| **İsim**   | **Nedir?**                                      | **Boyut Sayısı**  | **Genel İsimlendirme** |\n",
        "|------------|--------------------------------------------------|-------------------|------------------------|\n",
        "| **scalar** | Tek bir sayı                                     | **0**             | Küçük harf (`a`)      |\n",
        "| **vector** | Yönü olan sayı dizisi (örneğin rüzgar hızı)      | **1**             | Küçük harf (`y`)      |\n",
        "| **matrix** | 2 boyutlu sayı dizisi                           | **2**             | Büyük harf (`Q`)      |\n",
        "| **tensor** | **n** boyutlu sayı dizisi                       | **0 ve üzeri**    | Büyük harf (`X`)      |\n",
        "\n",
        "📌 **Ek Bilgi:**  \n",
        "- **0D** → **Skaler**  \n",
        "- **1D** → **Vektör**  \n",
        "- **2D** → **Matris**  \n",
        "- **3D ve üzeri** → **Tensör**  \n",
        "\n",
        "---\n",
        "\n",
        "### 🎨 **Görsel Temsil**\n",
        "\n",
        "![Skaler, Vektör, Matris ve Tensör Görseli](https://raw.githubusercontent.com/mrdbourke/pytorch-deep-learning/main/images/00-scalar-vector-matrix-tensor.png)\n",
        "\n",
        "Bu görselde farklı boyutlardaki tensörler arasındaki farkları açıkça görebilirsiniz.\n",
        "\n",
        "> 💡 **Unutmayın:** PyTorch’ta tüm veriler tensör olarak işlenir. Ancak bu tensörlerin boyutu ve şekli, onları nasıl yorumladığımızı belirler!\n"
      ],
      "metadata": {
        "id": "5UBaoJHsjCDB"
      }
    },
    {
      "cell_type": "markdown",
      "source": [
        "### 🎲 Rastgele Tensörler (Random Tensors)\n",
        "\n",
        "Daha önce tensörlerin verileri temsil ettiğini öğrendik.  \n",
        "Makine öğrenimi modelleri (özellikle **sinir ağları**) bu tensörleri işleyerek içindeki kalıpları ve ilişkileri keşfeder.\n",
        "\n",
        "Ancak, PyTorch ile makine öğrenimi modeli geliştirirken, tensörleri elle oluşturmak (şu ana kadar yaptığımız gibi) oldukça nadir bir durumdur.\n",
        "\n",
        "---\n",
        "\n",
        "### 🔄 **Makine Öğreniminde Rastgele Tensörlerin Önemi**\n",
        "\n",
        "Makine öğrenimi modelleri genellikle başlangıçta rastgele sayılarla doldurulmuş büyük tensörlerle başlar.  \n",
        "Model, bu rastgele sayıları veriyi işlerken günceller ve daha iyi tahminler yapmayı öğrenir.\n",
        "\n",
        "Bu süreci şu şekilde özetleyebiliriz:\n",
        "\n",
        "`Rastgele sayılarla başla → Veriye bak → Sayıları güncelle → Veriye tekrar bak → Sayıları güncelle...`\n",
        "\n",
        "📌 **Veri bilimcisi** olarak, modelin:  \n",
        "- **Başlangıç değerlerini (initialization)** nasıl belirleyeceğini,  \n",
        "- **Veriyi (representation)** nasıl işleyeceğini ve  \n",
        "- **Sayıları (optimization)** nasıl güncelleyeceğini kontrol edebilirsiniz.\n",
        "\n",
        "Bu adımları ilerleyen bölümlerde uygulamalı olarak inceleyeceğiz.  \n",
        "Şimdilik, rastgele sayı içeren tensörleri nasıl oluşturacağımıza bakalım.\n",
        "\n",
        "---\n",
        "\n",
        "### 📝 **Rastgele Tensör Oluşturma**\n",
        "\n",
        "Rastgele sayı içeren tensörleri oluşturmak için [`torch.rand()`](https://pytorch.org/docs/stable/generated/torch.rand.html) fonksiyonunu kullanabiliriz.  \n",
        "Bu fonksiyon, **0 ile 1** arasında rastgele sayı üreten bir tensör oluşturur.\n",
        "\n"
      ],
      "metadata": {
        "id": "IPXQkS5PjYTX"
      }
    },
    {
      "cell_type": "code",
      "source": [
        "# (3, 4) boyutunda rastgele sayı içeren bir tensör oluşturma\n",
        "random_tensor = torch.rand(size=(3, 4))\n",
        "\n",
        "# Tensörü ve veri tipini yazdırma\n",
        "random_tensor, random_tensor.dtype"
      ],
      "metadata": {
        "id": "QnGv0yrIi0uY",
        "colab": {
          "base_uri": "https://localhost:8080/"
        },
        "outputId": "540d1dce-fa39-4478-de67-f2bc8016f117"
      },
      "execution_count": 12,
      "outputs": [
        {
          "output_type": "execute_result",
          "data": {
            "text/plain": [
              "(tensor([[0.4131, 0.4675, 0.0333, 0.9974],\n",
              "         [0.1534, 0.5545, 0.2321, 0.3569],\n",
              "         [0.6491, 0.9851, 0.5991, 0.1810]]),\n",
              " torch.float32)"
            ]
          },
          "metadata": {},
          "execution_count": 12
        }
      ]
    },
    {
      "cell_type": "markdown",
      "source": [
        "### 🎨 Görsel Verilere Uygun Rastgele Tensör Oluşturma\n",
        "\n",
        "**`torch.rand()`** fonksiyonunun en büyük avantajlarından biri, **`size`** parametresini istediğimiz gibi ayarlayabilmemizdir.  \n",
        "Bu sayede, farklı veri türleri ve boyutlarına uygun tensörler oluşturabiliriz.\n",
        "\n",
        "Örneğin, görseller genellikle şu boyutlarda temsil edilir:  \n",
        "**`[224, 224, 3]`** → **[yükseklik, genişlik, renk kanalları]**  \n",
        "- **224** piksel yükseklik  \n",
        "- **224** piksel genişlik  \n",
        "- **3** renk kanalı (**RGB**: Kırmızı, Yeşil, Mavi)\n",
        "\n",
        "Bu tür bir tensör, görüntü işleme projelerinde yaygın olarak kullanılır.\n"
      ],
      "metadata": {
        "id": "RCiwWXtRjwZ4"
      }
    },
    {
      "cell_type": "code",
      "source": [
        "# (224, 224, 3) boyutunda rastgele sayı içeren bir tensör oluşturma\n",
        "random_image_size_tensor = torch.rand(size=(224, 224, 3))\n",
        "\n",
        "# Tensörün şeklini (shape) ve boyut sayısını (ndim) kontrol etme\n",
        "random_image_size_tensor.shape, random_image_size_tensor.ndim\n"
      ],
      "metadata": {
        "colab": {
          "base_uri": "https://localhost:8080/"
        },
        "id": "fDLLZ_lQjydO",
        "outputId": "7be435d7-143b-4abc-df09-de6cd0594535"
      },
      "execution_count": 13,
      "outputs": [
        {
          "output_type": "execute_result",
          "data": {
            "text/plain": [
              "(torch.Size([224, 224, 3]), 3)"
            ]
          },
          "metadata": {},
          "execution_count": 13
        }
      ]
    },
    {
      "cell_type": "markdown",
      "source": [
        "### 🟢 **Sıfır ve Birlerle Dolu Tensörler (Zeros and Ones)**\n",
        "\n",
        "Bazen tensörleri sadece **0** veya **1** değerleriyle doldurmak isteyebilirsiniz.  \n",
        "Bu özellikle **maskelere** ihtiyaç duyulan durumlarda kullanılır.  \n",
        "\n",
        "📌 **Maskeleme (Masking):**  \n",
        "Belirli verileri modelden gizlemek veya dikkate almamasını sağlamak için tensörlerin bazı kısımlarını **0** ile doldururuz.  \n",
        "Bu yöntem, modelin öğrenmesini kontrol etmek için sıkça kullanılır.\n",
        "\n",
        "---\n",
        "\n",
        "### 📝 **Sıfırlarla Dolu Tensör Oluşturma**\n",
        "\n",
        "**`torch.zeros()`** fonksiyonunu kullanarak tamamen sıfırlarla dolu bir tensör oluşturabiliriz.\n"
      ],
      "metadata": {
        "id": "Z_sIJAdpkGPy"
      }
    },
    {
      "cell_type": "code",
      "source": [
        "# (3, 4) boyutunda sıfırlardan oluşan bir tensör oluşturma\n",
        "zeros = torch.zeros(size=(3, 4))\n",
        "\n",
        "# Tensörü ve veri tipini yazdırma\n",
        "zeros, zeros.dtype"
      ],
      "metadata": {
        "colab": {
          "base_uri": "https://localhost:8080/"
        },
        "id": "SFL-sPjhjppl",
        "outputId": "a720d913-427e-4b10-eb09-3eaee4ff57f8"
      },
      "execution_count": 14,
      "outputs": [
        {
          "output_type": "execute_result",
          "data": {
            "text/plain": [
              "(tensor([[0., 0., 0., 0.],\n",
              "         [0., 0., 0., 0.],\n",
              "         [0., 0., 0., 0.]]),\n",
              " torch.float32)"
            ]
          },
          "metadata": {},
          "execution_count": 14
        }
      ]
    },
    {
      "cell_type": "markdown",
      "source": [
        "### 🔢 Birlerle Dolu Tensör Oluşturma\n",
        "\n",
        "Tıpkı sıfırlarla dolu bir tensör oluşturduğumuz gibi, **`torch.ones()`** fonksiyonunu kullanarak tüm elemanları **1** olan bir tensör oluşturabiliriz.  \n",
        "Bu fonksiyon, belirli boyutlarda ve tüm değerleri **1** olan bir tensör oluşturur.\n"
      ],
      "metadata": {
        "id": "v_AaxC8WkUEm"
      }
    },
    {
      "cell_type": "code",
      "source": [
        "# (3, 4) boyutunda birlerden oluşan bir tensör oluşturma\n",
        "ones = torch.ones(size=(3, 4))\n",
        "\n",
        "# Tensörü ve veri tipini yazdırma\n",
        "ones, ones.dtype"
      ],
      "metadata": {
        "id": "lTdN5pTckYFs",
        "colab": {
          "base_uri": "https://localhost:8080/"
        },
        "outputId": "04b6427d-35b2-403d-81cc-8f0c9cf4b664"
      },
      "execution_count": 15,
      "outputs": [
        {
          "output_type": "execute_result",
          "data": {
            "text/plain": [
              "(tensor([[1., 1., 1., 1.],\n",
              "         [1., 1., 1., 1.],\n",
              "         [1., 1., 1., 1.]]),\n",
              " torch.float32)"
            ]
          },
          "metadata": {},
          "execution_count": 15
        }
      ]
    },
    {
      "cell_type": "markdown",
      "source": [
        "### 🔢 **Belirli Bir Aralıkta Tensör Oluşturma (Range ve Benzersiz Tensörler)**\n",
        "\n",
        "Bazen belirli bir sayı aralığında bir tensör oluşturmak isteyebilirsiniz.  \n",
        "Örneğin, **1'den 10'a** veya **0'dan 100'e** kadar olan sayılar.\n",
        "\n",
        "Bunu **`torch.arange(start, end, step)`** fonksiyonunu kullanarak yapabiliriz.\n",
        "\n",
        "---\n",
        "\n",
        "### ⚙️ **Parametreler:**\n",
        "\n",
        "- **`start`** → Aralığın başlangıç değeri (örn. **0**)  \n",
        "- **`end`** → Aralığın bitiş değeri (örn. **10**) *(bitiş değeri dahil değildir)*  \n",
        "- **`step`** → Sayılar arasındaki artış miktarı (örn. **1**)\n",
        "\n",
        "📌 **Not:**  \n",
        "- Python'da **`range()`** fonksiyonunu kullanarak da sayı aralıkları oluşturabilirsiniz.  \n",
        "- Ancak PyTorch'ta **`torch.range()`** fonksiyonu artık **kullanımdan kaldırılmıştır** ve ileride hata verebilir.  \n",
        "  Bunun yerine **`torch.arange()`** kullanılmalıdır.\n"
      ],
      "metadata": {
        "id": "26pj-1amknbf"
      }
    },
    {
      "cell_type": "code",
      "source": [
        "# ⚠️ Dikkat: torch.range() kullanımdan kaldırılmıştır (deprecated)\n",
        "zero_to_ten_deprecated = torch.range(0, 10)  # Bu kullanım gelecekte hata verebilir!\n",
        "\n",
        "# ✅ Doğru kullanım: torch.arange() ile 0'dan 10'a kadar bir tensör oluşturma\n",
        "zero_to_ten = torch.arange(start=0, end=10, step=1)\n",
        "\n",
        "# Tensörü yazdırma\n",
        "zero_to_ten"
      ],
      "metadata": {
        "colab": {
          "base_uri": "https://localhost:8080/"
        },
        "id": "AjNX3QXlkf7Z",
        "outputId": "e62edb9a-13af-44d1-95f6-9938c5a86c44"
      },
      "execution_count": 16,
      "outputs": [
        {
          "output_type": "stream",
          "name": "stderr",
          "text": [
            "<ipython-input-16-4ec072aa6a03>:2: UserWarning: torch.range is deprecated and will be removed in a future release because its behavior is inconsistent with Python's range builtin. Instead, use torch.arange, which produces values in [start, end).\n",
            "  zero_to_ten_deprecated = torch.range(0, 10)  # Bu kullanım gelecekte hata verebilir!\n"
          ]
        },
        {
          "output_type": "execute_result",
          "data": {
            "text/plain": [
              "tensor([0, 1, 2, 3, 4, 5, 6, 7, 8, 9])"
            ]
          },
          "metadata": {},
          "execution_count": 16
        }
      ]
    },
    {
      "cell_type": "markdown",
      "source": [
        "### 🔁 **Başka Bir Tensörle Aynı Şekilde Tensör Oluşturma**\n",
        "\n",
        "Bazen mevcut bir tensörle **aynı boyutta** ancak farklı değerlerle (sıfır veya bir) doldurulmuş yeni bir tensör oluşturmak isteyebilirsiniz.  \n",
        "\n",
        "Bu durumda, **`torch.zeros_like()`** ve **`torch.ones_like()`** fonksiyonlarını kullanabilirsiniz.  \n",
        "\n",
        "- **`torch.zeros_like(input)`** → Verilen tensörle aynı boyutta, **sıfırlardan** oluşan bir tensör oluşturur.  \n",
        "- **`torch.ones_like(input)`** → Verilen tensörle aynı boyutta, **birlerden** oluşan bir tensör oluşturur.  \n",
        "\n",
        "---"
      ],
      "metadata": {
        "id": "aAe8jjsPlEOR"
      }
    },
    {
      "cell_type": "code",
      "source": [
        "# Mevcut bir tensörle aynı boyutta sıfırlardan oluşan bir tensör oluşturma\n",
        "ten_zeros = torch.zeros_like(input=zero_to_ten)  # zero_to_ten ile aynı boyutta\n",
        "\n",
        "# Oluşturulan tensörü yazdırma\n",
        "ten_zeros"
      ],
      "metadata": {
        "colab": {
          "base_uri": "https://localhost:8080/"
        },
        "id": "Bc9jS0O2lE-_",
        "outputId": "4c8bf102-e8bf-44c8-a8c1-5fb9dd55bc23"
      },
      "execution_count": 17,
      "outputs": [
        {
          "output_type": "execute_result",
          "data": {
            "text/plain": [
              "tensor([0, 0, 0, 0, 0, 0, 0, 0, 0, 0])"
            ]
          },
          "metadata": {},
          "execution_count": 17
        }
      ]
    },
    {
      "cell_type": "markdown",
      "source": [
        "### 🧩 **Tensör Veri Tipleri (Tensor Datatypes)**\n",
        "\n",
        "PyTorch'ta birçok farklı **tensör veri tipi (datatype)** bulunmaktadır.  \n",
        "Bu veri tiplerinin bazıları **CPU**, bazıları ise **GPU** için daha uygundur.\n",
        "\n",
        "🔎 **Genel Bilgiler:**  \n",
        "- **`torch.cuda`** kullanımı, tensörün **GPU**'da çalıştırıldığını gösterir.  \n",
        "- En yaygın (ve varsayılan) veri tipi **`torch.float32`** veya **`torch.float`**’tir.  \n",
        "- Bu tür, **32-bit kayan noktalı sayı (floating point)** olarak bilinir.\n",
        "\n",
        "---\n",
        "\n",
        "### 📊 **Farklı Veri Tipleri**\n",
        "\n",
        "| **Veri Tipi**             | **Açıklama**                       | **Kısaltma**  |\n",
        "|---------------------------|------------------------------------|---------------|\n",
        "| **32-bit Float**          | Kayan noktalı sayı (varsayılan)    | `torch.float32` veya `torch.float` |\n",
        "| **16-bit Float**          | Daha düşük hassasiyetli float      | `torch.float16` veya `torch.half`  |\n",
        "| **64-bit Float**          | Daha yüksek hassasiyetli float     | `torch.float64` veya `torch.double` |\n",
        "| **8, 16, 32, 64-bit Int** | Tam sayılar                       | `torch.int8`, `torch.int16`, `torch.int32`, `torch.int64` |\n",
        "\n",
        "> **Not:**  \n",
        "> - **Tam sayılar (integer):** Kesirli olmayan sayılar (örn. **7**)  \n",
        "> - **Kayan noktalı sayılar (float):** Ondalıklı sayılar (örn. **7.0**)  \n",
        "\n",
        "🔍 **Hassasiyet (Precision):**  \n",
        "- **Düşük hassasiyet (8, 16-bit):** Daha hızlı işlem yapılır ancak doğruluk biraz düşebilir.  \n",
        "- **Yüksek hassasiyet (32, 64-bit):** Daha fazla detay içerir ancak hesaplama süresi uzar.\n",
        "\n",
        "---"
      ],
      "metadata": {
        "id": "urBksgNaljOv"
      }
    },
    {
      "cell_type": "code",
      "source": [
        "#Belirli Veri Tipleriyle Tensör Oluşturma\n",
        "\n",
        "\n",
        "\n",
        "\n",
        "# 32-bit float tensör (varsayılan)\n",
        "float32_tensor = torch.tensor([1.0, 2.0, 3.0], dtype=torch.float32)\n",
        "\n",
        "# 16-bit float tensör\n",
        "float16_tensor = torch.tensor([1.0, 2.0, 3.0], dtype=torch.float16)\n",
        "\n",
        "# 64-bit float tensör\n",
        "float64_tensor = torch.tensor([1.0, 2.0, 3.0], dtype=torch.float64)\n",
        "\n",
        "# 32-bit integer tensör\n",
        "int32_tensor = torch.tensor([1, 2, 3], dtype=torch.int32)\n",
        "\n",
        "# Tensörleri yazdırma\n",
        "print(\"32-bit Float Tensor:\", float32_tensor)\n",
        "print(\"16-bit Float Tensor:\", float16_tensor)\n",
        "print(\"64-bit Float Tensor:\", float64_tensor)\n",
        "print(\"32-bit Integer Tensor:\", int32_tensor)"
      ],
      "metadata": {
        "colab": {
          "base_uri": "https://localhost:8080/"
        },
        "id": "NNilqe53liTg",
        "outputId": "b4c2c88d-3670-441d-e83a-7447f1b515c9"
      },
      "execution_count": 18,
      "outputs": [
        {
          "output_type": "stream",
          "name": "stdout",
          "text": [
            "32-bit Float Tensor: tensor([1., 2., 3.])\n",
            "16-bit Float Tensor: tensor([1., 2., 3.], dtype=torch.float16)\n",
            "64-bit Float Tensor: tensor([1., 2., 3.], dtype=torch.float64)\n",
            "32-bit Integer Tensor: tensor([1, 2, 3], dtype=torch.int32)\n"
          ]
        }
      ]
    },
    {
      "cell_type": "code",
      "source": [
        "import torch\n",
        "\n",
        "# Varsayılan olarak float32 tipinde bir tensör oluşturma\n",
        "float_32_tensor = torch.tensor([3.0, 6.0, 9.0],\n",
        "                               dtype=None,         # Belirtilmezse varsayılan olarak torch.float32 olur\n",
        "                               device=None,        # Belirtilmezse CPU kullanılır\n",
        "                               requires_grad=False)  # False olduğu için gradyan hesaplanmaz\n",
        "\n",
        "# Tensörün şekli, veri tipi ve cihaz bilgisi\n",
        "float_32_tensor.shape, float_32_tensor.dtype, float_32_tensor.device\n"
      ],
      "metadata": {
        "colab": {
          "base_uri": "https://localhost:8080/"
        },
        "id": "dJ117geslupG",
        "outputId": "87b4e1ea-7ba3-4725-fa45-ebed7861d407"
      },
      "execution_count": 19,
      "outputs": [
        {
          "output_type": "execute_result",
          "data": {
            "text/plain": [
              "(torch.Size([3]), torch.float32, device(type='cpu'))"
            ]
          },
          "metadata": {},
          "execution_count": 19
        }
      ]
    },
    {
      "cell_type": "markdown",
      "source": [
        "### ⚠️ **PyTorch'ta Yaygın Hatalar: Veri Tipi ve Cihaz Uyumsuzlukları**\n",
        "\n",
        "PyTorch'ta karşılaşılan en yaygın hatalardan biri, **tensör şekli (shape)** uyuşmazlıklarıdır.  \n",
        "Ancak bunun dışında iki önemli hata türü daha vardır:\n",
        "\n",
        "1. **Veri Tipi (Datatype) Uyumsuzlukları:**  \n",
        "   - Bir tensör **`torch.float32`**, diğeri **`torch.float16`** olduğunda uyumsuzluk oluşabilir.  \n",
        "   - PyTorch, genellikle tensörlerin aynı veri tipinde olmasını ister.\n",
        "\n",
        "2. **Cihaz (Device) Uyumsuzlukları:**  \n",
        "   - Bir tensör **CPU** üzerinde, diğeri **GPU** üzerinde olduğunda hata verebilir.  \n",
        "   - PyTorch, işlemlerin aynı cihazda yürütülmesini bekler.\n",
        "\n",
        "📌 **Not:**  \n",
        "- Tensörler arası hesaplamalarda **aynı veri tipi** ve **aynı cihazda** olmaları önemlidir.  \n",
        "- İlerleyen konularda bu cihaz yönetimini daha detaylı inceleyeceğiz.\n",
        "\n",
        "---\n",
        "\n",
        "### 📝 **torch.float16 Veri Tipinde Tensör Oluşturma**\n",
        "\n",
        "Şimdi, **`torch.float16`** veri tipinde bir tensör oluşturalım.  \n",
        "**`torch.float16`**, daha düşük hassasiyetli ve daha hızlı hesaplamalar için kullanılır.\n"
      ],
      "metadata": {
        "id": "X1Izbba5mEM6"
      }
    },
    {
      "cell_type": "code",
      "source": [
        "# 16-bit kayan noktalı (float16) tensör oluşturma\n",
        "float_16_tensor = torch.tensor([3.0, 6.0, 9.0],\n",
        "                               dtype=torch.float16)  # torch.half da kullanılabilir\n",
        "\n",
        "# Tensörün veri tipini kontrol etme\n",
        "float_16_tensor.dtype"
      ],
      "metadata": {
        "colab": {
          "base_uri": "https://localhost:8080/"
        },
        "id": "0S8-IvdbmEBX",
        "outputId": "9f261e68-ede0-4a78-ab56-8085c4aa2ff0"
      },
      "execution_count": 20,
      "outputs": [
        {
          "output_type": "execute_result",
          "data": {
            "text/plain": [
              "torch.float16"
            ]
          },
          "metadata": {},
          "execution_count": 20
        }
      ]
    },
    {
      "cell_type": "markdown",
      "source": [
        "## ℹ️ Tensörlerden Bilgi Alma\n",
        "\n",
        "Tensörler oluşturduktan sonra (ister kendiniz, ister bir PyTorch modülü tarafından oluşturulmuş olsun), onlarla ilgili bazı bilgilere ihtiyaç duyabilirsiniz.\n",
        "\n",
        "Daha önce de gördüğümüz gibi, tensörlerle ilgili en yaygın kullanılan üç özellik şunlardır:\n",
        "\n",
        "- **`shape`** → Tensörün şekli nedir?  \n",
        "  (*Bazı işlemler belirli şekil kurallarını gerektirir.*)  \n",
        "- **`dtype`** → Tensördeki elemanlar hangi veri türünde saklanıyor?  \n",
        "- **`device`** → Tensör hangi cihazda saklanıyor? (**CPU** veya **GPU**)\n",
        "\n",
        "---"
      ],
      "metadata": {
        "id": "bbyrWAvamR_W"
      }
    },
    {
      "cell_type": "code",
      "source": [
        "# 🔢 3x4 boyutunda rastgele bir tensör oluşturma\n",
        "some_tensor = torch.rand(3, 4)\n",
        "\n",
        "# ℹ️ Tensörün detaylarını yazdırma\n",
        "print(\"Tensör:\\n\", some_tensor)\n",
        "print(f\"Tensörün Şekli (Shape): {some_tensor.shape}\")\n",
        "print(f\"Tensörün Veri Tipi (Datatype): {some_tensor.dtype}\")\n",
        "print(f\"Tensörün Cihazı (Device): {some_tensor.device}\")  # Varsayılan olarak CPU'da tutulur\n"
      ],
      "metadata": {
        "colab": {
          "base_uri": "https://localhost:8080/"
        },
        "id": "ZW0lYl99mSrm",
        "outputId": "4a4f273a-df91-4a2d-a359-f536f2501a96"
      },
      "execution_count": 21,
      "outputs": [
        {
          "output_type": "stream",
          "name": "stdout",
          "text": [
            "Tensör:\n",
            " tensor([[0.5015, 0.4369, 0.7028, 0.7865],\n",
            "        [0.5677, 0.8335, 0.6876, 0.7213],\n",
            "        [0.3433, 0.5446, 0.4910, 0.2284]])\n",
            "Tensörün Şekli (Shape): torch.Size([3, 4])\n",
            "Tensörün Veri Tipi (Datatype): torch.float32\n",
            "Tensörün Cihazı (Device): cpu\n"
          ]
        }
      ]
    },
    {
      "cell_type": "markdown",
      "source": [
        "> **📌 Not:**  \n",
        "> PyTorch'ta karşılaştığınız hataların çoğu genellikle yukarıda bahsedilen **üç temel özellikten** biriyle ilgilidir:  \n",
        "> - **Şekil (Shape)**  \n",
        "> - **Veri Tipi (Datatype)**  \n",
        "> - **Cihaz (Device)**  \n",
        ">\n",
        "> ❗ Hata mesajları aldığınızda, kendinize şu küçük şarkıyı söyleyin:  \n",
        ">\n",
        "> 🎵 *\"Tensörlerimin şekli ne? Veri tipi ne ve nerede saklanıyorlar?  \n",
        "> Şekil ne, veri tipi ne, nerede nerede nerede?\"* 🎵  \n",
        ">\n",
        "> Bu üç soruyu kendinize sorarak sorunun kaynağını hızlıca bulabilirsiniz! 🔎\n"
      ],
      "metadata": {
        "id": "zTfOogXHmptT"
      }
    },
    {
      "cell_type": "markdown",
      "source": [
        "## 🔄 Tensörleri Manipüle Etme (Tensör Operasyonları)\n",
        "\n",
        "Derin öğrenmede; **görseller**, **metinler**, **videolar**, **sesler**, hatta **protein yapıları** gibi veriler tensörler aracılığıyla temsil edilir.\n",
        "\n",
        "📚 **Model nasıl öğrenir?**  \n",
        "Bir model, bu tensörler üzerinde milyonlarca işlem yaparak verilerdeki kalıpları ve ilişkileri öğrenir.  \n",
        "Bu işlemler, modelin girdileri daha iyi temsil etmesine yardımcı olur.\n",
        "\n",
        "---\n",
        "\n",
        "### 🎯 **Temel Tensör İşlemleri**\n",
        "\n",
        "Derin öğrenmede kullanılan işlemler genellikle şu temel matematiksel işlemler etrafında döner:\n",
        "\n",
        "- ➕ **Toplama (Addition)**  \n",
        "- ➖ **Çıkarma (Subtraction)**  \n",
        "- ✖️ **Çarpma (Element-wise Multiplication)**  \n",
        "- ➗ **Bölme (Division)**  \n",
        "- 🟰 **Matris Çarpımı (Matrix Multiplication)**\n",
        "\n",
        "🔑 **Not:**  \n",
        "Bu işlemler sinir ağlarının temel yapı taşlarını oluşturur.  \n",
        "Bu yapı taşlarını doğru şekilde birleştirerek, **lego parçaları gibi** en karmaşık sinir ağlarını oluşturabilirsiniz! 🧩\n",
        "\n",
        "---"
      ],
      "metadata": {
        "id": "GmgthCbYnkYO"
      }
    },
    {
      "cell_type": "markdown",
      "source": [
        "### ➕ ➖ ✖️ **Temel Tensör İşlemleri (Basic Operations)**\n",
        "\n",
        "Şimdi, en temel matematiksel işlemler olan **toplama (`+`)**, **çıkarma (`-`)** ve **çarpma (`*`)** işlemlerine bakalım.  \n",
        "Bu işlemler, PyTorch'ta da tıpkı matematikte olduğu gibi çalışır.\n",
        "\n",
        "---"
      ],
      "metadata": {
        "id": "YOjjRU3unvPJ"
      }
    },
    {
      "cell_type": "code",
      "source": [
        "# 🔢 Tensör oluşturma\n",
        "tensor = torch.tensor([1, 2, 3])\n",
        "\n",
        "# ➕ Tensöre 10 ekleme (eleman bazlı)\n",
        "tensor + 10"
      ],
      "metadata": {
        "colab": {
          "base_uri": "https://localhost:8080/"
        },
        "id": "zY5hHpqEnz4T",
        "outputId": "233052a2-3e90-49f4-963e-3e832ae920a1"
      },
      "execution_count": 22,
      "outputs": [
        {
          "output_type": "execute_result",
          "data": {
            "text/plain": [
              "tensor([11, 12, 13])"
            ]
          },
          "metadata": {},
          "execution_count": 22
        }
      ]
    },
    {
      "cell_type": "code",
      "source": [
        "# ✖️ Tensörü 10 ile çarpma (eleman bazlı)\n",
        "tensor * 10"
      ],
      "metadata": {
        "colab": {
          "base_uri": "https://localhost:8080/"
        },
        "id": "F-1Kgg4rnv7S",
        "outputId": "7df6fa78-f21f-456f-d554-a3c8cd5222b4"
      },
      "execution_count": 23,
      "outputs": [
        {
          "output_type": "execute_result",
          "data": {
            "text/plain": [
              "tensor([10, 20, 30])"
            ]
          },
          "metadata": {},
          "execution_count": 23
        }
      ]
    },
    {
      "cell_type": "markdown",
      "source": [
        "📌 **Dikkat:**  \n",
        "Yukarıdaki tensör değerlerinin **`tensor([110, 120, 130])`** olmadığını fark ettiniz mi?  \n",
        "Bunun nedeni, tensörün içindeki değerlerin **yeniden atanmadıkça değişmemesidir**.\n"
      ],
      "metadata": {
        "id": "bViynErXoj7W"
      }
    },
    {
      "cell_type": "code",
      "source": [
        "# Tensörler yeniden atanmadıkça değişmez\n",
        "tensor"
      ],
      "metadata": {
        "colab": {
          "base_uri": "https://localhost:8080/"
        },
        "id": "aner-aWwnnKV",
        "outputId": "b244233a-7667-4eb7-8949-51c3b0f124a0"
      },
      "execution_count": 24,
      "outputs": [
        {
          "output_type": "execute_result",
          "data": {
            "text/plain": [
              "tensor([1, 2, 3])"
            ]
          },
          "metadata": {},
          "execution_count": 24
        }
      ]
    },
    {
      "cell_type": "markdown",
      "source": [
        "### ➖ Bir Sayı Çıkaralım ve Bu Sefer `tensor` Değişkenini Yeniden Atayalım.\n"
      ],
      "metadata": {
        "id": "kNs1MShwo48c"
      }
    },
    {
      "cell_type": "code",
      "source": [
        "# Çıkarma işlemi ve yeniden atama\n",
        "tensor = tensor - 10\n",
        "\n",
        "# Güncellenmiş tensörü yazdırma\n",
        "print(tensor)"
      ],
      "metadata": {
        "colab": {
          "base_uri": "https://localhost:8080/"
        },
        "id": "JWFcoNPno6KK",
        "outputId": "bb54b7cc-6721-4646-8535-32c6be27e6c1"
      },
      "execution_count": 25,
      "outputs": [
        {
          "output_type": "stream",
          "name": "stdout",
          "text": [
            "tensor([-9, -8, -7])\n"
          ]
        }
      ]
    },
    {
      "cell_type": "code",
      "source": [
        "#Toplama işlemi ve yeniden atama\n",
        "tensor = tensor + 10\n",
        "\n",
        "# Güncellenmiş tensörü yazdırma\n",
        "print(tensor)"
      ],
      "metadata": {
        "colab": {
          "base_uri": "https://localhost:8080/"
        },
        "id": "BuIVGv9_mE7u",
        "outputId": "5a5a3ece-6817-4a39-eb4c-584b8842a02e"
      },
      "execution_count": 26,
      "outputs": [
        {
          "output_type": "stream",
          "name": "stdout",
          "text": [
            "tensor([1, 2, 3])\n"
          ]
        }
      ]
    },
    {
      "cell_type": "markdown",
      "source": [
        "\n",
        "markdown\n",
        "Kodu kopyala\n",
        "### 🛠️ **PyTorch'un Yerleşik Fonksiyonları**\n",
        "\n",
        "PyTorch, temel işlemleri gerçekleştirmek için birçok **yerleşik (built-in)** fonksiyon sunar.  \n",
        "Bu fonksiyonlar, tensörler üzerinde hızlı ve etkili bir şekilde işlem yapmayı sağlar.\n",
        "\n",
        "---\n",
        "\n",
        "### 🔢 **Temel Yerleşik Fonksiyonlar**\n",
        "\n",
        "- **`torch.add()`** → **Toplama** işlemi yapar.  \n",
        "- **`torch.sub()`** → **Çıkarma** işlemi yapar.  \n",
        "- **`torch.mul()`** → **Çarpma** işlemi yapar.  \n",
        "- **`torch.div()`** → **Bölme** işlemi yapar.  \n",
        "\n",
        "---"
      ],
      "metadata": {
        "id": "KvuSDE7TprLl"
      }
    },
    {
      "cell_type": "code",
      "source": [
        "# PyTorch fonksiyonlarını da kullanabilirsiniz\n",
        "torch.multiply(tensor, 10)\n"
      ],
      "metadata": {
        "colab": {
          "base_uri": "https://localhost:8080/"
        },
        "id": "dD1q0G25pq00",
        "outputId": "0acbfb58-a049-4370-f81e-0834e157c7f3"
      },
      "execution_count": 27,
      "outputs": [
        {
          "output_type": "execute_result",
          "data": {
            "text/plain": [
              "tensor([10, 20, 30])"
            ]
          },
          "metadata": {},
          "execution_count": 27
        }
      ]
    },
    {
      "cell_type": "code",
      "source": [
        "# Orijinal tensör hâlâ değişmedi\n",
        "tensor"
      ],
      "metadata": {
        "colab": {
          "base_uri": "https://localhost:8080/"
        },
        "id": "tOtVT5j4p-7p",
        "outputId": "ca42a6bf-7762-4963-cc7a-69ae67c74099"
      },
      "execution_count": 28,
      "outputs": [
        {
          "output_type": "execute_result",
          "data": {
            "text/plain": [
              "tensor([1, 2, 3])"
            ]
          },
          "metadata": {},
          "execution_count": 28
        }
      ]
    },
    {
      "cell_type": "markdown",
      "source": [
        "Ancak, `torch.mul()` yerine `*` gibi operatör sembollerini kullanmak daha yaygındır.\n"
      ],
      "metadata": {
        "id": "YHVL2nAJqQE0"
      }
    },
    {
      "cell_type": "code",
      "source": [
        "# 🔢 Eleman Bazlı Çarpma (Her eleman aynı indeksdeki elemanla çarpılır: 0->0, 1->1, 2->2)\n",
        "print(tensor, \"*\", tensor)\n",
        "print(\"Sonuç:\", tensor * tensor)\n"
      ],
      "metadata": {
        "colab": {
          "base_uri": "https://localhost:8080/"
        },
        "id": "LchV9GuxqQ18",
        "outputId": "7df2f52b-34b0-46ae-fa68-c0190b8e6bab"
      },
      "execution_count": 29,
      "outputs": [
        {
          "output_type": "stream",
          "name": "stdout",
          "text": [
            "tensor([1, 2, 3]) * tensor([1, 2, 3])\n",
            "Sonuç: tensor([1, 4, 9])\n"
          ]
        }
      ]
    },
    {
      "cell_type": "markdown",
      "source": [
        "### 🟰 **Matris Çarpımı (Matrix Multiplication)**\n",
        "\n",
        "Makine öğrenimi ve derin öğrenme algoritmalarında (özellikle **sinir ağlarında**) en yaygın kullanılan işlemlerden biri **matris çarpımıdır**.  \n",
        "PyTorch, matris çarpımı işlemini **[`torch.matmul()`](https://pytorch.org/docs/stable/generated/torch.matmul.html)** fonksiyonuyla gerçekleştirir.\n",
        "\n",
        "---\n",
        "\n",
        "### 📏 **Matris Çarpımı için Temel Kurallar**\n",
        "\n",
        "1. **İç Boyutlar Uyuşmalı (Inner Dimensions Must Match):**  \n",
        "   - `(3, 2) @ (3, 2)` ❌ **Uyumsuz**  \n",
        "   - `(2, 3) @ (3, 2)` ✅ **Uyumlu**  \n",
        "   - `(3, 2) @ (2, 3)` ✅ **Uyumlu**\n",
        "\n",
        "2. **Çıktının Boyutu Dış Boyutlardan Gelir (Resulting Shape = Outer Dimensions):**  \n",
        "   - `(2, 3) @ (3, 2)` → **`(2, 2)`**  \n",
        "   - `(3, 2) @ (2, 3)` → **`(3, 3)`**\n",
        "\n",
        "> **📌 Not:**  \n",
        "> Python'da **`@`** operatörü, **matris çarpımı** için kullanılır.\n",
        "\n",
        "> **📚 Kaynak:**  \n",
        "> Tüm matris çarpımı kurallarını görmek için [PyTorch dokümantasyonuna](https://pytorch.org/docs/stable/generated/torch.matmul.html) göz atabilirsiniz.\n",
        "\n",
        "---"
      ],
      "metadata": {
        "id": "EPFpO80bqiDl"
      }
    },
    {
      "cell_type": "code",
      "source": [
        "import torch\n",
        "tensor = torch.tensor([1, 2, 3])\n",
        "tensor.shape"
      ],
      "metadata": {
        "colab": {
          "base_uri": "https://localhost:8080/"
        },
        "id": "qtl3wk1jqjfr",
        "outputId": "43a17123-f7e5-4707-b87e-f083d03e0df6"
      },
      "execution_count": 30,
      "outputs": [
        {
          "output_type": "execute_result",
          "data": {
            "text/plain": [
              "torch.Size([3])"
            ]
          },
          "metadata": {},
          "execution_count": 30
        }
      ]
    },
    {
      "cell_type": "markdown",
      "source": [
        "### 🔎 **Eleman Bazlı Çarpma ile Matris Çarpımı Arasındaki Fark**\n",
        "\n",
        "**Eleman bazlı çarpma (element-wise multiplication)** ve **matris çarpımı (matrix multiplication)** arasındaki temel fark, **toplama işleminin** varlığıdır.\n",
        "\n",
        "**`tensor`** değişkenimiz **`[1, 2, 3]`** değerlerine sahiptir.\n",
        "\n",
        "| **İşlem**                       | **Hesaplama**                   | **Kod**                    |\n",
        "|---------------------------------|--------------------------------|---------------------------|\n",
        "| **➗ Eleman Bazlı Çarpma**      | `[1*1, 2*2, 3*3]` → `[1, 4, 9]` | `tensor * tensor`         |\n",
        "| **🟰 Matris Çarpımı**           | `1*1 + 2*2 + 3*3` → `[14]`      | `tensor.matmul(tensor)`   |\n",
        "\n",
        "---"
      ],
      "metadata": {
        "id": "IkVJdXydqwUc"
      }
    },
    {
      "cell_type": "code",
      "source": [
        "# ➗ Eleman Bazlı Çarpma (Element-wise Multiplication)\n",
        "tensor * tensor"
      ],
      "metadata": {
        "colab": {
          "base_uri": "https://localhost:8080/"
        },
        "id": "GW85IddGqxS1",
        "outputId": "e8142024-dfe9-44bb-b1e9-64d6ca65b72a"
      },
      "execution_count": 31,
      "outputs": [
        {
          "output_type": "execute_result",
          "data": {
            "text/plain": [
              "tensor([1, 4, 9])"
            ]
          },
          "metadata": {},
          "execution_count": 31
        }
      ]
    },
    {
      "cell_type": "code",
      "source": [
        "#matris çarpımı (matrix multiplication)\n",
        "torch.matmul(tensor, tensor)"
      ],
      "metadata": {
        "colab": {
          "base_uri": "https://localhost:8080/"
        },
        "id": "32l6g82qq7I8",
        "outputId": "c42d7071-43c0-44a7-d02c-23ec2506875e"
      },
      "execution_count": 32,
      "outputs": [
        {
          "output_type": "execute_result",
          "data": {
            "text/plain": [
              "tensor(14)"
            ]
          },
          "metadata": {},
          "execution_count": 32
        }
      ]
    },
    {
      "cell_type": "code",
      "source": [
        "# Matris çarpımı için \"@\" sembolü de kullanılabilir, ancak önerilmez.\n",
        "tensor @ tensor\n"
      ],
      "metadata": {
        "colab": {
          "base_uri": "https://localhost:8080/"
        },
        "id": "7_3rWam8rGvj",
        "outputId": "45ec6d4e-5be1-4acc-c7e1-f954241ee503"
      },
      "execution_count": 33,
      "outputs": [
        {
          "output_type": "execute_result",
          "data": {
            "text/plain": [
              "tensor(14)"
            ]
          },
          "metadata": {},
          "execution_count": 33
        }
      ]
    },
    {
      "cell_type": "markdown",
      "source": [
        "Elle matris çarpımı yapabilirsiniz ancak bu önerilmez.\n",
        "\n",
        "Yerleşik **`torch.matmul()`** yöntemi çok daha hızlıdır.\n"
      ],
      "metadata": {
        "id": "EADDMNLXrK6H"
      }
    },
    {
      "cell_type": "code",
      "source": [
        "%%time\n",
        "# 🟰 Elle Matris Çarpımı (Manuel Hesaplama)\n",
        "# ❗ For döngüleriyle işlem yapmaktan kaçının, çünkü hesaplama maliyeti yüksektir!\n",
        "\n",
        "value = 0\n",
        "for i in range(len(tensor)):\n",
        "    value += tensor[i] * tensor[i]\n",
        "\n",
        "# Sonucu yazdırma\n",
        "value"
      ],
      "metadata": {
        "colab": {
          "base_uri": "https://localhost:8080/"
        },
        "id": "4udTBTTLrLxk",
        "outputId": "bd5a63f5-6eb9-443f-f59d-f62a99624cec"
      },
      "execution_count": 34,
      "outputs": [
        {
          "output_type": "stream",
          "name": "stdout",
          "text": [
            "CPU times: user 3.22 ms, sys: 1.74 ms, total: 4.96 ms\n",
            "Wall time: 15.7 ms\n"
          ]
        },
        {
          "output_type": "execute_result",
          "data": {
            "text/plain": [
              "tensor(14)"
            ]
          },
          "metadata": {},
          "execution_count": 34
        }
      ]
    },
    {
      "cell_type": "code",
      "source": [
        "%%time\n",
        "# 🟰 Matris Çarpımı - PyTorch Yerleşik Fonksiyonu ile\n",
        "torch.matmul(tensor, tensor)"
      ],
      "metadata": {
        "colab": {
          "base_uri": "https://localhost:8080/"
        },
        "id": "Vt0gZJWwrZZR",
        "outputId": "e5a7d75c-9aa8-4011-ae2c-fe4d8da572b5"
      },
      "execution_count": 35,
      "outputs": [
        {
          "output_type": "stream",
          "name": "stdout",
          "text": [
            "CPU times: user 100 µs, sys: 0 ns, total: 100 µs\n",
            "Wall time: 105 µs\n"
          ]
        },
        {
          "output_type": "execute_result",
          "data": {
            "text/plain": [
              "tensor(14)"
            ]
          },
          "metadata": {},
          "execution_count": 35
        }
      ]
    },
    {
      "cell_type": "markdown",
      "source": [
        "## Derin Öğrenmede En Yaygın Hatalardan Biri (Şekil Hataları)\n",
        "\n",
        "Derin öğrenmede yapılan işlemlerin çoğu matrislerin çarpılması ve üzerinde çeşitli işlemler yapılmasıdır.  \n",
        "Matrisler, hangi şekil ve boyutlarda birleştirilebileceği konusunda katı kurallara sahiptir.  \n",
        "Bu nedenle, derin öğrenmede en sık karşılaşılan hatalardan biri **şekil uyumsuzluklarıdır (shape mismatches)**.\n",
        "### 📏 **Matris Çarpımı Kuralları**\n",
        "\n",
        "1. **İç Boyutların Uyuşması Gerekir (Inner Dimensions Must Match):**  \n",
        "   - `(3, 2) @ (3, 2)` ❌ **Uyumsuz**  \n",
        "   - `(2, 3) @ (3, 2)` ✅ **Uyumlu**\n",
        "\n",
        "2. **Çıktı Matrisinin Şekli Dış Boyutlardan Gelir:**  \n",
        "   - `(2, 3) @ (3, 2)` → **`(2, 2)`**  \n",
        "   - `(3, 2) @ (2, 3)` → **`(3, 3)`**\n",
        "\n",
        "---\n"
      ],
      "metadata": {
        "id": "m-miMQuorZIx"
      }
    },
    {
      "cell_type": "code",
      "source": [
        "# 🔢 İki tensör oluşturuluyor\n",
        "tensor_A = torch.tensor([[1, 2],\n",
        "                         [3, 4],\n",
        "                         [5, 6]], dtype=torch.float32)\n",
        "\n",
        "tensor_B = torch.tensor([[7, 10],\n",
        "                         [8, 11],\n",
        "                         [9, 12]], dtype=torch.float32)\n",
        "\n",
        "# 🟰 Matris çarpımı (Bu işlem hata verecek!)\n",
        "torch.matmul(tensor_A, tensor_B)"
      ],
      "metadata": {
        "colab": {
          "base_uri": "https://localhost:8080/",
          "height": 176
        },
        "id": "4TpXvTlCr5OC",
        "outputId": "03990849-e12b-44cf-a700-e97d3aa9f8c0"
      },
      "execution_count": 37,
      "outputs": [
        {
          "output_type": "error",
          "ename": "RuntimeError",
          "evalue": "mat1 and mat2 shapes cannot be multiplied (3x2 and 3x2)",
          "traceback": [
            "\u001b[0;31m---------------------------------------------------------------------------\u001b[0m",
            "\u001b[0;31mRuntimeError\u001b[0m                              Traceback (most recent call last)",
            "\u001b[0;32m<ipython-input-37-6839c54cdfcb>\u001b[0m in \u001b[0;36m<cell line: 0>\u001b[0;34m()\u001b[0m\n\u001b[1;32m      9\u001b[0m \u001b[0;34m\u001b[0m\u001b[0m\n\u001b[1;32m     10\u001b[0m \u001b[0;31m# 🟰 Matris çarpımı (Bu işlem hata verecek!)\u001b[0m\u001b[0;34m\u001b[0m\u001b[0;34m\u001b[0m\u001b[0m\n\u001b[0;32m---> 11\u001b[0;31m \u001b[0mtorch\u001b[0m\u001b[0;34m.\u001b[0m\u001b[0mmatmul\u001b[0m\u001b[0;34m(\u001b[0m\u001b[0mtensor_A\u001b[0m\u001b[0;34m,\u001b[0m \u001b[0mtensor_B\u001b[0m\u001b[0;34m)\u001b[0m\u001b[0;34m\u001b[0m\u001b[0;34m\u001b[0m\u001b[0m\n\u001b[0m",
            "\u001b[0;31mRuntimeError\u001b[0m: mat1 and mat2 shapes cannot be multiplied (3x2 and 3x2)"
          ]
        }
      ]
    },
    {
      "cell_type": "markdown",
      "source": [
        "## 🟰 **Matris Çarpımını Uyumlu Hale Getirme (Transpose ile)**\n",
        "\n",
        "**`tensor_A`** ve **`tensor_B`** arasında matris çarpımını gerçekleştirebilmek için, **iç boyutların (inner dimensions)** uyumlu olması gerekir.\n",
        "\n",
        "### 🔄 **Bu Uyumu Sağlamanın Yollarından Biri: Transpoz (Transpose)**\n",
        "\n",
        "**Transpoz**, bir tensörün **satır ve sütunlarını** yer değiştirerek boyutlarını çevirir.\n",
        "\n",
        "### 🔧 **PyTorch'ta Transpoz Nasıl Yapılır?**\n",
        "\n",
        "1. **`torch.transpose(input, dim0, dim1)`**  \n",
        "   - `input`: Transpoz yapılacak tensör.  \n",
        "   - `dim0` ve `dim1`: Yer değiştirecek boyutlar.\n",
        "\n",
        "2. **`tensor.T`**  \n",
        "   - Daha kısa ve pratik bir yöntemdir.  \n",
        "   - Tensörün boyutlarını otomatik olarak yer değiştirir.\n",
        "\n",
        "---"
      ],
      "metadata": {
        "id": "HLvuJjqRrS_c"
      }
    },
    {
      "cell_type": "code",
      "source": [
        "# tensor_A ve tensor_B'yi görüntüle\n",
        "print(tensor_A)\n",
        "print(tensor_B)\n"
      ],
      "metadata": {
        "colab": {
          "base_uri": "https://localhost:8080/"
        },
        "id": "WoTIHTeQsXMp",
        "outputId": "1c2a59a9-194f-4c44-faba-f4bcbda54643"
      },
      "execution_count": 38,
      "outputs": [
        {
          "output_type": "stream",
          "name": "stdout",
          "text": [
            "tensor([[1., 2.],\n",
            "        [3., 4.],\n",
            "        [5., 6.]])\n",
            "tensor([[ 7., 10.],\n",
            "        [ 8., 11.],\n",
            "        [ 9., 12.]])\n"
          ]
        }
      ]
    },
    {
      "cell_type": "code",
      "source": [
        "# tensor_A ve tensor_B.T'yi görüntüle\n",
        "print(tensor_A)\n",
        "print(tensor_B.T)\n"
      ],
      "metadata": {
        "colab": {
          "base_uri": "https://localhost:8080/"
        },
        "id": "a3tbwyIKsb8T",
        "outputId": "77f0e817-bb09-4bd7-ca45-3e62831aeb4e"
      },
      "execution_count": 39,
      "outputs": [
        {
          "output_type": "stream",
          "name": "stdout",
          "text": [
            "tensor([[1., 2.],\n",
            "        [3., 4.],\n",
            "        [5., 6.]])\n",
            "tensor([[ 7.,  8.,  9.],\n",
            "        [10., 11., 12.]])\n"
          ]
        }
      ]
    },
    {
      "cell_type": "code",
      "source": [
        "# tensor_B transpozu alındığında işlem çalışır\n",
        "print(f\"Original shapes: tensor_A = {tensor_A.shape}, tensor_B = {tensor_B.shape}\\n\")\n",
        "print(f\"New shapes: tensor_A = {tensor_A.shape} (same as above), tensor_B.T = {tensor_B.T.shape}\\n\")\n",
        "print(f\"Multiplying: {tensor_A.shape} * {tensor_B.T.shape} <- inner dimensions match\\n\")\n",
        "print(\"Output:\\n\")\n",
        "\n",
        "# Matris çarpımını yap\n",
        "output = torch.matmul(tensor_A, tensor_B.T)\n",
        "print(output)\n",
        "print(f\"\\nOutput shape: {output.shape}\")\n"
      ],
      "metadata": {
        "colab": {
          "base_uri": "https://localhost:8080/"
        },
        "id": "upDoZfRrsirc",
        "outputId": "7065b11a-6f6a-46fa-816b-63a15dc7f80f"
      },
      "execution_count": 40,
      "outputs": [
        {
          "output_type": "stream",
          "name": "stdout",
          "text": [
            "Original shapes: tensor_A = torch.Size([3, 2]), tensor_B = torch.Size([3, 2])\n",
            "\n",
            "New shapes: tensor_A = torch.Size([3, 2]) (same as above), tensor_B.T = torch.Size([2, 3])\n",
            "\n",
            "Multiplying: torch.Size([3, 2]) * torch.Size([2, 3]) <- inner dimensions match\n",
            "\n",
            "Output:\n",
            "\n",
            "tensor([[ 27.,  30.,  33.],\n",
            "        [ 61.,  68.,  75.],\n",
            "        [ 95., 106., 117.]])\n",
            "\n",
            "Output shape: torch.Size([3, 3])\n"
          ]
        }
      ]
    },
    {
      "cell_type": "markdown",
      "source": [
        "### 🛠️ **`torch.mm()` Kullanımı**\n",
        "\n",
        "**`torch.mm()`** fonksiyonu, **`torch.matmul()`** fonksiyonunun kısaltmasıdır.  \n",
        "Her ikisi de **matris çarpımı** için kullanılır ve aynı işlevi yerine getirir.\n"
      ],
      "metadata": {
        "id": "5TGWnw0IsqM2"
      }
    },
    {
      "cell_type": "code",
      "source": [
        "# torch.mm, matmul için bir kısaltmadır\n",
        "torch.mm(tensor_A, tensor_B.T)\n"
      ],
      "metadata": {
        "colab": {
          "base_uri": "https://localhost:8080/"
        },
        "id": "57DvtpxNsrlw",
        "outputId": "6cb3f238-ea76-4479-a21e-a35307a50f84"
      },
      "execution_count": 41,
      "outputs": [
        {
          "output_type": "execute_result",
          "data": {
            "text/plain": [
              "tensor([[ 27.,  30.,  33.],\n",
              "        [ 61.,  68.,  75.],\n",
              "        [ 95., 106., 117.]])"
            ]
          },
          "metadata": {},
          "execution_count": 41
        }
      ]
    },
    {
      "cell_type": "markdown",
      "source": [
        "Şekil transpozunu almadan matris çarpımı yapmaya çalıştığımızda, matris çarpımının kuralları yerine getirilmez ve yukarıdaki gibi bir hata alırız.\n",
        "\n",
        "Peki ya görsel bir örnek?\n",
        "\n",
        "![Matris Çarpımının Görsel Gösterimi](https://github.com/mrdbourke/pytorch-deep-learning/raw/main/images/00-matrix-multiply-crop.gif)\n",
        "\n",
        "Bu tür matris çarpımı görsellerini **[matrixmultiplication.xyz](http://matrixmultiplication.xyz/)** adresinde kendiniz oluşturabilirsiniz.\n",
        "\n",
        "> **Not:**  \n",
        "> Böyle bir matris çarpımı, aynı zamanda [**dot product** (nokta çarpımı)](https://www.mathsisfun.com/algebra/vectors-dot-product.html) olarak da adlandırılır.\n"
      ],
      "metadata": {
        "id": "VfaQf7fSsbrn"
      }
    },
    {
      "cell_type": "markdown",
      "source": [
        "Sinir ağları, matris çarpımları ve nokta çarpımlarıyla doludur.\n",
        "\n",
        "**`torch.nn.Linear()`** modülü (bunu ilerleyen bölümlerde göreceğiz), aynı zamanda **feed-forward layer** veya **tam bağlantılı katman** olarak bilinir, bir giriş **`x`** ve ağırlıklar matris **`A`** arasında matris çarpımı gerçekleştirir.\n",
        "\n",
        "$$\n",
        "y = x\\cdot{A^T} + b\n",
        "$$\n",
        "\n",
        "### Nerede:\n",
        "- **`x`** katmana verilen giriştir (derin öğrenme, `torch.nn.Linear()` gibi katmanların üst üste konmasıyla oluşur).\n",
        "- **`A`** katman tarafından oluşturulan ağırlıklar matrisidir, bu başlangıçta rastgele sayılarla başlar ve sinir ağı, verilerdeki kalıpları daha iyi temsil etmeyi öğrenirken bu sayılar ayarlanır (not edin, \"`T`\" burada ağırlıklar matrisinin transpoz edildiğini gösterir).\n",
        "  - **Not:** Ağırlıklar matrisini **`W`** veya **`X`** gibi başka harflerle de görebilirsiniz.\n",
        "- **`b`** ağırlıklar ve girişler arasında küçük bir kayma yaratmak için kullanılan bias terimidir.\n",
        "- **`y`** çıkıştır (girişin bir manipülasyonu, amacı içerisindeki kalıpları keşfetmektir).\n",
        "\n",
        "Bu bir doğrusal fonksiyondur (belki lise veya başka bir yerde **`y = mx+b`** gibi bir şey görmüşsünüzdür) ve doğrusal bir çizgi çizmeyi sağlar!\n",
        "\n",
        "Şimdi bir doğrusal katmanla oynayalım.\n",
        "\n",
        "Aşağıdaki **`in_features`** ve **`out_features`** değerlerini değiştirin ve ne olduğunu görün.\n",
        "\n",
        "**Şekillerle** ilgili bir şey fark ediyor musunuz?\n"
      ],
      "metadata": {
        "id": "zCPC4Kf1tCGL"
      }
    },
    {
      "cell_type": "code",
      "source": [
        "# 🔢 Rasgele ağırlıklar matrisinin tekrarlanabilir olmasını sağlamak için manuel tohum belirleme\n",
        "torch.manual_seed(42)\n",
        "\n",
        "# 🟰 Doğrusal katmanı oluşturma\n",
        "linear = torch.nn.Linear(in_features=2,  # in_features = girişin iç boyutuyla uyumlu\n",
        "                         out_features=6)  # out_features = dış boyutunu tanımlar\n",
        "\n",
        "# 🧑‍💻 Giriş tensörünü tanımlama\n",
        "x = tensor_A\n",
        "\n",
        "# 🔄 Çıkışı hesaplama\n",
        "output = linear(x)\n",
        "\n",
        "# Sonuçları yazdırma\n",
        "print(f\"Giriş şekli: {x.shape}\\n\")\n",
        "print(f\"Çıktı:\\n{output}\\n\\nÇıktı şekli: {output.shape}\")"
      ],
      "metadata": {
        "colab": {
          "base_uri": "https://localhost:8080/"
        },
        "id": "7Q3ZnTQRs_rm",
        "outputId": "e7edff87-abaa-4d52-cd5a-53766412b7c5"
      },
      "execution_count": 42,
      "outputs": [
        {
          "output_type": "stream",
          "name": "stdout",
          "text": [
            "Giriş şekli: torch.Size([3, 2])\n",
            "\n",
            "Çıktı:\n",
            "tensor([[2.2368, 1.2292, 0.4714, 0.3864, 0.1309, 0.9838],\n",
            "        [4.4919, 2.1970, 0.4469, 0.5285, 0.3401, 2.4777],\n",
            "        [6.7469, 3.1648, 0.4224, 0.6705, 0.5493, 3.9716]],\n",
            "       grad_fn=<AddmmBackward0>)\n",
            "\n",
            "Çıktı şekli: torch.Size([3, 6])\n"
          ]
        }
      ]
    },
    {
      "cell_type": "markdown",
      "source": [
        "> **Soru:**  \n",
        "> Yukarıdaki örnekte **`in_features`** değerini **2**'den **3**'e değiştirirseniz ne olur? Hata alır mısınız? Girişin (**`x`**) şeklinin hatayı karşılayabilmesi için nasıl değiştirilebilir? İpucu: Daha önce **`tensor_B`**'yi ne yapmak zorunda kaldık?\n"
      ],
      "metadata": {
        "id": "-eSn9Pj9ti3x"
      }
    },
    {
      "cell_type": "markdown",
      "source": [
        "Eğer daha önce yapmadıysanız, matris çarpımı başlangıçta kafa karıştırıcı bir konu olabilir.\n",
        "\n",
        "Ancak bir kaç kez denedikten ve birkaç sinir ağına göz attıktan sonra, her yerde olduğunu fark edeceksiniz.\n",
        "\n",
        "Unutmayın, matris çarpımı **hemen her şey** için gereklidir.\n",
        "\n",
        "![matrix multiplication is all you need](https://raw.githubusercontent.com/mrdbourke/pytorch-deep-learning/main/images/00_matrix_multiplication_is_all_you_need.jpeg)\n",
        "\n",
        "*Sinir ağı katmanlarına girmeye ve kendi katmanlarınızı inşa etmeye başladığınızda, matris çarpımlarının her yerde olduğunu göreceksiniz. **Kaynak:** https://marksaroufim.substack.com/p/working-class-deep-learner*\n"
      ],
      "metadata": {
        "id": "c3SB56yPtkfx"
      }
    },
    {
      "cell_type": "markdown",
      "source": [
        "### Min, max, mean, sum gibi işlemlerle toplama (aggregation)\n",
        "\n",
        "Şimdi tensörleri nasıl manipüle edebileceğimizi gördük, şimdi de bunları **toplayarak** (daha fazla değerden daha az değere) nasıl işlem yapabileceğimizi görelim.\n",
        "\n",
        "Önce bir tensör oluşturacağız ve ardından bu tensörün **max**, **min**, **mean** ve **sum** gibi değerlerini bulacağız.\n",
        "\n"
      ],
      "metadata": {
        "id": "zb7i2MHxtwt4"
      }
    },
    {
      "cell_type": "code",
      "source": [
        "# 🔢 Bir tensör oluşturma\n",
        "x = torch.arange(0, 100, 10)\n",
        "print(x)"
      ],
      "metadata": {
        "colab": {
          "base_uri": "https://localhost:8080/"
        },
        "id": "lSE8auantx2q",
        "outputId": "26a6b919-6302-4b8b-9e0b-466458c71ec1"
      },
      "execution_count": 43,
      "outputs": [
        {
          "output_type": "stream",
          "name": "stdout",
          "text": [
            "tensor([ 0, 10, 20, 30, 40, 50, 60, 70, 80, 90])\n"
          ]
        }
      ]
    },
    {
      "cell_type": "markdown",
      "source": [
        "Now let's perform some aggregation."
      ],
      "metadata": {
        "id": "P4zW97oSt8ct"
      }
    },
    {
      "cell_type": "code",
      "source": [
        "# Minimum değeri yazdırma\n",
        "print(f\"Minimum: {x.min()}\")\n",
        "\n",
        "# Maksimum değeri yazdırma\n",
        "print(f\"Maximum: {x.max()}\")\n",
        "\n",
        "# Ortalamayı yazdırma (Hata alır çünkü integer tensörde mean kullanılamaz)\n",
        "# print(f\"Mean: {x.mean()}\") # Bu hata verir\n",
        "\n",
        "# Ortalamayı doğru şekilde yazdırma (float32 veri tipi ile)\n",
        "print(f\"Mean: {x.type(torch.float32).mean()}\") # float32 veri tipi ile çalışır\n",
        "\n",
        "# Toplam değeri yazdırma\n",
        "print(f\"Sum: {x.sum()}\")"
      ],
      "metadata": {
        "colab": {
          "base_uri": "https://localhost:8080/"
        },
        "id": "i3EmMTbst9C1",
        "outputId": "74988e27-c82f-48db-f52c-1f0660e4ad14"
      },
      "execution_count": 44,
      "outputs": [
        {
          "output_type": "stream",
          "name": "stdout",
          "text": [
            "Minimum: 0\n",
            "Maximum: 90\n",
            "Mean: 45.0\n",
            "Sum: 450\n"
          ]
        }
      ]
    },
    {
      "cell_type": "markdown",
      "source": [
        "> **Not:**  \n",
        "> Bazı yöntemlerin, örneğin **`torch.mean()`**, tensörlerin **`torch.float32`** (en yaygın) veya başka bir özel veri tipinde olmasını gerektirdiğini görebilirsiniz, aksi takdirde işlem başarısız olur.\n",
        "\n",
        "Aşağıda yapmış olduğumuz işlemi **`torch`** yöntemleriyle de gerçekleştirebilirsiniz.\n"
      ],
      "metadata": {
        "id": "TzqcSufIujOw"
      }
    },
    {
      "cell_type": "code",
      "source": [
        "torch.max(x), torch.min(x), torch.mean(x.type(torch.float32)), torch.sum(x)"
      ],
      "metadata": {
        "colab": {
          "base_uri": "https://localhost:8080/"
        },
        "id": "ZBdB3deKuj4K",
        "outputId": "73881ce9-d592-48b5-ff6f-e0e0e93f6d1e"
      },
      "execution_count": 45,
      "outputs": [
        {
          "output_type": "execute_result",
          "data": {
            "text/plain": [
              "(tensor(90), tensor(0), tensor(45.), tensor(450))"
            ]
          },
          "metadata": {},
          "execution_count": 45
        }
      ]
    },
    {
      "cell_type": "markdown",
      "source": [
        "### **Pozisyonel Min/Max**\n",
        "\n",
        "Bir tensörde maksimum veya minimum değerin bulunduğu **indeksi** bulmak için sırasıyla **`torch.argmax()`** ve **`torch.argmin()`** fonksiyonlarını kullanabilirsiniz.\n",
        "\n",
        "Bu, **en yüksek (veya en düşük) değerin** pozisyonunu bilmek istediğinizde faydalıdır, ancak **değerin kendisini** değil. (Bunu, [softmax aktivasyon fonksiyonunu](https://pytorch.org/docs/stable/generated/torch.nn.Softmax.html) kullandığımız ilerleyen bölümlerde göreceğiz).\n",
        "\n",
        "---"
      ],
      "metadata": {
        "id": "hUYhsUrCuvn3"
      }
    },
    {
      "cell_type": "code",
      "source": [
        "# 🔢 Tensör oluşturma\n",
        "tensor = torch.arange(10, 100, 10)\n",
        "print(f\"Tensör: {tensor}\")\n",
        "\n",
        "# Maksimum ve minimum değerlerin indekslerini döndürme\n",
        "print(f\"Max değerin bulunduğu indeks: {tensor.argmax()}\")\n",
        "print(f\"Min değerin bulunduğu indeks: {tensor.argmin()}\")\n"
      ],
      "metadata": {
        "colab": {
          "base_uri": "https://localhost:8080/"
        },
        "id": "aEcJ39qlu0V3",
        "outputId": "a7c8c498-9aca-4a2c-fdcd-277466a2454c"
      },
      "execution_count": 46,
      "outputs": [
        {
          "output_type": "stream",
          "name": "stdout",
          "text": [
            "Tensör: tensor([10, 20, 30, 40, 50, 60, 70, 80, 90])\n",
            "Max değerin bulunduğu indeks: 8\n",
            "Min değerin bulunduğu indeks: 0\n"
          ]
        }
      ]
    },
    {
      "cell_type": "markdown",
      "source": [
        "### Tensör Veri Tipini Değiştirme\n",
        "\n",
        "Daha önce de belirtildiği gibi, derin öğrenme işlemlerinde karşılaşılan yaygın sorunlardan biri, tensörlerin farklı veri tiplerinde olmasıdır.\n",
        "\n",
        "Eğer bir tensör **`torch.float64`** tipindeyse ve diğer tensör **`torch.float32`** tipindeyse, bazı hatalarla karşılaşabilirsiniz.\n",
        "\n",
        "Ama bunun bir çözümü var.\n",
        "\n",
        "Tensörlerin veri tiplerini **[`torch.Tensor.type(dtype=None)`](https://pytorch.org/docs/stable/generated/torch.Tensor.type.html)** fonksiyonunu kullanarak değiştirebilirsiniz. Burada **`dtype`** parametresi, kullanmak istediğiniz veri tipini belirtir.\n",
        "\n",
        "Önce bir tensör oluşturacağız ve veri tipini kontrol edeceğiz (varsayılan olarak **`torch.float32`** olacaktır).\n"
      ],
      "metadata": {
        "id": "kuxaVo3yvC5x"
      }
    },
    {
      "cell_type": "code",
      "source": [
        "# 🔢 Tensör oluşturma ve veri tipini kontrol etme\n",
        "tensor = torch.arange(10., 100., 10.)\n",
        "print(tensor.dtype)\n"
      ],
      "metadata": {
        "colab": {
          "base_uri": "https://localhost:8080/"
        },
        "id": "Ii-GL0u4vChl",
        "outputId": "a2e4c0a0-34d9-466b-929f-1fb321d3b621"
      },
      "execution_count": 47,
      "outputs": [
        {
          "output_type": "stream",
          "name": "stdout",
          "text": [
            "torch.float32\n"
          ]
        }
      ]
    },
    {
      "cell_type": "markdown",
      "source": [
        "Şimdi, önceki tensörle aynı olan bir tensör oluşturacağız ancak veri tipini **`torch.float16`** olarak değiştireceğiz.\n"
      ],
      "metadata": {
        "id": "gvH5fe_vvOPM"
      }
    },
    {
      "cell_type": "code",
      "source": [
        "# 🔢 float16 veri tipiyle bir tensör oluşturma\n",
        "tensor_float16 = tensor.type(torch.float16)\n",
        "print(tensor_float16)\n"
      ],
      "metadata": {
        "colab": {
          "base_uri": "https://localhost:8080/"
        },
        "id": "nTTsfJB4vOv1",
        "outputId": "75c43ba6-3024-4b16-f382-026da9799b05"
      },
      "execution_count": 48,
      "outputs": [
        {
          "output_type": "stream",
          "name": "stdout",
          "text": [
            "tensor([10., 20., 30., 40., 50., 60., 70., 80., 90.], dtype=torch.float16)\n"
          ]
        }
      ]
    },
    {
      "cell_type": "markdown",
      "source": [
        "Ve benzer şekilde, bir **`torch.int8`** tensörü oluşturmak için aynı işlemi yapabiliriz.\n"
      ],
      "metadata": {
        "id": "A2xPbEG0vY5j"
      }
    },
    {
      "cell_type": "code",
      "source": [
        "# 🔢 int8 veri tipiyle bir tensör oluşturma\n",
        "tensor_int8 = tensor.type(torch.int8)\n",
        "print(tensor_int8)\n"
      ],
      "metadata": {
        "id": "FhdgZJJwvZvi",
        "colab": {
          "base_uri": "https://localhost:8080/"
        },
        "outputId": "330f4962-0437-4528-f3f5-ff75a1b716a8"
      },
      "execution_count": 49,
      "outputs": [
        {
          "output_type": "stream",
          "name": "stdout",
          "text": [
            "tensor([10, 20, 30, 40, 50, 60, 70, 80, 90], dtype=torch.int8)\n"
          ]
        }
      ]
    },
    {
      "cell_type": "markdown",
      "source": [
        "> **Not:**  \n",
        "> Farklı veri tipleri başlangıçta kafa karıştırıcı olabilir. Ama bunu şöyle düşünün, sayı ne kadar küçükse (örneğin **32**, **16**, **8**), bilgisayar değeri o kadar az hassasiyetle depolar. Ve daha az depolama ile, bu genellikle daha hızlı hesaplama ve daha küçük bir modelle sonuçlanır. Mobil tabanlı sinir ağları genellikle **8-bit tamsayılarla** çalışır; bunlar daha küçük ve hızlı çalışır, ancak **float32** karşılıklarına göre daha az doğruluk sağlar. Bu konuda daha fazla bilgi için **[hesaplamadaki hassasiyet](https://en.wikipedia.org/wiki/Precision_(computer_science))** hakkında okumayı öneririm.\n",
        "\n",
        "> **Alıştırma:**  \n",
        "> Şimdiye kadar pek çok tensör metodunu inceledik, ancak [`torch.Tensor` dokümantasyonunda](https://pytorch.org/docs/stable/tensors.html) daha pek çok metod var. 10 dakika ayırıp bu dokümantasyonu gözden geçirmenizi öneririm. İlginizi çekenleri tıklayıp, ardından kendi kodunuzla yazıp neler olduğunu görmek faydalı olacaktır.\n"
      ],
      "metadata": {
        "id": "PhcIxnQZvimz"
      }
    },
    {
      "cell_type": "markdown",
      "source": [
        "### Yeniden Şekillendirme, Yığıt Oluşturma, Sıkıştırma ve Unsqueeze\n",
        "\n",
        "Çoğu zaman, tensörlerinizin içindeki değerleri değiştirmeden boyutlarını yeniden şekillendirmek isteyeceksiniz.\n",
        "\n",
        "Bunu yapmak için popüler yöntemler şunlardır:\n",
        "\n",
        "| Yöntem | Kısa açıklama |\n",
        "| ----- | ----- |\n",
        "| [`torch.reshape(input, shape)`](https://pytorch.org/docs/stable/generated/torch.reshape.html#torch.reshape) | `input`'ı `shape`'e yeniden şekillendirir (uyumluysa), ayrıca `torch.Tensor.reshape()` de kullanılabilir. |\n",
        "| [`Tensor.view(shape)`](https://pytorch.org/docs/stable/generated/torch.Tensor.view.html) | Orijinal tensörün aynı verileri paylaşarak farklı bir `shape`'teki görünümünü döndürür. |\n",
        "| [`torch.stack(tensors, dim=0)`](https://pytorch.org/docs/1.9.1/generated/torch.stack.html) | Bir dizi `tensör`ü yeni bir boyut (`dim`) boyunca birleştirir, tüm `tensörler` aynı boyutta olmalıdır. |\n",
        "| [`torch.squeeze(input)`](https://pytorch.org/docs/stable/generated/torch.squeeze.html) | `input`'ı, değeri `1` olan tüm boyutları çıkararak sıkıştırır. |\n",
        "| [`torch.unsqueeze(input, dim)`](https://pytorch.org/docs/1.9.1/generated/torch.unsqueeze.html) | `input`'ı, belirtilen `dim` boyutunda `1` değeri ekleyerek döndürür. |\n",
        "| [`torch.permute(input, dims)`](https://pytorch.org/docs/stable/generated/torch.permute.html) | Orijinal `input`'ın boyutlarını `dims`'e göre sıralayarak döndüren *görünüm* sağlar. |\n",
        "\n",
        "### Neden bunları yapmalısınız?\n",
        "\n",
        "Çünkü derin öğrenme modelleri (sinir ağları), bir şekilde tensörleri manipüle etmekle ilgilidir. Ve matris çarpımı kuralları nedeniyle, şekil uyuşmazlıklarınız varsa, hatalarla karşılaşırsınız. Bu yöntemler, tensörlerinizin doğru elemanlarının diğer tensörlerin doğru elemanlarıyla karışmasını sağlamaya yardımcı olur.\n",
        "\n",
        "Şimdi bunları deneyelim.\n",
        "\n",
        "Önce bir tensör oluşturacağız.\n"
      ],
      "metadata": {
        "id": "T6K8WWVmvwBU"
      }
    },
    {
      "cell_type": "code",
      "source": [
        "# Tensör Oluşturma\n",
        "import torch\n",
        "x = torch.arange(1., 8.)\n",
        "x, x.shape\n"
      ],
      "metadata": {
        "colab": {
          "base_uri": "https://localhost:8080/"
        },
        "id": "ZBhQT02gvjpf",
        "outputId": "9bf682c7-8ab1-45ac-9e5f-6697f94c6125"
      },
      "execution_count": 50,
      "outputs": [
        {
          "output_type": "execute_result",
          "data": {
            "text/plain": [
              "(tensor([1., 2., 3., 4., 5., 6., 7.]), torch.Size([7]))"
            ]
          },
          "metadata": {},
          "execution_count": 50
        }
      ]
    },
    {
      "cell_type": "markdown",
      "source": [
        "Şimdi **`torch.reshape()`** ile ekstra bir boyut ekleyelim.\n"
      ],
      "metadata": {
        "id": "BNyV67IOwAaD"
      }
    },
    {
      "cell_type": "code",
      "source": [
        "# Ekstra bir boyut ekleme\n",
        "x_reshaped = x.reshape(1, 7)\n",
        "x_reshaped, x_reshaped.shape\n"
      ],
      "metadata": {
        "colab": {
          "base_uri": "https://localhost:8080/"
        },
        "id": "tbBhfHfYwBZ_",
        "outputId": "b8e73e51-ce3c-4a81-f968-ec3ba429e3a0"
      },
      "execution_count": 51,
      "outputs": [
        {
          "output_type": "execute_result",
          "data": {
            "text/plain": [
              "(tensor([[1., 2., 3., 4., 5., 6., 7.]]), torch.Size([1, 7]))"
            ]
          },
          "metadata": {},
          "execution_count": 51
        }
      ]
    },
    {
      "cell_type": "markdown",
      "source": [
        "Ayrıca görünümü **`torch.view()`** ile değiştirebiliriz.\n"
      ],
      "metadata": {
        "id": "ocWzkKMpwSsQ"
      }
    },
    {
      "cell_type": "code",
      "source": [
        "# Görünümü değiştir (aynı veriyi korur ancak görünümü değiştirir)\n",
        "# Daha fazla bilgi: https://stackoverflow.com/a/54507446/7900723\n",
        "z = x.view(1, 7)\n",
        "z, z.shape\n"
      ],
      "metadata": {
        "colab": {
          "base_uri": "https://localhost:8080/"
        },
        "id": "m6PUtz_bwTnv",
        "outputId": "cbeea3d6-4121-4227-b684-046de49fc68f"
      },
      "execution_count": 52,
      "outputs": [
        {
          "output_type": "execute_result",
          "data": {
            "text/plain": [
              "(tensor([[1., 2., 3., 4., 5., 6., 7.]]), torch.Size([1, 7]))"
            ]
          },
          "metadata": {},
          "execution_count": 52
        }
      ]
    },
    {
      "cell_type": "markdown",
      "source": [
        "Ancak unutmayın, **`torch.view()`** ile bir tensörün görünümünü değiştirmek, aslında **aynı** tensörün yeni bir görünümünü oluşturur.\n",
        "\n",
        "Yani görünümü değiştirmek, orijinal tensörü de değiştirir.\n"
      ],
      "metadata": {
        "id": "w2SiGS8rwYlU"
      }
    },
    {
      "cell_type": "code",
      "source": [
        "# z'yi değiştirmek x'i de değiştirir\n",
        "z[:, 0] = 5\n",
        "z, x\n"
      ],
      "metadata": {
        "colab": {
          "base_uri": "https://localhost:8080/"
        },
        "id": "vO3W1BmowdrG",
        "outputId": "59387671-8dd9-4a02-cf01-460ca13bae5b"
      },
      "execution_count": 53,
      "outputs": [
        {
          "output_type": "execute_result",
          "data": {
            "text/plain": [
              "(tensor([[5., 2., 3., 4., 5., 6., 7.]]), tensor([5., 2., 3., 4., 5., 6., 7.]))"
            ]
          },
          "metadata": {},
          "execution_count": 53
        }
      ]
    },
    {
      "cell_type": "markdown",
      "source": [
        "Eğer yeni tensörümüzü kendisinin üzerine beş kez yığmak istersek, bunu **`torch.stack()`** ile yapabiliriz.\n"
      ],
      "metadata": {
        "id": "Hz8iFuB7wtQn"
      }
    },
    {
      "cell_type": "code",
      "source": [
        "# Tensörleri üst üste yığma\n",
        "x_stacked = torch.stack([x, x, x, x], dim=0) # dim'i dim=1 olarak değiştirip ne olduğunu görün\n",
        "x_stacked\n"
      ],
      "metadata": {
        "colab": {
          "base_uri": "https://localhost:8080/"
        },
        "id": "k1MQI6Wvwt6E",
        "outputId": "ee3a6957-9e3d-496e-80d2-0674c1f1b796"
      },
      "execution_count": 54,
      "outputs": [
        {
          "output_type": "execute_result",
          "data": {
            "text/plain": [
              "tensor([[5., 2., 3., 4., 5., 6., 7.],\n",
              "        [5., 2., 3., 4., 5., 6., 7.],\n",
              "        [5., 2., 3., 4., 5., 6., 7.],\n",
              "        [5., 2., 3., 4., 5., 6., 7.]])"
            ]
          },
          "metadata": {},
          "execution_count": 54
        }
      ]
    },
    {
      "cell_type": "markdown",
      "source": [
        "Ya bir tensörden tüm tek boyutları (single dimensions) kaldırmak istersek?\n",
        "\n",
        "Bunu yapmak için **`torch.squeeze()`** kullanabilirsiniz (ben bunu, tensörü sadece 1'den büyük boyutlara sahip olacak şekilde **sıkıştırmak** olarak hatırlıyorum).\n"
      ],
      "metadata": {
        "id": "-d41TZh1w9w1"
      }
    },
    {
      "cell_type": "code",
      "source": [
        "print(f\"Önceki tensör: {x_reshaped}\")\n",
        "print(f\"Önceki şekil: {x_reshaped.shape}\")\n",
        "\n",
        "# x_reshaped'ten ekstra boyutu kaldırma\n",
        "x_squeezed = x_reshaped.squeeze()\n",
        "print(f\"\\nYeni tensör: {x_squeezed}\")\n",
        "print(f\"Yeni şekil: {x_squeezed.shape}\")\n"
      ],
      "metadata": {
        "colab": {
          "base_uri": "https://localhost:8080/"
        },
        "id": "OfKb1E75w-Xk",
        "outputId": "a3cceeff-6363-4e46-9265-f2de5c6f735a"
      },
      "execution_count": 55,
      "outputs": [
        {
          "output_type": "stream",
          "name": "stdout",
          "text": [
            "Önceki tensör: tensor([[5., 2., 3., 4., 5., 6., 7.]])\n",
            "Önceki şekil: torch.Size([1, 7])\n",
            "\n",
            "Yeni tensör: tensor([5., 2., 3., 4., 5., 6., 7.])\n",
            "Yeni şekil: torch.Size([7])\n"
          ]
        }
      ]
    },
    {
      "cell_type": "markdown",
      "source": [
        "Ve **`torch.squeeze()`**'in tersini yapmak için, belirli bir indekste **1** değeri eklemek için **`torch.unsqueeze()`** kullanabilirsiniz.\n"
      ],
      "metadata": {
        "id": "1ZJ25JS2xG-p"
      }
    },
    {
      "cell_type": "code",
      "source": [
        "print(f\"Önceki tensör: {x_squeezed}\")\n",
        "print(f\"Önceki şekil: {x_squeezed.shape}\")\n",
        "\n",
        "## unsqueeze ile ekstra bir boyut ekleyin\n",
        "x_unsqueezed = x_squeezed.unsqueeze(dim=0)\n",
        "print(f\"\\nYeni tensör: {x_unsqueezed}\")\n",
        "print(f\"Yeni şekil: {x_unsqueezed.shape}\")\n"
      ],
      "metadata": {
        "id": "qq3LbsW4xHk5",
        "colab": {
          "base_uri": "https://localhost:8080/"
        },
        "outputId": "831315cc-39c9-41f3-c3a7-b4a41f9f8af0"
      },
      "execution_count": 56,
      "outputs": [
        {
          "output_type": "stream",
          "name": "stdout",
          "text": [
            "Önceki tensör: tensor([5., 2., 3., 4., 5., 6., 7.])\n",
            "Önceki şekil: torch.Size([7])\n",
            "\n",
            "Yeni tensör: tensor([[5., 2., 3., 4., 5., 6., 7.]])\n",
            "Yeni şekil: torch.Size([1, 7])\n"
          ]
        }
      ]
    },
    {
      "cell_type": "markdown",
      "source": [
        "Ayrıca **`torch.permute(input, dims)`** ile eksen değerlerinin sırasını yeniden düzenleyebilirsiniz; burada **`input`**, yeni **`dims`** ile bir *görünüm* haline gelir.\n"
      ],
      "metadata": {
        "id": "IMBoef0axRTk"
      }
    },
    {
      "cell_type": "code",
      "source": [
        "# Belirli bir şekle sahip tensör oluşturma\n",
        "x_original = torch.rand(size=(224, 224, 3))\n",
        "\n",
        "# Orijinal tensörü eksen sırasını yeniden düzenlemek için permute etme\n",
        "x_permuted = x_original.permute(2, 0, 1) # eksenleri 0->1, 1->2, 2->0 şeklinde kaydırır\n",
        "\n",
        "print(f\"Önceki şekil: {x_original.shape}\")\n",
        "print(f\"Yeni şekil: {x_permuted.shape}\")\n"
      ],
      "metadata": {
        "id": "Zk9WYjFtxSCy",
        "colab": {
          "base_uri": "https://localhost:8080/"
        },
        "outputId": "32c0e549-d4f3-4213-cda7-1df2cd83273e"
      },
      "execution_count": 57,
      "outputs": [
        {
          "output_type": "stream",
          "name": "stdout",
          "text": [
            "Önceki şekil: torch.Size([224, 224, 3])\n",
            "Yeni şekil: torch.Size([3, 224, 224])\n"
          ]
        }
      ]
    },
    {
      "cell_type": "markdown",
      "source": [
        "> **Not:**  \n",
        "> Çünkü **`permute()`** bir *görünüm* döndürür (orijinal ile aynı veriyi paylaşır), permütelenmiş tensördeki değerler, orijinal tensörle aynı olacaktır ve eğer görünümdeki değerleri değiştirirseniz, bu orijinal tensörün değerlerini de değiştirir.\n"
      ],
      "metadata": {
        "id": "33UNUvajxaOb"
      }
    },
    {
      "cell_type": "markdown",
      "source": [
        "## İndeksleme (Tensörlerden veri seçme)\n",
        "\n",
        "Bazen tensörlerden belirli verileri seçmek isteyebilirsiniz (örneğin, sadece ilk sütun veya ikinci satır gibi).\n",
        "\n",
        "Bunu yapmak için indeksleme kullanabilirsiniz.\n",
        "\n",
        "Eğer Python listelerinde veya NumPy dizilerinde indeksleme yaptıysanız, PyTorch'ta tensörlerle indeksleme yapmak oldukça benzer.\n"
      ],
      "metadata": {
        "id": "4pquuNWDxe_2"
      }
    },
    {
      "cell_type": "code",
      "source": [
        "# Tensör oluşturma\n",
        "import torch\n",
        "x = torch.arange(1, 10).reshape(1, 3, 3)\n",
        "x, x.shape\n"
      ],
      "metadata": {
        "id": "LJN2guVyxf96",
        "colab": {
          "base_uri": "https://localhost:8080/"
        },
        "outputId": "a7cfea40-fc9c-418e-dea3-d912bc2b0a90"
      },
      "execution_count": 58,
      "outputs": [
        {
          "output_type": "execute_result",
          "data": {
            "text/plain": [
              "(tensor([[[1, 2, 3],\n",
              "          [4, 5, 6],\n",
              "          [7, 8, 9]]]),\n",
              " torch.Size([1, 3, 3]))"
            ]
          },
          "metadata": {},
          "execution_count": 58
        }
      ]
    },
    {
      "cell_type": "markdown",
      "source": [
        "İndeksleme işlemi dış boyuttan iç boyuta doğru yapılır (kare parantezlere göz atın).\n"
      ],
      "metadata": {
        "id": "_tDKNCaExxrE"
      }
    },
    {
      "cell_type": "code",
      "source": [
        "# Hadi, parantez parantez indeksleyelim\n",
        "print(f\"İlk kare parantez:\\n{x[0]}\")\n",
        "print(f\"İkinci kare parantez: {x[0][0]}\")\n",
        "print(f\"Üçüncü kare parantez: {x[0][0][0]}\")\n"
      ],
      "metadata": {
        "id": "WUDQjSA9xydt",
        "colab": {
          "base_uri": "https://localhost:8080/"
        },
        "outputId": "99d06ab1-d70e-4cda-9e1e-2cef691ba535"
      },
      "execution_count": 59,
      "outputs": [
        {
          "output_type": "stream",
          "name": "stdout",
          "text": [
            "İlk kare parantez:\n",
            "tensor([[1, 2, 3],\n",
            "        [4, 5, 6],\n",
            "        [7, 8, 9]])\n",
            "İkinci kare parantez: tensor([1, 2, 3])\n",
            "Üçüncü kare parantez: 1\n"
          ]
        }
      ]
    },
    {
      "cell_type": "markdown",
      "source": [
        "Ayrıca **`:`** kullanarak \"bu boyuttaki tüm değerleri\" belirtebilir ve ardından bir virgül (**`,`**) kullanarak başka bir boyut ekleyebilirsiniz.\n"
      ],
      "metadata": {
        "id": "HHSGjMY5x7zO"
      }
    },
    {
      "cell_type": "code",
      "source": [
        "# 0. boyuttaki tüm değerleri ve 1. boyuttaki 0. indeksi almak\n",
        "x[:, 0]\n"
      ],
      "metadata": {
        "id": "etjqcRH7yAjx",
        "colab": {
          "base_uri": "https://localhost:8080/"
        },
        "outputId": "19ac4d09-26a2-4e3b-e246-f2d1f79b286e"
      },
      "execution_count": 60,
      "outputs": [
        {
          "output_type": "execute_result",
          "data": {
            "text/plain": [
              "tensor([[1, 2, 3]])"
            ]
          },
          "metadata": {},
          "execution_count": 60
        }
      ]
    },
    {
      "cell_type": "code",
      "source": [
        "# 0. ve 1. boyuttaki tüm değerleri, ancak yalnızca 2. boyuttaki 1. indeksi almak\n",
        "x[:, :, 1]\n"
      ],
      "metadata": {
        "id": "E5OVlfwFyE0b",
        "colab": {
          "base_uri": "https://localhost:8080/"
        },
        "outputId": "50a1d5b7-af55-4253-ffb0-9cf081c75980"
      },
      "execution_count": 61,
      "outputs": [
        {
          "output_type": "execute_result",
          "data": {
            "text/plain": [
              "tensor([[2, 5, 8]])"
            ]
          },
          "metadata": {},
          "execution_count": 61
        }
      ]
    },
    {
      "cell_type": "code",
      "source": [
        "# 0. ve 1. boyutların 0. indeksini almak ve 2. boyuttaki tüm değerleri almak\n",
        "x[0, 0, :] # x[0][0] ile aynı\n"
      ],
      "metadata": {
        "id": "MjaOVh54yJ3d",
        "colab": {
          "base_uri": "https://localhost:8080/"
        },
        "outputId": "0146023e-7cff-45cc-c853-03a90a5d00f1"
      },
      "execution_count": 62,
      "outputs": [
        {
          "output_type": "execute_result",
          "data": {
            "text/plain": [
              "tensor([1, 2, 3])"
            ]
          },
          "metadata": {},
          "execution_count": 62
        }
      ]
    },
    {
      "cell_type": "markdown",
      "source": [
        "İndeksleme başta oldukça kafa karıştırıcı olabilir, özellikle daha büyük tensörlerle çalışırken (ben hâlâ doğru yapmak için birkaç kez indeksleme yapmam gerekiyor). Ama biraz pratik yaparak ve veri kaşiflerinin mottosunu takip ederek (***görselleştir, görselleştir, görselleştir***), zamanla alışmaya başlayacaksınız.\n"
      ],
      "metadata": {
        "id": "jjPT0sl1yNzu"
      }
    },
    {
      "cell_type": "markdown",
      "source": [
        "## PyTorch Tensörleri ve NumPy\n",
        "\n",
        "NumPy, popüler bir Python sayısal hesaplama kütüphanesi olduğundan, PyTorch'un NumPy ile düzgün bir şekilde etkileşim kurma işlevselliği vardır.\n",
        "\n",
        "NumPy ile PyTorch arasında (ve geriye) kullanmak isteyeceğiniz iki ana yöntem şunlardır:\n",
        "* [`torch.from_numpy(ndarray)`](https://pytorch.org/docs/stable/generated/torch.from_numpy.html) - NumPy dizisi -> PyTorch tensörü.\n",
        "* [`torch.Tensor.numpy()`](https://pytorch.org/docs/stable/generated/torch.Tensor.numpy.html) - PyTorch tensörü -> NumPy dizisi.\n",
        "\n",
        "Şimdi bunları deneyelim.\n"
      ],
      "metadata": {
        "id": "o20M5CwhyUir"
      }
    },
    {
      "cell_type": "code",
      "source": [
        "# NumPy dizisini tensöre çevirme\n",
        "import torch\n",
        "import numpy as np\n",
        "\n",
        "array = np.arange(1.0, 8.0)\n",
        "tensor = torch.from_numpy(array)\n",
        "array, tensor\n"
      ],
      "metadata": {
        "id": "sDB_iIqHyXTG",
        "colab": {
          "base_uri": "https://localhost:8080/"
        },
        "outputId": "38ec93f3-f816-4d79-ce48-5c0eea155cf3"
      },
      "execution_count": 63,
      "outputs": [
        {
          "output_type": "execute_result",
          "data": {
            "text/plain": [
              "(array([1., 2., 3., 4., 5., 6., 7.]),\n",
              " tensor([1., 2., 3., 4., 5., 6., 7.], dtype=torch.float64))"
            ]
          },
          "metadata": {},
          "execution_count": 63
        }
      ]
    },
    {
      "cell_type": "markdown",
      "source": [
        "> **Not:**  \n",
        "> Varsayılan olarak, NumPy dizileri **`float64`** veri tipiyle oluşturulur ve PyTorch tensörüne dönüştürdüğünüzde aynı veri tipi korunur (yukarıdaki gibi).  \n",
        ">  \n",
        "> Ancak, birçok PyTorch hesaplaması varsayılan olarak **`float32`** kullanır.  \n",
        ">  \n",
        "> Yani, NumPy dizinizi (**`float64`**) -> PyTorch tensörü (**`float64`**) -> PyTorch tensörü (**`float32`**) olarak dönüştürmek istiyorsanız, **`tensor = torch.from_numpy(array).type(torch.float32)`** kullanabilirsiniz.  \n",
        ">  \n",
        "> Yukarıda **`tensor`**'u yeniden atadığımız için, tensörü değiştirdiğinizde dizi aynı kalır.\n"
      ],
      "metadata": {
        "id": "-1c4THo2ydr1"
      }
    },
    {
      "cell_type": "code",
      "source": [
        "# Diziyi değiştir, tensörü aynı tut\n",
        "array = array + 1\n",
        "array, tensor\n"
      ],
      "metadata": {
        "id": "H3bOiO4myOg6",
        "colab": {
          "base_uri": "https://localhost:8080/"
        },
        "outputId": "7f86a82f-fd47-4bec-c847-20e05dca69b3"
      },
      "execution_count": 64,
      "outputs": [
        {
          "output_type": "execute_result",
          "data": {
            "text/plain": [
              "(array([2., 3., 4., 5., 6., 7., 8.]),\n",
              " tensor([1., 2., 3., 4., 5., 6., 7.], dtype=torch.float64))"
            ]
          },
          "metadata": {},
          "execution_count": 64
        }
      ]
    },
    {
      "cell_type": "markdown",
      "source": [
        "Ve eğer PyTorch tensöründen NumPy dizisine geçmek isterseniz, **`tensor.numpy()`** fonksiyonunu çağırabilirsiniz.\n"
      ],
      "metadata": {
        "id": "5e2K5bPNymkm"
      }
    },
    {
      "cell_type": "code",
      "source": [
        "# Tensörden NumPy dizisine\n",
        "tensor = torch.ones(7) # float32 veri tipiyle bir tensör oluşturma\n",
        "numpy_tensor = tensor.numpy() # dtype=float32 olacak, eğer değiştirilmezse\n",
        "tensor, numpy_tensor\n"
      ],
      "metadata": {
        "id": "N9aI-6JEynRs",
        "colab": {
          "base_uri": "https://localhost:8080/"
        },
        "outputId": "44f23c96-dd0c-4cfb-850a-58e4b85acceb"
      },
      "execution_count": 65,
      "outputs": [
        {
          "output_type": "execute_result",
          "data": {
            "text/plain": [
              "(tensor([1., 1., 1., 1., 1., 1., 1.]),\n",
              " array([1., 1., 1., 1., 1., 1., 1.], dtype=float32))"
            ]
          },
          "metadata": {},
          "execution_count": 65
        }
      ]
    },
    {
      "cell_type": "markdown",
      "source": [
        "Ve yukarıdaki kural aynen geçerlidir; eğer orijinal **`tensor`**'ı değiştirirseniz, yeni **`numpy_tensor`** aynı kalır.\n"
      ],
      "metadata": {
        "id": "TvLFP0jtyru4"
      }
    },
    {
      "cell_type": "code",
      "source": [
        "# Tensörü değiştir, diziyi aynı tut\n",
        "tensor = tensor + 1\n",
        "tensor, numpy_tensor\n"
      ],
      "metadata": {
        "id": "fq7yUezxyz_5",
        "colab": {
          "base_uri": "https://localhost:8080/"
        },
        "outputId": "12529339-d205-4649-e8cc-ce120ebdefa5"
      },
      "execution_count": 66,
      "outputs": [
        {
          "output_type": "execute_result",
          "data": {
            "text/plain": [
              "(tensor([2., 2., 2., 2., 2., 2., 2.]),\n",
              " array([1., 1., 1., 1., 1., 1., 1.], dtype=float32))"
            ]
          },
          "metadata": {},
          "execution_count": 66
        }
      ]
    },
    {
      "cell_type": "markdown",
      "source": [
        "## Tekrarlanabilirlik (Rastgeleliği Rastgelelikten Çıkarmaya Çalışmak)\n",
        "\n",
        "Sinir ağları ve makine öğrenimi hakkında daha fazla şey öğrendikçe, rastgeleliğin ne kadar önemli bir rol oynadığını keşfedeceksiniz.\n",
        "\n",
        "Aslında bu, **sahte rastgelelik**. Çünkü sonuçta, tasarlandıkları gibi bir bilgisayar temelde **deterministiktir** (her adım tahmin edilebilir), bu yüzden yarattıkları rastgelelikler, simüle edilmiş rastgeleliklerdir (bununla ilgili de tartışmalar olsa da, ben bir bilgisayar bilimci olmadığım için bunu kendiniz keşfetmenize bırakıyorum).\n",
        "\n",
        "Peki bu, sinir ağları ve derin öğrenme ile nasıl ilişkilidir?\n",
        "\n",
        "Sinir ağlarının, verilerdeki kalıpları tanımlamak için rastgele sayılarla başladığını ve bu sayıları tensör işlemleri (ve henüz tartışmadığımız birkaç başka şey) kullanarak iyileştirmeye çalıştığını konuştuk. Bu sayılar başlangıçta kötü tanımlamalardır ve verilerdeki kalıpları daha iyi tanımlamak için bu rastgele sayılar iyileştirilmeye çalışılır.\n",
        "\n",
        "Kısacası:\n",
        "\n",
        "``rastgele sayılarla başla -> tensör işlemleri -> daha iyi hale getirmeye çalış (defalarca ve tekrar)``\n",
        "\n",
        "Rastgelelik güzel ve güçlü olsa da, bazen biraz daha az rastgelelik istersiniz.\n",
        "\n",
        "Neden?\n",
        "\n",
        "Çünkü tekrarlanabilir deneyler yapabilmek istersiniz.\n",
        "\n",
        "Örneğin, X performansını elde edebilen bir algoritma oluşturursunuz.\n",
        "\n",
        "Ve sonra arkadaşınız bunu deneyerek sizin deli olmadığınızı doğrulamak ister.\n",
        "\n",
        "Bunu nasıl yapabilirler?\n",
        "\n",
        "İşte burada **tekrarlanabilirlik** devreye giriyor.\n",
        "\n",
        "Başka bir deyişle, aynı kodu çalıştıran bilgisayarımda aldığım aynı (veya çok benzer) sonuçları, sizin bilgisayarınızda alabilir misiniz?\n",
        "\n",
        "Hadi PyTorch'ta tekrarlanabilirliğe kısa bir örnek bakalım.\n",
        "\n",
        "İki rastgele tensör oluşturacağız. Çünkü rastgele olduklarından, farklı olmalarını beklersiniz, değil mi?\n"
      ],
      "metadata": {
        "id": "sa47pSZny3V_"
      }
    },
    {
      "cell_type": "code",
      "source": [
        "import torch\n",
        "\n",
        "# İki rastgele tensör oluşturma\n",
        "random_tensor_A = torch.rand(3, 4)\n",
        "random_tensor_B = torch.rand(3, 4)\n",
        "\n",
        "print(f\"Tensör A:\\n{random_tensor_A}\\n\")\n",
        "print(f\"Tensör B:\\n{random_tensor_B}\\n\")\n",
        "print(f\"Tensör A, Tensör B'ye eşit mi? (herhangi bir yerde)\")\n",
        "random_tensor_A == random_tensor_B\n"
      ],
      "metadata": {
        "id": "FVX4eoFUy86n",
        "outputId": "bf4ac29d-7441-441d-b6b0-fab53c33ea46",
        "colab": {
          "base_uri": "https://localhost:8080/"
        }
      },
      "execution_count": 67,
      "outputs": [
        {
          "output_type": "stream",
          "name": "stdout",
          "text": [
            "Tensör A:\n",
            "tensor([[0.8016, 0.3649, 0.6286, 0.9663],\n",
            "        [0.7687, 0.4566, 0.5745, 0.9200],\n",
            "        [0.3230, 0.8613, 0.0919, 0.3102]])\n",
            "\n",
            "Tensör B:\n",
            "tensor([[0.9536, 0.6002, 0.0351, 0.6826],\n",
            "        [0.3743, 0.5220, 0.1336, 0.9666],\n",
            "        [0.9754, 0.8474, 0.8988, 0.1105]])\n",
            "\n",
            "Tensör A, Tensör B'ye eşit mi? (herhangi bir yerde)\n"
          ]
        },
        {
          "output_type": "execute_result",
          "data": {
            "text/plain": [
              "tensor([[False, False, False, False],\n",
              "        [False, False, False, False],\n",
              "        [False, False, False, False]])"
            ]
          },
          "metadata": {},
          "execution_count": 67
        }
      ]
    },
    {
      "cell_type": "markdown",
      "source": [
        "Beklediğiniz gibi, tensörler farklı değerlerle çıktı.\n",
        "\n",
        "Ama ya iki rastgele tensörün *aynı* değerlere sahip olmasını isteseydiniz?\n",
        "\n",
        "Yani tensörler hala rastgele değerlere sahip olacak ama aynı \"lezzette\" olacaklardı.\n",
        "\n",
        "İşte burada **`torch.manual_seed(seed)`** devreye giriyor; burada **`seed`** bir tam sayıdır (mesela **`42`** olabilir ama başka bir şey de olabilir) ve rastgeleliği **lezzetlendiren** bir değerdir.\n",
        "\n",
        "Hadi bunu deneyelim ve daha fazla *lezzetlendirilmiş* rastgele tensörler oluşturalım.\n"
      ],
      "metadata": {
        "id": "uIjm-ILtzLhB"
      }
    },
    {
      "cell_type": "code",
      "source": [
        "import torch\n",
        "import random\n",
        "\n",
        "# Rastgele tohum değerini ayarla\n",
        "RANDOM_SEED = 42 # Bunu farklı değerlere değiştirerek aşağıdaki sayılarda ne olduğunu görebilirsiniz\n",
        "torch.manual_seed(seed=RANDOM_SEED)\n",
        "random_tensor_C = torch.rand(3, 4)\n",
        "\n",
        "# Her yeni rand() çağrıldığında tohumun sıfırlanması gerekir\n",
        "# Bunu yapmazsanız, tensor_D, tensor_C'ye farklı olurdu\n",
        "torch.random.manual_seed(seed=RANDOM_SEED) # Bu satırı yorum satırına almayı deneyin ve ne olacağını görün\n",
        "random_tensor_D = torch.rand(3, 4)\n",
        "\n",
        "print(f\"Tensör C:\\n{random_tensor_C}\\n\")\n",
        "print(f\"Tensör D:\\n{random_tensor_D}\\n\")\n",
        "print(f\"Tensör C, Tensör D'ye eşit mi? (herhangi bir yerde)\")\n",
        "random_tensor_C == random_tensor_D\n"
      ],
      "metadata": {
        "id": "QhdIoDPGzOan",
        "colab": {
          "base_uri": "https://localhost:8080/"
        },
        "outputId": "0b1faa9c-6b9d-4a18-c58e-73bb2e7c8486"
      },
      "execution_count": 68,
      "outputs": [
        {
          "output_type": "stream",
          "name": "stdout",
          "text": [
            "Tensör C:\n",
            "tensor([[0.8823, 0.9150, 0.3829, 0.9593],\n",
            "        [0.3904, 0.6009, 0.2566, 0.7936],\n",
            "        [0.9408, 0.1332, 0.9346, 0.5936]])\n",
            "\n",
            "Tensör D:\n",
            "tensor([[0.8823, 0.9150, 0.3829, 0.9593],\n",
            "        [0.3904, 0.6009, 0.2566, 0.7936],\n",
            "        [0.9408, 0.1332, 0.9346, 0.5936]])\n",
            "\n",
            "Tensör C, Tensör D'ye eşit mi? (herhangi bir yerde)\n"
          ]
        },
        {
          "output_type": "execute_result",
          "data": {
            "text/plain": [
              "tensor([[True, True, True, True],\n",
              "        [True, True, True, True],\n",
              "        [True, True, True, True]])"
            ]
          },
          "metadata": {},
          "execution_count": 68
        }
      ]
    },
    {
      "cell_type": "markdown",
      "source": [
        "Harika!\n",
        "\n",
        "Görünüşe göre tohum ayarlamak işe yaramış.\n",
        "\n",
        "> **Kaynak:** Şu ana kadar ele aldıklarımız, PyTorch'ta tekrarlanabilirlik konusunda yalnızca yüzeyi çiziyor. Genel olarak tekrarlanabilirlik ve rastgele tohumlar hakkında daha fazla bilgi için şunları incelemenizi öneririm:\n",
        "> * [PyTorch tekrarlanabilirlik dokümantasyonu](https://pytorch.org/docs/stable/notes/randomness.html) (iyi bir alıştırma, bunu 10 dakika boyunca okuyup anlamasanız da, buna aşina olmak önemlidir).\n",
        "> * [Wikipedia rastgele tohum sayfası](https://en.wikipedia.org/wiki/Random_seed) (bu, rastgele tohumlar ve genel olarak sahte rastgelelik hakkında iyi bir genel bakış sağlar).\n"
      ],
      "metadata": {
        "id": "xgKOtuWpzVAE"
      }
    },
    {
      "cell_type": "markdown",
      "source": [
        "## Tensörleri GPU'larda Çalıştırma (ve Daha Hızlı Hesaplamalar Yapma)\n",
        "\n",
        "Derin öğrenme algoritmaları çok fazla sayısal işlem gerektirir.\n",
        "\n",
        "Ve varsayılan olarak bu işlemler çoğunlukla bir CPU'da (işlemci) yapılır.\n",
        "\n",
        "Ancak, bir GPU (grafik işleme birimi) adında başka bir yaygın donanım türü vardır, bu donanım genellikle sinir ağlarının ihtiyaç duyduğu belirli türdeki işlemleri (matris çarpımları) CPU'lardan çok daha hızlı bir şekilde gerçekleştirebilir.\n",
        "\n",
        "Bilgisayarınızda bir tane olabilir.\n",
        "\n",
        "Eğer öyleyse, sinir ağlarını eğitmek için her fırsatta kullanmaya çalışmalısınız çünkü büyük ihtimalle eğitim süresini dramatik şekilde hızlandıracaktır.\n",
        "\n",
        "GPU'ya erişmenin ve PyTorch'u GPU kullanacak şekilde yapılandırmanın birkaç yolu vardır.\n",
        "\n",
        "> **Not:** Bu kurs boyunca \"GPU\"dan bahsederken, [CUDA etkinleştirilmiş bir Nvidia GPU'yu](https://developer.nvidia.com/cuda-gpus) kast ediyorum (CUDA, GPU'ların yalnızca grafik değil, genel amaçlı hesaplama için de kullanılmasını sağlayan bir hesaplama platformu ve API'sidir) aksi belirtilmedikçe.\n"
      ],
      "metadata": {
        "id": "D4xB2AVnzgEp"
      }
    },
    {
      "cell_type": "markdown",
      "source": [
        "### 1. GPU'ya Erişim\n",
        "\n",
        "GPU dediğimde ne olduğunu zaten biliyor olabilirsiniz. Ancak bilmiyorsanız, birine erişim sağlamak için birkaç yol vardır.\n",
        "\n",
        "| **Yöntem** | **Kurulum Zorluğu** | **Avantajlar** | **Dezavantajlar** | **Nasıl Kurulur** |\n",
        "| ----- | ----- | ----- | ----- | ----- |\n",
        "| Google Colab | Kolay | Ücretsiz, neredeyse sıfır kurulum gerektirir, çalışmaları başkalarıyla bir bağlantı kadar kolay paylaşabilirsiniz | Verilerinizi kaydetmez, sınırlı hesaplama gücü, zaman aşımına uğrayabilir | [Google Colab Kılavuzunu Takip Edin](https://colab.research.google.com/notebooks/gpu.ipynb) |\n",
        "| Kendi bilgisayarınızı kullanma | Orta | Her şeyi yerel olarak kendi bilgisayarınızda çalıştırabilirsiniz | GPU'lar ücretsiz değil, önceden maliyet gerektirir | [PyTorch kurulum yönergelerini takip edin](https://pytorch.org/get-started/locally/) |\n",
        "| Bulut bilişim (AWS, GCP, Azure) | Orta-Zor | Küçük ön maliyet, neredeyse sonsuz hesaplama erişimi | Sürekli çalıştırırsanız pahalı olabilir, doğru şekilde kurmak zaman alabilir | [PyTorch bulut kurulum kılavuzunu takip edin](https://pytorch.org/get-started/cloud-partners/) |\n",
        "\n",
        "GPU'ları kullanmak için daha fazla seçenek vardır ancak yukarıdaki üç seçenek şimdilik yeterli olacaktır.\n",
        "\n",
        "Kişisel olarak, küçük ölçekli deneyler (ve bu kursu oluşturma) için Google Colab ve kendi bilgisayarımın bir kombinasyonunu kullanıyorum ve daha fazla hesaplama gücüne ihtiyaç duyduğumda bulut kaynaklarına başvuruyorum.\n",
        "\n",
        "> **Kaynak:** Kendi GPU'nuzu satın almayı düşünüyorsanız ancak ne alacağınızı bilmiyorsanız, [Tim Dettmers'ın harika bir kılavuzu var](https://timdettmers.com/2020/09/07/which-gpu-for-deep-learning/).\n",
        "\n",
        "Bir Nvidia GPU'nuzun olup olmadığını kontrol etmek için, `!nvidia-smi` komutunu çalıştırabilirsiniz, burada `!` (aynı zamanda bang olarak da bilinir) \"bunu komut satırında çalıştır\" anlamına gelir.\n"
      ],
      "metadata": {
        "id": "rwemFJIkzq2c"
      }
    },
    {
      "cell_type": "code",
      "source": [
        "!nvidia-smi"
      ],
      "metadata": {
        "id": "DgB0QZWrzjEp",
        "colab": {
          "base_uri": "https://localhost:8080/"
        },
        "outputId": "5abd51b1-a5cb-4bab-e34f-cba00e6908ec"
      },
      "execution_count": 69,
      "outputs": [
        {
          "output_type": "stream",
          "name": "stdout",
          "text": [
            "/bin/bash: line 1: nvidia-smi: command not found\n"
          ]
        }
      ]
    },
    {
      "cell_type": "markdown",
      "source": [
        "Eğer erişebileceğiniz bir Nvidia GPU'nuz yoksa, yukarıdaki çıktı şu şekilde görünecektir:\n",
        "\n"
      ],
      "metadata": {
        "id": "wJglSGizz6GB"
      }
    },
    {
      "cell_type": "markdown",
      "source": [
        "### 2. PyTorch'u GPU üzerinde çalıştırma\n",
        "\n",
        "Bir GPU'ya erişim sağladıktan sonra, bir sonraki adım, PyTorch'u verileri (tensörleri) depolamak ve veriler üzerinde hesaplamalar yapmak (tensörler üzerinde işlemler gerçekleştirmek) için kullanmaktır.\n",
        "\n",
        "Bunu yapmak için **`torch.cuda`** paketini kullanabilirsiniz.\n",
        "\n",
        "Bundan bahsetmek yerine, bunu deneyelim.\n",
        "\n",
        "PyTorch'un bir GPU'ya erişimi olup olmadığını, **[`torch.cuda.is_available()`](https://pytorch.org/docs/stable/generated/torch.cuda.is_available.html#torch.cuda.is_available)** fonksiyonunu kullanarak test edebilirsiniz.\n"
      ],
      "metadata": {
        "id": "Khx-VYnoz_SE"
      }
    },
    {
      "cell_type": "code",
      "source": [
        "# GPU'yu kontrol etme\n",
        "import torch\n",
        "torch.cuda.is_available()\n"
      ],
      "metadata": {
        "id": "iMwPP5g8z_59",
        "colab": {
          "base_uri": "https://localhost:8080/"
        },
        "outputId": "d7421290-d6d2-4b8e-eff9-46ed3109914d"
      },
      "execution_count": 70,
      "outputs": [
        {
          "output_type": "execute_result",
          "data": {
            "text/plain": [
              "False"
            ]
          },
          "metadata": {},
          "execution_count": 70
        }
      ]
    },
    {
      "cell_type": "markdown",
      "source": [
        "Eğer yukarıdaki çıktı **`True`** ise, PyTorch GPU'yu görebilir ve kullanabilir, eğer **`False`** çıkarsa, GPU'yu göremez ve bu durumda kurulum adımlarını tekrar gözden geçirmeniz gerekecek.\n",
        "\n",
        "Şimdi, kodunuzu CPU *veya* mevcutsa GPU üzerinde çalışacak şekilde ayarlamak istediğinizi varsayalım.\n",
        "\n",
        "Bu şekilde, siz veya birisi kodunuzu çalıştırmaya karar verdiğinde, kullandıkları hesaplama cihazına bakılmaksızın çalışacaktır.\n",
        "\n",
        "Bir `device` değişkeni oluşturalım ve hangi tür cihazın mevcut olduğunu saklayalım.\n"
      ],
      "metadata": {
        "id": "Ipf9zbYY0K-w"
      }
    },
    {
      "cell_type": "code",
      "source": [
        "# Cihaz türünü ayarlama\n",
        "device = \"cuda\" if torch.cuda.is_available() else \"cpu\"\n",
        "device\n"
      ],
      "metadata": {
        "id": "nqgwd7fe0M6M",
        "colab": {
          "base_uri": "https://localhost:8080/",
          "height": 35
        },
        "outputId": "72c43e40-c99c-4fc0-ef8b-8b527f8dc82c"
      },
      "execution_count": 71,
      "outputs": [
        {
          "output_type": "execute_result",
          "data": {
            "text/plain": [
              "'cpu'"
            ],
            "application/vnd.google.colaboratory.intrinsic+json": {
              "type": "string"
            }
          },
          "metadata": {},
          "execution_count": 71
        }
      ]
    },
    {
      "cell_type": "markdown",
      "source": [
        "Yukarıdaki çıktı **`\"cuda\"`** ise, tüm PyTorch kodumuzu mevcut CUDA cihazını (GPU) kullanacak şekilde ayarlayabileceğimiz anlamına gelir ve eğer **`\"cpu\"`** çıkarsa, PyTorch kodumuz CPU üzerinde çalışacaktır.\n",
        "\n",
        "> **Not:** PyTorch'ta, [**cihazdan bağımsız kod**](https://pytorch.org/docs/master/notes/cuda.html#device-agnostic-code) yazmak en iyi uygulamadır. Bu, CPU'da (her zaman mevcut) veya GPU'da (mevcutsa) çalışacak kod anlamına gelir.\n",
        "\n",
        "Daha hızlı hesaplamalar yapmak istiyorsanız, bir GPU kullanabilirsiniz, ancak *çok* daha hızlı hesaplamalar yapmak istiyorsanız, birden fazla GPU kullanabilirsiniz.\n",
        "\n",
        "PyTorch'un erişebileceği GPU sayısını, **[`torch.cuda.device_count()`](https://pytorch.org/docs/stable/generated/torch.cuda.device_count.html#torch.cuda.device_count)** fonksiyonunu kullanarak öğrenebilirsiniz.\n"
      ],
      "metadata": {
        "id": "XA1sKRPg0URk"
      }
    },
    {
      "cell_type": "code",
      "source": [
        "# Cihaz sayısını sayma\n",
        "torch.cuda.device_count()\n"
      ],
      "metadata": {
        "id": "dQMUzFRB0YPm",
        "colab": {
          "base_uri": "https://localhost:8080/"
        },
        "outputId": "6850b677-c7a6-4eb0-de24-56e30b6e4004"
      },
      "execution_count": 72,
      "outputs": [
        {
          "output_type": "execute_result",
          "data": {
            "text/plain": [
              "0"
            ]
          },
          "metadata": {},
          "execution_count": 72
        }
      ]
    },
    {
      "cell_type": "markdown",
      "source": [
        "PyTorch'un erişebileceği GPU sayısını bilmek, bir işlemi bir GPU'da ve başka bir işlemi diğer GPU'da çalıştırmak isterseniz faydalıdır (PyTorch ayrıca bir işlemi *tüm* GPU'lar üzerinde çalıştırmanıza olanak tanıyan özelliklere sahiptir).\n"
      ],
      "metadata": {
        "id": "TpIixDo-0d2l"
      }
    },
    {
      "cell_type": "markdown",
      "source": [
        "### 2.1 PyTorch'u Apple Silicon'da Çalıştırma\n",
        "\n",
        "Apple'ın M1/M2/M3 GPU'larında PyTorch çalıştırmak için **[`torch.backends.mps`](https://pytorch.org/docs/stable/notes/mps.html)** modülünü kullanabilirsiniz.\n",
        "\n",
        "macOS ve PyTorch sürümlerinin güncel olduğundan emin olun.\n",
        "\n",
        "PyTorch'un bir GPU'ya erişimi olup olmadığını **`torch.backends.mps.is_available()`** ile test edebilirsiniz.\n"
      ],
      "metadata": {
        "id": "uIB79nEG0jU9"
      }
    },
    {
      "cell_type": "code",
      "source": [
        "# Apple Silicon GPU'yu kontrol etme\n",
        "import torch\n",
        "torch.backends.mps.is_available() # Not: Bu, bir Mac'te çalışmıyorsanız false döndürecektir\n"
      ],
      "metadata": {
        "id": "HqCas6Gs0kH-",
        "colab": {
          "base_uri": "https://localhost:8080/"
        },
        "outputId": "78ad6086-2d37-43e7-8b2d-f16af49b9f68"
      },
      "execution_count": 73,
      "outputs": [
        {
          "output_type": "execute_result",
          "data": {
            "text/plain": [
              "False"
            ]
          },
          "metadata": {},
          "execution_count": 73
        }
      ]
    },
    {
      "cell_type": "code",
      "source": [
        "# Cihaz türünü ayarlama\n",
        "device = \"mps\" if torch.backends.mps.is_available() else \"cpu\"\n",
        "device\n"
      ],
      "metadata": {
        "id": "mwA66ygc0oP3",
        "colab": {
          "base_uri": "https://localhost:8080/",
          "height": 35
        },
        "outputId": "6fdbcf70-3369-41fd-9ef0-a67bbe0b5417"
      },
      "execution_count": 74,
      "outputs": [
        {
          "output_type": "execute_result",
          "data": {
            "text/plain": [
              "'cpu'"
            ],
            "application/vnd.google.colaboratory.intrinsic+json": {
              "type": "string"
            }
          },
          "metadata": {},
          "execution_count": 74
        }
      ]
    },
    {
      "cell_type": "markdown",
      "source": [
        "Yukarıdaki çıktı **`\"mps\"`** ise, tüm PyTorch kodumuzu mevcut Apple Silicon GPU'sunu kullanacak şekilde ayarlayabileceğimiz anlamına gelir.\n"
      ],
      "metadata": {
        "id": "vEgOhEOt0s-E"
      }
    },
    {
      "cell_type": "code",
      "source": [
        "if torch.cuda.is_available():\n",
        "    device = \"cuda\"  # NVIDIA GPU'yu kullan (eğer mevcutsa)\n",
        "elif torch.backends.mps.is_available():\n",
        "    device = \"mps\"  # Apple Silicon GPU'yu kullan (eğer mevcutsa)\n",
        "else:\n",
        "    device = \"cpu\"  # GPU yoksa varsayılan olarak CPU kullan\n"
      ],
      "metadata": {
        "id": "R7-M6VxR0x1t"
      },
      "execution_count": 75,
      "outputs": []
    },
    {
      "cell_type": "markdown",
      "source": [
        "### 3. Tensörleri (ve modelleri) GPU'ya koyma\n",
        "\n",
        "Tensörleri (ve modelleri, bunu daha sonra göreceğiz) belirli bir cihaza koymak için onlara **`to(device)`** fonksiyonunu çağırabilirsiniz. Burada **`device`**, tensörün (veya modelin) gitmesini istediğiniz hedef cihazdır.\n",
        "\n",
        "Bunu neden yapmalısınız?\n",
        "\n",
        "GPU'lar, CPU'lardan çok daha hızlı sayısal hesaplamalar yapar ve eğer bir GPU mevcut değilse, **cihazdan bağımsız kodumuz** (yukarıya bakın) sayesinde kod CPU üzerinde çalışacaktır.\n",
        "\n",
        "> **Not:** **`to(device)`** kullanarak bir tensörü GPU'ya koymak (örneğin **`some_tensor.to(device)`**) o tensörün bir kopyasını döndürür; örneğin, aynı tensör hem CPU'da hem de GPU'da olacaktır. Tensörleri üzerine yazmak için onları yeniden atayın:\n",
        ">\n",
        "> `some_tensor = some_tensor.to(device)`\n",
        "\n",
        "Hadi, bir tensör oluşturalım ve onu GPU'ya koyalım (eğer mevcutsa).\n"
      ],
      "metadata": {
        "id": "lUppzg1l06wL"
      }
    },
    {
      "cell_type": "code",
      "source": [
        "# Tensör oluşturma (varsayılan olarak CPU üzerinde)\n",
        "tensor = torch.tensor([1, 2, 3])\n",
        "\n",
        "# Tensör GPU'da değil\n",
        "print(tensor, tensor.device)\n",
        "\n",
        "# Tensörü GPU'ya taşıma (eğer mevcutsa)\n",
        "tensor_on_gpu = tensor.to(device)\n",
        "tensor_on_gpu\n"
      ],
      "metadata": {
        "id": "JevoqGA-08kQ",
        "colab": {
          "base_uri": "https://localhost:8080/"
        },
        "outputId": "010c8a98-cb8d-4c5b-b33c-684ce01c5daf"
      },
      "execution_count": 76,
      "outputs": [
        {
          "output_type": "stream",
          "name": "stdout",
          "text": [
            "tensor([1, 2, 3]) cpu\n"
          ]
        },
        {
          "output_type": "execute_result",
          "data": {
            "text/plain": [
              "tensor([1, 2, 3])"
            ]
          },
          "metadata": {},
          "execution_count": 76
        }
      ]
    },
    {
      "cell_type": "markdown",
      "source": [
        "Eğer bir GPU'nuz mevcutsa, yukarıdaki kod şu şekilde bir çıktı verecektir:\n",
        "\n",
        "```\n",
        "tensor([1, 2, 3]) cpu\n",
        "tensor([1, 2, 3], device='cuda:0')\n",
        "```\n",
        "\n",
        "İkinci tensörün **`device='cuda:0'`** olduğunu fark edin, bu, tensörün mevcut 0. GPU'da depolandığını gösterir (GPU'lar 0'dan başlar, eğer iki GPU mevcutsa, sırasıyla `'cuda:0'` ve `'cuda:1'` olur, bu şekilde `'cuda:n'`'e kadar devam eder).\n"
      ],
      "metadata": {
        "id": "OuJIlGiN1HcU"
      }
    },
    {
      "cell_type": "markdown",
      "source": [
        "### 4. Tensörleri CPU'ya geri taşıma\n",
        "\n",
        "Ya tensörü geri CPU'ya taşımak istersek?\n",
        "\n",
        "Örneğin, tensörlerinizle NumPy ile etkileşimde bulunmak isterseniz bunu yapmak isteyebilirsiniz (NumPy, GPU'yu kullanmaz).\n",
        "\n",
        "Hadi, **`torch.Tensor.numpy()`** metodunu **`tensor_on_gpu`** üzerinde deneyelim.\n"
      ],
      "metadata": {
        "id": "YbKaIdQ81K8n"
      }
    },
    {
      "cell_type": "code",
      "source": [
        "# Eğer tensör GPU'daysa, NumPy'ye dönüştürülemez (bu hata verecektir)\n",
        "tensor_on_gpu.numpy()\n"
      ],
      "metadata": {
        "id": "dh6y1zUr1RTw",
        "colab": {
          "base_uri": "https://localhost:8080/"
        },
        "outputId": "bf0b7baa-daec-446e-a305-15e947c483a9"
      },
      "execution_count": 77,
      "outputs": [
        {
          "output_type": "execute_result",
          "data": {
            "text/plain": [
              "array([1, 2, 3])"
            ]
          },
          "metadata": {},
          "execution_count": 77
        }
      ]
    },
    {
      "cell_type": "markdown",
      "source": [
        "Bunun yerine, bir tensörü CPU'ya geri almak ve NumPy ile kullanılabilir hale getirmek için **[`Tensor.cpu()`](https://pytorch.org/docs/stable/generated/torch.Tensor.cpu.html)** kullanabiliriz.\n",
        "\n",
        "Bu, tensörü CPU belleğine kopyalar, böylece CPU'lar ile kullanılabilir hale gelir.\n"
      ],
      "metadata": {
        "id": "re4L2_YZ1adh"
      }
    },
    {
      "cell_type": "code",
      "source": [
        "# Bunun yerine, tensörü geri CPU'ya kopyala\n",
        "tensor_back_on_cpu = tensor_on_gpu.cpu().numpy()\n",
        "tensor_back_on_cpu\n"
      ],
      "metadata": {
        "id": "LPIKXGxN1fdT",
        "colab": {
          "base_uri": "https://localhost:8080/"
        },
        "outputId": "8ca13c6b-c777-4a1b-c243-0892bc501eda"
      },
      "execution_count": 78,
      "outputs": [
        {
          "output_type": "execute_result",
          "data": {
            "text/plain": [
              "array([1, 2, 3])"
            ]
          },
          "metadata": {},
          "execution_count": 78
        }
      ]
    },
    {
      "cell_type": "markdown",
      "source": [
        "Yukarıdaki işlem, GPU tensörünün bir kopyasını CPU belleğine döndürür, böylece orijinal tensör hala GPU üzerinde kalır.\n"
      ],
      "metadata": {
        "id": "bc36Ve3J1jp0"
      }
    },
    {
      "cell_type": "code",
      "source": [
        "tensor_on_gpu"
      ],
      "metadata": {
        "id": "JRHDFVEy1m7u",
        "colab": {
          "base_uri": "https://localhost:8080/"
        },
        "outputId": "9e33e278-7e2a-4865-cc3d-6e0060d6aade"
      },
      "execution_count": 79,
      "outputs": [
        {
          "output_type": "execute_result",
          "data": {
            "text/plain": [
              "tensor([1, 2, 3])"
            ]
          },
          "metadata": {},
          "execution_count": 79
        }
      ]
    }
  ]
}